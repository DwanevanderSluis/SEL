{
 "cells": [
  {
   "cell_type": "code",
   "execution_count": 1,
   "metadata": {},
   "outputs": [
    {
     "name": "stderr",
     "output_type": "stream",
     "text": [
      "/Users/dsluis/anaconda3/lib/python3.6/site-packages/sklearn/cross_validation.py:41: DeprecationWarning: This module was deprecated in version 0.18 in favor of the model_selection module into which all the refactored classes and functions are moved. Also note that the interface of the new CV iterators are different from that of this module. This module will be removed in 0.20.\n",
      "  \"This module will be removed in 0.20.\", DeprecationWarning)\n",
      "/Users/dsluis/anaconda3/lib/python3.6/site-packages/sklearn/learning_curve.py:22: DeprecationWarning: This module was deprecated in version 0.18 in favor of the model_selection module into which all the functions are moved. This module will be removed in 0.20\n",
      "  DeprecationWarning)\n",
      "/Users/dsluis/anaconda3/lib/python3.6/site-packages/sklearn/grid_search.py:42: DeprecationWarning: This module was deprecated in version 0.18 in favor of the model_selection module into which all the refactored classes and functions are moved. This module will be removed in 0.20.\n",
      "  DeprecationWarning)\n"
     ]
    }
   ],
   "source": [
    "import numpy as np\n",
    "import matplotlib.pyplot as plt\n",
    "import os\n",
    "import sys\n",
    "import logging\n",
    "import pickle\n",
    "from sellibrary.text_file_loader import load_feature_matrix\n",
    "from sellibrary.filter_only_golden import FilterGolden\n",
    "from sellibrary.util.const import Const\n",
    "\n",
    "\n",
    "from sklearn.datasets import make_classification\n",
    "from sklearn.ensemble import ExtraTreesClassifier\n",
    "from sklearn.ensemble import ExtraTreesRegressor\n",
    "from sklearn.learning_curve import learning_curve \n",
    "from sklearn.cross_validation import ShuffleSplit, train_test_split \n",
    "from sklearn.grid_search import GridSearchCV\n",
    "\n",
    "from sellibrary.gbrt import GBRTWrapper\n",
    "from sellibrary.util.test_train_splitter import DataSplitter"
   ]
  },
  {
   "cell_type": "markdown",
   "metadata": {},
   "source": [
    "# Setup Environment"
   ]
  },
  {
   "cell_type": "code",
   "execution_count": 2,
   "metadata": {
    "collapsed": true
   },
   "outputs": [],
   "source": [
    "from sellibrary.locations import FileLocations\n",
    "INTERMEDIATE_PATH = FileLocations.get_dropbox_intermediate_path()\n",
    "const = Const()\n",
    "handler = logging.StreamHandler()\n",
    "handler.setFormatter(logging.Formatter('%(asctime)s %(name)-12s %(levelname)-8s %(message)s'))\n",
    "logger = logging.getLogger(__name__)\n",
    "logger.addHandler(handler)\n",
    "logger.propagate = False\n",
    "logger.setLevel(logging.INFO)\n"
   ]
  },
  {
   "cell_type": "markdown",
   "metadata": {},
   "source": [
    "# Setup variables\n"
   ]
  },
  {
   "cell_type": "code",
   "execution_count": 53,
   "metadata": {
    "collapsed": true
   },
   "outputs": [],
   "source": [
    "\n",
    "# INPUT_FILENAME = 'efficient_1_features.txt'\n",
    "# FEATURE_NAMES = const.efficient_1_feature_names\n",
    "# OUTPUT_MODEL_NAME = 'efficient_model_1.pickle'\n",
    "\n",
    "\n",
    "INPUT_FILENAME = 'efficient_2_features.txt'\n",
    "FEATURE_NAMES = const.efficient_2_feature_names\n",
    "OUTPUT_MODEL_NAME = 'efficient_model_2.pickle'\n"
   ]
  },
  {
   "cell_type": "markdown",
   "metadata": {},
   "source": [
    "# Load Data"
   ]
  },
  {
   "cell_type": "code",
   "execution_count": 54,
   "metadata": {},
   "outputs": [
    {
     "name": "stderr",
     "output_type": "stream",
     "text": [
      "2018-08-10 13:00:46,860 sellibrary.text_file_loader INFO     loading data from : /Users/dsluis/Dropbox/Datasets/intermediate/efficient_2_features.txt\n",
      "2018-08-10 13:00:46,901 sellibrary.text_file_loader INFO     3763 lines loaded from /Users/dsluis/Dropbox/Datasets/intermediate/efficient_2_features.txt\n",
      "2018-08-10 13:00:46,909 sellibrary.text_file_loader INFO     loading intermediate file /tmp/temp_conversion_file.txt.4537735209.txt\n",
      "2018-08-10 13:00:47,055 sellibrary.text_file_loader INFO     intermediate file loaded\n",
      "2018-08-10 13:00:47,056 sellibrary.text_file_loader INFO     replacing NaNs with 0s\n"
     ]
    }
   ],
   "source": [
    "X_eff_1, y_eff_1, docid_array_eff_1, entity_id_array_eff_1 = load_feature_matrix(\n",
    "    feature_filename=INTERMEDIATE_PATH+INPUT_FILENAME,\n",
    "    feature_names=FEATURE_NAMES,\n",
    "    entity_id_index=1,\n",
    "    y_feature_index=2, first_feature_index=4, number_features_per_line=len(FEATURE_NAMES)+4,\n",
    "    tmp_filename='/tmp/temp_conversion_file.txt'\n",
    "    )"
   ]
  },
  {
   "cell_type": "code",
   "execution_count": null,
   "metadata": {
    "collapsed": true
   },
   "outputs": [],
   "source": []
  },
  {
   "cell_type": "markdown",
   "metadata": {},
   "source": [
    "# Grid Search"
   ]
  },
  {
   "cell_type": "markdown",
   "metadata": {},
   "source": [
    "## find the number of trees based on OOB score and CV"
   ]
  },
  {
   "cell_type": "code",
   "execution_count": 24,
   "metadata": {
    "collapsed": true
   },
   "outputs": [],
   "source": [
    "# find number of trees\n",
    "\n",
    "\n",
    "def find_number_of_trees(X,y):\n",
    "\n",
    "    # if no space left on device, try setting the env ver JOBLIB_TEMP_FOLDER to /tmp\n",
    "    %env JOBLIB_TEMP_FOLDER=/tmp\n",
    "    logger.info('starting')   \n",
    "    \n",
    "    r2_error_by_trees = {}\n",
    "    \n",
    "    for n_est in range(50,500,5):\n",
    "        param_grid={'n_estimators':[n_est], # ...\n",
    "                    'max_depth':[10],      # 10\n",
    "                    'max_features':[7],   # 7\n",
    "                    'oob_score':[True],\n",
    "                    'bootstrap':[True],\n",
    "                    'verbose':[0],\n",
    "                    'n_jobs':[get_num_jobs()]\n",
    "                   } \n",
    "        estimator = ExtraTreesRegressor()\n",
    "        cv, best_est, trained_model=MyGridSearchCV(param_grid, get_num_jobs(), X, y, estimator) \n",
    "        r2_error_by_trees[n_est] = best_est.score(X,y)\n",
    "        logger.info(r2_error_by_trees)\n",
    "        \n",
    "    logger.info('complete')\n",
    "    logger.info(r2_error_by_trees)\n",
    "    \n",
    "    return cv, best_est, r2_error_by_trees\n",
    "\n",
    "\n",
    "\n"
   ]
  },
  {
   "cell_type": "code",
   "execution_count": 26,
   "metadata": {},
   "outputs": [
    {
     "name": "stderr",
     "output_type": "stream",
     "text": [
      "2018-08-10 12:09:16,814 __main__     INFO     starting\n"
     ]
    },
    {
     "name": "stdout",
     "output_type": "stream",
     "text": [
      "env: JOBLIB_TEMP_FOLDER=/tmp\n"
     ]
    },
    {
     "name": "stderr",
     "output_type": "stream",
     "text": [
      "2018-08-10 12:09:18,061 __main__     INFO     {50: 0.65426220134773616}\n"
     ]
    },
    {
     "name": "stdout",
     "output_type": "stream",
     "text": [
      "Best Estimator learned through GridSearch\n",
      "ExtraTreesRegressor(bootstrap=True, criterion='mse', max_depth=10,\n",
      "          max_features=7, max_leaf_nodes=None, min_impurity_decrease=0.0,\n",
      "          min_impurity_split=None, min_samples_leaf=1, min_samples_split=2,\n",
      "          min_weight_fraction_leaf=0.0, n_estimators=50, n_jobs=4,\n",
      "          oob_score=True, random_state=None, verbose=0, warm_start=False)\n"
     ]
    },
    {
     "name": "stderr",
     "output_type": "stream",
     "text": [
      "2018-08-10 12:09:19,434 __main__     INFO     {50: 0.65426220134773616, 55: 0.65527002077590868}\n"
     ]
    },
    {
     "name": "stdout",
     "output_type": "stream",
     "text": [
      "Best Estimator learned through GridSearch\n",
      "ExtraTreesRegressor(bootstrap=True, criterion='mse', max_depth=10,\n",
      "          max_features=7, max_leaf_nodes=None, min_impurity_decrease=0.0,\n",
      "          min_impurity_split=None, min_samples_leaf=1, min_samples_split=2,\n",
      "          min_weight_fraction_leaf=0.0, n_estimators=55, n_jobs=4,\n",
      "          oob_score=True, random_state=None, verbose=0, warm_start=False)\n"
     ]
    },
    {
     "name": "stderr",
     "output_type": "stream",
     "text": [
      "2018-08-10 12:09:20,836 __main__     INFO     {50: 0.65426220134773616, 55: 0.65527002077590868, 60: 0.65207109430626542}\n"
     ]
    },
    {
     "name": "stdout",
     "output_type": "stream",
     "text": [
      "Best Estimator learned through GridSearch\n",
      "ExtraTreesRegressor(bootstrap=True, criterion='mse', max_depth=10,\n",
      "          max_features=7, max_leaf_nodes=None, min_impurity_decrease=0.0,\n",
      "          min_impurity_split=None, min_samples_leaf=1, min_samples_split=2,\n",
      "          min_weight_fraction_leaf=0.0, n_estimators=60, n_jobs=4,\n",
      "          oob_score=True, random_state=None, verbose=0, warm_start=False)\n"
     ]
    },
    {
     "name": "stderr",
     "output_type": "stream",
     "text": [
      "2018-08-10 12:09:22,433 __main__     INFO     {50: 0.65426220134773616, 55: 0.65527002077590868, 60: 0.65207109430626542, 65: 0.65176320337712901}\n"
     ]
    },
    {
     "name": "stdout",
     "output_type": "stream",
     "text": [
      "Best Estimator learned through GridSearch\n",
      "ExtraTreesRegressor(bootstrap=True, criterion='mse', max_depth=10,\n",
      "          max_features=7, max_leaf_nodes=None, min_impurity_decrease=0.0,\n",
      "          min_impurity_split=None, min_samples_leaf=1, min_samples_split=2,\n",
      "          min_weight_fraction_leaf=0.0, n_estimators=65, n_jobs=4,\n",
      "          oob_score=True, random_state=None, verbose=0, warm_start=False)\n"
     ]
    },
    {
     "name": "stderr",
     "output_type": "stream",
     "text": [
      "2018-08-10 12:09:24,024 __main__     INFO     {50: 0.65426220134773616, 55: 0.65527002077590868, 60: 0.65207109430626542, 65: 0.65176320337712901, 70: 0.6493890362370196}\n"
     ]
    },
    {
     "name": "stdout",
     "output_type": "stream",
     "text": [
      "Best Estimator learned through GridSearch\n",
      "ExtraTreesRegressor(bootstrap=True, criterion='mse', max_depth=10,\n",
      "          max_features=7, max_leaf_nodes=None, min_impurity_decrease=0.0,\n",
      "          min_impurity_split=None, min_samples_leaf=1, min_samples_split=2,\n",
      "          min_weight_fraction_leaf=0.0, n_estimators=70, n_jobs=4,\n",
      "          oob_score=True, random_state=None, verbose=0, warm_start=False)\n"
     ]
    },
    {
     "name": "stderr",
     "output_type": "stream",
     "text": [
      "2018-08-10 12:09:25,639 __main__     INFO     {50: 0.65426220134773616, 55: 0.65527002077590868, 60: 0.65207109430626542, 65: 0.65176320337712901, 70: 0.6493890362370196, 75: 0.6533921035260416}\n"
     ]
    },
    {
     "name": "stdout",
     "output_type": "stream",
     "text": [
      "Best Estimator learned through GridSearch\n",
      "ExtraTreesRegressor(bootstrap=True, criterion='mse', max_depth=10,\n",
      "          max_features=7, max_leaf_nodes=None, min_impurity_decrease=0.0,\n",
      "          min_impurity_split=None, min_samples_leaf=1, min_samples_split=2,\n",
      "          min_weight_fraction_leaf=0.0, n_estimators=75, n_jobs=4,\n",
      "          oob_score=True, random_state=None, verbose=0, warm_start=False)\n"
     ]
    },
    {
     "name": "stderr",
     "output_type": "stream",
     "text": [
      "2018-08-10 12:09:27,239 __main__     INFO     {50: 0.65426220134773616, 55: 0.65527002077590868, 60: 0.65207109430626542, 65: 0.65176320337712901, 70: 0.6493890362370196, 75: 0.6533921035260416, 80: 0.65370503694798321}\n"
     ]
    },
    {
     "name": "stdout",
     "output_type": "stream",
     "text": [
      "Best Estimator learned through GridSearch\n",
      "ExtraTreesRegressor(bootstrap=True, criterion='mse', max_depth=10,\n",
      "          max_features=7, max_leaf_nodes=None, min_impurity_decrease=0.0,\n",
      "          min_impurity_split=None, min_samples_leaf=1, min_samples_split=2,\n",
      "          min_weight_fraction_leaf=0.0, n_estimators=80, n_jobs=4,\n",
      "          oob_score=True, random_state=None, verbose=0, warm_start=False)\n"
     ]
    },
    {
     "name": "stderr",
     "output_type": "stream",
     "text": [
      "2018-08-10 12:09:28,865 __main__     INFO     {50: 0.65426220134773616, 55: 0.65527002077590868, 60: 0.65207109430626542, 65: 0.65176320337712901, 70: 0.6493890362370196, 75: 0.6533921035260416, 80: 0.65370503694798321, 85: 0.6537264553907991}\n"
     ]
    },
    {
     "name": "stdout",
     "output_type": "stream",
     "text": [
      "Best Estimator learned through GridSearch\n",
      "ExtraTreesRegressor(bootstrap=True, criterion='mse', max_depth=10,\n",
      "          max_features=7, max_leaf_nodes=None, min_impurity_decrease=0.0,\n",
      "          min_impurity_split=None, min_samples_leaf=1, min_samples_split=2,\n",
      "          min_weight_fraction_leaf=0.0, n_estimators=85, n_jobs=4,\n",
      "          oob_score=True, random_state=None, verbose=0, warm_start=False)\n"
     ]
    },
    {
     "name": "stderr",
     "output_type": "stream",
     "text": [
      "2018-08-10 12:09:30,694 __main__     INFO     {50: 0.65426220134773616, 55: 0.65527002077590868, 60: 0.65207109430626542, 65: 0.65176320337712901, 70: 0.6493890362370196, 75: 0.6533921035260416, 80: 0.65370503694798321, 85: 0.6537264553907991, 90: 0.65445750523024793}\n"
     ]
    },
    {
     "name": "stdout",
     "output_type": "stream",
     "text": [
      "Best Estimator learned through GridSearch\n",
      "ExtraTreesRegressor(bootstrap=True, criterion='mse', max_depth=10,\n",
      "          max_features=7, max_leaf_nodes=None, min_impurity_decrease=0.0,\n",
      "          min_impurity_split=None, min_samples_leaf=1, min_samples_split=2,\n",
      "          min_weight_fraction_leaf=0.0, n_estimators=90, n_jobs=4,\n",
      "          oob_score=True, random_state=None, verbose=0, warm_start=False)\n"
     ]
    },
    {
     "name": "stderr",
     "output_type": "stream",
     "text": [
      "2018-08-10 12:09:32,389 __main__     INFO     {50: 0.65426220134773616, 55: 0.65527002077590868, 60: 0.65207109430626542, 65: 0.65176320337712901, 70: 0.6493890362370196, 75: 0.6533921035260416, 80: 0.65370503694798321, 85: 0.6537264553907991, 90: 0.65445750523024793, 95: 0.65474618652007011}\n"
     ]
    },
    {
     "name": "stdout",
     "output_type": "stream",
     "text": [
      "Best Estimator learned through GridSearch\n",
      "ExtraTreesRegressor(bootstrap=True, criterion='mse', max_depth=10,\n",
      "          max_features=7, max_leaf_nodes=None, min_impurity_decrease=0.0,\n",
      "          min_impurity_split=None, min_samples_leaf=1, min_samples_split=2,\n",
      "          min_weight_fraction_leaf=0.0, n_estimators=95, n_jobs=4,\n",
      "          oob_score=True, random_state=None, verbose=0, warm_start=False)\n"
     ]
    },
    {
     "name": "stderr",
     "output_type": "stream",
     "text": [
      "2018-08-10 12:09:34,211 __main__     INFO     {50: 0.65426220134773616, 55: 0.65527002077590868, 60: 0.65207109430626542, 65: 0.65176320337712901, 70: 0.6493890362370196, 75: 0.6533921035260416, 80: 0.65370503694798321, 85: 0.6537264553907991, 90: 0.65445750523024793, 95: 0.65474618652007011, 100: 0.65494320047860977}\n"
     ]
    },
    {
     "name": "stdout",
     "output_type": "stream",
     "text": [
      "Best Estimator learned through GridSearch\n",
      "ExtraTreesRegressor(bootstrap=True, criterion='mse', max_depth=10,\n",
      "          max_features=7, max_leaf_nodes=None, min_impurity_decrease=0.0,\n",
      "          min_impurity_split=None, min_samples_leaf=1, min_samples_split=2,\n",
      "          min_weight_fraction_leaf=0.0, n_estimators=100, n_jobs=4,\n",
      "          oob_score=True, random_state=None, verbose=0, warm_start=False)\n"
     ]
    },
    {
     "name": "stderr",
     "output_type": "stream",
     "text": [
      "2018-08-10 12:09:35,934 __main__     INFO     {50: 0.65426220134773616, 55: 0.65527002077590868, 60: 0.65207109430626542, 65: 0.65176320337712901, 70: 0.6493890362370196, 75: 0.6533921035260416, 80: 0.65370503694798321, 85: 0.6537264553907991, 90: 0.65445750523024793, 95: 0.65474618652007011, 100: 0.65494320047860977, 105: 0.65100145096402273}\n"
     ]
    },
    {
     "name": "stdout",
     "output_type": "stream",
     "text": [
      "Best Estimator learned through GridSearch\n",
      "ExtraTreesRegressor(bootstrap=True, criterion='mse', max_depth=10,\n",
      "          max_features=7, max_leaf_nodes=None, min_impurity_decrease=0.0,\n",
      "          min_impurity_split=None, min_samples_leaf=1, min_samples_split=2,\n",
      "          min_weight_fraction_leaf=0.0, n_estimators=105, n_jobs=4,\n",
      "          oob_score=True, random_state=None, verbose=0, warm_start=False)\n"
     ]
    },
    {
     "name": "stderr",
     "output_type": "stream",
     "text": [
      "2018-08-10 12:09:38,088 __main__     INFO     {50: 0.65426220134773616, 55: 0.65527002077590868, 60: 0.65207109430626542, 65: 0.65176320337712901, 70: 0.6493890362370196, 75: 0.6533921035260416, 80: 0.65370503694798321, 85: 0.6537264553907991, 90: 0.65445750523024793, 95: 0.65474618652007011, 100: 0.65494320047860977, 105: 0.65100145096402273, 110: 0.65190178914420971}\n"
     ]
    },
    {
     "name": "stdout",
     "output_type": "stream",
     "text": [
      "Best Estimator learned through GridSearch\n",
      "ExtraTreesRegressor(bootstrap=True, criterion='mse', max_depth=10,\n",
      "          max_features=7, max_leaf_nodes=None, min_impurity_decrease=0.0,\n",
      "          min_impurity_split=None, min_samples_leaf=1, min_samples_split=2,\n",
      "          min_weight_fraction_leaf=0.0, n_estimators=110, n_jobs=4,\n",
      "          oob_score=True, random_state=None, verbose=0, warm_start=False)\n"
     ]
    },
    {
     "name": "stderr",
     "output_type": "stream",
     "text": [
      "2018-08-10 12:09:40,218 __main__     INFO     {50: 0.65426220134773616, 55: 0.65527002077590868, 60: 0.65207109430626542, 65: 0.65176320337712901, 70: 0.6493890362370196, 75: 0.6533921035260416, 80: 0.65370503694798321, 85: 0.6537264553907991, 90: 0.65445750523024793, 95: 0.65474618652007011, 100: 0.65494320047860977, 105: 0.65100145096402273, 110: 0.65190178914420971, 115: 0.65284738874257464}\n"
     ]
    },
    {
     "name": "stdout",
     "output_type": "stream",
     "text": [
      "Best Estimator learned through GridSearch\n",
      "ExtraTreesRegressor(bootstrap=True, criterion='mse', max_depth=10,\n",
      "          max_features=7, max_leaf_nodes=None, min_impurity_decrease=0.0,\n",
      "          min_impurity_split=None, min_samples_leaf=1, min_samples_split=2,\n",
      "          min_weight_fraction_leaf=0.0, n_estimators=115, n_jobs=4,\n",
      "          oob_score=True, random_state=None, verbose=0, warm_start=False)\n"
     ]
    },
    {
     "name": "stderr",
     "output_type": "stream",
     "text": [
      "2018-08-10 12:09:42,029 __main__     INFO     {50: 0.65426220134773616, 55: 0.65527002077590868, 60: 0.65207109430626542, 65: 0.65176320337712901, 70: 0.6493890362370196, 75: 0.6533921035260416, 80: 0.65370503694798321, 85: 0.6537264553907991, 90: 0.65445750523024793, 95: 0.65474618652007011, 100: 0.65494320047860977, 105: 0.65100145096402273, 110: 0.65190178914420971, 115: 0.65284738874257464, 120: 0.65130520743192821}\n"
     ]
    },
    {
     "name": "stdout",
     "output_type": "stream",
     "text": [
      "Best Estimator learned through GridSearch\n",
      "ExtraTreesRegressor(bootstrap=True, criterion='mse', max_depth=10,\n",
      "          max_features=7, max_leaf_nodes=None, min_impurity_decrease=0.0,\n",
      "          min_impurity_split=None, min_samples_leaf=1, min_samples_split=2,\n",
      "          min_weight_fraction_leaf=0.0, n_estimators=120, n_jobs=4,\n",
      "          oob_score=True, random_state=None, verbose=0, warm_start=False)\n"
     ]
    },
    {
     "name": "stderr",
     "output_type": "stream",
     "text": [
      "2018-08-10 12:09:43,964 __main__     INFO     {50: 0.65426220134773616, 55: 0.65527002077590868, 60: 0.65207109430626542, 65: 0.65176320337712901, 70: 0.6493890362370196, 75: 0.6533921035260416, 80: 0.65370503694798321, 85: 0.6537264553907991, 90: 0.65445750523024793, 95: 0.65474618652007011, 100: 0.65494320047860977, 105: 0.65100145096402273, 110: 0.65190178914420971, 115: 0.65284738874257464, 120: 0.65130520743192821, 125: 0.65385663906299274}\n"
     ]
    },
    {
     "name": "stdout",
     "output_type": "stream",
     "text": [
      "Best Estimator learned through GridSearch\n",
      "ExtraTreesRegressor(bootstrap=True, criterion='mse', max_depth=10,\n",
      "          max_features=7, max_leaf_nodes=None, min_impurity_decrease=0.0,\n",
      "          min_impurity_split=None, min_samples_leaf=1, min_samples_split=2,\n",
      "          min_weight_fraction_leaf=0.0, n_estimators=125, n_jobs=4,\n",
      "          oob_score=True, random_state=None, verbose=0, warm_start=False)\n"
     ]
    },
    {
     "name": "stderr",
     "output_type": "stream",
     "text": [
      "2018-08-10 12:09:45,989 __main__     INFO     {50: 0.65426220134773616, 55: 0.65527002077590868, 60: 0.65207109430626542, 65: 0.65176320337712901, 70: 0.6493890362370196, 75: 0.6533921035260416, 80: 0.65370503694798321, 85: 0.6537264553907991, 90: 0.65445750523024793, 95: 0.65474618652007011, 100: 0.65494320047860977, 105: 0.65100145096402273, 110: 0.65190178914420971, 115: 0.65284738874257464, 120: 0.65130520743192821, 125: 0.65385663906299274, 130: 0.65345961689689136}\n"
     ]
    },
    {
     "name": "stdout",
     "output_type": "stream",
     "text": [
      "Best Estimator learned through GridSearch\n",
      "ExtraTreesRegressor(bootstrap=True, criterion='mse', max_depth=10,\n",
      "          max_features=7, max_leaf_nodes=None, min_impurity_decrease=0.0,\n",
      "          min_impurity_split=None, min_samples_leaf=1, min_samples_split=2,\n",
      "          min_weight_fraction_leaf=0.0, n_estimators=130, n_jobs=4,\n",
      "          oob_score=True, random_state=None, verbose=0, warm_start=False)\n"
     ]
    },
    {
     "name": "stderr",
     "output_type": "stream",
     "text": [
      "2018-08-10 12:09:48,137 __main__     INFO     {50: 0.65426220134773616, 55: 0.65527002077590868, 60: 0.65207109430626542, 65: 0.65176320337712901, 70: 0.6493890362370196, 75: 0.6533921035260416, 80: 0.65370503694798321, 85: 0.6537264553907991, 90: 0.65445750523024793, 95: 0.65474618652007011, 100: 0.65494320047860977, 105: 0.65100145096402273, 110: 0.65190178914420971, 115: 0.65284738874257464, 120: 0.65130520743192821, 125: 0.65385663906299274, 130: 0.65345961689689136, 135: 0.65226183593826959}\n"
     ]
    },
    {
     "name": "stdout",
     "output_type": "stream",
     "text": [
      "Best Estimator learned through GridSearch\n",
      "ExtraTreesRegressor(bootstrap=True, criterion='mse', max_depth=10,\n",
      "          max_features=7, max_leaf_nodes=None, min_impurity_decrease=0.0,\n",
      "          min_impurity_split=None, min_samples_leaf=1, min_samples_split=2,\n",
      "          min_weight_fraction_leaf=0.0, n_estimators=135, n_jobs=4,\n",
      "          oob_score=True, random_state=None, verbose=0, warm_start=False)\n"
     ]
    },
    {
     "name": "stderr",
     "output_type": "stream",
     "text": [
      "2018-08-10 12:09:50,372 __main__     INFO     {50: 0.65426220134773616, 55: 0.65527002077590868, 60: 0.65207109430626542, 65: 0.65176320337712901, 70: 0.6493890362370196, 75: 0.6533921035260416, 80: 0.65370503694798321, 85: 0.6537264553907991, 90: 0.65445750523024793, 95: 0.65474618652007011, 100: 0.65494320047860977, 105: 0.65100145096402273, 110: 0.65190178914420971, 115: 0.65284738874257464, 120: 0.65130520743192821, 125: 0.65385663906299274, 130: 0.65345961689689136, 135: 0.65226183593826959, 140: 0.65439573934694251}\n"
     ]
    },
    {
     "name": "stdout",
     "output_type": "stream",
     "text": [
      "Best Estimator learned through GridSearch\n",
      "ExtraTreesRegressor(bootstrap=True, criterion='mse', max_depth=10,\n",
      "          max_features=7, max_leaf_nodes=None, min_impurity_decrease=0.0,\n",
      "          min_impurity_split=None, min_samples_leaf=1, min_samples_split=2,\n",
      "          min_weight_fraction_leaf=0.0, n_estimators=140, n_jobs=4,\n",
      "          oob_score=True, random_state=None, verbose=0, warm_start=False)\n"
     ]
    },
    {
     "name": "stderr",
     "output_type": "stream",
     "text": [
      "2018-08-10 12:09:52,705 __main__     INFO     {50: 0.65426220134773616, 55: 0.65527002077590868, 60: 0.65207109430626542, 65: 0.65176320337712901, 70: 0.6493890362370196, 75: 0.6533921035260416, 80: 0.65370503694798321, 85: 0.6537264553907991, 90: 0.65445750523024793, 95: 0.65474618652007011, 100: 0.65494320047860977, 105: 0.65100145096402273, 110: 0.65190178914420971, 115: 0.65284738874257464, 120: 0.65130520743192821, 125: 0.65385663906299274, 130: 0.65345961689689136, 135: 0.65226183593826959, 140: 0.65439573934694251, 145: 0.65363478738242442}\n"
     ]
    },
    {
     "name": "stdout",
     "output_type": "stream",
     "text": [
      "Best Estimator learned through GridSearch\n",
      "ExtraTreesRegressor(bootstrap=True, criterion='mse', max_depth=10,\n",
      "          max_features=7, max_leaf_nodes=None, min_impurity_decrease=0.0,\n",
      "          min_impurity_split=None, min_samples_leaf=1, min_samples_split=2,\n",
      "          min_weight_fraction_leaf=0.0, n_estimators=145, n_jobs=4,\n",
      "          oob_score=True, random_state=None, verbose=0, warm_start=False)\n"
     ]
    },
    {
     "name": "stderr",
     "output_type": "stream",
     "text": [
      "2018-08-10 12:09:55,079 __main__     INFO     {50: 0.65426220134773616, 55: 0.65527002077590868, 60: 0.65207109430626542, 65: 0.65176320337712901, 70: 0.6493890362370196, 75: 0.6533921035260416, 80: 0.65370503694798321, 85: 0.6537264553907991, 90: 0.65445750523024793, 95: 0.65474618652007011, 100: 0.65494320047860977, 105: 0.65100145096402273, 110: 0.65190178914420971, 115: 0.65284738874257464, 120: 0.65130520743192821, 125: 0.65385663906299274, 130: 0.65345961689689136, 135: 0.65226183593826959, 140: 0.65439573934694251, 145: 0.65363478738242442, 150: 0.65484494832764018}\n"
     ]
    },
    {
     "name": "stdout",
     "output_type": "stream",
     "text": [
      "Best Estimator learned through GridSearch\n",
      "ExtraTreesRegressor(bootstrap=True, criterion='mse', max_depth=10,\n",
      "          max_features=7, max_leaf_nodes=None, min_impurity_decrease=0.0,\n",
      "          min_impurity_split=None, min_samples_leaf=1, min_samples_split=2,\n",
      "          min_weight_fraction_leaf=0.0, n_estimators=150, n_jobs=4,\n",
      "          oob_score=True, random_state=None, verbose=0, warm_start=False)\n"
     ]
    },
    {
     "name": "stderr",
     "output_type": "stream",
     "text": [
      "2018-08-10 12:09:57,341 __main__     INFO     {50: 0.65426220134773616, 55: 0.65527002077590868, 60: 0.65207109430626542, 65: 0.65176320337712901, 70: 0.6493890362370196, 75: 0.6533921035260416, 80: 0.65370503694798321, 85: 0.6537264553907991, 90: 0.65445750523024793, 95: 0.65474618652007011, 100: 0.65494320047860977, 105: 0.65100145096402273, 110: 0.65190178914420971, 115: 0.65284738874257464, 120: 0.65130520743192821, 125: 0.65385663906299274, 130: 0.65345961689689136, 135: 0.65226183593826959, 140: 0.65439573934694251, 145: 0.65363478738242442, 150: 0.65484494832764018, 155: 0.65559181741745065}\n"
     ]
    },
    {
     "name": "stdout",
     "output_type": "stream",
     "text": [
      "Best Estimator learned through GridSearch\n",
      "ExtraTreesRegressor(bootstrap=True, criterion='mse', max_depth=10,\n",
      "          max_features=7, max_leaf_nodes=None, min_impurity_decrease=0.0,\n",
      "          min_impurity_split=None, min_samples_leaf=1, min_samples_split=2,\n",
      "          min_weight_fraction_leaf=0.0, n_estimators=155, n_jobs=4,\n",
      "          oob_score=True, random_state=None, verbose=0, warm_start=False)\n"
     ]
    },
    {
     "name": "stderr",
     "output_type": "stream",
     "text": [
      "2018-08-10 12:09:59,690 __main__     INFO     {50: 0.65426220134773616, 55: 0.65527002077590868, 60: 0.65207109430626542, 65: 0.65176320337712901, 70: 0.6493890362370196, 75: 0.6533921035260416, 80: 0.65370503694798321, 85: 0.6537264553907991, 90: 0.65445750523024793, 95: 0.65474618652007011, 100: 0.65494320047860977, 105: 0.65100145096402273, 110: 0.65190178914420971, 115: 0.65284738874257464, 120: 0.65130520743192821, 125: 0.65385663906299274, 130: 0.65345961689689136, 135: 0.65226183593826959, 140: 0.65439573934694251, 145: 0.65363478738242442, 150: 0.65484494832764018, 155: 0.65559181741745065, 160: 0.65355276552755492}\n"
     ]
    },
    {
     "name": "stdout",
     "output_type": "stream",
     "text": [
      "Best Estimator learned through GridSearch\n",
      "ExtraTreesRegressor(bootstrap=True, criterion='mse', max_depth=10,\n",
      "          max_features=7, max_leaf_nodes=None, min_impurity_decrease=0.0,\n",
      "          min_impurity_split=None, min_samples_leaf=1, min_samples_split=2,\n",
      "          min_weight_fraction_leaf=0.0, n_estimators=160, n_jobs=4,\n",
      "          oob_score=True, random_state=None, verbose=0, warm_start=False)\n"
     ]
    },
    {
     "name": "stderr",
     "output_type": "stream",
     "text": [
      "2018-08-10 12:10:02,168 __main__     INFO     {50: 0.65426220134773616, 55: 0.65527002077590868, 60: 0.65207109430626542, 65: 0.65176320337712901, 70: 0.6493890362370196, 75: 0.6533921035260416, 80: 0.65370503694798321, 85: 0.6537264553907991, 90: 0.65445750523024793, 95: 0.65474618652007011, 100: 0.65494320047860977, 105: 0.65100145096402273, 110: 0.65190178914420971, 115: 0.65284738874257464, 120: 0.65130520743192821, 125: 0.65385663906299274, 130: 0.65345961689689136, 135: 0.65226183593826959, 140: 0.65439573934694251, 145: 0.65363478738242442, 150: 0.65484494832764018, 155: 0.65559181741745065, 160: 0.65355276552755492, 165: 0.65520743642814949}\n"
     ]
    },
    {
     "name": "stdout",
     "output_type": "stream",
     "text": [
      "Best Estimator learned through GridSearch\n",
      "ExtraTreesRegressor(bootstrap=True, criterion='mse', max_depth=10,\n",
      "          max_features=7, max_leaf_nodes=None, min_impurity_decrease=0.0,\n",
      "          min_impurity_split=None, min_samples_leaf=1, min_samples_split=2,\n",
      "          min_weight_fraction_leaf=0.0, n_estimators=165, n_jobs=4,\n",
      "          oob_score=True, random_state=None, verbose=0, warm_start=False)\n"
     ]
    },
    {
     "name": "stderr",
     "output_type": "stream",
     "text": [
      "2018-08-10 12:10:04,537 __main__     INFO     {50: 0.65426220134773616, 55: 0.65527002077590868, 60: 0.65207109430626542, 65: 0.65176320337712901, 70: 0.6493890362370196, 75: 0.6533921035260416, 80: 0.65370503694798321, 85: 0.6537264553907991, 90: 0.65445750523024793, 95: 0.65474618652007011, 100: 0.65494320047860977, 105: 0.65100145096402273, 110: 0.65190178914420971, 115: 0.65284738874257464, 120: 0.65130520743192821, 125: 0.65385663906299274, 130: 0.65345961689689136, 135: 0.65226183593826959, 140: 0.65439573934694251, 145: 0.65363478738242442, 150: 0.65484494832764018, 155: 0.65559181741745065, 160: 0.65355276552755492, 165: 0.65520743642814949, 170: 0.65495875911617474}\n"
     ]
    },
    {
     "name": "stdout",
     "output_type": "stream",
     "text": [
      "Best Estimator learned through GridSearch\n",
      "ExtraTreesRegressor(bootstrap=True, criterion='mse', max_depth=10,\n",
      "          max_features=7, max_leaf_nodes=None, min_impurity_decrease=0.0,\n",
      "          min_impurity_split=None, min_samples_leaf=1, min_samples_split=2,\n",
      "          min_weight_fraction_leaf=0.0, n_estimators=170, n_jobs=4,\n",
      "          oob_score=True, random_state=None, verbose=0, warm_start=False)\n"
     ]
    },
    {
     "name": "stderr",
     "output_type": "stream",
     "text": [
      "2018-08-10 12:10:07,009 __main__     INFO     {50: 0.65426220134773616, 55: 0.65527002077590868, 60: 0.65207109430626542, 65: 0.65176320337712901, 70: 0.6493890362370196, 75: 0.6533921035260416, 80: 0.65370503694798321, 85: 0.6537264553907991, 90: 0.65445750523024793, 95: 0.65474618652007011, 100: 0.65494320047860977, 105: 0.65100145096402273, 110: 0.65190178914420971, 115: 0.65284738874257464, 120: 0.65130520743192821, 125: 0.65385663906299274, 130: 0.65345961689689136, 135: 0.65226183593826959, 140: 0.65439573934694251, 145: 0.65363478738242442, 150: 0.65484494832764018, 155: 0.65559181741745065, 160: 0.65355276552755492, 165: 0.65520743642814949, 170: 0.65495875911617474, 175: 0.65118730088858823}\n"
     ]
    },
    {
     "name": "stdout",
     "output_type": "stream",
     "text": [
      "Best Estimator learned through GridSearch\n",
      "ExtraTreesRegressor(bootstrap=True, criterion='mse', max_depth=10,\n",
      "          max_features=7, max_leaf_nodes=None, min_impurity_decrease=0.0,\n",
      "          min_impurity_split=None, min_samples_leaf=1, min_samples_split=2,\n",
      "          min_weight_fraction_leaf=0.0, n_estimators=175, n_jobs=4,\n",
      "          oob_score=True, random_state=None, verbose=0, warm_start=False)\n"
     ]
    },
    {
     "name": "stderr",
     "output_type": "stream",
     "text": [
      "2018-08-10 12:10:09,582 __main__     INFO     {50: 0.65426220134773616, 55: 0.65527002077590868, 60: 0.65207109430626542, 65: 0.65176320337712901, 70: 0.6493890362370196, 75: 0.6533921035260416, 80: 0.65370503694798321, 85: 0.6537264553907991, 90: 0.65445750523024793, 95: 0.65474618652007011, 100: 0.65494320047860977, 105: 0.65100145096402273, 110: 0.65190178914420971, 115: 0.65284738874257464, 120: 0.65130520743192821, 125: 0.65385663906299274, 130: 0.65345961689689136, 135: 0.65226183593826959, 140: 0.65439573934694251, 145: 0.65363478738242442, 150: 0.65484494832764018, 155: 0.65559181741745065, 160: 0.65355276552755492, 165: 0.65520743642814949, 170: 0.65495875911617474, 175: 0.65118730088858823, 180: 0.6527371126851137}\n"
     ]
    },
    {
     "name": "stdout",
     "output_type": "stream",
     "text": [
      "Best Estimator learned through GridSearch\n",
      "ExtraTreesRegressor(bootstrap=True, criterion='mse', max_depth=10,\n",
      "          max_features=7, max_leaf_nodes=None, min_impurity_decrease=0.0,\n",
      "          min_impurity_split=None, min_samples_leaf=1, min_samples_split=2,\n",
      "          min_weight_fraction_leaf=0.0, n_estimators=180, n_jobs=4,\n",
      "          oob_score=True, random_state=None, verbose=0, warm_start=False)\n"
     ]
    },
    {
     "name": "stderr",
     "output_type": "stream",
     "text": [
      "2018-08-10 12:10:12,066 __main__     INFO     {50: 0.65426220134773616, 55: 0.65527002077590868, 60: 0.65207109430626542, 65: 0.65176320337712901, 70: 0.6493890362370196, 75: 0.6533921035260416, 80: 0.65370503694798321, 85: 0.6537264553907991, 90: 0.65445750523024793, 95: 0.65474618652007011, 100: 0.65494320047860977, 105: 0.65100145096402273, 110: 0.65190178914420971, 115: 0.65284738874257464, 120: 0.65130520743192821, 125: 0.65385663906299274, 130: 0.65345961689689136, 135: 0.65226183593826959, 140: 0.65439573934694251, 145: 0.65363478738242442, 150: 0.65484494832764018, 155: 0.65559181741745065, 160: 0.65355276552755492, 165: 0.65520743642814949, 170: 0.65495875911617474, 175: 0.65118730088858823, 180: 0.6527371126851137, 185: 0.64953765347444903}\n"
     ]
    },
    {
     "name": "stdout",
     "output_type": "stream",
     "text": [
      "Best Estimator learned through GridSearch\n",
      "ExtraTreesRegressor(bootstrap=True, criterion='mse', max_depth=10,\n",
      "          max_features=7, max_leaf_nodes=None, min_impurity_decrease=0.0,\n",
      "          min_impurity_split=None, min_samples_leaf=1, min_samples_split=2,\n",
      "          min_weight_fraction_leaf=0.0, n_estimators=185, n_jobs=4,\n",
      "          oob_score=True, random_state=None, verbose=0, warm_start=False)\n"
     ]
    },
    {
     "name": "stderr",
     "output_type": "stream",
     "text": [
      "2018-08-10 12:10:14,753 __main__     INFO     {50: 0.65426220134773616, 55: 0.65527002077590868, 60: 0.65207109430626542, 65: 0.65176320337712901, 70: 0.6493890362370196, 75: 0.6533921035260416, 80: 0.65370503694798321, 85: 0.6537264553907991, 90: 0.65445750523024793, 95: 0.65474618652007011, 100: 0.65494320047860977, 105: 0.65100145096402273, 110: 0.65190178914420971, 115: 0.65284738874257464, 120: 0.65130520743192821, 125: 0.65385663906299274, 130: 0.65345961689689136, 135: 0.65226183593826959, 140: 0.65439573934694251, 145: 0.65363478738242442, 150: 0.65484494832764018, 155: 0.65559181741745065, 160: 0.65355276552755492, 165: 0.65520743642814949, 170: 0.65495875911617474, 175: 0.65118730088858823, 180: 0.6527371126851137, 185: 0.64953765347444903, 190: 0.65128846608049473}\n"
     ]
    },
    {
     "name": "stdout",
     "output_type": "stream",
     "text": [
      "Best Estimator learned through GridSearch\n",
      "ExtraTreesRegressor(bootstrap=True, criterion='mse', max_depth=10,\n",
      "          max_features=7, max_leaf_nodes=None, min_impurity_decrease=0.0,\n",
      "          min_impurity_split=None, min_samples_leaf=1, min_samples_split=2,\n",
      "          min_weight_fraction_leaf=0.0, n_estimators=190, n_jobs=4,\n",
      "          oob_score=True, random_state=None, verbose=0, warm_start=False)\n"
     ]
    },
    {
     "name": "stderr",
     "output_type": "stream",
     "text": [
      "2018-08-10 12:10:17,452 __main__     INFO     {50: 0.65426220134773616, 55: 0.65527002077590868, 60: 0.65207109430626542, 65: 0.65176320337712901, 70: 0.6493890362370196, 75: 0.6533921035260416, 80: 0.65370503694798321, 85: 0.6537264553907991, 90: 0.65445750523024793, 95: 0.65474618652007011, 100: 0.65494320047860977, 105: 0.65100145096402273, 110: 0.65190178914420971, 115: 0.65284738874257464, 120: 0.65130520743192821, 125: 0.65385663906299274, 130: 0.65345961689689136, 135: 0.65226183593826959, 140: 0.65439573934694251, 145: 0.65363478738242442, 150: 0.65484494832764018, 155: 0.65559181741745065, 160: 0.65355276552755492, 165: 0.65520743642814949, 170: 0.65495875911617474, 175: 0.65118730088858823, 180: 0.6527371126851137, 185: 0.64953765347444903, 190: 0.65128846608049473, 195: 0.65522566422925388}\n"
     ]
    },
    {
     "name": "stdout",
     "output_type": "stream",
     "text": [
      "Best Estimator learned through GridSearch\n",
      "ExtraTreesRegressor(bootstrap=True, criterion='mse', max_depth=10,\n",
      "          max_features=7, max_leaf_nodes=None, min_impurity_decrease=0.0,\n",
      "          min_impurity_split=None, min_samples_leaf=1, min_samples_split=2,\n",
      "          min_weight_fraction_leaf=0.0, n_estimators=195, n_jobs=4,\n",
      "          oob_score=True, random_state=None, verbose=0, warm_start=False)\n"
     ]
    },
    {
     "name": "stderr",
     "output_type": "stream",
     "text": [
      "2018-08-10 12:10:20,154 __main__     INFO     {50: 0.65426220134773616, 55: 0.65527002077590868, 60: 0.65207109430626542, 65: 0.65176320337712901, 70: 0.6493890362370196, 75: 0.6533921035260416, 80: 0.65370503694798321, 85: 0.6537264553907991, 90: 0.65445750523024793, 95: 0.65474618652007011, 100: 0.65494320047860977, 105: 0.65100145096402273, 110: 0.65190178914420971, 115: 0.65284738874257464, 120: 0.65130520743192821, 125: 0.65385663906299274, 130: 0.65345961689689136, 135: 0.65226183593826959, 140: 0.65439573934694251, 145: 0.65363478738242442, 150: 0.65484494832764018, 155: 0.65559181741745065, 160: 0.65355276552755492, 165: 0.65520743642814949, 170: 0.65495875911617474, 175: 0.65118730088858823, 180: 0.6527371126851137, 185: 0.64953765347444903, 190: 0.65128846608049473, 195: 0.65522566422925388, 200: 0.65279671091127844}\n"
     ]
    },
    {
     "name": "stdout",
     "output_type": "stream",
     "text": [
      "Best Estimator learned through GridSearch\n",
      "ExtraTreesRegressor(bootstrap=True, criterion='mse', max_depth=10,\n",
      "          max_features=7, max_leaf_nodes=None, min_impurity_decrease=0.0,\n",
      "          min_impurity_split=None, min_samples_leaf=1, min_samples_split=2,\n",
      "          min_weight_fraction_leaf=0.0, n_estimators=200, n_jobs=4,\n",
      "          oob_score=True, random_state=None, verbose=0, warm_start=False)\n"
     ]
    },
    {
     "name": "stderr",
     "output_type": "stream",
     "text": [
      "2018-08-10 12:10:22,850 __main__     INFO     {50: 0.65426220134773616, 55: 0.65527002077590868, 60: 0.65207109430626542, 65: 0.65176320337712901, 70: 0.6493890362370196, 75: 0.6533921035260416, 80: 0.65370503694798321, 85: 0.6537264553907991, 90: 0.65445750523024793, 95: 0.65474618652007011, 100: 0.65494320047860977, 105: 0.65100145096402273, 110: 0.65190178914420971, 115: 0.65284738874257464, 120: 0.65130520743192821, 125: 0.65385663906299274, 130: 0.65345961689689136, 135: 0.65226183593826959, 140: 0.65439573934694251, 145: 0.65363478738242442, 150: 0.65484494832764018, 155: 0.65559181741745065, 160: 0.65355276552755492, 165: 0.65520743642814949, 170: 0.65495875911617474, 175: 0.65118730088858823, 180: 0.6527371126851137, 185: 0.64953765347444903, 190: 0.65128846608049473, 195: 0.65522566422925388, 200: 0.65279671091127844, 205: 0.65499953873543593}\n"
     ]
    },
    {
     "name": "stdout",
     "output_type": "stream",
     "text": [
      "Best Estimator learned through GridSearch\n",
      "ExtraTreesRegressor(bootstrap=True, criterion='mse', max_depth=10,\n",
      "          max_features=7, max_leaf_nodes=None, min_impurity_decrease=0.0,\n",
      "          min_impurity_split=None, min_samples_leaf=1, min_samples_split=2,\n",
      "          min_weight_fraction_leaf=0.0, n_estimators=205, n_jobs=4,\n",
      "          oob_score=True, random_state=None, verbose=0, warm_start=False)\n"
     ]
    },
    {
     "name": "stderr",
     "output_type": "stream",
     "text": [
      "2018-08-10 12:10:25,655 __main__     INFO     {50: 0.65426220134773616, 55: 0.65527002077590868, 60: 0.65207109430626542, 65: 0.65176320337712901, 70: 0.6493890362370196, 75: 0.6533921035260416, 80: 0.65370503694798321, 85: 0.6537264553907991, 90: 0.65445750523024793, 95: 0.65474618652007011, 100: 0.65494320047860977, 105: 0.65100145096402273, 110: 0.65190178914420971, 115: 0.65284738874257464, 120: 0.65130520743192821, 125: 0.65385663906299274, 130: 0.65345961689689136, 135: 0.65226183593826959, 140: 0.65439573934694251, 145: 0.65363478738242442, 150: 0.65484494832764018, 155: 0.65559181741745065, 160: 0.65355276552755492, 165: 0.65520743642814949, 170: 0.65495875911617474, 175: 0.65118730088858823, 180: 0.6527371126851137, 185: 0.64953765347444903, 190: 0.65128846608049473, 195: 0.65522566422925388, 200: 0.65279671091127844, 205: 0.65499953873543593, 210: 0.65503107072941802}\n"
     ]
    },
    {
     "name": "stdout",
     "output_type": "stream",
     "text": [
      "Best Estimator learned through GridSearch\n",
      "ExtraTreesRegressor(bootstrap=True, criterion='mse', max_depth=10,\n",
      "          max_features=7, max_leaf_nodes=None, min_impurity_decrease=0.0,\n",
      "          min_impurity_split=None, min_samples_leaf=1, min_samples_split=2,\n",
      "          min_weight_fraction_leaf=0.0, n_estimators=210, n_jobs=4,\n",
      "          oob_score=True, random_state=None, verbose=0, warm_start=False)\n"
     ]
    },
    {
     "name": "stderr",
     "output_type": "stream",
     "text": [
      "2018-08-10 12:10:28,450 __main__     INFO     {50: 0.65426220134773616, 55: 0.65527002077590868, 60: 0.65207109430626542, 65: 0.65176320337712901, 70: 0.6493890362370196, 75: 0.6533921035260416, 80: 0.65370503694798321, 85: 0.6537264553907991, 90: 0.65445750523024793, 95: 0.65474618652007011, 100: 0.65494320047860977, 105: 0.65100145096402273, 110: 0.65190178914420971, 115: 0.65284738874257464, 120: 0.65130520743192821, 125: 0.65385663906299274, 130: 0.65345961689689136, 135: 0.65226183593826959, 140: 0.65439573934694251, 145: 0.65363478738242442, 150: 0.65484494832764018, 155: 0.65559181741745065, 160: 0.65355276552755492, 165: 0.65520743642814949, 170: 0.65495875911617474, 175: 0.65118730088858823, 180: 0.6527371126851137, 185: 0.64953765347444903, 190: 0.65128846608049473, 195: 0.65522566422925388, 200: 0.65279671091127844, 205: 0.65499953873543593, 210: 0.65503107072941802, 215: 0.65291822330146965}\n"
     ]
    },
    {
     "name": "stdout",
     "output_type": "stream",
     "text": [
      "Best Estimator learned through GridSearch\n",
      "ExtraTreesRegressor(bootstrap=True, criterion='mse', max_depth=10,\n",
      "          max_features=7, max_leaf_nodes=None, min_impurity_decrease=0.0,\n",
      "          min_impurity_split=None, min_samples_leaf=1, min_samples_split=2,\n",
      "          min_weight_fraction_leaf=0.0, n_estimators=215, n_jobs=4,\n",
      "          oob_score=True, random_state=None, verbose=0, warm_start=False)\n"
     ]
    },
    {
     "name": "stderr",
     "output_type": "stream",
     "text": [
      "2018-08-10 12:10:31,258 __main__     INFO     {50: 0.65426220134773616, 55: 0.65527002077590868, 60: 0.65207109430626542, 65: 0.65176320337712901, 70: 0.6493890362370196, 75: 0.6533921035260416, 80: 0.65370503694798321, 85: 0.6537264553907991, 90: 0.65445750523024793, 95: 0.65474618652007011, 100: 0.65494320047860977, 105: 0.65100145096402273, 110: 0.65190178914420971, 115: 0.65284738874257464, 120: 0.65130520743192821, 125: 0.65385663906299274, 130: 0.65345961689689136, 135: 0.65226183593826959, 140: 0.65439573934694251, 145: 0.65363478738242442, 150: 0.65484494832764018, 155: 0.65559181741745065, 160: 0.65355276552755492, 165: 0.65520743642814949, 170: 0.65495875911617474, 175: 0.65118730088858823, 180: 0.6527371126851137, 185: 0.64953765347444903, 190: 0.65128846608049473, 195: 0.65522566422925388, 200: 0.65279671091127844, 205: 0.65499953873543593, 210: 0.65503107072941802, 215: 0.65291822330146965, 220: 0.65393149220192648}\n"
     ]
    },
    {
     "name": "stdout",
     "output_type": "stream",
     "text": [
      "Best Estimator learned through GridSearch\n",
      "ExtraTreesRegressor(bootstrap=True, criterion='mse', max_depth=10,\n",
      "          max_features=7, max_leaf_nodes=None, min_impurity_decrease=0.0,\n",
      "          min_impurity_split=None, min_samples_leaf=1, min_samples_split=2,\n",
      "          min_weight_fraction_leaf=0.0, n_estimators=220, n_jobs=4,\n",
      "          oob_score=True, random_state=None, verbose=0, warm_start=False)\n"
     ]
    },
    {
     "name": "stderr",
     "output_type": "stream",
     "text": [
      "2018-08-10 12:10:34,176 __main__     INFO     {50: 0.65426220134773616, 55: 0.65527002077590868, 60: 0.65207109430626542, 65: 0.65176320337712901, 70: 0.6493890362370196, 75: 0.6533921035260416, 80: 0.65370503694798321, 85: 0.6537264553907991, 90: 0.65445750523024793, 95: 0.65474618652007011, 100: 0.65494320047860977, 105: 0.65100145096402273, 110: 0.65190178914420971, 115: 0.65284738874257464, 120: 0.65130520743192821, 125: 0.65385663906299274, 130: 0.65345961689689136, 135: 0.65226183593826959, 140: 0.65439573934694251, 145: 0.65363478738242442, 150: 0.65484494832764018, 155: 0.65559181741745065, 160: 0.65355276552755492, 165: 0.65520743642814949, 170: 0.65495875911617474, 175: 0.65118730088858823, 180: 0.6527371126851137, 185: 0.64953765347444903, 190: 0.65128846608049473, 195: 0.65522566422925388, 200: 0.65279671091127844, 205: 0.65499953873543593, 210: 0.65503107072941802, 215: 0.65291822330146965, 220: 0.65393149220192648, 225: 0.65236503759847375}\n"
     ]
    },
    {
     "name": "stdout",
     "output_type": "stream",
     "text": [
      "Best Estimator learned through GridSearch\n",
      "ExtraTreesRegressor(bootstrap=True, criterion='mse', max_depth=10,\n",
      "          max_features=7, max_leaf_nodes=None, min_impurity_decrease=0.0,\n",
      "          min_impurity_split=None, min_samples_leaf=1, min_samples_split=2,\n",
      "          min_weight_fraction_leaf=0.0, n_estimators=225, n_jobs=4,\n",
      "          oob_score=True, random_state=None, verbose=0, warm_start=False)\n"
     ]
    },
    {
     "name": "stderr",
     "output_type": "stream",
     "text": [
      "2018-08-10 12:10:37,105 __main__     INFO     {50: 0.65426220134773616, 55: 0.65527002077590868, 60: 0.65207109430626542, 65: 0.65176320337712901, 70: 0.6493890362370196, 75: 0.6533921035260416, 80: 0.65370503694798321, 85: 0.6537264553907991, 90: 0.65445750523024793, 95: 0.65474618652007011, 100: 0.65494320047860977, 105: 0.65100145096402273, 110: 0.65190178914420971, 115: 0.65284738874257464, 120: 0.65130520743192821, 125: 0.65385663906299274, 130: 0.65345961689689136, 135: 0.65226183593826959, 140: 0.65439573934694251, 145: 0.65363478738242442, 150: 0.65484494832764018, 155: 0.65559181741745065, 160: 0.65355276552755492, 165: 0.65520743642814949, 170: 0.65495875911617474, 175: 0.65118730088858823, 180: 0.6527371126851137, 185: 0.64953765347444903, 190: 0.65128846608049473, 195: 0.65522566422925388, 200: 0.65279671091127844, 205: 0.65499953873543593, 210: 0.65503107072941802, 215: 0.65291822330146965, 220: 0.65393149220192648, 225: 0.65236503759847375, 230: 0.6535033288337575}\n"
     ]
    },
    {
     "name": "stdout",
     "output_type": "stream",
     "text": [
      "Best Estimator learned through GridSearch\n",
      "ExtraTreesRegressor(bootstrap=True, criterion='mse', max_depth=10,\n",
      "          max_features=7, max_leaf_nodes=None, min_impurity_decrease=0.0,\n",
      "          min_impurity_split=None, min_samples_leaf=1, min_samples_split=2,\n",
      "          min_weight_fraction_leaf=0.0, n_estimators=230, n_jobs=4,\n",
      "          oob_score=True, random_state=None, verbose=0, warm_start=False)\n"
     ]
    },
    {
     "name": "stderr",
     "output_type": "stream",
     "text": [
      "2018-08-10 12:10:40,122 __main__     INFO     {50: 0.65426220134773616, 55: 0.65527002077590868, 60: 0.65207109430626542, 65: 0.65176320337712901, 70: 0.6493890362370196, 75: 0.6533921035260416, 80: 0.65370503694798321, 85: 0.6537264553907991, 90: 0.65445750523024793, 95: 0.65474618652007011, 100: 0.65494320047860977, 105: 0.65100145096402273, 110: 0.65190178914420971, 115: 0.65284738874257464, 120: 0.65130520743192821, 125: 0.65385663906299274, 130: 0.65345961689689136, 135: 0.65226183593826959, 140: 0.65439573934694251, 145: 0.65363478738242442, 150: 0.65484494832764018, 155: 0.65559181741745065, 160: 0.65355276552755492, 165: 0.65520743642814949, 170: 0.65495875911617474, 175: 0.65118730088858823, 180: 0.6527371126851137, 185: 0.64953765347444903, 190: 0.65128846608049473, 195: 0.65522566422925388, 200: 0.65279671091127844, 205: 0.65499953873543593, 210: 0.65503107072941802, 215: 0.65291822330146965, 220: 0.65393149220192648, 225: 0.65236503759847375, 230: 0.6535033288337575, 235: 0.65469240513707927}\n"
     ]
    },
    {
     "name": "stdout",
     "output_type": "stream",
     "text": [
      "Best Estimator learned through GridSearch\n",
      "ExtraTreesRegressor(bootstrap=True, criterion='mse', max_depth=10,\n",
      "          max_features=7, max_leaf_nodes=None, min_impurity_decrease=0.0,\n",
      "          min_impurity_split=None, min_samples_leaf=1, min_samples_split=2,\n",
      "          min_weight_fraction_leaf=0.0, n_estimators=235, n_jobs=4,\n",
      "          oob_score=True, random_state=None, verbose=0, warm_start=False)\n"
     ]
    },
    {
     "name": "stderr",
     "output_type": "stream",
     "text": [
      "2018-08-10 12:10:43,163 __main__     INFO     {50: 0.65426220134773616, 55: 0.65527002077590868, 60: 0.65207109430626542, 65: 0.65176320337712901, 70: 0.6493890362370196, 75: 0.6533921035260416, 80: 0.65370503694798321, 85: 0.6537264553907991, 90: 0.65445750523024793, 95: 0.65474618652007011, 100: 0.65494320047860977, 105: 0.65100145096402273, 110: 0.65190178914420971, 115: 0.65284738874257464, 120: 0.65130520743192821, 125: 0.65385663906299274, 130: 0.65345961689689136, 135: 0.65226183593826959, 140: 0.65439573934694251, 145: 0.65363478738242442, 150: 0.65484494832764018, 155: 0.65559181741745065, 160: 0.65355276552755492, 165: 0.65520743642814949, 170: 0.65495875911617474, 175: 0.65118730088858823, 180: 0.6527371126851137, 185: 0.64953765347444903, 190: 0.65128846608049473, 195: 0.65522566422925388, 200: 0.65279671091127844, 205: 0.65499953873543593, 210: 0.65503107072941802, 215: 0.65291822330146965, 220: 0.65393149220192648, 225: 0.65236503759847375, 230: 0.6535033288337575, 235: 0.65469240513707927, 240: 0.65340776886396923}\n"
     ]
    },
    {
     "name": "stdout",
     "output_type": "stream",
     "text": [
      "Best Estimator learned through GridSearch\n",
      "ExtraTreesRegressor(bootstrap=True, criterion='mse', max_depth=10,\n",
      "          max_features=7, max_leaf_nodes=None, min_impurity_decrease=0.0,\n",
      "          min_impurity_split=None, min_samples_leaf=1, min_samples_split=2,\n",
      "          min_weight_fraction_leaf=0.0, n_estimators=240, n_jobs=4,\n",
      "          oob_score=True, random_state=None, verbose=0, warm_start=False)\n"
     ]
    },
    {
     "name": "stderr",
     "output_type": "stream",
     "text": [
      "2018-08-10 12:10:46,190 __main__     INFO     {50: 0.65426220134773616, 55: 0.65527002077590868, 60: 0.65207109430626542, 65: 0.65176320337712901, 70: 0.6493890362370196, 75: 0.6533921035260416, 80: 0.65370503694798321, 85: 0.6537264553907991, 90: 0.65445750523024793, 95: 0.65474618652007011, 100: 0.65494320047860977, 105: 0.65100145096402273, 110: 0.65190178914420971, 115: 0.65284738874257464, 120: 0.65130520743192821, 125: 0.65385663906299274, 130: 0.65345961689689136, 135: 0.65226183593826959, 140: 0.65439573934694251, 145: 0.65363478738242442, 150: 0.65484494832764018, 155: 0.65559181741745065, 160: 0.65355276552755492, 165: 0.65520743642814949, 170: 0.65495875911617474, 175: 0.65118730088858823, 180: 0.6527371126851137, 185: 0.64953765347444903, 190: 0.65128846608049473, 195: 0.65522566422925388, 200: 0.65279671091127844, 205: 0.65499953873543593, 210: 0.65503107072941802, 215: 0.65291822330146965, 220: 0.65393149220192648, 225: 0.65236503759847375, 230: 0.6535033288337575, 235: 0.65469240513707927, 240: 0.65340776886396923, 245: 0.65550712943035849}\n"
     ]
    },
    {
     "name": "stdout",
     "output_type": "stream",
     "text": [
      "Best Estimator learned through GridSearch\n",
      "ExtraTreesRegressor(bootstrap=True, criterion='mse', max_depth=10,\n",
      "          max_features=7, max_leaf_nodes=None, min_impurity_decrease=0.0,\n",
      "          min_impurity_split=None, min_samples_leaf=1, min_samples_split=2,\n",
      "          min_weight_fraction_leaf=0.0, n_estimators=245, n_jobs=4,\n",
      "          oob_score=True, random_state=None, verbose=0, warm_start=False)\n"
     ]
    },
    {
     "name": "stderr",
     "output_type": "stream",
     "text": [
      "2018-08-10 12:10:49,637 __main__     INFO     {50: 0.65426220134773616, 55: 0.65527002077590868, 60: 0.65207109430626542, 65: 0.65176320337712901, 70: 0.6493890362370196, 75: 0.6533921035260416, 80: 0.65370503694798321, 85: 0.6537264553907991, 90: 0.65445750523024793, 95: 0.65474618652007011, 100: 0.65494320047860977, 105: 0.65100145096402273, 110: 0.65190178914420971, 115: 0.65284738874257464, 120: 0.65130520743192821, 125: 0.65385663906299274, 130: 0.65345961689689136, 135: 0.65226183593826959, 140: 0.65439573934694251, 145: 0.65363478738242442, 150: 0.65484494832764018, 155: 0.65559181741745065, 160: 0.65355276552755492, 165: 0.65520743642814949, 170: 0.65495875911617474, 175: 0.65118730088858823, 180: 0.6527371126851137, 185: 0.64953765347444903, 190: 0.65128846608049473, 195: 0.65522566422925388, 200: 0.65279671091127844, 205: 0.65499953873543593, 210: 0.65503107072941802, 215: 0.65291822330146965, 220: 0.65393149220192648, 225: 0.65236503759847375, 230: 0.6535033288337575, 235: 0.65469240513707927, 240: 0.65340776886396923, 245: 0.65550712943035849, 250: 0.65015090817069199}\n"
     ]
    },
    {
     "name": "stdout",
     "output_type": "stream",
     "text": [
      "Best Estimator learned through GridSearch\n",
      "ExtraTreesRegressor(bootstrap=True, criterion='mse', max_depth=10,\n",
      "          max_features=7, max_leaf_nodes=None, min_impurity_decrease=0.0,\n",
      "          min_impurity_split=None, min_samples_leaf=1, min_samples_split=2,\n",
      "          min_weight_fraction_leaf=0.0, n_estimators=250, n_jobs=4,\n",
      "          oob_score=True, random_state=None, verbose=0, warm_start=False)\n"
     ]
    },
    {
     "name": "stderr",
     "output_type": "stream",
     "text": [
      "2018-08-10 12:10:53,194 __main__     INFO     {50: 0.65426220134773616, 55: 0.65527002077590868, 60: 0.65207109430626542, 65: 0.65176320337712901, 70: 0.6493890362370196, 75: 0.6533921035260416, 80: 0.65370503694798321, 85: 0.6537264553907991, 90: 0.65445750523024793, 95: 0.65474618652007011, 100: 0.65494320047860977, 105: 0.65100145096402273, 110: 0.65190178914420971, 115: 0.65284738874257464, 120: 0.65130520743192821, 125: 0.65385663906299274, 130: 0.65345961689689136, 135: 0.65226183593826959, 140: 0.65439573934694251, 145: 0.65363478738242442, 150: 0.65484494832764018, 155: 0.65559181741745065, 160: 0.65355276552755492, 165: 0.65520743642814949, 170: 0.65495875911617474, 175: 0.65118730088858823, 180: 0.6527371126851137, 185: 0.64953765347444903, 190: 0.65128846608049473, 195: 0.65522566422925388, 200: 0.65279671091127844, 205: 0.65499953873543593, 210: 0.65503107072941802, 215: 0.65291822330146965, 220: 0.65393149220192648, 225: 0.65236503759847375, 230: 0.6535033288337575, 235: 0.65469240513707927, 240: 0.65340776886396923, 245: 0.65550712943035849, 250: 0.65015090817069199, 255: 0.65618138711368879}\n"
     ]
    },
    {
     "name": "stdout",
     "output_type": "stream",
     "text": [
      "Best Estimator learned through GridSearch\n",
      "ExtraTreesRegressor(bootstrap=True, criterion='mse', max_depth=10,\n",
      "          max_features=7, max_leaf_nodes=None, min_impurity_decrease=0.0,\n",
      "          min_impurity_split=None, min_samples_leaf=1, min_samples_split=2,\n",
      "          min_weight_fraction_leaf=0.0, n_estimators=255, n_jobs=4,\n",
      "          oob_score=True, random_state=None, verbose=0, warm_start=False)\n"
     ]
    },
    {
     "name": "stderr",
     "output_type": "stream",
     "text": [
      "2018-08-10 12:10:56,643 __main__     INFO     {50: 0.65426220134773616, 55: 0.65527002077590868, 60: 0.65207109430626542, 65: 0.65176320337712901, 70: 0.6493890362370196, 75: 0.6533921035260416, 80: 0.65370503694798321, 85: 0.6537264553907991, 90: 0.65445750523024793, 95: 0.65474618652007011, 100: 0.65494320047860977, 105: 0.65100145096402273, 110: 0.65190178914420971, 115: 0.65284738874257464, 120: 0.65130520743192821, 125: 0.65385663906299274, 130: 0.65345961689689136, 135: 0.65226183593826959, 140: 0.65439573934694251, 145: 0.65363478738242442, 150: 0.65484494832764018, 155: 0.65559181741745065, 160: 0.65355276552755492, 165: 0.65520743642814949, 170: 0.65495875911617474, 175: 0.65118730088858823, 180: 0.6527371126851137, 185: 0.64953765347444903, 190: 0.65128846608049473, 195: 0.65522566422925388, 200: 0.65279671091127844, 205: 0.65499953873543593, 210: 0.65503107072941802, 215: 0.65291822330146965, 220: 0.65393149220192648, 225: 0.65236503759847375, 230: 0.6535033288337575, 235: 0.65469240513707927, 240: 0.65340776886396923, 245: 0.65550712943035849, 250: 0.65015090817069199, 255: 0.65618138711368879, 260: 0.6542033923963122}\n"
     ]
    },
    {
     "name": "stdout",
     "output_type": "stream",
     "text": [
      "Best Estimator learned through GridSearch\n",
      "ExtraTreesRegressor(bootstrap=True, criterion='mse', max_depth=10,\n",
      "          max_features=7, max_leaf_nodes=None, min_impurity_decrease=0.0,\n",
      "          min_impurity_split=None, min_samples_leaf=1, min_samples_split=2,\n",
      "          min_weight_fraction_leaf=0.0, n_estimators=260, n_jobs=4,\n",
      "          oob_score=True, random_state=None, verbose=0, warm_start=False)\n"
     ]
    },
    {
     "name": "stderr",
     "output_type": "stream",
     "text": [
      "2018-08-10 12:11:00,249 __main__     INFO     {50: 0.65426220134773616, 55: 0.65527002077590868, 60: 0.65207109430626542, 65: 0.65176320337712901, 70: 0.6493890362370196, 75: 0.6533921035260416, 80: 0.65370503694798321, 85: 0.6537264553907991, 90: 0.65445750523024793, 95: 0.65474618652007011, 100: 0.65494320047860977, 105: 0.65100145096402273, 110: 0.65190178914420971, 115: 0.65284738874257464, 120: 0.65130520743192821, 125: 0.65385663906299274, 130: 0.65345961689689136, 135: 0.65226183593826959, 140: 0.65439573934694251, 145: 0.65363478738242442, 150: 0.65484494832764018, 155: 0.65559181741745065, 160: 0.65355276552755492, 165: 0.65520743642814949, 170: 0.65495875911617474, 175: 0.65118730088858823, 180: 0.6527371126851137, 185: 0.64953765347444903, 190: 0.65128846608049473, 195: 0.65522566422925388, 200: 0.65279671091127844, 205: 0.65499953873543593, 210: 0.65503107072941802, 215: 0.65291822330146965, 220: 0.65393149220192648, 225: 0.65236503759847375, 230: 0.6535033288337575, 235: 0.65469240513707927, 240: 0.65340776886396923, 245: 0.65550712943035849, 250: 0.65015090817069199, 255: 0.65618138711368879, 260: 0.6542033923963122, 265: 0.65354555710680384}\n"
     ]
    },
    {
     "name": "stdout",
     "output_type": "stream",
     "text": [
      "Best Estimator learned through GridSearch\n",
      "ExtraTreesRegressor(bootstrap=True, criterion='mse', max_depth=10,\n",
      "          max_features=7, max_leaf_nodes=None, min_impurity_decrease=0.0,\n",
      "          min_impurity_split=None, min_samples_leaf=1, min_samples_split=2,\n",
      "          min_weight_fraction_leaf=0.0, n_estimators=265, n_jobs=4,\n",
      "          oob_score=True, random_state=None, verbose=0, warm_start=False)\n"
     ]
    },
    {
     "name": "stderr",
     "output_type": "stream",
     "text": [
      "2018-08-10 12:11:03,935 __main__     INFO     {50: 0.65426220134773616, 55: 0.65527002077590868, 60: 0.65207109430626542, 65: 0.65176320337712901, 70: 0.6493890362370196, 75: 0.6533921035260416, 80: 0.65370503694798321, 85: 0.6537264553907991, 90: 0.65445750523024793, 95: 0.65474618652007011, 100: 0.65494320047860977, 105: 0.65100145096402273, 110: 0.65190178914420971, 115: 0.65284738874257464, 120: 0.65130520743192821, 125: 0.65385663906299274, 130: 0.65345961689689136, 135: 0.65226183593826959, 140: 0.65439573934694251, 145: 0.65363478738242442, 150: 0.65484494832764018, 155: 0.65559181741745065, 160: 0.65355276552755492, 165: 0.65520743642814949, 170: 0.65495875911617474, 175: 0.65118730088858823, 180: 0.6527371126851137, 185: 0.64953765347444903, 190: 0.65128846608049473, 195: 0.65522566422925388, 200: 0.65279671091127844, 205: 0.65499953873543593, 210: 0.65503107072941802, 215: 0.65291822330146965, 220: 0.65393149220192648, 225: 0.65236503759847375, 230: 0.6535033288337575, 235: 0.65469240513707927, 240: 0.65340776886396923, 245: 0.65550712943035849, 250: 0.65015090817069199, 255: 0.65618138711368879, 260: 0.6542033923963122, 265: 0.65354555710680384, 270: 0.65368242954952049}\n"
     ]
    },
    {
     "name": "stdout",
     "output_type": "stream",
     "text": [
      "Best Estimator learned through GridSearch\n",
      "ExtraTreesRegressor(bootstrap=True, criterion='mse', max_depth=10,\n",
      "          max_features=7, max_leaf_nodes=None, min_impurity_decrease=0.0,\n",
      "          min_impurity_split=None, min_samples_leaf=1, min_samples_split=2,\n",
      "          min_weight_fraction_leaf=0.0, n_estimators=270, n_jobs=4,\n",
      "          oob_score=True, random_state=None, verbose=0, warm_start=False)\n"
     ]
    },
    {
     "name": "stderr",
     "output_type": "stream",
     "text": [
      "2018-08-10 12:11:07,517 __main__     INFO     {50: 0.65426220134773616, 55: 0.65527002077590868, 60: 0.65207109430626542, 65: 0.65176320337712901, 70: 0.6493890362370196, 75: 0.6533921035260416, 80: 0.65370503694798321, 85: 0.6537264553907991, 90: 0.65445750523024793, 95: 0.65474618652007011, 100: 0.65494320047860977, 105: 0.65100145096402273, 110: 0.65190178914420971, 115: 0.65284738874257464, 120: 0.65130520743192821, 125: 0.65385663906299274, 130: 0.65345961689689136, 135: 0.65226183593826959, 140: 0.65439573934694251, 145: 0.65363478738242442, 150: 0.65484494832764018, 155: 0.65559181741745065, 160: 0.65355276552755492, 165: 0.65520743642814949, 170: 0.65495875911617474, 175: 0.65118730088858823, 180: 0.6527371126851137, 185: 0.64953765347444903, 190: 0.65128846608049473, 195: 0.65522566422925388, 200: 0.65279671091127844, 205: 0.65499953873543593, 210: 0.65503107072941802, 215: 0.65291822330146965, 220: 0.65393149220192648, 225: 0.65236503759847375, 230: 0.6535033288337575, 235: 0.65469240513707927, 240: 0.65340776886396923, 245: 0.65550712943035849, 250: 0.65015090817069199, 255: 0.65618138711368879, 260: 0.6542033923963122, 265: 0.65354555710680384, 270: 0.65368242954952049, 275: 0.65300373330957018}\n"
     ]
    },
    {
     "name": "stdout",
     "output_type": "stream",
     "text": [
      "Best Estimator learned through GridSearch\n",
      "ExtraTreesRegressor(bootstrap=True, criterion='mse', max_depth=10,\n",
      "          max_features=7, max_leaf_nodes=None, min_impurity_decrease=0.0,\n",
      "          min_impurity_split=None, min_samples_leaf=1, min_samples_split=2,\n",
      "          min_weight_fraction_leaf=0.0, n_estimators=275, n_jobs=4,\n",
      "          oob_score=True, random_state=None, verbose=0, warm_start=False)\n"
     ]
    },
    {
     "name": "stderr",
     "output_type": "stream",
     "text": [
      "2018-08-10 12:11:11,217 __main__     INFO     {50: 0.65426220134773616, 55: 0.65527002077590868, 60: 0.65207109430626542, 65: 0.65176320337712901, 70: 0.6493890362370196, 75: 0.6533921035260416, 80: 0.65370503694798321, 85: 0.6537264553907991, 90: 0.65445750523024793, 95: 0.65474618652007011, 100: 0.65494320047860977, 105: 0.65100145096402273, 110: 0.65190178914420971, 115: 0.65284738874257464, 120: 0.65130520743192821, 125: 0.65385663906299274, 130: 0.65345961689689136, 135: 0.65226183593826959, 140: 0.65439573934694251, 145: 0.65363478738242442, 150: 0.65484494832764018, 155: 0.65559181741745065, 160: 0.65355276552755492, 165: 0.65520743642814949, 170: 0.65495875911617474, 175: 0.65118730088858823, 180: 0.6527371126851137, 185: 0.64953765347444903, 190: 0.65128846608049473, 195: 0.65522566422925388, 200: 0.65279671091127844, 205: 0.65499953873543593, 210: 0.65503107072941802, 215: 0.65291822330146965, 220: 0.65393149220192648, 225: 0.65236503759847375, 230: 0.6535033288337575, 235: 0.65469240513707927, 240: 0.65340776886396923, 245: 0.65550712943035849, 250: 0.65015090817069199, 255: 0.65618138711368879, 260: 0.6542033923963122, 265: 0.65354555710680384, 270: 0.65368242954952049, 275: 0.65300373330957018, 280: 0.65309474539836099}\n"
     ]
    },
    {
     "name": "stdout",
     "output_type": "stream",
     "text": [
      "Best Estimator learned through GridSearch\n",
      "ExtraTreesRegressor(bootstrap=True, criterion='mse', max_depth=10,\n",
      "          max_features=7, max_leaf_nodes=None, min_impurity_decrease=0.0,\n",
      "          min_impurity_split=None, min_samples_leaf=1, min_samples_split=2,\n",
      "          min_weight_fraction_leaf=0.0, n_estimators=280, n_jobs=4,\n",
      "          oob_score=True, random_state=None, verbose=0, warm_start=False)\n"
     ]
    },
    {
     "name": "stderr",
     "output_type": "stream",
     "text": [
      "2018-08-10 12:11:14,883 __main__     INFO     {50: 0.65426220134773616, 55: 0.65527002077590868, 60: 0.65207109430626542, 65: 0.65176320337712901, 70: 0.6493890362370196, 75: 0.6533921035260416, 80: 0.65370503694798321, 85: 0.6537264553907991, 90: 0.65445750523024793, 95: 0.65474618652007011, 100: 0.65494320047860977, 105: 0.65100145096402273, 110: 0.65190178914420971, 115: 0.65284738874257464, 120: 0.65130520743192821, 125: 0.65385663906299274, 130: 0.65345961689689136, 135: 0.65226183593826959, 140: 0.65439573934694251, 145: 0.65363478738242442, 150: 0.65484494832764018, 155: 0.65559181741745065, 160: 0.65355276552755492, 165: 0.65520743642814949, 170: 0.65495875911617474, 175: 0.65118730088858823, 180: 0.6527371126851137, 185: 0.64953765347444903, 190: 0.65128846608049473, 195: 0.65522566422925388, 200: 0.65279671091127844, 205: 0.65499953873543593, 210: 0.65503107072941802, 215: 0.65291822330146965, 220: 0.65393149220192648, 225: 0.65236503759847375, 230: 0.6535033288337575, 235: 0.65469240513707927, 240: 0.65340776886396923, 245: 0.65550712943035849, 250: 0.65015090817069199, 255: 0.65618138711368879, 260: 0.6542033923963122, 265: 0.65354555710680384, 270: 0.65368242954952049, 275: 0.65300373330957018, 280: 0.65309474539836099, 285: 0.65464222251105952}\n"
     ]
    },
    {
     "name": "stdout",
     "output_type": "stream",
     "text": [
      "Best Estimator learned through GridSearch\n",
      "ExtraTreesRegressor(bootstrap=True, criterion='mse', max_depth=10,\n",
      "          max_features=7, max_leaf_nodes=None, min_impurity_decrease=0.0,\n",
      "          min_impurity_split=None, min_samples_leaf=1, min_samples_split=2,\n",
      "          min_weight_fraction_leaf=0.0, n_estimators=285, n_jobs=4,\n",
      "          oob_score=True, random_state=None, verbose=0, warm_start=False)\n"
     ]
    },
    {
     "name": "stderr",
     "output_type": "stream",
     "text": [
      "2018-08-10 12:11:18,762 __main__     INFO     {50: 0.65426220134773616, 55: 0.65527002077590868, 60: 0.65207109430626542, 65: 0.65176320337712901, 70: 0.6493890362370196, 75: 0.6533921035260416, 80: 0.65370503694798321, 85: 0.6537264553907991, 90: 0.65445750523024793, 95: 0.65474618652007011, 100: 0.65494320047860977, 105: 0.65100145096402273, 110: 0.65190178914420971, 115: 0.65284738874257464, 120: 0.65130520743192821, 125: 0.65385663906299274, 130: 0.65345961689689136, 135: 0.65226183593826959, 140: 0.65439573934694251, 145: 0.65363478738242442, 150: 0.65484494832764018, 155: 0.65559181741745065, 160: 0.65355276552755492, 165: 0.65520743642814949, 170: 0.65495875911617474, 175: 0.65118730088858823, 180: 0.6527371126851137, 185: 0.64953765347444903, 190: 0.65128846608049473, 195: 0.65522566422925388, 200: 0.65279671091127844, 205: 0.65499953873543593, 210: 0.65503107072941802, 215: 0.65291822330146965, 220: 0.65393149220192648, 225: 0.65236503759847375, 230: 0.6535033288337575, 235: 0.65469240513707927, 240: 0.65340776886396923, 245: 0.65550712943035849, 250: 0.65015090817069199, 255: 0.65618138711368879, 260: 0.6542033923963122, 265: 0.65354555710680384, 270: 0.65368242954952049, 275: 0.65300373330957018, 280: 0.65309474539836099, 285: 0.65464222251105952, 290: 0.65398859246646568}\n"
     ]
    },
    {
     "name": "stdout",
     "output_type": "stream",
     "text": [
      "Best Estimator learned through GridSearch\n",
      "ExtraTreesRegressor(bootstrap=True, criterion='mse', max_depth=10,\n",
      "          max_features=7, max_leaf_nodes=None, min_impurity_decrease=0.0,\n",
      "          min_impurity_split=None, min_samples_leaf=1, min_samples_split=2,\n",
      "          min_weight_fraction_leaf=0.0, n_estimators=290, n_jobs=4,\n",
      "          oob_score=True, random_state=None, verbose=0, warm_start=False)\n"
     ]
    },
    {
     "name": "stderr",
     "output_type": "stream",
     "text": [
      "2018-08-10 12:11:22,433 __main__     INFO     {50: 0.65426220134773616, 55: 0.65527002077590868, 60: 0.65207109430626542, 65: 0.65176320337712901, 70: 0.6493890362370196, 75: 0.6533921035260416, 80: 0.65370503694798321, 85: 0.6537264553907991, 90: 0.65445750523024793, 95: 0.65474618652007011, 100: 0.65494320047860977, 105: 0.65100145096402273, 110: 0.65190178914420971, 115: 0.65284738874257464, 120: 0.65130520743192821, 125: 0.65385663906299274, 130: 0.65345961689689136, 135: 0.65226183593826959, 140: 0.65439573934694251, 145: 0.65363478738242442, 150: 0.65484494832764018, 155: 0.65559181741745065, 160: 0.65355276552755492, 165: 0.65520743642814949, 170: 0.65495875911617474, 175: 0.65118730088858823, 180: 0.6527371126851137, 185: 0.64953765347444903, 190: 0.65128846608049473, 195: 0.65522566422925388, 200: 0.65279671091127844, 205: 0.65499953873543593, 210: 0.65503107072941802, 215: 0.65291822330146965, 220: 0.65393149220192648, 225: 0.65236503759847375, 230: 0.6535033288337575, 235: 0.65469240513707927, 240: 0.65340776886396923, 245: 0.65550712943035849, 250: 0.65015090817069199, 255: 0.65618138711368879, 260: 0.6542033923963122, 265: 0.65354555710680384, 270: 0.65368242954952049, 275: 0.65300373330957018, 280: 0.65309474539836099, 285: 0.65464222251105952, 290: 0.65398859246646568, 295: 0.65097633411545819}\n"
     ]
    },
    {
     "name": "stdout",
     "output_type": "stream",
     "text": [
      "Best Estimator learned through GridSearch\n",
      "ExtraTreesRegressor(bootstrap=True, criterion='mse', max_depth=10,\n",
      "          max_features=7, max_leaf_nodes=None, min_impurity_decrease=0.0,\n",
      "          min_impurity_split=None, min_samples_leaf=1, min_samples_split=2,\n",
      "          min_weight_fraction_leaf=0.0, n_estimators=295, n_jobs=4,\n",
      "          oob_score=True, random_state=None, verbose=0, warm_start=False)\n"
     ]
    },
    {
     "name": "stderr",
     "output_type": "stream",
     "text": [
      "2018-08-10 12:11:26,243 __main__     INFO     {50: 0.65426220134773616, 55: 0.65527002077590868, 60: 0.65207109430626542, 65: 0.65176320337712901, 70: 0.6493890362370196, 75: 0.6533921035260416, 80: 0.65370503694798321, 85: 0.6537264553907991, 90: 0.65445750523024793, 95: 0.65474618652007011, 100: 0.65494320047860977, 105: 0.65100145096402273, 110: 0.65190178914420971, 115: 0.65284738874257464, 120: 0.65130520743192821, 125: 0.65385663906299274, 130: 0.65345961689689136, 135: 0.65226183593826959, 140: 0.65439573934694251, 145: 0.65363478738242442, 150: 0.65484494832764018, 155: 0.65559181741745065, 160: 0.65355276552755492, 165: 0.65520743642814949, 170: 0.65495875911617474, 175: 0.65118730088858823, 180: 0.6527371126851137, 185: 0.64953765347444903, 190: 0.65128846608049473, 195: 0.65522566422925388, 200: 0.65279671091127844, 205: 0.65499953873543593, 210: 0.65503107072941802, 215: 0.65291822330146965, 220: 0.65393149220192648, 225: 0.65236503759847375, 230: 0.6535033288337575, 235: 0.65469240513707927, 240: 0.65340776886396923, 245: 0.65550712943035849, 250: 0.65015090817069199, 255: 0.65618138711368879, 260: 0.6542033923963122, 265: 0.65354555710680384, 270: 0.65368242954952049, 275: 0.65300373330957018, 280: 0.65309474539836099, 285: 0.65464222251105952, 290: 0.65398859246646568, 295: 0.65097633411545819, 300: 0.65331333908531986}\n"
     ]
    },
    {
     "name": "stdout",
     "output_type": "stream",
     "text": [
      "Best Estimator learned through GridSearch\n",
      "ExtraTreesRegressor(bootstrap=True, criterion='mse', max_depth=10,\n",
      "          max_features=7, max_leaf_nodes=None, min_impurity_decrease=0.0,\n",
      "          min_impurity_split=None, min_samples_leaf=1, min_samples_split=2,\n",
      "          min_weight_fraction_leaf=0.0, n_estimators=300, n_jobs=4,\n",
      "          oob_score=True, random_state=None, verbose=0, warm_start=False)\n"
     ]
    },
    {
     "name": "stderr",
     "output_type": "stream",
     "text": [
      "2018-08-10 12:11:30,039 __main__     INFO     {50: 0.65426220134773616, 55: 0.65527002077590868, 60: 0.65207109430626542, 65: 0.65176320337712901, 70: 0.6493890362370196, 75: 0.6533921035260416, 80: 0.65370503694798321, 85: 0.6537264553907991, 90: 0.65445750523024793, 95: 0.65474618652007011, 100: 0.65494320047860977, 105: 0.65100145096402273, 110: 0.65190178914420971, 115: 0.65284738874257464, 120: 0.65130520743192821, 125: 0.65385663906299274, 130: 0.65345961689689136, 135: 0.65226183593826959, 140: 0.65439573934694251, 145: 0.65363478738242442, 150: 0.65484494832764018, 155: 0.65559181741745065, 160: 0.65355276552755492, 165: 0.65520743642814949, 170: 0.65495875911617474, 175: 0.65118730088858823, 180: 0.6527371126851137, 185: 0.64953765347444903, 190: 0.65128846608049473, 195: 0.65522566422925388, 200: 0.65279671091127844, 205: 0.65499953873543593, 210: 0.65503107072941802, 215: 0.65291822330146965, 220: 0.65393149220192648, 225: 0.65236503759847375, 230: 0.6535033288337575, 235: 0.65469240513707927, 240: 0.65340776886396923, 245: 0.65550712943035849, 250: 0.65015090817069199, 255: 0.65618138711368879, 260: 0.6542033923963122, 265: 0.65354555710680384, 270: 0.65368242954952049, 275: 0.65300373330957018, 280: 0.65309474539836099, 285: 0.65464222251105952, 290: 0.65398859246646568, 295: 0.65097633411545819, 300: 0.65331333908531986, 305: 0.65306466521953954}\n"
     ]
    },
    {
     "name": "stdout",
     "output_type": "stream",
     "text": [
      "Best Estimator learned through GridSearch\n",
      "ExtraTreesRegressor(bootstrap=True, criterion='mse', max_depth=10,\n",
      "          max_features=7, max_leaf_nodes=None, min_impurity_decrease=0.0,\n",
      "          min_impurity_split=None, min_samples_leaf=1, min_samples_split=2,\n",
      "          min_weight_fraction_leaf=0.0, n_estimators=305, n_jobs=4,\n",
      "          oob_score=True, random_state=None, verbose=0, warm_start=False)\n"
     ]
    },
    {
     "name": "stderr",
     "output_type": "stream",
     "text": [
      "2018-08-10 12:11:33,925 __main__     INFO     {50: 0.65426220134773616, 55: 0.65527002077590868, 60: 0.65207109430626542, 65: 0.65176320337712901, 70: 0.6493890362370196, 75: 0.6533921035260416, 80: 0.65370503694798321, 85: 0.6537264553907991, 90: 0.65445750523024793, 95: 0.65474618652007011, 100: 0.65494320047860977, 105: 0.65100145096402273, 110: 0.65190178914420971, 115: 0.65284738874257464, 120: 0.65130520743192821, 125: 0.65385663906299274, 130: 0.65345961689689136, 135: 0.65226183593826959, 140: 0.65439573934694251, 145: 0.65363478738242442, 150: 0.65484494832764018, 155: 0.65559181741745065, 160: 0.65355276552755492, 165: 0.65520743642814949, 170: 0.65495875911617474, 175: 0.65118730088858823, 180: 0.6527371126851137, 185: 0.64953765347444903, 190: 0.65128846608049473, 195: 0.65522566422925388, 200: 0.65279671091127844, 205: 0.65499953873543593, 210: 0.65503107072941802, 215: 0.65291822330146965, 220: 0.65393149220192648, 225: 0.65236503759847375, 230: 0.6535033288337575, 235: 0.65469240513707927, 240: 0.65340776886396923, 245: 0.65550712943035849, 250: 0.65015090817069199, 255: 0.65618138711368879, 260: 0.6542033923963122, 265: 0.65354555710680384, 270: 0.65368242954952049, 275: 0.65300373330957018, 280: 0.65309474539836099, 285: 0.65464222251105952, 290: 0.65398859246646568, 295: 0.65097633411545819, 300: 0.65331333908531986, 305: 0.65306466521953954, 310: 0.65447299500230116}\n"
     ]
    },
    {
     "name": "stdout",
     "output_type": "stream",
     "text": [
      "Best Estimator learned through GridSearch\n",
      "ExtraTreesRegressor(bootstrap=True, criterion='mse', max_depth=10,\n",
      "          max_features=7, max_leaf_nodes=None, min_impurity_decrease=0.0,\n",
      "          min_impurity_split=None, min_samples_leaf=1, min_samples_split=2,\n",
      "          min_weight_fraction_leaf=0.0, n_estimators=310, n_jobs=4,\n",
      "          oob_score=True, random_state=None, verbose=0, warm_start=False)\n"
     ]
    },
    {
     "name": "stderr",
     "output_type": "stream",
     "text": [
      "2018-08-10 12:11:37,729 __main__     INFO     {50: 0.65426220134773616, 55: 0.65527002077590868, 60: 0.65207109430626542, 65: 0.65176320337712901, 70: 0.6493890362370196, 75: 0.6533921035260416, 80: 0.65370503694798321, 85: 0.6537264553907991, 90: 0.65445750523024793, 95: 0.65474618652007011, 100: 0.65494320047860977, 105: 0.65100145096402273, 110: 0.65190178914420971, 115: 0.65284738874257464, 120: 0.65130520743192821, 125: 0.65385663906299274, 130: 0.65345961689689136, 135: 0.65226183593826959, 140: 0.65439573934694251, 145: 0.65363478738242442, 150: 0.65484494832764018, 155: 0.65559181741745065, 160: 0.65355276552755492, 165: 0.65520743642814949, 170: 0.65495875911617474, 175: 0.65118730088858823, 180: 0.6527371126851137, 185: 0.64953765347444903, 190: 0.65128846608049473, 195: 0.65522566422925388, 200: 0.65279671091127844, 205: 0.65499953873543593, 210: 0.65503107072941802, 215: 0.65291822330146965, 220: 0.65393149220192648, 225: 0.65236503759847375, 230: 0.6535033288337575, 235: 0.65469240513707927, 240: 0.65340776886396923, 245: 0.65550712943035849, 250: 0.65015090817069199, 255: 0.65618138711368879, 260: 0.6542033923963122, 265: 0.65354555710680384, 270: 0.65368242954952049, 275: 0.65300373330957018, 280: 0.65309474539836099, 285: 0.65464222251105952, 290: 0.65398859246646568, 295: 0.65097633411545819, 300: 0.65331333908531986, 305: 0.65306466521953954, 310: 0.65447299500230116, 315: 0.65545805144043623}\n"
     ]
    },
    {
     "name": "stdout",
     "output_type": "stream",
     "text": [
      "Best Estimator learned through GridSearch\n",
      "ExtraTreesRegressor(bootstrap=True, criterion='mse', max_depth=10,\n",
      "          max_features=7, max_leaf_nodes=None, min_impurity_decrease=0.0,\n",
      "          min_impurity_split=None, min_samples_leaf=1, min_samples_split=2,\n",
      "          min_weight_fraction_leaf=0.0, n_estimators=315, n_jobs=4,\n",
      "          oob_score=True, random_state=None, verbose=0, warm_start=False)\n"
     ]
    },
    {
     "name": "stderr",
     "output_type": "stream",
     "text": [
      "2018-08-10 12:11:41,527 __main__     INFO     {50: 0.65426220134773616, 55: 0.65527002077590868, 60: 0.65207109430626542, 65: 0.65176320337712901, 70: 0.6493890362370196, 75: 0.6533921035260416, 80: 0.65370503694798321, 85: 0.6537264553907991, 90: 0.65445750523024793, 95: 0.65474618652007011, 100: 0.65494320047860977, 105: 0.65100145096402273, 110: 0.65190178914420971, 115: 0.65284738874257464, 120: 0.65130520743192821, 125: 0.65385663906299274, 130: 0.65345961689689136, 135: 0.65226183593826959, 140: 0.65439573934694251, 145: 0.65363478738242442, 150: 0.65484494832764018, 155: 0.65559181741745065, 160: 0.65355276552755492, 165: 0.65520743642814949, 170: 0.65495875911617474, 175: 0.65118730088858823, 180: 0.6527371126851137, 185: 0.64953765347444903, 190: 0.65128846608049473, 195: 0.65522566422925388, 200: 0.65279671091127844, 205: 0.65499953873543593, 210: 0.65503107072941802, 215: 0.65291822330146965, 220: 0.65393149220192648, 225: 0.65236503759847375, 230: 0.6535033288337575, 235: 0.65469240513707927, 240: 0.65340776886396923, 245: 0.65550712943035849, 250: 0.65015090817069199, 255: 0.65618138711368879, 260: 0.6542033923963122, 265: 0.65354555710680384, 270: 0.65368242954952049, 275: 0.65300373330957018, 280: 0.65309474539836099, 285: 0.65464222251105952, 290: 0.65398859246646568, 295: 0.65097633411545819, 300: 0.65331333908531986, 305: 0.65306466521953954, 310: 0.65447299500230116, 315: 0.65545805144043623, 320: 0.65218892488835911}\n"
     ]
    },
    {
     "name": "stdout",
     "output_type": "stream",
     "text": [
      "Best Estimator learned through GridSearch\n",
      "ExtraTreesRegressor(bootstrap=True, criterion='mse', max_depth=10,\n",
      "          max_features=7, max_leaf_nodes=None, min_impurity_decrease=0.0,\n",
      "          min_impurity_split=None, min_samples_leaf=1, min_samples_split=2,\n",
      "          min_weight_fraction_leaf=0.0, n_estimators=320, n_jobs=4,\n",
      "          oob_score=True, random_state=None, verbose=0, warm_start=False)\n"
     ]
    },
    {
     "name": "stderr",
     "output_type": "stream",
     "text": [
      "2018-08-10 12:11:45,353 __main__     INFO     {50: 0.65426220134773616, 55: 0.65527002077590868, 60: 0.65207109430626542, 65: 0.65176320337712901, 70: 0.6493890362370196, 75: 0.6533921035260416, 80: 0.65370503694798321, 85: 0.6537264553907991, 90: 0.65445750523024793, 95: 0.65474618652007011, 100: 0.65494320047860977, 105: 0.65100145096402273, 110: 0.65190178914420971, 115: 0.65284738874257464, 120: 0.65130520743192821, 125: 0.65385663906299274, 130: 0.65345961689689136, 135: 0.65226183593826959, 140: 0.65439573934694251, 145: 0.65363478738242442, 150: 0.65484494832764018, 155: 0.65559181741745065, 160: 0.65355276552755492, 165: 0.65520743642814949, 170: 0.65495875911617474, 175: 0.65118730088858823, 180: 0.6527371126851137, 185: 0.64953765347444903, 190: 0.65128846608049473, 195: 0.65522566422925388, 200: 0.65279671091127844, 205: 0.65499953873543593, 210: 0.65503107072941802, 215: 0.65291822330146965, 220: 0.65393149220192648, 225: 0.65236503759847375, 230: 0.6535033288337575, 235: 0.65469240513707927, 240: 0.65340776886396923, 245: 0.65550712943035849, 250: 0.65015090817069199, 255: 0.65618138711368879, 260: 0.6542033923963122, 265: 0.65354555710680384, 270: 0.65368242954952049, 275: 0.65300373330957018, 280: 0.65309474539836099, 285: 0.65464222251105952, 290: 0.65398859246646568, 295: 0.65097633411545819, 300: 0.65331333908531986, 305: 0.65306466521953954, 310: 0.65447299500230116, 315: 0.65545805144043623, 320: 0.65218892488835911, 325: 0.65516720256991823}\n"
     ]
    },
    {
     "name": "stdout",
     "output_type": "stream",
     "text": [
      "Best Estimator learned through GridSearch\n",
      "ExtraTreesRegressor(bootstrap=True, criterion='mse', max_depth=10,\n",
      "          max_features=7, max_leaf_nodes=None, min_impurity_decrease=0.0,\n",
      "          min_impurity_split=None, min_samples_leaf=1, min_samples_split=2,\n",
      "          min_weight_fraction_leaf=0.0, n_estimators=325, n_jobs=4,\n",
      "          oob_score=True, random_state=None, verbose=0, warm_start=False)\n"
     ]
    },
    {
     "name": "stderr",
     "output_type": "stream",
     "text": [
      "2018-08-10 12:11:49,267 __main__     INFO     {50: 0.65426220134773616, 55: 0.65527002077590868, 60: 0.65207109430626542, 65: 0.65176320337712901, 70: 0.6493890362370196, 75: 0.6533921035260416, 80: 0.65370503694798321, 85: 0.6537264553907991, 90: 0.65445750523024793, 95: 0.65474618652007011, 100: 0.65494320047860977, 105: 0.65100145096402273, 110: 0.65190178914420971, 115: 0.65284738874257464, 120: 0.65130520743192821, 125: 0.65385663906299274, 130: 0.65345961689689136, 135: 0.65226183593826959, 140: 0.65439573934694251, 145: 0.65363478738242442, 150: 0.65484494832764018, 155: 0.65559181741745065, 160: 0.65355276552755492, 165: 0.65520743642814949, 170: 0.65495875911617474, 175: 0.65118730088858823, 180: 0.6527371126851137, 185: 0.64953765347444903, 190: 0.65128846608049473, 195: 0.65522566422925388, 200: 0.65279671091127844, 205: 0.65499953873543593, 210: 0.65503107072941802, 215: 0.65291822330146965, 220: 0.65393149220192648, 225: 0.65236503759847375, 230: 0.6535033288337575, 235: 0.65469240513707927, 240: 0.65340776886396923, 245: 0.65550712943035849, 250: 0.65015090817069199, 255: 0.65618138711368879, 260: 0.6542033923963122, 265: 0.65354555710680384, 270: 0.65368242954952049, 275: 0.65300373330957018, 280: 0.65309474539836099, 285: 0.65464222251105952, 290: 0.65398859246646568, 295: 0.65097633411545819, 300: 0.65331333908531986, 305: 0.65306466521953954, 310: 0.65447299500230116, 315: 0.65545805144043623, 320: 0.65218892488835911, 325: 0.65516720256991823, 330: 0.6550197629646406}\n"
     ]
    },
    {
     "name": "stdout",
     "output_type": "stream",
     "text": [
      "Best Estimator learned through GridSearch\n",
      "ExtraTreesRegressor(bootstrap=True, criterion='mse', max_depth=10,\n",
      "          max_features=7, max_leaf_nodes=None, min_impurity_decrease=0.0,\n",
      "          min_impurity_split=None, min_samples_leaf=1, min_samples_split=2,\n",
      "          min_weight_fraction_leaf=0.0, n_estimators=330, n_jobs=4,\n",
      "          oob_score=True, random_state=None, verbose=0, warm_start=False)\n"
     ]
    },
    {
     "name": "stderr",
     "output_type": "stream",
     "text": [
      "2018-08-10 12:11:53,298 __main__     INFO     {50: 0.65426220134773616, 55: 0.65527002077590868, 60: 0.65207109430626542, 65: 0.65176320337712901, 70: 0.6493890362370196, 75: 0.6533921035260416, 80: 0.65370503694798321, 85: 0.6537264553907991, 90: 0.65445750523024793, 95: 0.65474618652007011, 100: 0.65494320047860977, 105: 0.65100145096402273, 110: 0.65190178914420971, 115: 0.65284738874257464, 120: 0.65130520743192821, 125: 0.65385663906299274, 130: 0.65345961689689136, 135: 0.65226183593826959, 140: 0.65439573934694251, 145: 0.65363478738242442, 150: 0.65484494832764018, 155: 0.65559181741745065, 160: 0.65355276552755492, 165: 0.65520743642814949, 170: 0.65495875911617474, 175: 0.65118730088858823, 180: 0.6527371126851137, 185: 0.64953765347444903, 190: 0.65128846608049473, 195: 0.65522566422925388, 200: 0.65279671091127844, 205: 0.65499953873543593, 210: 0.65503107072941802, 215: 0.65291822330146965, 220: 0.65393149220192648, 225: 0.65236503759847375, 230: 0.6535033288337575, 235: 0.65469240513707927, 240: 0.65340776886396923, 245: 0.65550712943035849, 250: 0.65015090817069199, 255: 0.65618138711368879, 260: 0.6542033923963122, 265: 0.65354555710680384, 270: 0.65368242954952049, 275: 0.65300373330957018, 280: 0.65309474539836099, 285: 0.65464222251105952, 290: 0.65398859246646568, 295: 0.65097633411545819, 300: 0.65331333908531986, 305: 0.65306466521953954, 310: 0.65447299500230116, 315: 0.65545805144043623, 320: 0.65218892488835911, 325: 0.65516720256991823, 330: 0.6550197629646406, 335: 0.6542684063584342}\n"
     ]
    },
    {
     "name": "stdout",
     "output_type": "stream",
     "text": [
      "Best Estimator learned through GridSearch\n",
      "ExtraTreesRegressor(bootstrap=True, criterion='mse', max_depth=10,\n",
      "          max_features=7, max_leaf_nodes=None, min_impurity_decrease=0.0,\n",
      "          min_impurity_split=None, min_samples_leaf=1, min_samples_split=2,\n",
      "          min_weight_fraction_leaf=0.0, n_estimators=335, n_jobs=4,\n",
      "          oob_score=True, random_state=None, verbose=0, warm_start=False)\n"
     ]
    },
    {
     "name": "stderr",
     "output_type": "stream",
     "text": [
      "2018-08-10 12:11:57,317 __main__     INFO     {50: 0.65426220134773616, 55: 0.65527002077590868, 60: 0.65207109430626542, 65: 0.65176320337712901, 70: 0.6493890362370196, 75: 0.6533921035260416, 80: 0.65370503694798321, 85: 0.6537264553907991, 90: 0.65445750523024793, 95: 0.65474618652007011, 100: 0.65494320047860977, 105: 0.65100145096402273, 110: 0.65190178914420971, 115: 0.65284738874257464, 120: 0.65130520743192821, 125: 0.65385663906299274, 130: 0.65345961689689136, 135: 0.65226183593826959, 140: 0.65439573934694251, 145: 0.65363478738242442, 150: 0.65484494832764018, 155: 0.65559181741745065, 160: 0.65355276552755492, 165: 0.65520743642814949, 170: 0.65495875911617474, 175: 0.65118730088858823, 180: 0.6527371126851137, 185: 0.64953765347444903, 190: 0.65128846608049473, 195: 0.65522566422925388, 200: 0.65279671091127844, 205: 0.65499953873543593, 210: 0.65503107072941802, 215: 0.65291822330146965, 220: 0.65393149220192648, 225: 0.65236503759847375, 230: 0.6535033288337575, 235: 0.65469240513707927, 240: 0.65340776886396923, 245: 0.65550712943035849, 250: 0.65015090817069199, 255: 0.65618138711368879, 260: 0.6542033923963122, 265: 0.65354555710680384, 270: 0.65368242954952049, 275: 0.65300373330957018, 280: 0.65309474539836099, 285: 0.65464222251105952, 290: 0.65398859246646568, 295: 0.65097633411545819, 300: 0.65331333908531986, 305: 0.65306466521953954, 310: 0.65447299500230116, 315: 0.65545805144043623, 320: 0.65218892488835911, 325: 0.65516720256991823, 330: 0.6550197629646406, 335: 0.6542684063584342, 340: 0.65300677894163339}\n"
     ]
    },
    {
     "name": "stdout",
     "output_type": "stream",
     "text": [
      "Best Estimator learned through GridSearch\n",
      "ExtraTreesRegressor(bootstrap=True, criterion='mse', max_depth=10,\n",
      "          max_features=7, max_leaf_nodes=None, min_impurity_decrease=0.0,\n",
      "          min_impurity_split=None, min_samples_leaf=1, min_samples_split=2,\n",
      "          min_weight_fraction_leaf=0.0, n_estimators=340, n_jobs=4,\n",
      "          oob_score=True, random_state=None, verbose=0, warm_start=False)\n"
     ]
    },
    {
     "name": "stderr",
     "output_type": "stream",
     "text": [
      "2018-08-10 12:12:01,365 __main__     INFO     {50: 0.65426220134773616, 55: 0.65527002077590868, 60: 0.65207109430626542, 65: 0.65176320337712901, 70: 0.6493890362370196, 75: 0.6533921035260416, 80: 0.65370503694798321, 85: 0.6537264553907991, 90: 0.65445750523024793, 95: 0.65474618652007011, 100: 0.65494320047860977, 105: 0.65100145096402273, 110: 0.65190178914420971, 115: 0.65284738874257464, 120: 0.65130520743192821, 125: 0.65385663906299274, 130: 0.65345961689689136, 135: 0.65226183593826959, 140: 0.65439573934694251, 145: 0.65363478738242442, 150: 0.65484494832764018, 155: 0.65559181741745065, 160: 0.65355276552755492, 165: 0.65520743642814949, 170: 0.65495875911617474, 175: 0.65118730088858823, 180: 0.6527371126851137, 185: 0.64953765347444903, 190: 0.65128846608049473, 195: 0.65522566422925388, 200: 0.65279671091127844, 205: 0.65499953873543593, 210: 0.65503107072941802, 215: 0.65291822330146965, 220: 0.65393149220192648, 225: 0.65236503759847375, 230: 0.6535033288337575, 235: 0.65469240513707927, 240: 0.65340776886396923, 245: 0.65550712943035849, 250: 0.65015090817069199, 255: 0.65618138711368879, 260: 0.6542033923963122, 265: 0.65354555710680384, 270: 0.65368242954952049, 275: 0.65300373330957018, 280: 0.65309474539836099, 285: 0.65464222251105952, 290: 0.65398859246646568, 295: 0.65097633411545819, 300: 0.65331333908531986, 305: 0.65306466521953954, 310: 0.65447299500230116, 315: 0.65545805144043623, 320: 0.65218892488835911, 325: 0.65516720256991823, 330: 0.6550197629646406, 335: 0.6542684063584342, 340: 0.65300677894163339, 345: 0.65371892837262457}\n"
     ]
    },
    {
     "name": "stdout",
     "output_type": "stream",
     "text": [
      "Best Estimator learned through GridSearch\n",
      "ExtraTreesRegressor(bootstrap=True, criterion='mse', max_depth=10,\n",
      "          max_features=7, max_leaf_nodes=None, min_impurity_decrease=0.0,\n",
      "          min_impurity_split=None, min_samples_leaf=1, min_samples_split=2,\n",
      "          min_weight_fraction_leaf=0.0, n_estimators=345, n_jobs=4,\n",
      "          oob_score=True, random_state=None, verbose=0, warm_start=False)\n"
     ]
    },
    {
     "name": "stderr",
     "output_type": "stream",
     "text": [
      "2018-08-10 12:12:06,416 __main__     INFO     {50: 0.65426220134773616, 55: 0.65527002077590868, 60: 0.65207109430626542, 65: 0.65176320337712901, 70: 0.6493890362370196, 75: 0.6533921035260416, 80: 0.65370503694798321, 85: 0.6537264553907991, 90: 0.65445750523024793, 95: 0.65474618652007011, 100: 0.65494320047860977, 105: 0.65100145096402273, 110: 0.65190178914420971, 115: 0.65284738874257464, 120: 0.65130520743192821, 125: 0.65385663906299274, 130: 0.65345961689689136, 135: 0.65226183593826959, 140: 0.65439573934694251, 145: 0.65363478738242442, 150: 0.65484494832764018, 155: 0.65559181741745065, 160: 0.65355276552755492, 165: 0.65520743642814949, 170: 0.65495875911617474, 175: 0.65118730088858823, 180: 0.6527371126851137, 185: 0.64953765347444903, 190: 0.65128846608049473, 195: 0.65522566422925388, 200: 0.65279671091127844, 205: 0.65499953873543593, 210: 0.65503107072941802, 215: 0.65291822330146965, 220: 0.65393149220192648, 225: 0.65236503759847375, 230: 0.6535033288337575, 235: 0.65469240513707927, 240: 0.65340776886396923, 245: 0.65550712943035849, 250: 0.65015090817069199, 255: 0.65618138711368879, 260: 0.6542033923963122, 265: 0.65354555710680384, 270: 0.65368242954952049, 275: 0.65300373330957018, 280: 0.65309474539836099, 285: 0.65464222251105952, 290: 0.65398859246646568, 295: 0.65097633411545819, 300: 0.65331333908531986, 305: 0.65306466521953954, 310: 0.65447299500230116, 315: 0.65545805144043623, 320: 0.65218892488835911, 325: 0.65516720256991823, 330: 0.6550197629646406, 335: 0.6542684063584342, 340: 0.65300677894163339, 345: 0.65371892837262457, 350: 0.65344238458435844}\n"
     ]
    },
    {
     "name": "stdout",
     "output_type": "stream",
     "text": [
      "Best Estimator learned through GridSearch\n",
      "ExtraTreesRegressor(bootstrap=True, criterion='mse', max_depth=10,\n",
      "          max_features=7, max_leaf_nodes=None, min_impurity_decrease=0.0,\n",
      "          min_impurity_split=None, min_samples_leaf=1, min_samples_split=2,\n",
      "          min_weight_fraction_leaf=0.0, n_estimators=350, n_jobs=4,\n",
      "          oob_score=True, random_state=None, verbose=0, warm_start=False)\n"
     ]
    },
    {
     "name": "stderr",
     "output_type": "stream",
     "text": [
      "2018-08-10 12:12:11,068 __main__     INFO     {50: 0.65426220134773616, 55: 0.65527002077590868, 60: 0.65207109430626542, 65: 0.65176320337712901, 70: 0.6493890362370196, 75: 0.6533921035260416, 80: 0.65370503694798321, 85: 0.6537264553907991, 90: 0.65445750523024793, 95: 0.65474618652007011, 100: 0.65494320047860977, 105: 0.65100145096402273, 110: 0.65190178914420971, 115: 0.65284738874257464, 120: 0.65130520743192821, 125: 0.65385663906299274, 130: 0.65345961689689136, 135: 0.65226183593826959, 140: 0.65439573934694251, 145: 0.65363478738242442, 150: 0.65484494832764018, 155: 0.65559181741745065, 160: 0.65355276552755492, 165: 0.65520743642814949, 170: 0.65495875911617474, 175: 0.65118730088858823, 180: 0.6527371126851137, 185: 0.64953765347444903, 190: 0.65128846608049473, 195: 0.65522566422925388, 200: 0.65279671091127844, 205: 0.65499953873543593, 210: 0.65503107072941802, 215: 0.65291822330146965, 220: 0.65393149220192648, 225: 0.65236503759847375, 230: 0.6535033288337575, 235: 0.65469240513707927, 240: 0.65340776886396923, 245: 0.65550712943035849, 250: 0.65015090817069199, 255: 0.65618138711368879, 260: 0.6542033923963122, 265: 0.65354555710680384, 270: 0.65368242954952049, 275: 0.65300373330957018, 280: 0.65309474539836099, 285: 0.65464222251105952, 290: 0.65398859246646568, 295: 0.65097633411545819, 300: 0.65331333908531986, 305: 0.65306466521953954, 310: 0.65447299500230116, 315: 0.65545805144043623, 320: 0.65218892488835911, 325: 0.65516720256991823, 330: 0.6550197629646406, 335: 0.6542684063584342, 340: 0.65300677894163339, 345: 0.65371892837262457, 350: 0.65344238458435844, 355: 0.65566191681647146}\n"
     ]
    },
    {
     "name": "stdout",
     "output_type": "stream",
     "text": [
      "Best Estimator learned through GridSearch\n",
      "ExtraTreesRegressor(bootstrap=True, criterion='mse', max_depth=10,\n",
      "          max_features=7, max_leaf_nodes=None, min_impurity_decrease=0.0,\n",
      "          min_impurity_split=None, min_samples_leaf=1, min_samples_split=2,\n",
      "          min_weight_fraction_leaf=0.0, n_estimators=355, n_jobs=4,\n",
      "          oob_score=True, random_state=None, verbose=0, warm_start=False)\n"
     ]
    },
    {
     "name": "stderr",
     "output_type": "stream",
     "text": [
      "2018-08-10 12:12:15,429 __main__     INFO     {50: 0.65426220134773616, 55: 0.65527002077590868, 60: 0.65207109430626542, 65: 0.65176320337712901, 70: 0.6493890362370196, 75: 0.6533921035260416, 80: 0.65370503694798321, 85: 0.6537264553907991, 90: 0.65445750523024793, 95: 0.65474618652007011, 100: 0.65494320047860977, 105: 0.65100145096402273, 110: 0.65190178914420971, 115: 0.65284738874257464, 120: 0.65130520743192821, 125: 0.65385663906299274, 130: 0.65345961689689136, 135: 0.65226183593826959, 140: 0.65439573934694251, 145: 0.65363478738242442, 150: 0.65484494832764018, 155: 0.65559181741745065, 160: 0.65355276552755492, 165: 0.65520743642814949, 170: 0.65495875911617474, 175: 0.65118730088858823, 180: 0.6527371126851137, 185: 0.64953765347444903, 190: 0.65128846608049473, 195: 0.65522566422925388, 200: 0.65279671091127844, 205: 0.65499953873543593, 210: 0.65503107072941802, 215: 0.65291822330146965, 220: 0.65393149220192648, 225: 0.65236503759847375, 230: 0.6535033288337575, 235: 0.65469240513707927, 240: 0.65340776886396923, 245: 0.65550712943035849, 250: 0.65015090817069199, 255: 0.65618138711368879, 260: 0.6542033923963122, 265: 0.65354555710680384, 270: 0.65368242954952049, 275: 0.65300373330957018, 280: 0.65309474539836099, 285: 0.65464222251105952, 290: 0.65398859246646568, 295: 0.65097633411545819, 300: 0.65331333908531986, 305: 0.65306466521953954, 310: 0.65447299500230116, 315: 0.65545805144043623, 320: 0.65218892488835911, 325: 0.65516720256991823, 330: 0.6550197629646406, 335: 0.6542684063584342, 340: 0.65300677894163339, 345: 0.65371892837262457, 350: 0.65344238458435844, 355: 0.65566191681647146, 360: 0.65202216472405583}\n"
     ]
    },
    {
     "name": "stdout",
     "output_type": "stream",
     "text": [
      "Best Estimator learned through GridSearch\n",
      "ExtraTreesRegressor(bootstrap=True, criterion='mse', max_depth=10,\n",
      "          max_features=7, max_leaf_nodes=None, min_impurity_decrease=0.0,\n",
      "          min_impurity_split=None, min_samples_leaf=1, min_samples_split=2,\n",
      "          min_weight_fraction_leaf=0.0, n_estimators=360, n_jobs=4,\n",
      "          oob_score=True, random_state=None, verbose=0, warm_start=False)\n"
     ]
    },
    {
     "name": "stderr",
     "output_type": "stream",
     "text": [
      "2018-08-10 12:12:19,762 __main__     INFO     {50: 0.65426220134773616, 55: 0.65527002077590868, 60: 0.65207109430626542, 65: 0.65176320337712901, 70: 0.6493890362370196, 75: 0.6533921035260416, 80: 0.65370503694798321, 85: 0.6537264553907991, 90: 0.65445750523024793, 95: 0.65474618652007011, 100: 0.65494320047860977, 105: 0.65100145096402273, 110: 0.65190178914420971, 115: 0.65284738874257464, 120: 0.65130520743192821, 125: 0.65385663906299274, 130: 0.65345961689689136, 135: 0.65226183593826959, 140: 0.65439573934694251, 145: 0.65363478738242442, 150: 0.65484494832764018, 155: 0.65559181741745065, 160: 0.65355276552755492, 165: 0.65520743642814949, 170: 0.65495875911617474, 175: 0.65118730088858823, 180: 0.6527371126851137, 185: 0.64953765347444903, 190: 0.65128846608049473, 195: 0.65522566422925388, 200: 0.65279671091127844, 205: 0.65499953873543593, 210: 0.65503107072941802, 215: 0.65291822330146965, 220: 0.65393149220192648, 225: 0.65236503759847375, 230: 0.6535033288337575, 235: 0.65469240513707927, 240: 0.65340776886396923, 245: 0.65550712943035849, 250: 0.65015090817069199, 255: 0.65618138711368879, 260: 0.6542033923963122, 265: 0.65354555710680384, 270: 0.65368242954952049, 275: 0.65300373330957018, 280: 0.65309474539836099, 285: 0.65464222251105952, 290: 0.65398859246646568, 295: 0.65097633411545819, 300: 0.65331333908531986, 305: 0.65306466521953954, 310: 0.65447299500230116, 315: 0.65545805144043623, 320: 0.65218892488835911, 325: 0.65516720256991823, 330: 0.6550197629646406, 335: 0.6542684063584342, 340: 0.65300677894163339, 345: 0.65371892837262457, 350: 0.65344238458435844, 355: 0.65566191681647146, 360: 0.65202216472405583, 365: 0.65422287538911283}\n"
     ]
    },
    {
     "name": "stdout",
     "output_type": "stream",
     "text": [
      "Best Estimator learned through GridSearch\n",
      "ExtraTreesRegressor(bootstrap=True, criterion='mse', max_depth=10,\n",
      "          max_features=7, max_leaf_nodes=None, min_impurity_decrease=0.0,\n",
      "          min_impurity_split=None, min_samples_leaf=1, min_samples_split=2,\n",
      "          min_weight_fraction_leaf=0.0, n_estimators=365, n_jobs=4,\n",
      "          oob_score=True, random_state=None, verbose=0, warm_start=False)\n"
     ]
    },
    {
     "name": "stderr",
     "output_type": "stream",
     "text": [
      "2018-08-10 12:12:24,118 __main__     INFO     {50: 0.65426220134773616, 55: 0.65527002077590868, 60: 0.65207109430626542, 65: 0.65176320337712901, 70: 0.6493890362370196, 75: 0.6533921035260416, 80: 0.65370503694798321, 85: 0.6537264553907991, 90: 0.65445750523024793, 95: 0.65474618652007011, 100: 0.65494320047860977, 105: 0.65100145096402273, 110: 0.65190178914420971, 115: 0.65284738874257464, 120: 0.65130520743192821, 125: 0.65385663906299274, 130: 0.65345961689689136, 135: 0.65226183593826959, 140: 0.65439573934694251, 145: 0.65363478738242442, 150: 0.65484494832764018, 155: 0.65559181741745065, 160: 0.65355276552755492, 165: 0.65520743642814949, 170: 0.65495875911617474, 175: 0.65118730088858823, 180: 0.6527371126851137, 185: 0.64953765347444903, 190: 0.65128846608049473, 195: 0.65522566422925388, 200: 0.65279671091127844, 205: 0.65499953873543593, 210: 0.65503107072941802, 215: 0.65291822330146965, 220: 0.65393149220192648, 225: 0.65236503759847375, 230: 0.6535033288337575, 235: 0.65469240513707927, 240: 0.65340776886396923, 245: 0.65550712943035849, 250: 0.65015090817069199, 255: 0.65618138711368879, 260: 0.6542033923963122, 265: 0.65354555710680384, 270: 0.65368242954952049, 275: 0.65300373330957018, 280: 0.65309474539836099, 285: 0.65464222251105952, 290: 0.65398859246646568, 295: 0.65097633411545819, 300: 0.65331333908531986, 305: 0.65306466521953954, 310: 0.65447299500230116, 315: 0.65545805144043623, 320: 0.65218892488835911, 325: 0.65516720256991823, 330: 0.6550197629646406, 335: 0.6542684063584342, 340: 0.65300677894163339, 345: 0.65371892837262457, 350: 0.65344238458435844, 355: 0.65566191681647146, 360: 0.65202216472405583, 365: 0.65422287538911283, 370: 0.65534253850332735}\n"
     ]
    },
    {
     "name": "stdout",
     "output_type": "stream",
     "text": [
      "Best Estimator learned through GridSearch\n",
      "ExtraTreesRegressor(bootstrap=True, criterion='mse', max_depth=10,\n",
      "          max_features=7, max_leaf_nodes=None, min_impurity_decrease=0.0,\n",
      "          min_impurity_split=None, min_samples_leaf=1, min_samples_split=2,\n",
      "          min_weight_fraction_leaf=0.0, n_estimators=370, n_jobs=4,\n",
      "          oob_score=True, random_state=None, verbose=0, warm_start=False)\n"
     ]
    },
    {
     "name": "stderr",
     "output_type": "stream",
     "text": [
      "2018-08-10 12:12:28,593 __main__     INFO     {50: 0.65426220134773616, 55: 0.65527002077590868, 60: 0.65207109430626542, 65: 0.65176320337712901, 70: 0.6493890362370196, 75: 0.6533921035260416, 80: 0.65370503694798321, 85: 0.6537264553907991, 90: 0.65445750523024793, 95: 0.65474618652007011, 100: 0.65494320047860977, 105: 0.65100145096402273, 110: 0.65190178914420971, 115: 0.65284738874257464, 120: 0.65130520743192821, 125: 0.65385663906299274, 130: 0.65345961689689136, 135: 0.65226183593826959, 140: 0.65439573934694251, 145: 0.65363478738242442, 150: 0.65484494832764018, 155: 0.65559181741745065, 160: 0.65355276552755492, 165: 0.65520743642814949, 170: 0.65495875911617474, 175: 0.65118730088858823, 180: 0.6527371126851137, 185: 0.64953765347444903, 190: 0.65128846608049473, 195: 0.65522566422925388, 200: 0.65279671091127844, 205: 0.65499953873543593, 210: 0.65503107072941802, 215: 0.65291822330146965, 220: 0.65393149220192648, 225: 0.65236503759847375, 230: 0.6535033288337575, 235: 0.65469240513707927, 240: 0.65340776886396923, 245: 0.65550712943035849, 250: 0.65015090817069199, 255: 0.65618138711368879, 260: 0.6542033923963122, 265: 0.65354555710680384, 270: 0.65368242954952049, 275: 0.65300373330957018, 280: 0.65309474539836099, 285: 0.65464222251105952, 290: 0.65398859246646568, 295: 0.65097633411545819, 300: 0.65331333908531986, 305: 0.65306466521953954, 310: 0.65447299500230116, 315: 0.65545805144043623, 320: 0.65218892488835911, 325: 0.65516720256991823, 330: 0.6550197629646406, 335: 0.6542684063584342, 340: 0.65300677894163339, 345: 0.65371892837262457, 350: 0.65344238458435844, 355: 0.65566191681647146, 360: 0.65202216472405583, 365: 0.65422287538911283, 370: 0.65534253850332735, 375: 0.6548050445505299}\n"
     ]
    },
    {
     "name": "stdout",
     "output_type": "stream",
     "text": [
      "Best Estimator learned through GridSearch\n",
      "ExtraTreesRegressor(bootstrap=True, criterion='mse', max_depth=10,\n",
      "          max_features=7, max_leaf_nodes=None, min_impurity_decrease=0.0,\n",
      "          min_impurity_split=None, min_samples_leaf=1, min_samples_split=2,\n",
      "          min_weight_fraction_leaf=0.0, n_estimators=375, n_jobs=4,\n",
      "          oob_score=True, random_state=None, verbose=0, warm_start=False)\n"
     ]
    },
    {
     "name": "stderr",
     "output_type": "stream",
     "text": [
      "2018-08-10 12:12:32,955 __main__     INFO     {50: 0.65426220134773616, 55: 0.65527002077590868, 60: 0.65207109430626542, 65: 0.65176320337712901, 70: 0.6493890362370196, 75: 0.6533921035260416, 80: 0.65370503694798321, 85: 0.6537264553907991, 90: 0.65445750523024793, 95: 0.65474618652007011, 100: 0.65494320047860977, 105: 0.65100145096402273, 110: 0.65190178914420971, 115: 0.65284738874257464, 120: 0.65130520743192821, 125: 0.65385663906299274, 130: 0.65345961689689136, 135: 0.65226183593826959, 140: 0.65439573934694251, 145: 0.65363478738242442, 150: 0.65484494832764018, 155: 0.65559181741745065, 160: 0.65355276552755492, 165: 0.65520743642814949, 170: 0.65495875911617474, 175: 0.65118730088858823, 180: 0.6527371126851137, 185: 0.64953765347444903, 190: 0.65128846608049473, 195: 0.65522566422925388, 200: 0.65279671091127844, 205: 0.65499953873543593, 210: 0.65503107072941802, 215: 0.65291822330146965, 220: 0.65393149220192648, 225: 0.65236503759847375, 230: 0.6535033288337575, 235: 0.65469240513707927, 240: 0.65340776886396923, 245: 0.65550712943035849, 250: 0.65015090817069199, 255: 0.65618138711368879, 260: 0.6542033923963122, 265: 0.65354555710680384, 270: 0.65368242954952049, 275: 0.65300373330957018, 280: 0.65309474539836099, 285: 0.65464222251105952, 290: 0.65398859246646568, 295: 0.65097633411545819, 300: 0.65331333908531986, 305: 0.65306466521953954, 310: 0.65447299500230116, 315: 0.65545805144043623, 320: 0.65218892488835911, 325: 0.65516720256991823, 330: 0.6550197629646406, 335: 0.6542684063584342, 340: 0.65300677894163339, 345: 0.65371892837262457, 350: 0.65344238458435844, 355: 0.65566191681647146, 360: 0.65202216472405583, 365: 0.65422287538911283, 370: 0.65534253850332735, 375: 0.6548050445505299, 380: 0.6531132739102814}\n"
     ]
    },
    {
     "name": "stdout",
     "output_type": "stream",
     "text": [
      "Best Estimator learned through GridSearch\n",
      "ExtraTreesRegressor(bootstrap=True, criterion='mse', max_depth=10,\n",
      "          max_features=7, max_leaf_nodes=None, min_impurity_decrease=0.0,\n",
      "          min_impurity_split=None, min_samples_leaf=1, min_samples_split=2,\n",
      "          min_weight_fraction_leaf=0.0, n_estimators=380, n_jobs=4,\n",
      "          oob_score=True, random_state=None, verbose=0, warm_start=False)\n"
     ]
    },
    {
     "name": "stderr",
     "output_type": "stream",
     "text": [
      "2018-08-10 12:12:37,509 __main__     INFO     {50: 0.65426220134773616, 55: 0.65527002077590868, 60: 0.65207109430626542, 65: 0.65176320337712901, 70: 0.6493890362370196, 75: 0.6533921035260416, 80: 0.65370503694798321, 85: 0.6537264553907991, 90: 0.65445750523024793, 95: 0.65474618652007011, 100: 0.65494320047860977, 105: 0.65100145096402273, 110: 0.65190178914420971, 115: 0.65284738874257464, 120: 0.65130520743192821, 125: 0.65385663906299274, 130: 0.65345961689689136, 135: 0.65226183593826959, 140: 0.65439573934694251, 145: 0.65363478738242442, 150: 0.65484494832764018, 155: 0.65559181741745065, 160: 0.65355276552755492, 165: 0.65520743642814949, 170: 0.65495875911617474, 175: 0.65118730088858823, 180: 0.6527371126851137, 185: 0.64953765347444903, 190: 0.65128846608049473, 195: 0.65522566422925388, 200: 0.65279671091127844, 205: 0.65499953873543593, 210: 0.65503107072941802, 215: 0.65291822330146965, 220: 0.65393149220192648, 225: 0.65236503759847375, 230: 0.6535033288337575, 235: 0.65469240513707927, 240: 0.65340776886396923, 245: 0.65550712943035849, 250: 0.65015090817069199, 255: 0.65618138711368879, 260: 0.6542033923963122, 265: 0.65354555710680384, 270: 0.65368242954952049, 275: 0.65300373330957018, 280: 0.65309474539836099, 285: 0.65464222251105952, 290: 0.65398859246646568, 295: 0.65097633411545819, 300: 0.65331333908531986, 305: 0.65306466521953954, 310: 0.65447299500230116, 315: 0.65545805144043623, 320: 0.65218892488835911, 325: 0.65516720256991823, 330: 0.6550197629646406, 335: 0.6542684063584342, 340: 0.65300677894163339, 345: 0.65371892837262457, 350: 0.65344238458435844, 355: 0.65566191681647146, 360: 0.65202216472405583, 365: 0.65422287538911283, 370: 0.65534253850332735, 375: 0.6548050445505299, 380: 0.6531132739102814, 385: 0.65382287669673667}\n"
     ]
    },
    {
     "name": "stdout",
     "output_type": "stream",
     "text": [
      "Best Estimator learned through GridSearch\n",
      "ExtraTreesRegressor(bootstrap=True, criterion='mse', max_depth=10,\n",
      "          max_features=7, max_leaf_nodes=None, min_impurity_decrease=0.0,\n",
      "          min_impurity_split=None, min_samples_leaf=1, min_samples_split=2,\n",
      "          min_weight_fraction_leaf=0.0, n_estimators=385, n_jobs=4,\n",
      "          oob_score=True, random_state=None, verbose=0, warm_start=False)\n"
     ]
    },
    {
     "name": "stderr",
     "output_type": "stream",
     "text": [
      "2018-08-10 12:12:42,196 __main__     INFO     {50: 0.65426220134773616, 55: 0.65527002077590868, 60: 0.65207109430626542, 65: 0.65176320337712901, 70: 0.6493890362370196, 75: 0.6533921035260416, 80: 0.65370503694798321, 85: 0.6537264553907991, 90: 0.65445750523024793, 95: 0.65474618652007011, 100: 0.65494320047860977, 105: 0.65100145096402273, 110: 0.65190178914420971, 115: 0.65284738874257464, 120: 0.65130520743192821, 125: 0.65385663906299274, 130: 0.65345961689689136, 135: 0.65226183593826959, 140: 0.65439573934694251, 145: 0.65363478738242442, 150: 0.65484494832764018, 155: 0.65559181741745065, 160: 0.65355276552755492, 165: 0.65520743642814949, 170: 0.65495875911617474, 175: 0.65118730088858823, 180: 0.6527371126851137, 185: 0.64953765347444903, 190: 0.65128846608049473, 195: 0.65522566422925388, 200: 0.65279671091127844, 205: 0.65499953873543593, 210: 0.65503107072941802, 215: 0.65291822330146965, 220: 0.65393149220192648, 225: 0.65236503759847375, 230: 0.6535033288337575, 235: 0.65469240513707927, 240: 0.65340776886396923, 245: 0.65550712943035849, 250: 0.65015090817069199, 255: 0.65618138711368879, 260: 0.6542033923963122, 265: 0.65354555710680384, 270: 0.65368242954952049, 275: 0.65300373330957018, 280: 0.65309474539836099, 285: 0.65464222251105952, 290: 0.65398859246646568, 295: 0.65097633411545819, 300: 0.65331333908531986, 305: 0.65306466521953954, 310: 0.65447299500230116, 315: 0.65545805144043623, 320: 0.65218892488835911, 325: 0.65516720256991823, 330: 0.6550197629646406, 335: 0.6542684063584342, 340: 0.65300677894163339, 345: 0.65371892837262457, 350: 0.65344238458435844, 355: 0.65566191681647146, 360: 0.65202216472405583, 365: 0.65422287538911283, 370: 0.65534253850332735, 375: 0.6548050445505299, 380: 0.6531132739102814, 385: 0.65382287669673667, 390: 0.65253625808090554}\n"
     ]
    },
    {
     "name": "stdout",
     "output_type": "stream",
     "text": [
      "Best Estimator learned through GridSearch\n",
      "ExtraTreesRegressor(bootstrap=True, criterion='mse', max_depth=10,\n",
      "          max_features=7, max_leaf_nodes=None, min_impurity_decrease=0.0,\n",
      "          min_impurity_split=None, min_samples_leaf=1, min_samples_split=2,\n",
      "          min_weight_fraction_leaf=0.0, n_estimators=390, n_jobs=4,\n",
      "          oob_score=True, random_state=None, verbose=0, warm_start=False)\n"
     ]
    },
    {
     "name": "stderr",
     "output_type": "stream",
     "text": [
      "2018-08-10 12:12:47,390 __main__     INFO     {50: 0.65426220134773616, 55: 0.65527002077590868, 60: 0.65207109430626542, 65: 0.65176320337712901, 70: 0.6493890362370196, 75: 0.6533921035260416, 80: 0.65370503694798321, 85: 0.6537264553907991, 90: 0.65445750523024793, 95: 0.65474618652007011, 100: 0.65494320047860977, 105: 0.65100145096402273, 110: 0.65190178914420971, 115: 0.65284738874257464, 120: 0.65130520743192821, 125: 0.65385663906299274, 130: 0.65345961689689136, 135: 0.65226183593826959, 140: 0.65439573934694251, 145: 0.65363478738242442, 150: 0.65484494832764018, 155: 0.65559181741745065, 160: 0.65355276552755492, 165: 0.65520743642814949, 170: 0.65495875911617474, 175: 0.65118730088858823, 180: 0.6527371126851137, 185: 0.64953765347444903, 190: 0.65128846608049473, 195: 0.65522566422925388, 200: 0.65279671091127844, 205: 0.65499953873543593, 210: 0.65503107072941802, 215: 0.65291822330146965, 220: 0.65393149220192648, 225: 0.65236503759847375, 230: 0.6535033288337575, 235: 0.65469240513707927, 240: 0.65340776886396923, 245: 0.65550712943035849, 250: 0.65015090817069199, 255: 0.65618138711368879, 260: 0.6542033923963122, 265: 0.65354555710680384, 270: 0.65368242954952049, 275: 0.65300373330957018, 280: 0.65309474539836099, 285: 0.65464222251105952, 290: 0.65398859246646568, 295: 0.65097633411545819, 300: 0.65331333908531986, 305: 0.65306466521953954, 310: 0.65447299500230116, 315: 0.65545805144043623, 320: 0.65218892488835911, 325: 0.65516720256991823, 330: 0.6550197629646406, 335: 0.6542684063584342, 340: 0.65300677894163339, 345: 0.65371892837262457, 350: 0.65344238458435844, 355: 0.65566191681647146, 360: 0.65202216472405583, 365: 0.65422287538911283, 370: 0.65534253850332735, 375: 0.6548050445505299, 380: 0.6531132739102814, 385: 0.65382287669673667, 390: 0.65253625808090554, 395: 0.65339719544563879}\n"
     ]
    },
    {
     "name": "stdout",
     "output_type": "stream",
     "text": [
      "Best Estimator learned through GridSearch\n",
      "ExtraTreesRegressor(bootstrap=True, criterion='mse', max_depth=10,\n",
      "          max_features=7, max_leaf_nodes=None, min_impurity_decrease=0.0,\n",
      "          min_impurity_split=None, min_samples_leaf=1, min_samples_split=2,\n",
      "          min_weight_fraction_leaf=0.0, n_estimators=395, n_jobs=4,\n",
      "          oob_score=True, random_state=None, verbose=0, warm_start=False)\n"
     ]
    },
    {
     "name": "stderr",
     "output_type": "stream",
     "text": [
      "2018-08-10 12:12:52,309 __main__     INFO     {50: 0.65426220134773616, 55: 0.65527002077590868, 60: 0.65207109430626542, 65: 0.65176320337712901, 70: 0.6493890362370196, 75: 0.6533921035260416, 80: 0.65370503694798321, 85: 0.6537264553907991, 90: 0.65445750523024793, 95: 0.65474618652007011, 100: 0.65494320047860977, 105: 0.65100145096402273, 110: 0.65190178914420971, 115: 0.65284738874257464, 120: 0.65130520743192821, 125: 0.65385663906299274, 130: 0.65345961689689136, 135: 0.65226183593826959, 140: 0.65439573934694251, 145: 0.65363478738242442, 150: 0.65484494832764018, 155: 0.65559181741745065, 160: 0.65355276552755492, 165: 0.65520743642814949, 170: 0.65495875911617474, 175: 0.65118730088858823, 180: 0.6527371126851137, 185: 0.64953765347444903, 190: 0.65128846608049473, 195: 0.65522566422925388, 200: 0.65279671091127844, 205: 0.65499953873543593, 210: 0.65503107072941802, 215: 0.65291822330146965, 220: 0.65393149220192648, 225: 0.65236503759847375, 230: 0.6535033288337575, 235: 0.65469240513707927, 240: 0.65340776886396923, 245: 0.65550712943035849, 250: 0.65015090817069199, 255: 0.65618138711368879, 260: 0.6542033923963122, 265: 0.65354555710680384, 270: 0.65368242954952049, 275: 0.65300373330957018, 280: 0.65309474539836099, 285: 0.65464222251105952, 290: 0.65398859246646568, 295: 0.65097633411545819, 300: 0.65331333908531986, 305: 0.65306466521953954, 310: 0.65447299500230116, 315: 0.65545805144043623, 320: 0.65218892488835911, 325: 0.65516720256991823, 330: 0.6550197629646406, 335: 0.6542684063584342, 340: 0.65300677894163339, 345: 0.65371892837262457, 350: 0.65344238458435844, 355: 0.65566191681647146, 360: 0.65202216472405583, 365: 0.65422287538911283, 370: 0.65534253850332735, 375: 0.6548050445505299, 380: 0.6531132739102814, 385: 0.65382287669673667, 390: 0.65253625808090554, 395: 0.65339719544563879, 400: 0.65269399294503794}\n"
     ]
    },
    {
     "name": "stdout",
     "output_type": "stream",
     "text": [
      "Best Estimator learned through GridSearch\n",
      "ExtraTreesRegressor(bootstrap=True, criterion='mse', max_depth=10,\n",
      "          max_features=7, max_leaf_nodes=None, min_impurity_decrease=0.0,\n",
      "          min_impurity_split=None, min_samples_leaf=1, min_samples_split=2,\n",
      "          min_weight_fraction_leaf=0.0, n_estimators=400, n_jobs=4,\n",
      "          oob_score=True, random_state=None, verbose=0, warm_start=False)\n"
     ]
    },
    {
     "name": "stderr",
     "output_type": "stream",
     "text": [
      "2018-08-10 12:12:57,015 __main__     INFO     {50: 0.65426220134773616, 55: 0.65527002077590868, 60: 0.65207109430626542, 65: 0.65176320337712901, 70: 0.6493890362370196, 75: 0.6533921035260416, 80: 0.65370503694798321, 85: 0.6537264553907991, 90: 0.65445750523024793, 95: 0.65474618652007011, 100: 0.65494320047860977, 105: 0.65100145096402273, 110: 0.65190178914420971, 115: 0.65284738874257464, 120: 0.65130520743192821, 125: 0.65385663906299274, 130: 0.65345961689689136, 135: 0.65226183593826959, 140: 0.65439573934694251, 145: 0.65363478738242442, 150: 0.65484494832764018, 155: 0.65559181741745065, 160: 0.65355276552755492, 165: 0.65520743642814949, 170: 0.65495875911617474, 175: 0.65118730088858823, 180: 0.6527371126851137, 185: 0.64953765347444903, 190: 0.65128846608049473, 195: 0.65522566422925388, 200: 0.65279671091127844, 205: 0.65499953873543593, 210: 0.65503107072941802, 215: 0.65291822330146965, 220: 0.65393149220192648, 225: 0.65236503759847375, 230: 0.6535033288337575, 235: 0.65469240513707927, 240: 0.65340776886396923, 245: 0.65550712943035849, 250: 0.65015090817069199, 255: 0.65618138711368879, 260: 0.6542033923963122, 265: 0.65354555710680384, 270: 0.65368242954952049, 275: 0.65300373330957018, 280: 0.65309474539836099, 285: 0.65464222251105952, 290: 0.65398859246646568, 295: 0.65097633411545819, 300: 0.65331333908531986, 305: 0.65306466521953954, 310: 0.65447299500230116, 315: 0.65545805144043623, 320: 0.65218892488835911, 325: 0.65516720256991823, 330: 0.6550197629646406, 335: 0.6542684063584342, 340: 0.65300677894163339, 345: 0.65371892837262457, 350: 0.65344238458435844, 355: 0.65566191681647146, 360: 0.65202216472405583, 365: 0.65422287538911283, 370: 0.65534253850332735, 375: 0.6548050445505299, 380: 0.6531132739102814, 385: 0.65382287669673667, 390: 0.65253625808090554, 395: 0.65339719544563879, 400: 0.65269399294503794, 405: 0.65383537171095996}\n"
     ]
    },
    {
     "name": "stdout",
     "output_type": "stream",
     "text": [
      "Best Estimator learned through GridSearch\n",
      "ExtraTreesRegressor(bootstrap=True, criterion='mse', max_depth=10,\n",
      "          max_features=7, max_leaf_nodes=None, min_impurity_decrease=0.0,\n",
      "          min_impurity_split=None, min_samples_leaf=1, min_samples_split=2,\n",
      "          min_weight_fraction_leaf=0.0, n_estimators=405, n_jobs=4,\n",
      "          oob_score=True, random_state=None, verbose=0, warm_start=False)\n"
     ]
    },
    {
     "name": "stderr",
     "output_type": "stream",
     "text": [
      "2018-08-10 12:13:02,438 __main__     INFO     {50: 0.65426220134773616, 55: 0.65527002077590868, 60: 0.65207109430626542, 65: 0.65176320337712901, 70: 0.6493890362370196, 75: 0.6533921035260416, 80: 0.65370503694798321, 85: 0.6537264553907991, 90: 0.65445750523024793, 95: 0.65474618652007011, 100: 0.65494320047860977, 105: 0.65100145096402273, 110: 0.65190178914420971, 115: 0.65284738874257464, 120: 0.65130520743192821, 125: 0.65385663906299274, 130: 0.65345961689689136, 135: 0.65226183593826959, 140: 0.65439573934694251, 145: 0.65363478738242442, 150: 0.65484494832764018, 155: 0.65559181741745065, 160: 0.65355276552755492, 165: 0.65520743642814949, 170: 0.65495875911617474, 175: 0.65118730088858823, 180: 0.6527371126851137, 185: 0.64953765347444903, 190: 0.65128846608049473, 195: 0.65522566422925388, 200: 0.65279671091127844, 205: 0.65499953873543593, 210: 0.65503107072941802, 215: 0.65291822330146965, 220: 0.65393149220192648, 225: 0.65236503759847375, 230: 0.6535033288337575, 235: 0.65469240513707927, 240: 0.65340776886396923, 245: 0.65550712943035849, 250: 0.65015090817069199, 255: 0.65618138711368879, 260: 0.6542033923963122, 265: 0.65354555710680384, 270: 0.65368242954952049, 275: 0.65300373330957018, 280: 0.65309474539836099, 285: 0.65464222251105952, 290: 0.65398859246646568, 295: 0.65097633411545819, 300: 0.65331333908531986, 305: 0.65306466521953954, 310: 0.65447299500230116, 315: 0.65545805144043623, 320: 0.65218892488835911, 325: 0.65516720256991823, 330: 0.6550197629646406, 335: 0.6542684063584342, 340: 0.65300677894163339, 345: 0.65371892837262457, 350: 0.65344238458435844, 355: 0.65566191681647146, 360: 0.65202216472405583, 365: 0.65422287538911283, 370: 0.65534253850332735, 375: 0.6548050445505299, 380: 0.6531132739102814, 385: 0.65382287669673667, 390: 0.65253625808090554, 395: 0.65339719544563879, 400: 0.65269399294503794, 405: 0.65383537171095996, 410: 0.65463250455194055}\n"
     ]
    },
    {
     "name": "stdout",
     "output_type": "stream",
     "text": [
      "Best Estimator learned through GridSearch\n",
      "ExtraTreesRegressor(bootstrap=True, criterion='mse', max_depth=10,\n",
      "          max_features=7, max_leaf_nodes=None, min_impurity_decrease=0.0,\n",
      "          min_impurity_split=None, min_samples_leaf=1, min_samples_split=2,\n",
      "          min_weight_fraction_leaf=0.0, n_estimators=410, n_jobs=4,\n",
      "          oob_score=True, random_state=None, verbose=0, warm_start=False)\n",
      "Best Estimator learned through GridSearch\n",
      "ExtraTreesRegressor(bootstrap=True, criterion='mse', max_depth=10,\n",
      "          max_features=7, max_leaf_nodes=None, min_impurity_decrease=0.0,\n",
      "          min_impurity_split=None, min_samples_leaf=1, min_samples_split=2,\n",
      "          min_weight_fraction_leaf=0.0, n_estimators=415, n_jobs=4,\n",
      "          oob_score=True, random_state=None, verbose=0, warm_start=False)\n"
     ]
    },
    {
     "name": "stderr",
     "output_type": "stream",
     "text": [
      "2018-08-10 12:13:10,233 __main__     INFO     {50: 0.65426220134773616, 55: 0.65527002077590868, 60: 0.65207109430626542, 65: 0.65176320337712901, 70: 0.6493890362370196, 75: 0.6533921035260416, 80: 0.65370503694798321, 85: 0.6537264553907991, 90: 0.65445750523024793, 95: 0.65474618652007011, 100: 0.65494320047860977, 105: 0.65100145096402273, 110: 0.65190178914420971, 115: 0.65284738874257464, 120: 0.65130520743192821, 125: 0.65385663906299274, 130: 0.65345961689689136, 135: 0.65226183593826959, 140: 0.65439573934694251, 145: 0.65363478738242442, 150: 0.65484494832764018, 155: 0.65559181741745065, 160: 0.65355276552755492, 165: 0.65520743642814949, 170: 0.65495875911617474, 175: 0.65118730088858823, 180: 0.6527371126851137, 185: 0.64953765347444903, 190: 0.65128846608049473, 195: 0.65522566422925388, 200: 0.65279671091127844, 205: 0.65499953873543593, 210: 0.65503107072941802, 215: 0.65291822330146965, 220: 0.65393149220192648, 225: 0.65236503759847375, 230: 0.6535033288337575, 235: 0.65469240513707927, 240: 0.65340776886396923, 245: 0.65550712943035849, 250: 0.65015090817069199, 255: 0.65618138711368879, 260: 0.6542033923963122, 265: 0.65354555710680384, 270: 0.65368242954952049, 275: 0.65300373330957018, 280: 0.65309474539836099, 285: 0.65464222251105952, 290: 0.65398859246646568, 295: 0.65097633411545819, 300: 0.65331333908531986, 305: 0.65306466521953954, 310: 0.65447299500230116, 315: 0.65545805144043623, 320: 0.65218892488835911, 325: 0.65516720256991823, 330: 0.6550197629646406, 335: 0.6542684063584342, 340: 0.65300677894163339, 345: 0.65371892837262457, 350: 0.65344238458435844, 355: 0.65566191681647146, 360: 0.65202216472405583, 365: 0.65422287538911283, 370: 0.65534253850332735, 375: 0.6548050445505299, 380: 0.6531132739102814, 385: 0.65382287669673667, 390: 0.65253625808090554, 395: 0.65339719544563879, 400: 0.65269399294503794, 405: 0.65383537171095996, 410: 0.65463250455194055, 415: 0.65371346471666181}\n",
      "2018-08-10 12:13:18,606 __main__     INFO     {50: 0.65426220134773616, 55: 0.65527002077590868, 60: 0.65207109430626542, 65: 0.65176320337712901, 70: 0.6493890362370196, 75: 0.6533921035260416, 80: 0.65370503694798321, 85: 0.6537264553907991, 90: 0.65445750523024793, 95: 0.65474618652007011, 100: 0.65494320047860977, 105: 0.65100145096402273, 110: 0.65190178914420971, 115: 0.65284738874257464, 120: 0.65130520743192821, 125: 0.65385663906299274, 130: 0.65345961689689136, 135: 0.65226183593826959, 140: 0.65439573934694251, 145: 0.65363478738242442, 150: 0.65484494832764018, 155: 0.65559181741745065, 160: 0.65355276552755492, 165: 0.65520743642814949, 170: 0.65495875911617474, 175: 0.65118730088858823, 180: 0.6527371126851137, 185: 0.64953765347444903, 190: 0.65128846608049473, 195: 0.65522566422925388, 200: 0.65279671091127844, 205: 0.65499953873543593, 210: 0.65503107072941802, 215: 0.65291822330146965, 220: 0.65393149220192648, 225: 0.65236503759847375, 230: 0.6535033288337575, 235: 0.65469240513707927, 240: 0.65340776886396923, 245: 0.65550712943035849, 250: 0.65015090817069199, 255: 0.65618138711368879, 260: 0.6542033923963122, 265: 0.65354555710680384, 270: 0.65368242954952049, 275: 0.65300373330957018, 280: 0.65309474539836099, 285: 0.65464222251105952, 290: 0.65398859246646568, 295: 0.65097633411545819, 300: 0.65331333908531986, 305: 0.65306466521953954, 310: 0.65447299500230116, 315: 0.65545805144043623, 320: 0.65218892488835911, 325: 0.65516720256991823, 330: 0.6550197629646406, 335: 0.6542684063584342, 340: 0.65300677894163339, 345: 0.65371892837262457, 350: 0.65344238458435844, 355: 0.65566191681647146, 360: 0.65202216472405583, 365: 0.65422287538911283, 370: 0.65534253850332735, 375: 0.6548050445505299, 380: 0.6531132739102814, 385: 0.65382287669673667, 390: 0.65253625808090554, 395: 0.65339719544563879, 400: 0.65269399294503794, 405: 0.65383537171095996, 410: 0.65463250455194055, 415: 0.65371346471666181, 420: 0.65498355993112523}\n"
     ]
    },
    {
     "name": "stdout",
     "output_type": "stream",
     "text": [
      "Best Estimator learned through GridSearch\n",
      "ExtraTreesRegressor(bootstrap=True, criterion='mse', max_depth=10,\n",
      "          max_features=7, max_leaf_nodes=None, min_impurity_decrease=0.0,\n",
      "          min_impurity_split=None, min_samples_leaf=1, min_samples_split=2,\n",
      "          min_weight_fraction_leaf=0.0, n_estimators=420, n_jobs=4,\n",
      "          oob_score=True, random_state=None, verbose=0, warm_start=False)\n",
      "Best Estimator learned through GridSearch\n",
      "ExtraTreesRegressor(bootstrap=True, criterion='mse', max_depth=10,\n",
      "          max_features=7, max_leaf_nodes=None, min_impurity_decrease=0.0,\n",
      "          min_impurity_split=None, min_samples_leaf=1, min_samples_split=2,\n",
      "          min_weight_fraction_leaf=0.0, n_estimators=425, n_jobs=4,\n",
      "          oob_score=True, random_state=None, verbose=0, warm_start=False)\n"
     ]
    },
    {
     "name": "stderr",
     "output_type": "stream",
     "text": [
      "2018-08-10 12:13:27,766 __main__     INFO     {50: 0.65426220134773616, 55: 0.65527002077590868, 60: 0.65207109430626542, 65: 0.65176320337712901, 70: 0.6493890362370196, 75: 0.6533921035260416, 80: 0.65370503694798321, 85: 0.6537264553907991, 90: 0.65445750523024793, 95: 0.65474618652007011, 100: 0.65494320047860977, 105: 0.65100145096402273, 110: 0.65190178914420971, 115: 0.65284738874257464, 120: 0.65130520743192821, 125: 0.65385663906299274, 130: 0.65345961689689136, 135: 0.65226183593826959, 140: 0.65439573934694251, 145: 0.65363478738242442, 150: 0.65484494832764018, 155: 0.65559181741745065, 160: 0.65355276552755492, 165: 0.65520743642814949, 170: 0.65495875911617474, 175: 0.65118730088858823, 180: 0.6527371126851137, 185: 0.64953765347444903, 190: 0.65128846608049473, 195: 0.65522566422925388, 200: 0.65279671091127844, 205: 0.65499953873543593, 210: 0.65503107072941802, 215: 0.65291822330146965, 220: 0.65393149220192648, 225: 0.65236503759847375, 230: 0.6535033288337575, 235: 0.65469240513707927, 240: 0.65340776886396923, 245: 0.65550712943035849, 250: 0.65015090817069199, 255: 0.65618138711368879, 260: 0.6542033923963122, 265: 0.65354555710680384, 270: 0.65368242954952049, 275: 0.65300373330957018, 280: 0.65309474539836099, 285: 0.65464222251105952, 290: 0.65398859246646568, 295: 0.65097633411545819, 300: 0.65331333908531986, 305: 0.65306466521953954, 310: 0.65447299500230116, 315: 0.65545805144043623, 320: 0.65218892488835911, 325: 0.65516720256991823, 330: 0.6550197629646406, 335: 0.6542684063584342, 340: 0.65300677894163339, 345: 0.65371892837262457, 350: 0.65344238458435844, 355: 0.65566191681647146, 360: 0.65202216472405583, 365: 0.65422287538911283, 370: 0.65534253850332735, 375: 0.6548050445505299, 380: 0.6531132739102814, 385: 0.65382287669673667, 390: 0.65253625808090554, 395: 0.65339719544563879, 400: 0.65269399294503794, 405: 0.65383537171095996, 410: 0.65463250455194055, 415: 0.65371346471666181, 420: 0.65498355993112523, 425: 0.65457717474506338}\n"
     ]
    },
    {
     "name": "stdout",
     "output_type": "stream",
     "text": [
      "Best Estimator learned through GridSearch\n",
      "ExtraTreesRegressor(bootstrap=True, criterion='mse', max_depth=10,\n",
      "          max_features=7, max_leaf_nodes=None, min_impurity_decrease=0.0,\n",
      "          min_impurity_split=None, min_samples_leaf=1, min_samples_split=2,\n",
      "          min_weight_fraction_leaf=0.0, n_estimators=430, n_jobs=4,\n",
      "          oob_score=True, random_state=None, verbose=0, warm_start=False)\n"
     ]
    },
    {
     "name": "stderr",
     "output_type": "stream",
     "text": [
      "2018-08-10 12:13:36,776 __main__     INFO     {50: 0.65426220134773616, 55: 0.65527002077590868, 60: 0.65207109430626542, 65: 0.65176320337712901, 70: 0.6493890362370196, 75: 0.6533921035260416, 80: 0.65370503694798321, 85: 0.6537264553907991, 90: 0.65445750523024793, 95: 0.65474618652007011, 100: 0.65494320047860977, 105: 0.65100145096402273, 110: 0.65190178914420971, 115: 0.65284738874257464, 120: 0.65130520743192821, 125: 0.65385663906299274, 130: 0.65345961689689136, 135: 0.65226183593826959, 140: 0.65439573934694251, 145: 0.65363478738242442, 150: 0.65484494832764018, 155: 0.65559181741745065, 160: 0.65355276552755492, 165: 0.65520743642814949, 170: 0.65495875911617474, 175: 0.65118730088858823, 180: 0.6527371126851137, 185: 0.64953765347444903, 190: 0.65128846608049473, 195: 0.65522566422925388, 200: 0.65279671091127844, 205: 0.65499953873543593, 210: 0.65503107072941802, 215: 0.65291822330146965, 220: 0.65393149220192648, 225: 0.65236503759847375, 230: 0.6535033288337575, 235: 0.65469240513707927, 240: 0.65340776886396923, 245: 0.65550712943035849, 250: 0.65015090817069199, 255: 0.65618138711368879, 260: 0.6542033923963122, 265: 0.65354555710680384, 270: 0.65368242954952049, 275: 0.65300373330957018, 280: 0.65309474539836099, 285: 0.65464222251105952, 290: 0.65398859246646568, 295: 0.65097633411545819, 300: 0.65331333908531986, 305: 0.65306466521953954, 310: 0.65447299500230116, 315: 0.65545805144043623, 320: 0.65218892488835911, 325: 0.65516720256991823, 330: 0.6550197629646406, 335: 0.6542684063584342, 340: 0.65300677894163339, 345: 0.65371892837262457, 350: 0.65344238458435844, 355: 0.65566191681647146, 360: 0.65202216472405583, 365: 0.65422287538911283, 370: 0.65534253850332735, 375: 0.6548050445505299, 380: 0.6531132739102814, 385: 0.65382287669673667, 390: 0.65253625808090554, 395: 0.65339719544563879, 400: 0.65269399294503794, 405: 0.65383537171095996, 410: 0.65463250455194055, 415: 0.65371346471666181, 420: 0.65498355993112523, 425: 0.65457717474506338, 430: 0.65543122459557401}\n",
      "2018-08-10 12:13:45,186 __main__     INFO     {50: 0.65426220134773616, 55: 0.65527002077590868, 60: 0.65207109430626542, 65: 0.65176320337712901, 70: 0.6493890362370196, 75: 0.6533921035260416, 80: 0.65370503694798321, 85: 0.6537264553907991, 90: 0.65445750523024793, 95: 0.65474618652007011, 100: 0.65494320047860977, 105: 0.65100145096402273, 110: 0.65190178914420971, 115: 0.65284738874257464, 120: 0.65130520743192821, 125: 0.65385663906299274, 130: 0.65345961689689136, 135: 0.65226183593826959, 140: 0.65439573934694251, 145: 0.65363478738242442, 150: 0.65484494832764018, 155: 0.65559181741745065, 160: 0.65355276552755492, 165: 0.65520743642814949, 170: 0.65495875911617474, 175: 0.65118730088858823, 180: 0.6527371126851137, 185: 0.64953765347444903, 190: 0.65128846608049473, 195: 0.65522566422925388, 200: 0.65279671091127844, 205: 0.65499953873543593, 210: 0.65503107072941802, 215: 0.65291822330146965, 220: 0.65393149220192648, 225: 0.65236503759847375, 230: 0.6535033288337575, 235: 0.65469240513707927, 240: 0.65340776886396923, 245: 0.65550712943035849, 250: 0.65015090817069199, 255: 0.65618138711368879, 260: 0.6542033923963122, 265: 0.65354555710680384, 270: 0.65368242954952049, 275: 0.65300373330957018, 280: 0.65309474539836099, 285: 0.65464222251105952, 290: 0.65398859246646568, 295: 0.65097633411545819, 300: 0.65331333908531986, 305: 0.65306466521953954, 310: 0.65447299500230116, 315: 0.65545805144043623, 320: 0.65218892488835911, 325: 0.65516720256991823, 330: 0.6550197629646406, 335: 0.6542684063584342, 340: 0.65300677894163339, 345: 0.65371892837262457, 350: 0.65344238458435844, 355: 0.65566191681647146, 360: 0.65202216472405583, 365: 0.65422287538911283, 370: 0.65534253850332735, 375: 0.6548050445505299, 380: 0.6531132739102814, 385: 0.65382287669673667, 390: 0.65253625808090554, 395: 0.65339719544563879, 400: 0.65269399294503794, 405: 0.65383537171095996, 410: 0.65463250455194055, 415: 0.65371346471666181, 420: 0.65498355993112523, 425: 0.65457717474506338, 430: 0.65543122459557401, 435: 0.65601138910378087}\n"
     ]
    },
    {
     "name": "stdout",
     "output_type": "stream",
     "text": [
      "Best Estimator learned through GridSearch\n",
      "ExtraTreesRegressor(bootstrap=True, criterion='mse', max_depth=10,\n",
      "          max_features=7, max_leaf_nodes=None, min_impurity_decrease=0.0,\n",
      "          min_impurity_split=None, min_samples_leaf=1, min_samples_split=2,\n",
      "          min_weight_fraction_leaf=0.0, n_estimators=435, n_jobs=4,\n",
      "          oob_score=True, random_state=None, verbose=0, warm_start=False)\n"
     ]
    },
    {
     "name": "stderr",
     "output_type": "stream",
     "text": [
      "2018-08-10 12:13:52,102 __main__     INFO     {50: 0.65426220134773616, 55: 0.65527002077590868, 60: 0.65207109430626542, 65: 0.65176320337712901, 70: 0.6493890362370196, 75: 0.6533921035260416, 80: 0.65370503694798321, 85: 0.6537264553907991, 90: 0.65445750523024793, 95: 0.65474618652007011, 100: 0.65494320047860977, 105: 0.65100145096402273, 110: 0.65190178914420971, 115: 0.65284738874257464, 120: 0.65130520743192821, 125: 0.65385663906299274, 130: 0.65345961689689136, 135: 0.65226183593826959, 140: 0.65439573934694251, 145: 0.65363478738242442, 150: 0.65484494832764018, 155: 0.65559181741745065, 160: 0.65355276552755492, 165: 0.65520743642814949, 170: 0.65495875911617474, 175: 0.65118730088858823, 180: 0.6527371126851137, 185: 0.64953765347444903, 190: 0.65128846608049473, 195: 0.65522566422925388, 200: 0.65279671091127844, 205: 0.65499953873543593, 210: 0.65503107072941802, 215: 0.65291822330146965, 220: 0.65393149220192648, 225: 0.65236503759847375, 230: 0.6535033288337575, 235: 0.65469240513707927, 240: 0.65340776886396923, 245: 0.65550712943035849, 250: 0.65015090817069199, 255: 0.65618138711368879, 260: 0.6542033923963122, 265: 0.65354555710680384, 270: 0.65368242954952049, 275: 0.65300373330957018, 280: 0.65309474539836099, 285: 0.65464222251105952, 290: 0.65398859246646568, 295: 0.65097633411545819, 300: 0.65331333908531986, 305: 0.65306466521953954, 310: 0.65447299500230116, 315: 0.65545805144043623, 320: 0.65218892488835911, 325: 0.65516720256991823, 330: 0.6550197629646406, 335: 0.6542684063584342, 340: 0.65300677894163339, 345: 0.65371892837262457, 350: 0.65344238458435844, 355: 0.65566191681647146, 360: 0.65202216472405583, 365: 0.65422287538911283, 370: 0.65534253850332735, 375: 0.6548050445505299, 380: 0.6531132739102814, 385: 0.65382287669673667, 390: 0.65253625808090554, 395: 0.65339719544563879, 400: 0.65269399294503794, 405: 0.65383537171095996, 410: 0.65463250455194055, 415: 0.65371346471666181, 420: 0.65498355993112523, 425: 0.65457717474506338, 430: 0.65543122459557401, 435: 0.65601138910378087, 440: 0.65546208828184127}\n"
     ]
    },
    {
     "name": "stdout",
     "output_type": "stream",
     "text": [
      "Best Estimator learned through GridSearch\n",
      "ExtraTreesRegressor(bootstrap=True, criterion='mse', max_depth=10,\n",
      "          max_features=7, max_leaf_nodes=None, min_impurity_decrease=0.0,\n",
      "          min_impurity_split=None, min_samples_leaf=1, min_samples_split=2,\n",
      "          min_weight_fraction_leaf=0.0, n_estimators=440, n_jobs=4,\n",
      "          oob_score=True, random_state=None, verbose=0, warm_start=False)\n",
      "Best Estimator learned through GridSearch\n",
      "ExtraTreesRegressor(bootstrap=True, criterion='mse', max_depth=10,\n",
      "          max_features=7, max_leaf_nodes=None, min_impurity_decrease=0.0,\n",
      "          min_impurity_split=None, min_samples_leaf=1, min_samples_split=2,\n",
      "          min_weight_fraction_leaf=0.0, n_estimators=445, n_jobs=4,\n",
      "          oob_score=True, random_state=None, verbose=0, warm_start=False)\n"
     ]
    },
    {
     "name": "stderr",
     "output_type": "stream",
     "text": [
      "2018-08-10 12:13:58,240 __main__     INFO     {50: 0.65426220134773616, 55: 0.65527002077590868, 60: 0.65207109430626542, 65: 0.65176320337712901, 70: 0.6493890362370196, 75: 0.6533921035260416, 80: 0.65370503694798321, 85: 0.6537264553907991, 90: 0.65445750523024793, 95: 0.65474618652007011, 100: 0.65494320047860977, 105: 0.65100145096402273, 110: 0.65190178914420971, 115: 0.65284738874257464, 120: 0.65130520743192821, 125: 0.65385663906299274, 130: 0.65345961689689136, 135: 0.65226183593826959, 140: 0.65439573934694251, 145: 0.65363478738242442, 150: 0.65484494832764018, 155: 0.65559181741745065, 160: 0.65355276552755492, 165: 0.65520743642814949, 170: 0.65495875911617474, 175: 0.65118730088858823, 180: 0.6527371126851137, 185: 0.64953765347444903, 190: 0.65128846608049473, 195: 0.65522566422925388, 200: 0.65279671091127844, 205: 0.65499953873543593, 210: 0.65503107072941802, 215: 0.65291822330146965, 220: 0.65393149220192648, 225: 0.65236503759847375, 230: 0.6535033288337575, 235: 0.65469240513707927, 240: 0.65340776886396923, 245: 0.65550712943035849, 250: 0.65015090817069199, 255: 0.65618138711368879, 260: 0.6542033923963122, 265: 0.65354555710680384, 270: 0.65368242954952049, 275: 0.65300373330957018, 280: 0.65309474539836099, 285: 0.65464222251105952, 290: 0.65398859246646568, 295: 0.65097633411545819, 300: 0.65331333908531986, 305: 0.65306466521953954, 310: 0.65447299500230116, 315: 0.65545805144043623, 320: 0.65218892488835911, 325: 0.65516720256991823, 330: 0.6550197629646406, 335: 0.6542684063584342, 340: 0.65300677894163339, 345: 0.65371892837262457, 350: 0.65344238458435844, 355: 0.65566191681647146, 360: 0.65202216472405583, 365: 0.65422287538911283, 370: 0.65534253850332735, 375: 0.6548050445505299, 380: 0.6531132739102814, 385: 0.65382287669673667, 390: 0.65253625808090554, 395: 0.65339719544563879, 400: 0.65269399294503794, 405: 0.65383537171095996, 410: 0.65463250455194055, 415: 0.65371346471666181, 420: 0.65498355993112523, 425: 0.65457717474506338, 430: 0.65543122459557401, 435: 0.65601138910378087, 440: 0.65546208828184127, 445: 0.65364936917067951}\n",
      "2018-08-10 12:14:03,768 __main__     INFO     {50: 0.65426220134773616, 55: 0.65527002077590868, 60: 0.65207109430626542, 65: 0.65176320337712901, 70: 0.6493890362370196, 75: 0.6533921035260416, 80: 0.65370503694798321, 85: 0.6537264553907991, 90: 0.65445750523024793, 95: 0.65474618652007011, 100: 0.65494320047860977, 105: 0.65100145096402273, 110: 0.65190178914420971, 115: 0.65284738874257464, 120: 0.65130520743192821, 125: 0.65385663906299274, 130: 0.65345961689689136, 135: 0.65226183593826959, 140: 0.65439573934694251, 145: 0.65363478738242442, 150: 0.65484494832764018, 155: 0.65559181741745065, 160: 0.65355276552755492, 165: 0.65520743642814949, 170: 0.65495875911617474, 175: 0.65118730088858823, 180: 0.6527371126851137, 185: 0.64953765347444903, 190: 0.65128846608049473, 195: 0.65522566422925388, 200: 0.65279671091127844, 205: 0.65499953873543593, 210: 0.65503107072941802, 215: 0.65291822330146965, 220: 0.65393149220192648, 225: 0.65236503759847375, 230: 0.6535033288337575, 235: 0.65469240513707927, 240: 0.65340776886396923, 245: 0.65550712943035849, 250: 0.65015090817069199, 255: 0.65618138711368879, 260: 0.6542033923963122, 265: 0.65354555710680384, 270: 0.65368242954952049, 275: 0.65300373330957018, 280: 0.65309474539836099, 285: 0.65464222251105952, 290: 0.65398859246646568, 295: 0.65097633411545819, 300: 0.65331333908531986, 305: 0.65306466521953954, 310: 0.65447299500230116, 315: 0.65545805144043623, 320: 0.65218892488835911, 325: 0.65516720256991823, 330: 0.6550197629646406, 335: 0.6542684063584342, 340: 0.65300677894163339, 345: 0.65371892837262457, 350: 0.65344238458435844, 355: 0.65566191681647146, 360: 0.65202216472405583, 365: 0.65422287538911283, 370: 0.65534253850332735, 375: 0.6548050445505299, 380: 0.6531132739102814, 385: 0.65382287669673667, 390: 0.65253625808090554, 395: 0.65339719544563879, 400: 0.65269399294503794, 405: 0.65383537171095996, 410: 0.65463250455194055, 415: 0.65371346471666181, 420: 0.65498355993112523, 425: 0.65457717474506338, 430: 0.65543122459557401, 435: 0.65601138910378087, 440: 0.65546208828184127, 445: 0.65364936917067951, 450: 0.65500773150048297}\n"
     ]
    },
    {
     "name": "stdout",
     "output_type": "stream",
     "text": [
      "Best Estimator learned through GridSearch\n",
      "ExtraTreesRegressor(bootstrap=True, criterion='mse', max_depth=10,\n",
      "          max_features=7, max_leaf_nodes=None, min_impurity_decrease=0.0,\n",
      "          min_impurity_split=None, min_samples_leaf=1, min_samples_split=2,\n",
      "          min_weight_fraction_leaf=0.0, n_estimators=450, n_jobs=4,\n",
      "          oob_score=True, random_state=None, verbose=0, warm_start=False)\n"
     ]
    },
    {
     "name": "stderr",
     "output_type": "stream",
     "text": [
      "2018-08-10 12:14:10,302 __main__     INFO     {50: 0.65426220134773616, 55: 0.65527002077590868, 60: 0.65207109430626542, 65: 0.65176320337712901, 70: 0.6493890362370196, 75: 0.6533921035260416, 80: 0.65370503694798321, 85: 0.6537264553907991, 90: 0.65445750523024793, 95: 0.65474618652007011, 100: 0.65494320047860977, 105: 0.65100145096402273, 110: 0.65190178914420971, 115: 0.65284738874257464, 120: 0.65130520743192821, 125: 0.65385663906299274, 130: 0.65345961689689136, 135: 0.65226183593826959, 140: 0.65439573934694251, 145: 0.65363478738242442, 150: 0.65484494832764018, 155: 0.65559181741745065, 160: 0.65355276552755492, 165: 0.65520743642814949, 170: 0.65495875911617474, 175: 0.65118730088858823, 180: 0.6527371126851137, 185: 0.64953765347444903, 190: 0.65128846608049473, 195: 0.65522566422925388, 200: 0.65279671091127844, 205: 0.65499953873543593, 210: 0.65503107072941802, 215: 0.65291822330146965, 220: 0.65393149220192648, 225: 0.65236503759847375, 230: 0.6535033288337575, 235: 0.65469240513707927, 240: 0.65340776886396923, 245: 0.65550712943035849, 250: 0.65015090817069199, 255: 0.65618138711368879, 260: 0.6542033923963122, 265: 0.65354555710680384, 270: 0.65368242954952049, 275: 0.65300373330957018, 280: 0.65309474539836099, 285: 0.65464222251105952, 290: 0.65398859246646568, 295: 0.65097633411545819, 300: 0.65331333908531986, 305: 0.65306466521953954, 310: 0.65447299500230116, 315: 0.65545805144043623, 320: 0.65218892488835911, 325: 0.65516720256991823, 330: 0.6550197629646406, 335: 0.6542684063584342, 340: 0.65300677894163339, 345: 0.65371892837262457, 350: 0.65344238458435844, 355: 0.65566191681647146, 360: 0.65202216472405583, 365: 0.65422287538911283, 370: 0.65534253850332735, 375: 0.6548050445505299, 380: 0.6531132739102814, 385: 0.65382287669673667, 390: 0.65253625808090554, 395: 0.65339719544563879, 400: 0.65269399294503794, 405: 0.65383537171095996, 410: 0.65463250455194055, 415: 0.65371346471666181, 420: 0.65498355993112523, 425: 0.65457717474506338, 430: 0.65543122459557401, 435: 0.65601138910378087, 440: 0.65546208828184127, 445: 0.65364936917067951, 450: 0.65500773150048297, 455: 0.6544731248022555}\n"
     ]
    },
    {
     "name": "stdout",
     "output_type": "stream",
     "text": [
      "Best Estimator learned through GridSearch\n",
      "ExtraTreesRegressor(bootstrap=True, criterion='mse', max_depth=10,\n",
      "          max_features=7, max_leaf_nodes=None, min_impurity_decrease=0.0,\n",
      "          min_impurity_split=None, min_samples_leaf=1, min_samples_split=2,\n",
      "          min_weight_fraction_leaf=0.0, n_estimators=455, n_jobs=4,\n",
      "          oob_score=True, random_state=None, verbose=0, warm_start=False)\n"
     ]
    },
    {
     "name": "stderr",
     "output_type": "stream",
     "text": [
      "2018-08-10 12:14:15,954 __main__     INFO     {50: 0.65426220134773616, 55: 0.65527002077590868, 60: 0.65207109430626542, 65: 0.65176320337712901, 70: 0.6493890362370196, 75: 0.6533921035260416, 80: 0.65370503694798321, 85: 0.6537264553907991, 90: 0.65445750523024793, 95: 0.65474618652007011, 100: 0.65494320047860977, 105: 0.65100145096402273, 110: 0.65190178914420971, 115: 0.65284738874257464, 120: 0.65130520743192821, 125: 0.65385663906299274, 130: 0.65345961689689136, 135: 0.65226183593826959, 140: 0.65439573934694251, 145: 0.65363478738242442, 150: 0.65484494832764018, 155: 0.65559181741745065, 160: 0.65355276552755492, 165: 0.65520743642814949, 170: 0.65495875911617474, 175: 0.65118730088858823, 180: 0.6527371126851137, 185: 0.64953765347444903, 190: 0.65128846608049473, 195: 0.65522566422925388, 200: 0.65279671091127844, 205: 0.65499953873543593, 210: 0.65503107072941802, 215: 0.65291822330146965, 220: 0.65393149220192648, 225: 0.65236503759847375, 230: 0.6535033288337575, 235: 0.65469240513707927, 240: 0.65340776886396923, 245: 0.65550712943035849, 250: 0.65015090817069199, 255: 0.65618138711368879, 260: 0.6542033923963122, 265: 0.65354555710680384, 270: 0.65368242954952049, 275: 0.65300373330957018, 280: 0.65309474539836099, 285: 0.65464222251105952, 290: 0.65398859246646568, 295: 0.65097633411545819, 300: 0.65331333908531986, 305: 0.65306466521953954, 310: 0.65447299500230116, 315: 0.65545805144043623, 320: 0.65218892488835911, 325: 0.65516720256991823, 330: 0.6550197629646406, 335: 0.6542684063584342, 340: 0.65300677894163339, 345: 0.65371892837262457, 350: 0.65344238458435844, 355: 0.65566191681647146, 360: 0.65202216472405583, 365: 0.65422287538911283, 370: 0.65534253850332735, 375: 0.6548050445505299, 380: 0.6531132739102814, 385: 0.65382287669673667, 390: 0.65253625808090554, 395: 0.65339719544563879, 400: 0.65269399294503794, 405: 0.65383537171095996, 410: 0.65463250455194055, 415: 0.65371346471666181, 420: 0.65498355993112523, 425: 0.65457717474506338, 430: 0.65543122459557401, 435: 0.65601138910378087, 440: 0.65546208828184127, 445: 0.65364936917067951, 450: 0.65500773150048297, 455: 0.6544731248022555, 460: 0.65299132195253917}\n"
     ]
    },
    {
     "name": "stdout",
     "output_type": "stream",
     "text": [
      "Best Estimator learned through GridSearch\n",
      "ExtraTreesRegressor(bootstrap=True, criterion='mse', max_depth=10,\n",
      "          max_features=7, max_leaf_nodes=None, min_impurity_decrease=0.0,\n",
      "          min_impurity_split=None, min_samples_leaf=1, min_samples_split=2,\n",
      "          min_weight_fraction_leaf=0.0, n_estimators=460, n_jobs=4,\n",
      "          oob_score=True, random_state=None, verbose=0, warm_start=False)\n"
     ]
    },
    {
     "name": "stderr",
     "output_type": "stream",
     "text": [
      "2018-08-10 12:14:21,500 __main__     INFO     {50: 0.65426220134773616, 55: 0.65527002077590868, 60: 0.65207109430626542, 65: 0.65176320337712901, 70: 0.6493890362370196, 75: 0.6533921035260416, 80: 0.65370503694798321, 85: 0.6537264553907991, 90: 0.65445750523024793, 95: 0.65474618652007011, 100: 0.65494320047860977, 105: 0.65100145096402273, 110: 0.65190178914420971, 115: 0.65284738874257464, 120: 0.65130520743192821, 125: 0.65385663906299274, 130: 0.65345961689689136, 135: 0.65226183593826959, 140: 0.65439573934694251, 145: 0.65363478738242442, 150: 0.65484494832764018, 155: 0.65559181741745065, 160: 0.65355276552755492, 165: 0.65520743642814949, 170: 0.65495875911617474, 175: 0.65118730088858823, 180: 0.6527371126851137, 185: 0.64953765347444903, 190: 0.65128846608049473, 195: 0.65522566422925388, 200: 0.65279671091127844, 205: 0.65499953873543593, 210: 0.65503107072941802, 215: 0.65291822330146965, 220: 0.65393149220192648, 225: 0.65236503759847375, 230: 0.6535033288337575, 235: 0.65469240513707927, 240: 0.65340776886396923, 245: 0.65550712943035849, 250: 0.65015090817069199, 255: 0.65618138711368879, 260: 0.6542033923963122, 265: 0.65354555710680384, 270: 0.65368242954952049, 275: 0.65300373330957018, 280: 0.65309474539836099, 285: 0.65464222251105952, 290: 0.65398859246646568, 295: 0.65097633411545819, 300: 0.65331333908531986, 305: 0.65306466521953954, 310: 0.65447299500230116, 315: 0.65545805144043623, 320: 0.65218892488835911, 325: 0.65516720256991823, 330: 0.6550197629646406, 335: 0.6542684063584342, 340: 0.65300677894163339, 345: 0.65371892837262457, 350: 0.65344238458435844, 355: 0.65566191681647146, 360: 0.65202216472405583, 365: 0.65422287538911283, 370: 0.65534253850332735, 375: 0.6548050445505299, 380: 0.6531132739102814, 385: 0.65382287669673667, 390: 0.65253625808090554, 395: 0.65339719544563879, 400: 0.65269399294503794, 405: 0.65383537171095996, 410: 0.65463250455194055, 415: 0.65371346471666181, 420: 0.65498355993112523, 425: 0.65457717474506338, 430: 0.65543122459557401, 435: 0.65601138910378087, 440: 0.65546208828184127, 445: 0.65364936917067951, 450: 0.65500773150048297, 455: 0.6544731248022555, 460: 0.65299132195253917, 465: 0.65364553190357721}\n"
     ]
    },
    {
     "name": "stdout",
     "output_type": "stream",
     "text": [
      "Best Estimator learned through GridSearch\n",
      "ExtraTreesRegressor(bootstrap=True, criterion='mse', max_depth=10,\n",
      "          max_features=7, max_leaf_nodes=None, min_impurity_decrease=0.0,\n",
      "          min_impurity_split=None, min_samples_leaf=1, min_samples_split=2,\n",
      "          min_weight_fraction_leaf=0.0, n_estimators=465, n_jobs=4,\n",
      "          oob_score=True, random_state=None, verbose=0, warm_start=False)\n"
     ]
    },
    {
     "name": "stderr",
     "output_type": "stream",
     "text": [
      "2018-08-10 12:14:28,031 __main__     INFO     {50: 0.65426220134773616, 55: 0.65527002077590868, 60: 0.65207109430626542, 65: 0.65176320337712901, 70: 0.6493890362370196, 75: 0.6533921035260416, 80: 0.65370503694798321, 85: 0.6537264553907991, 90: 0.65445750523024793, 95: 0.65474618652007011, 100: 0.65494320047860977, 105: 0.65100145096402273, 110: 0.65190178914420971, 115: 0.65284738874257464, 120: 0.65130520743192821, 125: 0.65385663906299274, 130: 0.65345961689689136, 135: 0.65226183593826959, 140: 0.65439573934694251, 145: 0.65363478738242442, 150: 0.65484494832764018, 155: 0.65559181741745065, 160: 0.65355276552755492, 165: 0.65520743642814949, 170: 0.65495875911617474, 175: 0.65118730088858823, 180: 0.6527371126851137, 185: 0.64953765347444903, 190: 0.65128846608049473, 195: 0.65522566422925388, 200: 0.65279671091127844, 205: 0.65499953873543593, 210: 0.65503107072941802, 215: 0.65291822330146965, 220: 0.65393149220192648, 225: 0.65236503759847375, 230: 0.6535033288337575, 235: 0.65469240513707927, 240: 0.65340776886396923, 245: 0.65550712943035849, 250: 0.65015090817069199, 255: 0.65618138711368879, 260: 0.6542033923963122, 265: 0.65354555710680384, 270: 0.65368242954952049, 275: 0.65300373330957018, 280: 0.65309474539836099, 285: 0.65464222251105952, 290: 0.65398859246646568, 295: 0.65097633411545819, 300: 0.65331333908531986, 305: 0.65306466521953954, 310: 0.65447299500230116, 315: 0.65545805144043623, 320: 0.65218892488835911, 325: 0.65516720256991823, 330: 0.6550197629646406, 335: 0.6542684063584342, 340: 0.65300677894163339, 345: 0.65371892837262457, 350: 0.65344238458435844, 355: 0.65566191681647146, 360: 0.65202216472405583, 365: 0.65422287538911283, 370: 0.65534253850332735, 375: 0.6548050445505299, 380: 0.6531132739102814, 385: 0.65382287669673667, 390: 0.65253625808090554, 395: 0.65339719544563879, 400: 0.65269399294503794, 405: 0.65383537171095996, 410: 0.65463250455194055, 415: 0.65371346471666181, 420: 0.65498355993112523, 425: 0.65457717474506338, 430: 0.65543122459557401, 435: 0.65601138910378087, 440: 0.65546208828184127, 445: 0.65364936917067951, 450: 0.65500773150048297, 455: 0.6544731248022555, 460: 0.65299132195253917, 465: 0.65364553190357721, 470: 0.65542841415496234}\n"
     ]
    },
    {
     "name": "stdout",
     "output_type": "stream",
     "text": [
      "Best Estimator learned through GridSearch\n",
      "ExtraTreesRegressor(bootstrap=True, criterion='mse', max_depth=10,\n",
      "          max_features=7, max_leaf_nodes=None, min_impurity_decrease=0.0,\n",
      "          min_impurity_split=None, min_samples_leaf=1, min_samples_split=2,\n",
      "          min_weight_fraction_leaf=0.0, n_estimators=470, n_jobs=4,\n",
      "          oob_score=True, random_state=None, verbose=0, warm_start=False)\n"
     ]
    },
    {
     "name": "stderr",
     "output_type": "stream",
     "text": [
      "2018-08-10 12:14:33,581 __main__     INFO     {50: 0.65426220134773616, 55: 0.65527002077590868, 60: 0.65207109430626542, 65: 0.65176320337712901, 70: 0.6493890362370196, 75: 0.6533921035260416, 80: 0.65370503694798321, 85: 0.6537264553907991, 90: 0.65445750523024793, 95: 0.65474618652007011, 100: 0.65494320047860977, 105: 0.65100145096402273, 110: 0.65190178914420971, 115: 0.65284738874257464, 120: 0.65130520743192821, 125: 0.65385663906299274, 130: 0.65345961689689136, 135: 0.65226183593826959, 140: 0.65439573934694251, 145: 0.65363478738242442, 150: 0.65484494832764018, 155: 0.65559181741745065, 160: 0.65355276552755492, 165: 0.65520743642814949, 170: 0.65495875911617474, 175: 0.65118730088858823, 180: 0.6527371126851137, 185: 0.64953765347444903, 190: 0.65128846608049473, 195: 0.65522566422925388, 200: 0.65279671091127844, 205: 0.65499953873543593, 210: 0.65503107072941802, 215: 0.65291822330146965, 220: 0.65393149220192648, 225: 0.65236503759847375, 230: 0.6535033288337575, 235: 0.65469240513707927, 240: 0.65340776886396923, 245: 0.65550712943035849, 250: 0.65015090817069199, 255: 0.65618138711368879, 260: 0.6542033923963122, 265: 0.65354555710680384, 270: 0.65368242954952049, 275: 0.65300373330957018, 280: 0.65309474539836099, 285: 0.65464222251105952, 290: 0.65398859246646568, 295: 0.65097633411545819, 300: 0.65331333908531986, 305: 0.65306466521953954, 310: 0.65447299500230116, 315: 0.65545805144043623, 320: 0.65218892488835911, 325: 0.65516720256991823, 330: 0.6550197629646406, 335: 0.6542684063584342, 340: 0.65300677894163339, 345: 0.65371892837262457, 350: 0.65344238458435844, 355: 0.65566191681647146, 360: 0.65202216472405583, 365: 0.65422287538911283, 370: 0.65534253850332735, 375: 0.6548050445505299, 380: 0.6531132739102814, 385: 0.65382287669673667, 390: 0.65253625808090554, 395: 0.65339719544563879, 400: 0.65269399294503794, 405: 0.65383537171095996, 410: 0.65463250455194055, 415: 0.65371346471666181, 420: 0.65498355993112523, 425: 0.65457717474506338, 430: 0.65543122459557401, 435: 0.65601138910378087, 440: 0.65546208828184127, 445: 0.65364936917067951, 450: 0.65500773150048297, 455: 0.6544731248022555, 460: 0.65299132195253917, 465: 0.65364553190357721, 470: 0.65542841415496234, 475: 0.65356902529162686}\n"
     ]
    },
    {
     "name": "stdout",
     "output_type": "stream",
     "text": [
      "Best Estimator learned through GridSearch\n",
      "ExtraTreesRegressor(bootstrap=True, criterion='mse', max_depth=10,\n",
      "          max_features=7, max_leaf_nodes=None, min_impurity_decrease=0.0,\n",
      "          min_impurity_split=None, min_samples_leaf=1, min_samples_split=2,\n",
      "          min_weight_fraction_leaf=0.0, n_estimators=475, n_jobs=4,\n",
      "          oob_score=True, random_state=None, verbose=0, warm_start=False)\n",
      "Best Estimator learned through GridSearch\n",
      "ExtraTreesRegressor(bootstrap=True, criterion='mse', max_depth=10,\n",
      "          max_features=7, max_leaf_nodes=None, min_impurity_decrease=0.0,\n",
      "          min_impurity_split=None, min_samples_leaf=1, min_samples_split=2,\n",
      "          min_weight_fraction_leaf=0.0, n_estimators=480, n_jobs=4,\n",
      "          oob_score=True, random_state=None, verbose=0, warm_start=False)\n"
     ]
    },
    {
     "name": "stderr",
     "output_type": "stream",
     "text": [
      "2018-08-10 12:14:39,325 __main__     INFO     {50: 0.65426220134773616, 55: 0.65527002077590868, 60: 0.65207109430626542, 65: 0.65176320337712901, 70: 0.6493890362370196, 75: 0.6533921035260416, 80: 0.65370503694798321, 85: 0.6537264553907991, 90: 0.65445750523024793, 95: 0.65474618652007011, 100: 0.65494320047860977, 105: 0.65100145096402273, 110: 0.65190178914420971, 115: 0.65284738874257464, 120: 0.65130520743192821, 125: 0.65385663906299274, 130: 0.65345961689689136, 135: 0.65226183593826959, 140: 0.65439573934694251, 145: 0.65363478738242442, 150: 0.65484494832764018, 155: 0.65559181741745065, 160: 0.65355276552755492, 165: 0.65520743642814949, 170: 0.65495875911617474, 175: 0.65118730088858823, 180: 0.6527371126851137, 185: 0.64953765347444903, 190: 0.65128846608049473, 195: 0.65522566422925388, 200: 0.65279671091127844, 205: 0.65499953873543593, 210: 0.65503107072941802, 215: 0.65291822330146965, 220: 0.65393149220192648, 225: 0.65236503759847375, 230: 0.6535033288337575, 235: 0.65469240513707927, 240: 0.65340776886396923, 245: 0.65550712943035849, 250: 0.65015090817069199, 255: 0.65618138711368879, 260: 0.6542033923963122, 265: 0.65354555710680384, 270: 0.65368242954952049, 275: 0.65300373330957018, 280: 0.65309474539836099, 285: 0.65464222251105952, 290: 0.65398859246646568, 295: 0.65097633411545819, 300: 0.65331333908531986, 305: 0.65306466521953954, 310: 0.65447299500230116, 315: 0.65545805144043623, 320: 0.65218892488835911, 325: 0.65516720256991823, 330: 0.6550197629646406, 335: 0.6542684063584342, 340: 0.65300677894163339, 345: 0.65371892837262457, 350: 0.65344238458435844, 355: 0.65566191681647146, 360: 0.65202216472405583, 365: 0.65422287538911283, 370: 0.65534253850332735, 375: 0.6548050445505299, 380: 0.6531132739102814, 385: 0.65382287669673667, 390: 0.65253625808090554, 395: 0.65339719544563879, 400: 0.65269399294503794, 405: 0.65383537171095996, 410: 0.65463250455194055, 415: 0.65371346471666181, 420: 0.65498355993112523, 425: 0.65457717474506338, 430: 0.65543122459557401, 435: 0.65601138910378087, 440: 0.65546208828184127, 445: 0.65364936917067951, 450: 0.65500773150048297, 455: 0.6544731248022555, 460: 0.65299132195253917, 465: 0.65364553190357721, 470: 0.65542841415496234, 475: 0.65356902529162686, 480: 0.65241715941258782}\n",
      "2018-08-10 12:14:45,315 __main__     INFO     {50: 0.65426220134773616, 55: 0.65527002077590868, 60: 0.65207109430626542, 65: 0.65176320337712901, 70: 0.6493890362370196, 75: 0.6533921035260416, 80: 0.65370503694798321, 85: 0.6537264553907991, 90: 0.65445750523024793, 95: 0.65474618652007011, 100: 0.65494320047860977, 105: 0.65100145096402273, 110: 0.65190178914420971, 115: 0.65284738874257464, 120: 0.65130520743192821, 125: 0.65385663906299274, 130: 0.65345961689689136, 135: 0.65226183593826959, 140: 0.65439573934694251, 145: 0.65363478738242442, 150: 0.65484494832764018, 155: 0.65559181741745065, 160: 0.65355276552755492, 165: 0.65520743642814949, 170: 0.65495875911617474, 175: 0.65118730088858823, 180: 0.6527371126851137, 185: 0.64953765347444903, 190: 0.65128846608049473, 195: 0.65522566422925388, 200: 0.65279671091127844, 205: 0.65499953873543593, 210: 0.65503107072941802, 215: 0.65291822330146965, 220: 0.65393149220192648, 225: 0.65236503759847375, 230: 0.6535033288337575, 235: 0.65469240513707927, 240: 0.65340776886396923, 245: 0.65550712943035849, 250: 0.65015090817069199, 255: 0.65618138711368879, 260: 0.6542033923963122, 265: 0.65354555710680384, 270: 0.65368242954952049, 275: 0.65300373330957018, 280: 0.65309474539836099, 285: 0.65464222251105952, 290: 0.65398859246646568, 295: 0.65097633411545819, 300: 0.65331333908531986, 305: 0.65306466521953954, 310: 0.65447299500230116, 315: 0.65545805144043623, 320: 0.65218892488835911, 325: 0.65516720256991823, 330: 0.6550197629646406, 335: 0.6542684063584342, 340: 0.65300677894163339, 345: 0.65371892837262457, 350: 0.65344238458435844, 355: 0.65566191681647146, 360: 0.65202216472405583, 365: 0.65422287538911283, 370: 0.65534253850332735, 375: 0.6548050445505299, 380: 0.6531132739102814, 385: 0.65382287669673667, 390: 0.65253625808090554, 395: 0.65339719544563879, 400: 0.65269399294503794, 405: 0.65383537171095996, 410: 0.65463250455194055, 415: 0.65371346471666181, 420: 0.65498355993112523, 425: 0.65457717474506338, 430: 0.65543122459557401, 435: 0.65601138910378087, 440: 0.65546208828184127, 445: 0.65364936917067951, 450: 0.65500773150048297, 455: 0.6544731248022555, 460: 0.65299132195253917, 465: 0.65364553190357721, 470: 0.65542841415496234, 475: 0.65356902529162686, 480: 0.65241715941258782, 485: 0.65325488214061322}\n"
     ]
    },
    {
     "name": "stdout",
     "output_type": "stream",
     "text": [
      "Best Estimator learned through GridSearch\n",
      "ExtraTreesRegressor(bootstrap=True, criterion='mse', max_depth=10,\n",
      "          max_features=7, max_leaf_nodes=None, min_impurity_decrease=0.0,\n",
      "          min_impurity_split=None, min_samples_leaf=1, min_samples_split=2,\n",
      "          min_weight_fraction_leaf=0.0, n_estimators=485, n_jobs=4,\n",
      "          oob_score=True, random_state=None, verbose=0, warm_start=False)\n"
     ]
    },
    {
     "name": "stderr",
     "output_type": "stream",
     "text": [
      "2018-08-10 12:14:50,879 __main__     INFO     {50: 0.65426220134773616, 55: 0.65527002077590868, 60: 0.65207109430626542, 65: 0.65176320337712901, 70: 0.6493890362370196, 75: 0.6533921035260416, 80: 0.65370503694798321, 85: 0.6537264553907991, 90: 0.65445750523024793, 95: 0.65474618652007011, 100: 0.65494320047860977, 105: 0.65100145096402273, 110: 0.65190178914420971, 115: 0.65284738874257464, 120: 0.65130520743192821, 125: 0.65385663906299274, 130: 0.65345961689689136, 135: 0.65226183593826959, 140: 0.65439573934694251, 145: 0.65363478738242442, 150: 0.65484494832764018, 155: 0.65559181741745065, 160: 0.65355276552755492, 165: 0.65520743642814949, 170: 0.65495875911617474, 175: 0.65118730088858823, 180: 0.6527371126851137, 185: 0.64953765347444903, 190: 0.65128846608049473, 195: 0.65522566422925388, 200: 0.65279671091127844, 205: 0.65499953873543593, 210: 0.65503107072941802, 215: 0.65291822330146965, 220: 0.65393149220192648, 225: 0.65236503759847375, 230: 0.6535033288337575, 235: 0.65469240513707927, 240: 0.65340776886396923, 245: 0.65550712943035849, 250: 0.65015090817069199, 255: 0.65618138711368879, 260: 0.6542033923963122, 265: 0.65354555710680384, 270: 0.65368242954952049, 275: 0.65300373330957018, 280: 0.65309474539836099, 285: 0.65464222251105952, 290: 0.65398859246646568, 295: 0.65097633411545819, 300: 0.65331333908531986, 305: 0.65306466521953954, 310: 0.65447299500230116, 315: 0.65545805144043623, 320: 0.65218892488835911, 325: 0.65516720256991823, 330: 0.6550197629646406, 335: 0.6542684063584342, 340: 0.65300677894163339, 345: 0.65371892837262457, 350: 0.65344238458435844, 355: 0.65566191681647146, 360: 0.65202216472405583, 365: 0.65422287538911283, 370: 0.65534253850332735, 375: 0.6548050445505299, 380: 0.6531132739102814, 385: 0.65382287669673667, 390: 0.65253625808090554, 395: 0.65339719544563879, 400: 0.65269399294503794, 405: 0.65383537171095996, 410: 0.65463250455194055, 415: 0.65371346471666181, 420: 0.65498355993112523, 425: 0.65457717474506338, 430: 0.65543122459557401, 435: 0.65601138910378087, 440: 0.65546208828184127, 445: 0.65364936917067951, 450: 0.65500773150048297, 455: 0.6544731248022555, 460: 0.65299132195253917, 465: 0.65364553190357721, 470: 0.65542841415496234, 475: 0.65356902529162686, 480: 0.65241715941258782, 485: 0.65325488214061322, 490: 0.65323250942496514}\n"
     ]
    },
    {
     "name": "stdout",
     "output_type": "stream",
     "text": [
      "Best Estimator learned through GridSearch\n",
      "ExtraTreesRegressor(bootstrap=True, criterion='mse', max_depth=10,\n",
      "          max_features=7, max_leaf_nodes=None, min_impurity_decrease=0.0,\n",
      "          min_impurity_split=None, min_samples_leaf=1, min_samples_split=2,\n",
      "          min_weight_fraction_leaf=0.0, n_estimators=490, n_jobs=4,\n",
      "          oob_score=True, random_state=None, verbose=0, warm_start=False)\n"
     ]
    },
    {
     "name": "stderr",
     "output_type": "stream",
     "text": [
      "2018-08-10 12:14:56,452 __main__     INFO     {50: 0.65426220134773616, 55: 0.65527002077590868, 60: 0.65207109430626542, 65: 0.65176320337712901, 70: 0.6493890362370196, 75: 0.6533921035260416, 80: 0.65370503694798321, 85: 0.6537264553907991, 90: 0.65445750523024793, 95: 0.65474618652007011, 100: 0.65494320047860977, 105: 0.65100145096402273, 110: 0.65190178914420971, 115: 0.65284738874257464, 120: 0.65130520743192821, 125: 0.65385663906299274, 130: 0.65345961689689136, 135: 0.65226183593826959, 140: 0.65439573934694251, 145: 0.65363478738242442, 150: 0.65484494832764018, 155: 0.65559181741745065, 160: 0.65355276552755492, 165: 0.65520743642814949, 170: 0.65495875911617474, 175: 0.65118730088858823, 180: 0.6527371126851137, 185: 0.64953765347444903, 190: 0.65128846608049473, 195: 0.65522566422925388, 200: 0.65279671091127844, 205: 0.65499953873543593, 210: 0.65503107072941802, 215: 0.65291822330146965, 220: 0.65393149220192648, 225: 0.65236503759847375, 230: 0.6535033288337575, 235: 0.65469240513707927, 240: 0.65340776886396923, 245: 0.65550712943035849, 250: 0.65015090817069199, 255: 0.65618138711368879, 260: 0.6542033923963122, 265: 0.65354555710680384, 270: 0.65368242954952049, 275: 0.65300373330957018, 280: 0.65309474539836099, 285: 0.65464222251105952, 290: 0.65398859246646568, 295: 0.65097633411545819, 300: 0.65331333908531986, 305: 0.65306466521953954, 310: 0.65447299500230116, 315: 0.65545805144043623, 320: 0.65218892488835911, 325: 0.65516720256991823, 330: 0.6550197629646406, 335: 0.6542684063584342, 340: 0.65300677894163339, 345: 0.65371892837262457, 350: 0.65344238458435844, 355: 0.65566191681647146, 360: 0.65202216472405583, 365: 0.65422287538911283, 370: 0.65534253850332735, 375: 0.6548050445505299, 380: 0.6531132739102814, 385: 0.65382287669673667, 390: 0.65253625808090554, 395: 0.65339719544563879, 400: 0.65269399294503794, 405: 0.65383537171095996, 410: 0.65463250455194055, 415: 0.65371346471666181, 420: 0.65498355993112523, 425: 0.65457717474506338, 430: 0.65543122459557401, 435: 0.65601138910378087, 440: 0.65546208828184127, 445: 0.65364936917067951, 450: 0.65500773150048297, 455: 0.6544731248022555, 460: 0.65299132195253917, 465: 0.65364553190357721, 470: 0.65542841415496234, 475: 0.65356902529162686, 480: 0.65241715941258782, 485: 0.65325488214061322, 490: 0.65323250942496514, 495: 0.65391233061239906}\n",
      "2018-08-10 12:14:56,456 __main__     INFO     complete\n",
      "2018-08-10 12:14:56,458 __main__     INFO     {50: 0.65426220134773616, 55: 0.65527002077590868, 60: 0.65207109430626542, 65: 0.65176320337712901, 70: 0.6493890362370196, 75: 0.6533921035260416, 80: 0.65370503694798321, 85: 0.6537264553907991, 90: 0.65445750523024793, 95: 0.65474618652007011, 100: 0.65494320047860977, 105: 0.65100145096402273, 110: 0.65190178914420971, 115: 0.65284738874257464, 120: 0.65130520743192821, 125: 0.65385663906299274, 130: 0.65345961689689136, 135: 0.65226183593826959, 140: 0.65439573934694251, 145: 0.65363478738242442, 150: 0.65484494832764018, 155: 0.65559181741745065, 160: 0.65355276552755492, 165: 0.65520743642814949, 170: 0.65495875911617474, 175: 0.65118730088858823, 180: 0.6527371126851137, 185: 0.64953765347444903, 190: 0.65128846608049473, 195: 0.65522566422925388, 200: 0.65279671091127844, 205: 0.65499953873543593, 210: 0.65503107072941802, 215: 0.65291822330146965, 220: 0.65393149220192648, 225: 0.65236503759847375, 230: 0.6535033288337575, 235: 0.65469240513707927, 240: 0.65340776886396923, 245: 0.65550712943035849, 250: 0.65015090817069199, 255: 0.65618138711368879, 260: 0.6542033923963122, 265: 0.65354555710680384, 270: 0.65368242954952049, 275: 0.65300373330957018, 280: 0.65309474539836099, 285: 0.65464222251105952, 290: 0.65398859246646568, 295: 0.65097633411545819, 300: 0.65331333908531986, 305: 0.65306466521953954, 310: 0.65447299500230116, 315: 0.65545805144043623, 320: 0.65218892488835911, 325: 0.65516720256991823, 330: 0.6550197629646406, 335: 0.6542684063584342, 340: 0.65300677894163339, 345: 0.65371892837262457, 350: 0.65344238458435844, 355: 0.65566191681647146, 360: 0.65202216472405583, 365: 0.65422287538911283, 370: 0.65534253850332735, 375: 0.6548050445505299, 380: 0.6531132739102814, 385: 0.65382287669673667, 390: 0.65253625808090554, 395: 0.65339719544563879, 400: 0.65269399294503794, 405: 0.65383537171095996, 410: 0.65463250455194055, 415: 0.65371346471666181, 420: 0.65498355993112523, 425: 0.65457717474506338, 430: 0.65543122459557401, 435: 0.65601138910378087, 440: 0.65546208828184127, 445: 0.65364936917067951, 450: 0.65500773150048297, 455: 0.6544731248022555, 460: 0.65299132195253917, 465: 0.65364553190357721, 470: 0.65542841415496234, 475: 0.65356902529162686, 480: 0.65241715941258782, 485: 0.65325488214061322, 490: 0.65323250942496514, 495: 0.65391233061239906}\n"
     ]
    },
    {
     "name": "stdout",
     "output_type": "stream",
     "text": [
      "Best Estimator learned through GridSearch\n",
      "ExtraTreesRegressor(bootstrap=True, criterion='mse', max_depth=10,\n",
      "          max_features=7, max_leaf_nodes=None, min_impurity_decrease=0.0,\n",
      "          min_impurity_split=None, min_samples_leaf=1, min_samples_split=2,\n",
      "          min_weight_fraction_leaf=0.0, n_estimators=495, n_jobs=4,\n",
      "          oob_score=True, random_state=None, verbose=0, warm_start=False)\n"
     ]
    }
   ],
   "source": [
    "cv, best_est, r2_error_by_trees = find_number_of_trees(X_eff_1, y_eff_1)\n"
   ]
  },
  {
   "cell_type": "code",
   "execution_count": 27,
   "metadata": {},
   "outputs": [
    {
     "data": {
      "image/png": "[encoded data removed]",
      "text/plain": [
       "<matplotlib.figure.Figure at 0x10d0ec278>"
      ]
     },
     "metadata": {},
     "output_type": "display_data"
    }
   ],
   "source": [
    "r2_error_by_trees.values()\n",
    "import seaborn as sns\n",
    "# Matplotlib for additional customization\n",
    "from matplotlib import pyplot as plt\n",
    "%matplotlib inline\n",
    "\n",
    "fig, ax = plt.subplots()\n",
    "sns_plot = sns.regplot(x=np.array(list(r2_error_by_trees.keys())), y=np.array(list(r2_error_by_trees.values())), fit_reg=False ) #order = 2)\n",
    "\n",
    "# sns_plot.set_title('lalala')\n",
    "sns_plot.set_ylabel('R2 Score')\n",
    "sns_plot.set_xlabel('Number of estimators')\n",
    "\n",
    "fig = sns_plot.get_figure()\n",
    "fig.savefig(\"/Users/dsluis/Dropbox/UCL/UCL - Business Analytics specialisation in Computer Science/T3-COMPG099 - Dissertation/Diagrams/rf_oob_score_vs_number_of_estimators_efficient_1.png\")\n",
    "\n",
    "\n"
   ]
  },
  {
   "cell_type": "markdown",
   "metadata": {},
   "source": [
    "### Select 250 trees as the slope changes - very arbatary"
   ]
  },
  {
   "cell_type": "code",
   "execution_count": null,
   "metadata": {
    "collapsed": true
   },
   "outputs": [],
   "source": []
  },
  {
   "cell_type": "code",
   "execution_count": 55,
   "metadata": {
    "collapsed": true
   },
   "outputs": [],
   "source": [
    "def get_num_jobs():\n",
    "    if sys.platform == 'win32':\n",
    "        return 8\n",
    "    else:\n",
    "        if sys.platform == 'linux': # Sherlock ML\n",
    "            return 8\n",
    "        else:\n",
    "            return 4 # mac\n",
    "\n",
    "def MyGridSearchCV(param_grid, n_jobs, X, y, estimator):\n",
    "    \n",
    "    #Choose cross-validation generator - let's choose ShuffleSplit which randomly shuffles and selects Train and CV sets \n",
    "    #for each iteration. There are other methods like the KFold split.\n",
    "    cv = ShuffleSplit(X.shape[0], n_iter=10, test_size=0.2)\n",
    "    #Apply the cross-validation iterator on the Training set using GridSearchCV. This will run the classifier on the \n",
    "    #different train/cv splits using parameters specified and return the model that has the best results \n",
    "\n",
    "    # \n",
    "    #Note that we are tuning based on the F1 score 2PR/P+R where P is Precision and R is Recall. This may not always be \n",
    "    #the best score to tune our model on.  For now, we'll use F1.\n",
    "    classifier = GridSearchCV(estimator=estimator, cv=cv, param_grid=param_grid, n_jobs=n_jobs)\n",
    "    #Also note that we're feeding multiple neighbors to the GridSearch to try out. \n",
    "    #We'll now fit the training dataset to this classifier\n",
    "    classifier.fit(X, y)\n",
    "    #Let's look at the best estimator that was found by GridSearchCV\n",
    "    print (\"Best Estimator learned through GridSearch\")\n",
    "    print ( classifier.best_estimator_)\n",
    "    return cv, classifier.best_estimator_, classifier\n",
    "    \n",
    "\n",
    "\n",
    "def print_info(best_est, X, y, tset):\n",
    "    print (\"--------------------------------\" )\n",
    "    print (tset+\" Best Estimator Parameters\" )\n",
    "    print (\"--------------------------------\" )\n",
    "    print (\"n_estimators: %d\" %best_est.n_estimators )\n",
    "    print (\"max_depth: %d\" %best_est.max_depth )\n",
    "    print (\"max_features: %.2f\" %best_est.max_features )\n",
    "    print (tset+\" R-squared: %.2f\" %best_est.score(X,y) )  \n",
    "#     print (\"min_samples_leaf: %d\" %best_est.min_samples_leaf ) \n",
    "#     print (\"Learning Rate: %.2f\" %best_est.learning_rate )\n",
    "\n",
    "    \n",
    "def perform_grid_search(X,y):\n",
    "\n",
    "    # if no space left on device, try setting the env ver JOBLIB_TEMP_FOLDER to /tmp\n",
    "    %env JOBLIB_TEMP_FOLDER=/tmp\n",
    "    logger.info('starting')   \n",
    "    \n",
    "    param_grid={'n_estimators':[250], # 250\n",
    "                'max_depth':[7,9,10,],      # 9\n",
    "                'max_features':[5,7,13,15,17,19,21,23],   # 7\n",
    "                'oob_score':[True],\n",
    "                'bootstrap':[True],\n",
    "                'verbose':[1],\n",
    "                'n_jobs':[4]\n",
    "               } \n",
    "    \n",
    "    \n",
    "    n_jobs = get_num_jobs() \n",
    "\n",
    "    #Let's fit GBRT to the digits training dataset by calling the function we just created. \n",
    "    estimator = ExtraTreesRegressor()\n",
    "\n",
    "    cv, best_est, trained_model=MyGridSearchCV(param_grid, n_jobs, X, y, estimator) \n",
    "    logger.info('complete')\n",
    "    print_info(best_est, X, y, '.8CV')\n",
    "    \n",
    "    return cv, best_est\n",
    "\n"
   ]
  },
  {
   "cell_type": "code",
   "execution_count": 56,
   "metadata": {},
   "outputs": [
    {
     "name": "stderr",
     "output_type": "stream",
     "text": [
      "2018-08-10 13:01:16,442 __main__     INFO     starting\n"
     ]
    },
    {
     "name": "stdout",
     "output_type": "stream",
     "text": [
      "(3763, 43)\n",
      "env: JOBLIB_TEMP_FOLDER=/tmp\n"
     ]
    },
    {
     "name": "stderr",
     "output_type": "stream",
     "text": [
      "[Parallel(n_jobs=4)]: Done  42 tasks      | elapsed:    0.0s\n",
      "[Parallel(n_jobs=4)]: Done  42 tasks      | elapsed:    0.0s\n",
      "[Parallel(n_jobs=4)]: Done  42 tasks      | elapsed:    0.1s\n",
      "[Parallel(n_jobs=4)]: Done  42 tasks      | elapsed:    0.0s\n",
      "[Parallel(n_jobs=4)]: Done 192 tasks      | elapsed:    0.2s\n",
      "[Parallel(n_jobs=4)]: Done 192 tasks      | elapsed:    0.1s\n",
      "[Parallel(n_jobs=4)]: Done 192 tasks      | elapsed:    0.3s\n",
      "[Parallel(n_jobs=4)]: Done 192 tasks      | elapsed:    0.3s\n",
      "[Parallel(n_jobs=4)]: Done 250 out of 250 | elapsed:    0.4s finished\n",
      "[Parallel(n_jobs=4)]: Done 250 out of 250 | elapsed:    0.4s finished\n",
      "[Parallel(n_jobs=4)]: Done 250 out of 250 | elapsed:    0.3s finished\n",
      "[Parallel(n_jobs=4)]: Done 250 out of 250 | elapsed:    0.4s finished\n",
      "[Parallel(n_jobs=4)]: Done  42 tasks      | elapsed:    0.0s\n",
      "[Parallel(n_jobs=4)]: Done  42 tasks      | elapsed:    0.0s\n",
      "[Parallel(n_jobs=4)]: Done 192 tasks      | elapsed:    0.0s\n",
      "[Parallel(n_jobs=4)]: Done 192 tasks      | elapsed:    0.0s\n",
      "[Parallel(n_jobs=4)]: Done 250 out of 250 | elapsed:    0.1s finished\n",
      "[Parallel(n_jobs=4)]: Done 250 out of 250 | elapsed:    0.1s finished\n",
      "[Parallel(n_jobs=4)]: Done  42 tasks      | elapsed:    0.0s\n",
      "[Parallel(n_jobs=4)]: Done  42 tasks      | elapsed:    0.0s\n",
      "[Parallel(n_jobs=4)]: Done 192 tasks      | elapsed:    0.0s\n",
      "[Parallel(n_jobs=4)]: Done 250 out of 250 | elapsed:    0.1s finished\n",
      "[Parallel(n_jobs=4)]: Done 192 tasks      | elapsed:    0.1s\n",
      "[Parallel(n_jobs=4)]: Done 250 out of 250 | elapsed:    0.1s finished\n",
      "[Parallel(n_jobs=4)]: Done  42 tasks      | elapsed:    0.0s\n",
      "[Parallel(n_jobs=4)]: Done  42 tasks      | elapsed:    0.0s\n",
      "[Parallel(n_jobs=4)]: Done  42 tasks      | elapsed:    0.0s\n",
      "[Parallel(n_jobs=4)]: Done 192 tasks      | elapsed:    0.2s\n",
      "[Parallel(n_jobs=4)]: Done 192 tasks      | elapsed:    0.2s\n",
      "[Parallel(n_jobs=4)]: Done 250 out of 250 | elapsed:    0.3s finished\n",
      "[Parallel(n_jobs=4)]: Done 250 out of 250 | elapsed:    0.3s finished\n",
      "[Parallel(n_jobs=4)]: Done 192 tasks      | elapsed:    0.2s\n",
      "[Parallel(n_jobs=4)]: Done 250 out of 250 | elapsed:    0.2s finished\n",
      "[Parallel(n_jobs=4)]: Done  42 tasks      | elapsed:    0.0s\n",
      "[Parallel(n_jobs=4)]: Done  42 tasks      | elapsed:    0.0s\n",
      "[Parallel(n_jobs=4)]: Done 192 tasks      | elapsed:    0.0s\n",
      "[Parallel(n_jobs=4)]: Done 192 tasks      | elapsed:    0.0s\n",
      "[Parallel(n_jobs=4)]: Done 250 out of 250 | elapsed:    0.1s finished\n",
      "[Parallel(n_jobs=4)]: Done 250 out of 250 | elapsed:    0.1s finished\n",
      "[Parallel(n_jobs=4)]: Done  42 tasks      | elapsed:    0.1s\n",
      "[Parallel(n_jobs=4)]: Done 192 tasks      | elapsed:    0.2s\n",
      "[Parallel(n_jobs=4)]: Done  42 tasks      | elapsed:    0.0s\n",
      "[Parallel(n_jobs=4)]: Done 192 tasks      | elapsed:    0.0s\n",
      "[Parallel(n_jobs=4)]: Done 250 out of 250 | elapsed:    0.1s finished\n",
      "[Parallel(n_jobs=4)]: Done 250 out of 250 | elapsed:    0.2s finished\n",
      "[Parallel(n_jobs=4)]: Done  42 tasks      | elapsed:    0.0s\n",
      "[Parallel(n_jobs=4)]: Done 192 tasks      | elapsed:    0.0s\n",
      "[Parallel(n_jobs=4)]: Done 250 out of 250 | elapsed:    0.1s finished\n",
      "[Parallel(n_jobs=4)]: Done  42 tasks      | elapsed:    0.0s\n",
      "[Parallel(n_jobs=4)]: Done  42 tasks      | elapsed:    0.0s\n",
      "[Parallel(n_jobs=4)]: Done 192 tasks      | elapsed:    0.2s\n",
      "[Parallel(n_jobs=4)]: Done 192 tasks      | elapsed:    0.2s\n",
      "[Parallel(n_jobs=4)]: Done 250 out of 250 | elapsed:    0.2s finished\n",
      "[Parallel(n_jobs=4)]: Done 250 out of 250 | elapsed:    0.2s finished\n",
      "[Parallel(n_jobs=4)]: Done  42 tasks      | elapsed:    0.0s\n",
      "[Parallel(n_jobs=4)]: Done 192 tasks      | elapsed:    0.1s\n",
      "[Parallel(n_jobs=4)]: Done 250 out of 250 | elapsed:    0.2s finished\n",
      "[Parallel(n_jobs=4)]: Done  42 tasks      | elapsed:    0.0s\n",
      "[Parallel(n_jobs=4)]: Done  42 tasks      | elapsed:    0.0s\n",
      "[Parallel(n_jobs=4)]: Done 192 tasks      | elapsed:    0.1s\n",
      "[Parallel(n_jobs=4)]: Done 192 tasks      | elapsed:    0.1s\n",
      "[Parallel(n_jobs=4)]: Done 250 out of 250 | elapsed:    0.1s finished\n",
      "[Parallel(n_jobs=4)]: Done 250 out of 250 | elapsed:    0.1s finished\n",
      "[Parallel(n_jobs=4)]: Done  42 tasks      | elapsed:    0.0s\n",
      "[Parallel(n_jobs=4)]: Done 192 tasks      | elapsed:    0.0s\n",
      "[Parallel(n_jobs=4)]: Done 250 out of 250 | elapsed:    0.1s finished\n",
      "[Parallel(n_jobs=4)]: Done  42 tasks      | elapsed:    0.0s\n",
      "[Parallel(n_jobs=4)]: Done 192 tasks      | elapsed:    0.2s\n",
      "[Parallel(n_jobs=4)]: Done 250 out of 250 | elapsed:    0.3s finished\n",
      "[Parallel(n_jobs=4)]: Done  42 tasks      | elapsed:    0.0s\n",
      "[Parallel(n_jobs=4)]: Done  42 tasks      | elapsed:    0.0s\n",
      "[Parallel(n_jobs=4)]: Done 192 tasks      | elapsed:    0.0s\n",
      "[Parallel(n_jobs=4)]: Done 250 out of 250 | elapsed:    0.1s finished\n",
      "[Parallel(n_jobs=4)]: Done  42 tasks      | elapsed:    0.0s\n",
      "[Parallel(n_jobs=4)]: Done 192 tasks      | elapsed:    0.2s\n",
      "[Parallel(n_jobs=4)]: Done 250 out of 250 | elapsed:    0.3s finished\n",
      "[Parallel(n_jobs=4)]: Done 192 tasks      | elapsed:    0.2s\n",
      "[Parallel(n_jobs=4)]: Done 250 out of 250 | elapsed:    0.3s finished\n",
      "[Parallel(n_jobs=4)]: Done  42 tasks      | elapsed:    0.0s\n",
      "[Parallel(n_jobs=4)]: Done  42 tasks      | elapsed:    0.0s\n",
      "[Parallel(n_jobs=4)]: Done 192 tasks      | elapsed:    0.1s\n",
      "[Parallel(n_jobs=4)]: Done 250 out of 250 | elapsed:    0.1s finished\n",
      "[Parallel(n_jobs=4)]: Done 192 tasks      | elapsed:    0.1s\n",
      "[Parallel(n_jobs=4)]: Done 250 out of 250 | elapsed:    0.2s finished\n",
      "[Parallel(n_jobs=4)]: Done  42 tasks      | elapsed:    0.0s\n",
      "[Parallel(n_jobs=4)]: Done 192 tasks      | elapsed:    0.1s\n",
      "[Parallel(n_jobs=4)]: Done 250 out of 250 | elapsed:    0.1s finished\n",
      "[Parallel(n_jobs=4)]: Done  42 tasks      | elapsed:    0.0s\n",
      "[Parallel(n_jobs=4)]: Done 192 tasks      | elapsed:    0.0s\n",
      "[Parallel(n_jobs=4)]: Done 250 out of 250 | elapsed:    0.1s finished\n",
      "[Parallel(n_jobs=4)]: Done  42 tasks      | elapsed:    0.0s\n",
      "[Parallel(n_jobs=4)]: Done 192 tasks      | elapsed:    0.2s\n",
      "[Parallel(n_jobs=4)]: Done 250 out of 250 | elapsed:    0.3s finished\n",
      "[Parallel(n_jobs=4)]: Done  42 tasks      | elapsed:    0.0s\n",
      "[Parallel(n_jobs=4)]: Done  42 tasks      | elapsed:    0.1s\n",
      "[Parallel(n_jobs=4)]: Done 192 tasks      | elapsed:    0.2s\n",
      "[Parallel(n_jobs=4)]: Done 192 tasks      | elapsed:    0.3s\n",
      "[Parallel(n_jobs=4)]: Done  42 tasks      | elapsed:    0.0s\n",
      "[Parallel(n_jobs=4)]: Done 250 out of 250 | elapsed:    0.3s finished\n",
      "[Parallel(n_jobs=4)]: Done 250 out of 250 | elapsed:    0.3s finished\n",
      "[Parallel(n_jobs=4)]: Done 192 tasks      | elapsed:    0.1s\n",
      "[Parallel(n_jobs=4)]: Done 250 out of 250 | elapsed:    0.1s finished\n",
      "[Parallel(n_jobs=4)]: Done  42 tasks      | elapsed:    0.0s\n",
      "[Parallel(n_jobs=4)]: Done  42 tasks      | elapsed:    0.0s\n",
      "[Parallel(n_jobs=4)]: Done  42 tasks      | elapsed:    0.0s\n",
      "[Parallel(n_jobs=4)]: Done 192 tasks      | elapsed:    0.0s\n",
      "[Parallel(n_jobs=4)]: Done 250 out of 250 | elapsed:    0.1s finished\n",
      "[Parallel(n_jobs=4)]: Done 192 tasks      | elapsed:    0.1s\n",
      "[Parallel(n_jobs=4)]: Done 250 out of 250 | elapsed:    0.1s finished\n",
      "[Parallel(n_jobs=4)]: Done 192 tasks      | elapsed:    0.2s\n",
      "[Parallel(n_jobs=4)]: Done 250 out of 250 | elapsed:    0.3s finished\n",
      "[Parallel(n_jobs=4)]: Done  42 tasks      | elapsed:    0.0s\n",
      "[Parallel(n_jobs=4)]: Done  42 tasks      | elapsed:    0.0s\n",
      "[Parallel(n_jobs=4)]: Done 192 tasks      | elapsed:    0.0s\n",
      "[Parallel(n_jobs=4)]: Done 250 out of 250 | elapsed:    0.1s finished\n",
      "[Parallel(n_jobs=4)]: Done  42 tasks      | elapsed:    0.0s\n",
      "[Parallel(n_jobs=4)]: Done 192 tasks      | elapsed:    0.2s\n",
      "[Parallel(n_jobs=4)]: Done 250 out of 250 | elapsed:    0.3s finished\n",
      "[Parallel(n_jobs=4)]: Done  42 tasks      | elapsed:    0.0s\n",
      "[Parallel(n_jobs=4)]: Done 192 tasks      | elapsed:    0.3s\n",
      "[Parallel(n_jobs=4)]: Done 250 out of 250 | elapsed:    0.3s finished\n",
      "[Parallel(n_jobs=4)]: Done  42 tasks      | elapsed:    0.0s\n",
      "[Parallel(n_jobs=4)]: Done 192 tasks      | elapsed:    0.2s\n",
      "[Parallel(n_jobs=4)]: Done 192 tasks      | elapsed:    0.0s\n",
      "[Parallel(n_jobs=4)]: Done 250 out of 250 | elapsed:    0.1s finished\n",
      "[Parallel(n_jobs=4)]: Done 250 out of 250 | elapsed:    0.3s finished\n",
      "[Parallel(n_jobs=4)]: Done  42 tasks      | elapsed:    0.0s\n",
      "[Parallel(n_jobs=4)]: Done 192 tasks      | elapsed:    0.1s\n",
      "[Parallel(n_jobs=4)]: Done 250 out of 250 | elapsed:    0.1s finished\n"
     ]
    },
    {
     "name": "stderr",
     "output_type": "stream",
     "text": [
      "[Parallel(n_jobs=4)]: Done  42 tasks      | elapsed:    0.0s\n",
      "[Parallel(n_jobs=4)]: Done  42 tasks      | elapsed:    0.0s\n",
      "[Parallel(n_jobs=4)]: Done 192 tasks      | elapsed:    0.0s\n",
      "[Parallel(n_jobs=4)]: Done 250 out of 250 | elapsed:    0.1s finished\n",
      "[Parallel(n_jobs=4)]: Done 192 tasks      | elapsed:    0.2s\n",
      "[Parallel(n_jobs=4)]: Done  42 tasks      | elapsed:    0.0s\n",
      "[Parallel(n_jobs=4)]: Done 250 out of 250 | elapsed:    0.3s finished\n",
      "[Parallel(n_jobs=4)]: Done 192 tasks      | elapsed:    0.2s\n",
      "[Parallel(n_jobs=4)]: Done  42 tasks      | elapsed:    0.0s\n",
      "[Parallel(n_jobs=4)]: Done  42 tasks      | elapsed:    0.0s\n",
      "[Parallel(n_jobs=4)]: Done 250 out of 250 | elapsed:    0.3s finished\n",
      "[Parallel(n_jobs=4)]: Done 192 tasks      | elapsed:    0.1s\n",
      "[Parallel(n_jobs=4)]: Done 250 out of 250 | elapsed:    0.1s finished\n",
      "[Parallel(n_jobs=4)]: Done 192 tasks      | elapsed:    0.2s\n",
      "[Parallel(n_jobs=4)]: Done  42 tasks      | elapsed:    0.0s\n",
      "[Parallel(n_jobs=4)]: Done  42 tasks      | elapsed:    0.0s\n",
      "[Parallel(n_jobs=4)]: Done 250 out of 250 | elapsed:    0.4s finished\n",
      "[Parallel(n_jobs=4)]: Done 192 tasks      | elapsed:    0.0s\n",
      "[Parallel(n_jobs=4)]: Done 192 tasks      | elapsed:    0.2s\n",
      "[Parallel(n_jobs=4)]: Done 250 out of 250 | elapsed:    0.1s finished\n",
      "[Parallel(n_jobs=4)]: Done 250 out of 250 | elapsed:    0.3s finished\n",
      "[Parallel(n_jobs=4)]: Done  42 tasks      | elapsed:    0.0s\n",
      "[Parallel(n_jobs=4)]: Done 192 tasks      | elapsed:    0.0s\n",
      "[Parallel(n_jobs=4)]: Done 250 out of 250 | elapsed:    0.0s finished\n",
      "[Parallel(n_jobs=4)]: Done  42 tasks      | elapsed:    0.0s\n",
      "[Parallel(n_jobs=4)]: Done 192 tasks      | elapsed:    0.0s\n",
      "[Parallel(n_jobs=4)]: Done 250 out of 250 | elapsed:    0.1s finished\n",
      "[Parallel(n_jobs=4)]: Done  42 tasks      | elapsed:    0.0s\n",
      "[Parallel(n_jobs=4)]: Done  42 tasks      | elapsed:    0.0s\n",
      "[Parallel(n_jobs=4)]: Done 192 tasks      | elapsed:    0.2s\n",
      "[Parallel(n_jobs=4)]: Done 192 tasks      | elapsed:    0.2s\n",
      "[Parallel(n_jobs=4)]: Done 250 out of 250 | elapsed:    0.3s finished\n",
      "[Parallel(n_jobs=4)]: Done 250 out of 250 | elapsed:    0.3s finished\n",
      "[Parallel(n_jobs=4)]: Done  42 tasks      | elapsed:    0.0s\n",
      "[Parallel(n_jobs=4)]: Done  42 tasks      | elapsed:    0.0s\n",
      "[Parallel(n_jobs=4)]: Done  42 tasks      | elapsed:    0.0s\n",
      "[Parallel(n_jobs=4)]: Done 192 tasks      | elapsed:    0.1s\n",
      "[Parallel(n_jobs=4)]: Done 250 out of 250 | elapsed:    0.1s finished\n",
      "[Parallel(n_jobs=4)]: Done 192 tasks      | elapsed:    0.1s\n",
      "[Parallel(n_jobs=4)]: Done 250 out of 250 | elapsed:    0.1s finished\n",
      "[Parallel(n_jobs=4)]: Done 192 tasks      | elapsed:    0.2s\n",
      "[Parallel(n_jobs=4)]: Done 250 out of 250 | elapsed:    0.3s finished\n",
      "[Parallel(n_jobs=4)]: Done  42 tasks      | elapsed:    0.0s\n",
      "[Parallel(n_jobs=4)]: Done  42 tasks      | elapsed:    0.0s\n",
      "[Parallel(n_jobs=4)]: Done 192 tasks      | elapsed:    0.2s\n",
      "[Parallel(n_jobs=4)]: Done 192 tasks      | elapsed:    0.0s\n",
      "[Parallel(n_jobs=4)]: Done 250 out of 250 | elapsed:    0.1s finished\n",
      "[Parallel(n_jobs=4)]: Done 250 out of 250 | elapsed:    0.3s finished\n",
      "[Parallel(n_jobs=4)]: Done  42 tasks      | elapsed:    0.0s\n",
      "[Parallel(n_jobs=4)]: Done  42 tasks      | elapsed:    0.0s\n",
      "[Parallel(n_jobs=4)]: Done  42 tasks      | elapsed:    0.0s\n",
      "[Parallel(n_jobs=4)]: Done 192 tasks      | elapsed:    0.1s\n",
      "[Parallel(n_jobs=4)]: Done 250 out of 250 | elapsed:    0.1s finished\n",
      "[Parallel(n_jobs=4)]: Done 192 tasks      | elapsed:    0.3s\n",
      "[Parallel(n_jobs=4)]: Done 192 tasks      | elapsed:    0.3s\n",
      "[Parallel(n_jobs=4)]: Done 250 out of 250 | elapsed:    0.4s finished\n",
      "[Parallel(n_jobs=4)]: Done 250 out of 250 | elapsed:    0.3s finished\n",
      "[Parallel(n_jobs=4)]: Done  42 tasks      | elapsed:    0.0s\n",
      "[Parallel(n_jobs=4)]: Done 192 tasks      | elapsed:    0.0s\n",
      "[Parallel(n_jobs=4)]: Done 250 out of 250 | elapsed:    0.1s finished\n",
      "[Parallel(n_jobs=4)]: Done  42 tasks      | elapsed:    0.0s\n",
      "[Parallel(n_jobs=4)]: Done  42 tasks      | elapsed:    0.0s\n",
      "[Parallel(n_jobs=4)]: Done 192 tasks      | elapsed:    0.0s\n",
      "[Parallel(n_jobs=4)]: Done 250 out of 250 | elapsed:    0.1s finished\n",
      "[Parallel(n_jobs=4)]: Done  42 tasks      | elapsed:    0.0s\n",
      "[Parallel(n_jobs=4)]: Done 192 tasks      | elapsed:    0.3s\n",
      "[Parallel(n_jobs=4)]: Done 250 out of 250 | elapsed:    0.4s finished\n",
      "[Parallel(n_jobs=4)]: Done 192 tasks      | elapsed:    0.2s\n",
      "[Parallel(n_jobs=4)]: Done  42 tasks      | elapsed:    0.0s\n",
      "[Parallel(n_jobs=4)]: Done 250 out of 250 | elapsed:    0.3s finished\n",
      "[Parallel(n_jobs=4)]: Done 192 tasks      | elapsed:    0.0s\n",
      "[Parallel(n_jobs=4)]: Done 250 out of 250 | elapsed:    0.0s finished\n",
      "[Parallel(n_jobs=4)]: Done  42 tasks      | elapsed:    0.0s\n",
      "[Parallel(n_jobs=4)]: Done  42 tasks      | elapsed:    0.1s\n",
      "[Parallel(n_jobs=4)]: Done  42 tasks      | elapsed:    0.0s\n",
      "[Parallel(n_jobs=4)]: Done 192 tasks      | elapsed:    0.0s\n",
      "[Parallel(n_jobs=4)]: Done 250 out of 250 | elapsed:    0.1s finished\n",
      "[Parallel(n_jobs=4)]: Done 192 tasks      | elapsed:    0.3s\n",
      "[Parallel(n_jobs=4)]: Done 192 tasks      | elapsed:    0.3s\n",
      "[Parallel(n_jobs=4)]: Done 250 out of 250 | elapsed:    0.3s finished\n",
      "[Parallel(n_jobs=4)]: Done 250 out of 250 | elapsed:    0.4s finished\n",
      "[Parallel(n_jobs=4)]: Done  42 tasks      | elapsed:    0.0s\n",
      "[Parallel(n_jobs=4)]: Done 192 tasks      | elapsed:    0.0s\n",
      "[Parallel(n_jobs=4)]: Done 250 out of 250 | elapsed:    0.0s finished\n",
      "[Parallel(n_jobs=4)]: Done  42 tasks      | elapsed:    0.0s\n",
      "[Parallel(n_jobs=4)]: Done 192 tasks      | elapsed:    0.0s\n",
      "[Parallel(n_jobs=4)]: Done 250 out of 250 | elapsed:    0.1s finished\n",
      "[Parallel(n_jobs=4)]: Done  42 tasks      | elapsed:    0.0s\n",
      "[Parallel(n_jobs=4)]: Done  42 tasks      | elapsed:    0.0s\n",
      "[Parallel(n_jobs=4)]: Done 192 tasks      | elapsed:    0.3s\n",
      "[Parallel(n_jobs=4)]: Done 192 tasks      | elapsed:    0.2s\n",
      "[Parallel(n_jobs=4)]: Done 250 out of 250 | elapsed:    0.4s finished\n",
      "[Parallel(n_jobs=4)]: Done 250 out of 250 | elapsed:    0.3s finished\n",
      "[Parallel(n_jobs=4)]: Done  42 tasks      | elapsed:    0.0s\n",
      "[Parallel(n_jobs=4)]: Done  42 tasks      | elapsed:    0.0s\n",
      "[Parallel(n_jobs=4)]: Done 192 tasks      | elapsed:    0.0s\n",
      "[Parallel(n_jobs=4)]: Done 250 out of 250 | elapsed:    0.1s finished\n",
      "[Parallel(n_jobs=4)]: Done  42 tasks      | elapsed:    0.0s\n",
      "[Parallel(n_jobs=4)]: Done 192 tasks      | elapsed:    0.0s\n",
      "[Parallel(n_jobs=4)]: Done 250 out of 250 | elapsed:    0.1s finished\n",
      "[Parallel(n_jobs=4)]: Done  42 tasks      | elapsed:    0.0s\n",
      "[Parallel(n_jobs=4)]: Done 192 tasks      | elapsed:    0.3s\n",
      "[Parallel(n_jobs=4)]: Done 250 out of 250 | elapsed:    0.4s finished\n",
      "[Parallel(n_jobs=4)]: Done 192 tasks      | elapsed:    0.2s\n",
      "[Parallel(n_jobs=4)]: Done 250 out of 250 | elapsed:    0.3s finished\n",
      "[Parallel(n_jobs=4)]: Done  42 tasks      | elapsed:    0.0s\n",
      "[Parallel(n_jobs=4)]: Done 192 tasks      | elapsed:    0.0s\n",
      "[Parallel(n_jobs=4)]: Done 250 out of 250 | elapsed:    0.1s finished\n",
      "[Parallel(n_jobs=4)]: Done  42 tasks      | elapsed:    0.0s\n",
      "[Parallel(n_jobs=4)]: Done 192 tasks      | elapsed:    0.0s\n",
      "[Parallel(n_jobs=4)]: Done 250 out of 250 | elapsed:    0.1s finished\n",
      "[Parallel(n_jobs=4)]: Done  42 tasks      | elapsed:    0.0s\n",
      "[Parallel(n_jobs=4)]: Done  42 tasks      | elapsed:    0.0s\n",
      "[Parallel(n_jobs=4)]: Done 192 tasks      | elapsed:    0.3s\n",
      "[Parallel(n_jobs=4)]: Done 192 tasks      | elapsed:    0.2s\n",
      "[Parallel(n_jobs=4)]: Done 250 out of 250 | elapsed:    0.4s finished\n",
      "[Parallel(n_jobs=4)]: Done 250 out of 250 | elapsed:    0.3s finished\n",
      "[Parallel(n_jobs=4)]: Done  42 tasks      | elapsed:    0.0s\n",
      "[Parallel(n_jobs=4)]: Done 192 tasks      | elapsed:    0.0s\n",
      "[Parallel(n_jobs=4)]: Done 250 out of 250 | elapsed:    0.1s finished\n",
      "[Parallel(n_jobs=4)]: Done  42 tasks      | elapsed:    0.1s\n",
      "[Parallel(n_jobs=4)]: Done  42 tasks      | elapsed:    0.0s\n",
      "[Parallel(n_jobs=4)]: Done 192 tasks      | elapsed:    0.3s\n",
      "[Parallel(n_jobs=4)]: Done 192 tasks      | elapsed:    0.2s\n",
      "[Parallel(n_jobs=4)]: Done  42 tasks      | elapsed:    0.0s\n",
      "[Parallel(n_jobs=4)]: Done 250 out of 250 | elapsed:    0.4s finished\n",
      "[Parallel(n_jobs=4)]: Done 192 tasks      | elapsed:    0.0s\n",
      "[Parallel(n_jobs=4)]: Done 250 out of 250 | elapsed:    0.1s finished\n",
      "[Parallel(n_jobs=4)]: Done 250 out of 250 | elapsed:    0.3s finished\n"
     ]
    },
    {
     "name": "stderr",
     "output_type": "stream",
     "text": [
      "[Parallel(n_jobs=4)]: Done  42 tasks      | elapsed:    0.0s\n",
      "[Parallel(n_jobs=4)]: Done  42 tasks      | elapsed:    0.0s\n",
      "[Parallel(n_jobs=4)]: Done 192 tasks      | elapsed:    0.0s\n",
      "[Parallel(n_jobs=4)]: Done  42 tasks      | elapsed:    0.0s\n",
      "[Parallel(n_jobs=4)]: Done 250 out of 250 | elapsed:    0.1s finished\n",
      "[Parallel(n_jobs=4)]: Done 192 tasks      | elapsed:    0.1s\n",
      "[Parallel(n_jobs=4)]: Done 250 out of 250 | elapsed:    0.1s finished\n",
      "[Parallel(n_jobs=4)]: Done 192 tasks      | elapsed:    0.2s\n",
      "[Parallel(n_jobs=4)]: Done 250 out of 250 | elapsed:    0.3s finished\n",
      "[Parallel(n_jobs=4)]: Done  42 tasks      | elapsed:    0.0s\n",
      "[Parallel(n_jobs=4)]: Done  42 tasks      | elapsed:    0.0s\n",
      "[Parallel(n_jobs=4)]: Done 192 tasks      | elapsed:    0.2s\n",
      "[Parallel(n_jobs=4)]: Done 192 tasks      | elapsed:    0.0s\n",
      "[Parallel(n_jobs=4)]: Done 250 out of 250 | elapsed:    0.1s finished\n",
      "[Parallel(n_jobs=4)]: Done 250 out of 250 | elapsed:    0.3s finished\n",
      "[Parallel(n_jobs=4)]: Done  42 tasks      | elapsed:    0.0s\n",
      "[Parallel(n_jobs=4)]: Done  42 tasks      | elapsed:    0.0s\n",
      "[Parallel(n_jobs=4)]: Done 192 tasks      | elapsed:    0.3s\n",
      "[Parallel(n_jobs=4)]: Done  42 tasks      | elapsed:    0.0s\n",
      "[Parallel(n_jobs=4)]: Done 192 tasks      | elapsed:    0.1s\n",
      "[Parallel(n_jobs=4)]: Done 250 out of 250 | elapsed:    0.1s finished\n",
      "[Parallel(n_jobs=4)]: Done 250 out of 250 | elapsed:    0.3s finished\n",
      "[Parallel(n_jobs=4)]: Done 192 tasks      | elapsed:    0.3s\n",
      "[Parallel(n_jobs=4)]: Done 250 out of 250 | elapsed:    0.3s finished\n",
      "[Parallel(n_jobs=4)]: Done  42 tasks      | elapsed:    0.0s\n",
      "[Parallel(n_jobs=4)]: Done 192 tasks      | elapsed:    0.0s\n",
      "[Parallel(n_jobs=4)]: Done 250 out of 250 | elapsed:    0.1s finished\n",
      "[Parallel(n_jobs=4)]: Done  42 tasks      | elapsed:    0.0s\n",
      "[Parallel(n_jobs=4)]: Done  42 tasks      | elapsed:    0.0s\n",
      "[Parallel(n_jobs=4)]: Done 192 tasks      | elapsed:    0.0s\n",
      "[Parallel(n_jobs=4)]: Done 192 tasks      | elapsed:    0.2s\n",
      "[Parallel(n_jobs=4)]: Done 250 out of 250 | elapsed:    0.1s finished\n",
      "[Parallel(n_jobs=4)]: Done 250 out of 250 | elapsed:    0.3s finished\n",
      "[Parallel(n_jobs=4)]: Done  42 tasks      | elapsed:    0.0s\n",
      "[Parallel(n_jobs=4)]: Done  42 tasks      | elapsed:    0.0s\n",
      "[Parallel(n_jobs=4)]: Done 192 tasks      | elapsed:    0.2s\n",
      "[Parallel(n_jobs=4)]: Done 192 tasks      | elapsed:    0.0s\n",
      "[Parallel(n_jobs=4)]: Done 250 out of 250 | elapsed:    0.1s finished\n",
      "[Parallel(n_jobs=4)]: Done 250 out of 250 | elapsed:    0.3s finished\n",
      "[Parallel(n_jobs=4)]: Done  42 tasks      | elapsed:    0.1s\n",
      "[Parallel(n_jobs=4)]: Done  42 tasks      | elapsed:    0.0s\n",
      "[Parallel(n_jobs=4)]: Done 192 tasks      | elapsed:    0.3s\n",
      "[Parallel(n_jobs=4)]: Done 192 tasks      | elapsed:    0.3s\n",
      "[Parallel(n_jobs=4)]: Done 250 out of 250 | elapsed:    0.4s finished\n",
      "[Parallel(n_jobs=4)]: Done  42 tasks      | elapsed:    0.0s\n",
      "[Parallel(n_jobs=4)]: Done 192 tasks      | elapsed:    0.0s\n",
      "[Parallel(n_jobs=4)]: Done 250 out of 250 | elapsed:    0.1s finished\n",
      "[Parallel(n_jobs=4)]: Done 250 out of 250 | elapsed:    0.4s finished\n",
      "[Parallel(n_jobs=4)]: Done  42 tasks      | elapsed:    0.0s\n",
      "[Parallel(n_jobs=4)]: Done 192 tasks      | elapsed:    0.0s\n",
      "[Parallel(n_jobs=4)]: Done 250 out of 250 | elapsed:    0.1s finished\n",
      "[Parallel(n_jobs=4)]: Done  42 tasks      | elapsed:    0.0s\n",
      "[Parallel(n_jobs=4)]: Done 192 tasks      | elapsed:    0.0s\n",
      "[Parallel(n_jobs=4)]: Done 250 out of 250 | elapsed:    0.1s finished\n",
      "[Parallel(n_jobs=4)]: Done  42 tasks      | elapsed:    0.0s\n",
      "[Parallel(n_jobs=4)]: Done 192 tasks      | elapsed:    0.3s\n",
      "[Parallel(n_jobs=4)]: Done  42 tasks      | elapsed:    0.0s\n",
      "[Parallel(n_jobs=4)]: Done 250 out of 250 | elapsed:    0.4s finished\n",
      "[Parallel(n_jobs=4)]: Done  42 tasks      | elapsed:    0.0s\n",
      "[Parallel(n_jobs=4)]: Done 192 tasks      | elapsed:    0.3s\n",
      "[Parallel(n_jobs=4)]: Done  42 tasks      | elapsed:    0.0s\n",
      "[Parallel(n_jobs=4)]: Done 192 tasks      | elapsed:    0.0s\n",
      "[Parallel(n_jobs=4)]: Done 250 out of 250 | elapsed:    0.1s finished\n",
      "[Parallel(n_jobs=4)]: Done 192 tasks      | elapsed:    0.2s\n",
      "[Parallel(n_jobs=4)]: Done 250 out of 250 | elapsed:    0.4s finished\n",
      "[Parallel(n_jobs=4)]: Done  42 tasks      | elapsed:    0.0s\n",
      "[Parallel(n_jobs=4)]: Done 250 out of 250 | elapsed:    0.4s finished\n",
      "[Parallel(n_jobs=4)]: Done  42 tasks      | elapsed:    0.0s\n",
      "[Parallel(n_jobs=4)]: Done 192 tasks      | elapsed:    0.0s\n",
      "[Parallel(n_jobs=4)]: Done 192 tasks      | elapsed:    0.2s\n",
      "[Parallel(n_jobs=4)]: Done 250 out of 250 | elapsed:    0.1s finished\n",
      "[Parallel(n_jobs=4)]: Done  42 tasks      | elapsed:    0.0s\n",
      "[Parallel(n_jobs=4)]: Done 192 tasks      | elapsed:    0.0s\n",
      "[Parallel(n_jobs=4)]: Done 250 out of 250 | elapsed:    0.3s finished\n",
      "[Parallel(n_jobs=4)]: Done 250 out of 250 | elapsed:    0.1s finished\n",
      "[Parallel(n_jobs=4)]: Done  42 tasks      | elapsed:    0.0s\n",
      "[Parallel(n_jobs=4)]: Done 192 tasks      | elapsed:    0.0s\n",
      "[Parallel(n_jobs=4)]: Done 250 out of 250 | elapsed:    0.1s finished\n",
      "[Parallel(n_jobs=4)]: Done  42 tasks      | elapsed:    0.1s\n",
      "[Parallel(n_jobs=4)]: Done  42 tasks      | elapsed:    0.0s\n",
      "[Parallel(n_jobs=4)]: Done 192 tasks      | elapsed:    0.3s\n",
      "[Parallel(n_jobs=4)]: Done 250 out of 250 | elapsed:    0.4s finished\n",
      "[Parallel(n_jobs=4)]: Done 192 tasks      | elapsed:    0.2s\n",
      "[Parallel(n_jobs=4)]: Done  42 tasks      | elapsed:    0.0s\n",
      "[Parallel(n_jobs=4)]: Done 250 out of 250 | elapsed:    0.3s finished\n",
      "[Parallel(n_jobs=4)]: Done  42 tasks      | elapsed:    0.0s\n",
      "[Parallel(n_jobs=4)]: Done 192 tasks      | elapsed:    0.0s\n",
      "[Parallel(n_jobs=4)]: Done 250 out of 250 | elapsed:    0.1s finished\n",
      "[Parallel(n_jobs=4)]: Done 192 tasks      | elapsed:    0.3s\n",
      "[Parallel(n_jobs=4)]: Done  42 tasks      | elapsed:    0.0s\n",
      "[Parallel(n_jobs=4)]: Done 192 tasks      | elapsed:    0.0s\n",
      "[Parallel(n_jobs=4)]: Done 250 out of 250 | elapsed:    0.1s finished\n",
      "[Parallel(n_jobs=4)]: Done 250 out of 250 | elapsed:    0.3s finished\n",
      "[Parallel(n_jobs=4)]: Done  42 tasks      | elapsed:    0.0s\n",
      "[Parallel(n_jobs=4)]: Done  42 tasks      | elapsed:    0.0s\n",
      "[Parallel(n_jobs=4)]: Done 192 tasks      | elapsed:    0.0s\n",
      "[Parallel(n_jobs=4)]: Done 250 out of 250 | elapsed:    0.1s finished\n",
      "[Parallel(n_jobs=4)]: Done 192 tasks      | elapsed:    0.3s\n",
      "[Parallel(n_jobs=4)]: Done 250 out of 250 | elapsed:    0.3s finished\n",
      "[Parallel(n_jobs=4)]: Done  42 tasks      | elapsed:    0.0s\n",
      "[Parallel(n_jobs=4)]: Done  42 tasks      | elapsed:    0.0s\n",
      "[Parallel(n_jobs=4)]: Done 192 tasks      | elapsed:    0.1s\n",
      "[Parallel(n_jobs=4)]: Done  42 tasks      | elapsed:    0.1s\n",
      "[Parallel(n_jobs=4)]: Done 250 out of 250 | elapsed:    0.1s finished\n",
      "[Parallel(n_jobs=4)]: Done 192 tasks      | elapsed:    0.3s\n",
      "[Parallel(n_jobs=4)]: Done 250 out of 250 | elapsed:    0.4s finished\n",
      "[Parallel(n_jobs=4)]: Done 192 tasks      | elapsed:    0.3s\n",
      "[Parallel(n_jobs=4)]: Done  42 tasks      | elapsed:    0.0s\n",
      "[Parallel(n_jobs=4)]: Done 250 out of 250 | elapsed:    0.4s finished\n",
      "[Parallel(n_jobs=4)]: Done  42 tasks      | elapsed:    0.0s\n",
      "[Parallel(n_jobs=4)]: Done 192 tasks      | elapsed:    0.0s\n",
      "[Parallel(n_jobs=4)]: Done 250 out of 250 | elapsed:    0.1s finished\n",
      "[Parallel(n_jobs=4)]: Done 192 tasks      | elapsed:    0.3s\n",
      "[Parallel(n_jobs=4)]: Done  42 tasks      | elapsed:    0.0s\n",
      "[Parallel(n_jobs=4)]: Done 192 tasks      | elapsed:    0.0s\n",
      "[Parallel(n_jobs=4)]: Done 250 out of 250 | elapsed:    0.1s finished\n",
      "[Parallel(n_jobs=4)]: Done 250 out of 250 | elapsed:    0.4s finished\n",
      "[Parallel(n_jobs=4)]: Done  42 tasks      | elapsed:    0.0s\n",
      "[Parallel(n_jobs=4)]: Done  42 tasks      | elapsed:    0.0s\n",
      "[Parallel(n_jobs=4)]: Done 192 tasks      | elapsed:    0.0s\n",
      "[Parallel(n_jobs=4)]: Done 250 out of 250 | elapsed:    0.0s finished\n",
      "[Parallel(n_jobs=4)]: Done 192 tasks      | elapsed:    0.2s\n",
      "[Parallel(n_jobs=4)]: Done 250 out of 250 | elapsed:    0.3s finished\n",
      "[Parallel(n_jobs=4)]: Done  42 tasks      | elapsed:    0.0s\n",
      "[Parallel(n_jobs=4)]: Done  42 tasks      | elapsed:    0.0s\n",
      "[Parallel(n_jobs=4)]: Done 192 tasks      | elapsed:    0.0s\n",
      "[Parallel(n_jobs=4)]: Done 250 out of 250 | elapsed:    0.1s finished\n",
      "[Parallel(n_jobs=4)]: Done 192 tasks      | elapsed:    0.3s\n",
      "[Parallel(n_jobs=4)]: Done  42 tasks      | elapsed:    0.0s\n"
     ]
    },
    {
     "name": "stderr",
     "output_type": "stream",
     "text": [
      "[Parallel(n_jobs=4)]: Done 250 out of 250 | elapsed:    0.4s finished\n",
      "[Parallel(n_jobs=4)]: Done  42 tasks      | elapsed:    0.0s\n",
      "[Parallel(n_jobs=4)]: Done 192 tasks      | elapsed:    0.3s\n",
      "[Parallel(n_jobs=4)]: Done 250 out of 250 | elapsed:    0.4s finished\n",
      "[Parallel(n_jobs=4)]: Done  42 tasks      | elapsed:    0.0s\n",
      "[Parallel(n_jobs=4)]: Done 192 tasks      | elapsed:    0.2s\n",
      "[Parallel(n_jobs=4)]: Done 192 tasks      | elapsed:    0.0s\n",
      "[Parallel(n_jobs=4)]: Done 250 out of 250 | elapsed:    0.1s finished\n",
      "[Parallel(n_jobs=4)]: Done 250 out of 250 | elapsed:    0.3s finished\n",
      "[Parallel(n_jobs=4)]: Done  42 tasks      | elapsed:    0.0s\n",
      "[Parallel(n_jobs=4)]: Done 192 tasks      | elapsed:    0.0s\n",
      "[Parallel(n_jobs=4)]: Done 250 out of 250 | elapsed:    0.1s finished\n",
      "[Parallel(n_jobs=4)]: Done  42 tasks      | elapsed:    0.1s\n",
      "[Parallel(n_jobs=4)]: Done  42 tasks      | elapsed:    0.0s\n",
      "[Parallel(n_jobs=4)]: Done 192 tasks      | elapsed:    0.0s\n",
      "[Parallel(n_jobs=4)]: Done 250 out of 250 | elapsed:    0.1s finished\n",
      "[Parallel(n_jobs=4)]: Done 192 tasks      | elapsed:    0.3s\n",
      "[Parallel(n_jobs=4)]: Done  42 tasks      | elapsed:    0.0s\n",
      "[Parallel(n_jobs=4)]: Done 250 out of 250 | elapsed:    0.4s finished\n",
      "[Parallel(n_jobs=4)]: Done 192 tasks      | elapsed:    0.2s\n",
      "[Parallel(n_jobs=4)]: Done 250 out of 250 | elapsed:    0.2s finished\n",
      "[Parallel(n_jobs=4)]: Done  42 tasks      | elapsed:    0.0s\n",
      "[Parallel(n_jobs=4)]: Done 192 tasks      | elapsed:    0.0s\n",
      "[Parallel(n_jobs=4)]: Done 250 out of 250 | elapsed:    0.1s finished\n",
      "[Parallel(n_jobs=4)]: Done  42 tasks      | elapsed:    0.0s\n",
      "[Parallel(n_jobs=4)]: Done  42 tasks      | elapsed:    0.0s\n",
      "[Parallel(n_jobs=4)]: Done 192 tasks      | elapsed:    0.0s\n",
      "[Parallel(n_jobs=4)]: Done 250 out of 250 | elapsed:    0.1s finished\n",
      "[Parallel(n_jobs=4)]: Done  42 tasks      | elapsed:    0.0s\n",
      "[Parallel(n_jobs=4)]: Done 192 tasks      | elapsed:    0.3s\n",
      "[Parallel(n_jobs=4)]: Done 250 out of 250 | elapsed:    0.4s finished\n",
      "[Parallel(n_jobs=4)]: Done 192 tasks      | elapsed:    0.3s\n",
      "[Parallel(n_jobs=4)]: Done 250 out of 250 | elapsed:    0.3s finished\n",
      "[Parallel(n_jobs=4)]: Done  42 tasks      | elapsed:    0.0s\n",
      "[Parallel(n_jobs=4)]: Done 192 tasks      | elapsed:    0.0s\n",
      "[Parallel(n_jobs=4)]: Done  42 tasks      | elapsed:    0.1s\n",
      "[Parallel(n_jobs=4)]: Done 250 out of 250 | elapsed:    0.1s finished\n",
      "[Parallel(n_jobs=4)]: Done  42 tasks      | elapsed:    0.0s\n",
      "[Parallel(n_jobs=4)]: Done 192 tasks      | elapsed:    0.0s\n",
      "[Parallel(n_jobs=4)]: Done 250 out of 250 | elapsed:    0.1s finished\n",
      "[Parallel(n_jobs=4)]: Done 192 tasks      | elapsed:    0.3s\n",
      "[Parallel(n_jobs=4)]: Done  42 tasks      | elapsed:    0.1s\n",
      "[Parallel(n_jobs=4)]: Done 250 out of 250 | elapsed:    0.4s finished\n",
      "[Parallel(n_jobs=4)]: Done 192 tasks      | elapsed:    0.3s\n",
      "[Parallel(n_jobs=4)]: Done  42 tasks      | elapsed:    0.0s\n",
      "[Parallel(n_jobs=4)]: Done 250 out of 250 | elapsed:    0.4s finished\n",
      "[Parallel(n_jobs=4)]: Done 192 tasks      | elapsed:    0.0s\n",
      "[Parallel(n_jobs=4)]: Done 250 out of 250 | elapsed:    0.1s finished\n",
      "[Parallel(n_jobs=4)]: Done  42 tasks      | elapsed:    0.0s\n",
      "[Parallel(n_jobs=4)]: Done  42 tasks      | elapsed:    0.0s\n",
      "[Parallel(n_jobs=4)]: Done 192 tasks      | elapsed:    0.0s\n",
      "[Parallel(n_jobs=4)]: Done 250 out of 250 | elapsed:    0.1s finished\n",
      "[Parallel(n_jobs=4)]: Done  42 tasks      | elapsed:    0.0s\n",
      "[Parallel(n_jobs=4)]: Done 192 tasks      | elapsed:    0.3s\n",
      "[Parallel(n_jobs=4)]: Done 250 out of 250 | elapsed:    0.4s finished\n",
      "[Parallel(n_jobs=4)]: Done 192 tasks      | elapsed:    0.2s\n",
      "[Parallel(n_jobs=4)]: Done 250 out of 250 | elapsed:    0.3s finished\n",
      "[Parallel(n_jobs=4)]: Done  42 tasks      | elapsed:    0.0s\n",
      "[Parallel(n_jobs=4)]: Done 192 tasks      | elapsed:    0.0s\n",
      "[Parallel(n_jobs=4)]: Done 250 out of 250 | elapsed:    0.1s finished\n",
      "[Parallel(n_jobs=4)]: Done  42 tasks      | elapsed:    0.0s\n",
      "[Parallel(n_jobs=4)]: Done  42 tasks      | elapsed:    0.0s\n",
      "[Parallel(n_jobs=4)]: Done 192 tasks      | elapsed:    0.0s\n",
      "[Parallel(n_jobs=4)]: Done 250 out of 250 | elapsed:    0.1s finished\n",
      "[Parallel(n_jobs=4)]: Done 192 tasks      | elapsed:    0.3s\n",
      "[Parallel(n_jobs=4)]: Done  42 tasks      | elapsed:    0.0s\n",
      "[Parallel(n_jobs=4)]: Done 250 out of 250 | elapsed:    0.4s finished\n",
      "[Parallel(n_jobs=4)]: Done 192 tasks      | elapsed:    0.3s\n",
      "[Parallel(n_jobs=4)]: Done  42 tasks      | elapsed:    0.0s\n",
      "[Parallel(n_jobs=4)]: Done 250 out of 250 | elapsed:    0.3s finished\n",
      "[Parallel(n_jobs=4)]: Done 192 tasks      | elapsed:    0.0s\n",
      "[Parallel(n_jobs=4)]: Done 250 out of 250 | elapsed:    0.1s finished\n",
      "[Parallel(n_jobs=4)]: Done  42 tasks      | elapsed:    0.1s\n",
      "[Parallel(n_jobs=4)]: Done  42 tasks      | elapsed:    0.0s\n",
      "[Parallel(n_jobs=4)]: Done 192 tasks      | elapsed:    0.0s\n",
      "[Parallel(n_jobs=4)]: Done 250 out of 250 | elapsed:    0.1s finished\n",
      "[Parallel(n_jobs=4)]: Done  42 tasks      | elapsed:    0.0s\n",
      "[Parallel(n_jobs=4)]: Done 192 tasks      | elapsed:    0.3s\n",
      "[Parallel(n_jobs=4)]: Done 250 out of 250 | elapsed:    0.4s finished\n",
      "[Parallel(n_jobs=4)]: Done 192 tasks      | elapsed:    0.3s\n",
      "[Parallel(n_jobs=4)]: Done  42 tasks      | elapsed:    0.0s\n",
      "[Parallel(n_jobs=4)]: Done 250 out of 250 | elapsed:    0.3s finished\n",
      "[Parallel(n_jobs=4)]: Done 192 tasks      | elapsed:    0.0s\n",
      "[Parallel(n_jobs=4)]: Done 250 out of 250 | elapsed:    0.1s finished\n",
      "[Parallel(n_jobs=4)]: Done  42 tasks      | elapsed:    0.0s\n",
      "[Parallel(n_jobs=4)]: Done  42 tasks      | elapsed:    0.0s\n",
      "[Parallel(n_jobs=4)]: Done 192 tasks      | elapsed:    0.0s\n",
      "[Parallel(n_jobs=4)]: Done 250 out of 250 | elapsed:    0.1s finished\n",
      "[Parallel(n_jobs=4)]: Done  42 tasks      | elapsed:    0.0s\n",
      "[Parallel(n_jobs=4)]: Done 192 tasks      | elapsed:    0.3s\n",
      "[Parallel(n_jobs=4)]: Done 192 tasks      | elapsed:    0.2s\n",
      "[Parallel(n_jobs=4)]: Done 250 out of 250 | elapsed:    0.4s finished\n",
      "[Parallel(n_jobs=4)]: Done 250 out of 250 | elapsed:    0.2s finished\n",
      "[Parallel(n_jobs=4)]: Done  42 tasks      | elapsed:    0.0s\n",
      "[Parallel(n_jobs=4)]: Done 192 tasks      | elapsed:    0.0s\n",
      "[Parallel(n_jobs=4)]: Done 250 out of 250 | elapsed:    0.0s finished\n",
      "[Parallel(n_jobs=4)]: Done  42 tasks      | elapsed:    0.0s\n",
      "[Parallel(n_jobs=4)]: Done  42 tasks      | elapsed:    0.0s\n",
      "[Parallel(n_jobs=4)]: Done 192 tasks      | elapsed:    0.0s\n",
      "[Parallel(n_jobs=4)]: Done 250 out of 250 | elapsed:    0.1s finished\n",
      "[Parallel(n_jobs=4)]: Done 192 tasks      | elapsed:    0.2s\n",
      "[Parallel(n_jobs=4)]: Done  42 tasks      | elapsed:    0.0s\n",
      "[Parallel(n_jobs=4)]: Done 250 out of 250 | elapsed:    0.2s finished\n",
      "[Parallel(n_jobs=4)]: Done 192 tasks      | elapsed:    0.2s\n",
      "[Parallel(n_jobs=4)]: Done 250 out of 250 | elapsed:    0.2s finished\n",
      "[Parallel(n_jobs=4)]: Done  42 tasks      | elapsed:    0.0s\n",
      "[Parallel(n_jobs=4)]: Done 192 tasks      | elapsed:    0.0s\n",
      "[Parallel(n_jobs=4)]: Done 250 out of 250 | elapsed:    0.1s finished\n",
      "[Parallel(n_jobs=4)]: Done  42 tasks      | elapsed:    0.0s\n",
      "[Parallel(n_jobs=4)]: Done  42 tasks      | elapsed:    0.0s\n",
      "[Parallel(n_jobs=4)]: Done 192 tasks      | elapsed:    0.1s\n",
      "[Parallel(n_jobs=4)]: Done 192 tasks      | elapsed:    0.0s\n",
      "[Parallel(n_jobs=4)]: Done 250 out of 250 | elapsed:    0.1s finished\n",
      "[Parallel(n_jobs=4)]: Done 250 out of 250 | elapsed:    0.2s finished\n",
      "[Parallel(n_jobs=4)]: Done  42 tasks      | elapsed:    0.0s\n",
      "[Parallel(n_jobs=4)]: Done 192 tasks      | elapsed:    0.2s\n",
      "[Parallel(n_jobs=4)]: Done  42 tasks      | elapsed:    0.0s\n",
      "[Parallel(n_jobs=4)]: Done 192 tasks      | elapsed:    0.0s\n",
      "[Parallel(n_jobs=4)]: Done 250 out of 250 | elapsed:    0.2s finished\n",
      "[Parallel(n_jobs=4)]: Done 250 out of 250 | elapsed:    0.1s finished\n",
      "[Parallel(n_jobs=4)]: Done  42 tasks      | elapsed:    0.0s\n",
      "[Parallel(n_jobs=4)]: Done  42 tasks      | elapsed:    0.0s\n",
      "[Parallel(n_jobs=4)]: Done 192 tasks      | elapsed:    0.1s\n",
      "[Parallel(n_jobs=4)]: Done 192 tasks      | elapsed:    0.0s\n",
      "[Parallel(n_jobs=4)]: Done 250 out of 250 | elapsed:    0.1s finished\n",
      "[Parallel(n_jobs=4)]: Done 250 out of 250 | elapsed:    0.2s finished\n",
      "[Parallel(n_jobs=4)]: Done  42 tasks      | elapsed:    0.0s\n",
      "[Parallel(n_jobs=4)]: Done 192 tasks      | elapsed:    0.2s\n"
     ]
    },
    {
     "name": "stderr",
     "output_type": "stream",
     "text": [
      "[Parallel(n_jobs=4)]: Done 250 out of 250 | elapsed:    0.2s finished\n",
      "[Parallel(n_jobs=4)]: Done  42 tasks      | elapsed:    0.0s\n",
      "[Parallel(n_jobs=4)]: Done 192 tasks      | elapsed:    0.0s\n",
      "[Parallel(n_jobs=4)]: Done 250 out of 250 | elapsed:    0.1s finished\n",
      "[Parallel(n_jobs=4)]: Done  42 tasks      | elapsed:    0.0s\n",
      "[Parallel(n_jobs=4)]: Done  42 tasks      | elapsed:    0.0s\n",
      "[Parallel(n_jobs=4)]: Done 192 tasks      | elapsed:    0.0s\n",
      "[Parallel(n_jobs=4)]: Done 250 out of 250 | elapsed:    0.0s finished\n",
      "[Parallel(n_jobs=4)]: Done 192 tasks      | elapsed:    0.2s\n",
      "[Parallel(n_jobs=4)]: Done  42 tasks      | elapsed:    0.0s\n",
      "[Parallel(n_jobs=4)]: Done 250 out of 250 | elapsed:    0.3s finished\n",
      "[Parallel(n_jobs=4)]: Done 192 tasks      | elapsed:    0.2s\n",
      "[Parallel(n_jobs=4)]: Done  42 tasks      | elapsed:    0.0s\n",
      "[Parallel(n_jobs=4)]: Done 192 tasks      | elapsed:    0.0s\n",
      "[Parallel(n_jobs=4)]: Done 250 out of 250 | elapsed:    0.1s finished\n",
      "[Parallel(n_jobs=4)]: Done 250 out of 250 | elapsed:    0.2s finished\n",
      "[Parallel(n_jobs=4)]: Done  42 tasks      | elapsed:    0.0s\n",
      "[Parallel(n_jobs=4)]: Done  42 tasks      | elapsed:    0.0s\n",
      "[Parallel(n_jobs=4)]: Done 192 tasks      | elapsed:    0.0s\n",
      "[Parallel(n_jobs=4)]: Done 250 out of 250 | elapsed:    0.1s finished\n",
      "[Parallel(n_jobs=4)]: Done 192 tasks      | elapsed:    0.2s\n",
      "[Parallel(n_jobs=4)]: Done  42 tasks      | elapsed:    0.0s\n",
      "[Parallel(n_jobs=4)]: Done 250 out of 250 | elapsed:    0.3s finished\n",
      "[Parallel(n_jobs=4)]: Done 192 tasks      | elapsed:    0.2s\n",
      "[Parallel(n_jobs=4)]: Done 250 out of 250 | elapsed:    0.2s finished\n",
      "[Parallel(n_jobs=4)]: Done  42 tasks      | elapsed:    0.0s\n",
      "[Parallel(n_jobs=4)]: Done  42 tasks      | elapsed:    0.0s\n",
      "[Parallel(n_jobs=4)]: Done 192 tasks      | elapsed:    0.0s\n",
      "[Parallel(n_jobs=4)]: Done 250 out of 250 | elapsed:    0.1s finished\n",
      "[Parallel(n_jobs=4)]: Done  42 tasks      | elapsed:    0.0s\n",
      "[Parallel(n_jobs=4)]: Done 192 tasks      | elapsed:    0.2s\n",
      "[Parallel(n_jobs=4)]: Done 192 tasks      | elapsed:    0.0s\n",
      "[Parallel(n_jobs=4)]: Done 250 out of 250 | elapsed:    0.1s finished\n",
      "[Parallel(n_jobs=4)]: Done 250 out of 250 | elapsed:    0.3s finished\n",
      "[Parallel(n_jobs=4)]: Done  42 tasks      | elapsed:    0.0s\n",
      "[Parallel(n_jobs=4)]: Done  42 tasks      | elapsed:    0.0s\n",
      "[Parallel(n_jobs=4)]: Done 192 tasks      | elapsed:    0.2s\n",
      "[Parallel(n_jobs=4)]: Done 192 tasks      | elapsed:    0.0s\n",
      "[Parallel(n_jobs=4)]: Done 250 out of 250 | elapsed:    0.1s finished\n",
      "[Parallel(n_jobs=4)]: Done 250 out of 250 | elapsed:    0.3s finished\n",
      "[Parallel(n_jobs=4)]: Done  42 tasks      | elapsed:    0.0s\n",
      "[Parallel(n_jobs=4)]: Done  42 tasks      | elapsed:    0.0s\n",
      "[Parallel(n_jobs=4)]: Done 192 tasks      | elapsed:    0.0s\n",
      "[Parallel(n_jobs=4)]: Done 250 out of 250 | elapsed:    0.1s finished\n",
      "[Parallel(n_jobs=4)]: Done  42 tasks      | elapsed:    0.0s\n",
      "[Parallel(n_jobs=4)]: Done 192 tasks      | elapsed:    0.2s\n",
      "[Parallel(n_jobs=4)]: Done 250 out of 250 | elapsed:    0.3s finished\n",
      "[Parallel(n_jobs=4)]: Done 192 tasks      | elapsed:    0.2s\n",
      "[Parallel(n_jobs=4)]: Done  42 tasks      | elapsed:    0.0s\n",
      "[Parallel(n_jobs=4)]: Done 250 out of 250 | elapsed:    0.3s finished\n",
      "[Parallel(n_jobs=4)]: Done 192 tasks      | elapsed:    0.0s\n",
      "[Parallel(n_jobs=4)]: Done 250 out of 250 | elapsed:    0.1s finished\n",
      "[Parallel(n_jobs=4)]: Done  42 tasks      | elapsed:    0.0s\n",
      "[Parallel(n_jobs=4)]: Done  42 tasks      | elapsed:    0.0s\n",
      "[Parallel(n_jobs=4)]: Done 192 tasks      | elapsed:    0.0s\n",
      "[Parallel(n_jobs=4)]: Done 250 out of 250 | elapsed:    0.1s finished\n",
      "[Parallel(n_jobs=4)]: Done 192 tasks      | elapsed:    0.2s\n",
      "[Parallel(n_jobs=4)]: Done 250 out of 250 | elapsed:    0.3s finished\n",
      "[Parallel(n_jobs=4)]: Done  42 tasks      | elapsed:    0.0s\n",
      "[Parallel(n_jobs=4)]: Done  42 tasks      | elapsed:    0.0s\n",
      "[Parallel(n_jobs=4)]: Done 192 tasks      | elapsed:    0.0s\n",
      "[Parallel(n_jobs=4)]: Done 250 out of 250 | elapsed:    0.1s finished\n",
      "[Parallel(n_jobs=4)]: Done 192 tasks      | elapsed:    0.2s\n",
      "[Parallel(n_jobs=4)]: Done 250 out of 250 | elapsed:    0.3s finished\n",
      "[Parallel(n_jobs=4)]: Done  42 tasks      | elapsed:    0.0s\n",
      "[Parallel(n_jobs=4)]: Done 192 tasks      | elapsed:    0.2s\n",
      "[Parallel(n_jobs=4)]: Done  42 tasks      | elapsed:    0.0s\n",
      "[Parallel(n_jobs=4)]: Done 250 out of 250 | elapsed:    0.2s finished\n",
      "[Parallel(n_jobs=4)]: Done 192 tasks      | elapsed:    0.0s\n",
      "[Parallel(n_jobs=4)]: Done 250 out of 250 | elapsed:    0.1s finished\n",
      "[Parallel(n_jobs=4)]: Done  42 tasks      | elapsed:    0.0s\n",
      "[Parallel(n_jobs=4)]: Done 192 tasks      | elapsed:    0.1s\n",
      "[Parallel(n_jobs=4)]: Done 250 out of 250 | elapsed:    0.2s finished\n",
      "[Parallel(n_jobs=4)]: Done  42 tasks      | elapsed:    0.0s\n",
      "[Parallel(n_jobs=4)]: Done 192 tasks      | elapsed:    0.0s\n",
      "[Parallel(n_jobs=4)]: Done 250 out of 250 | elapsed:    0.1s finished\n",
      "[Parallel(n_jobs=4)]: Done  42 tasks      | elapsed:    0.0s\n",
      "[Parallel(n_jobs=4)]: Done 192 tasks      | elapsed:    0.2s\n",
      "[Parallel(n_jobs=4)]: Done  42 tasks      | elapsed:    0.0s\n",
      "[Parallel(n_jobs=4)]: Done 250 out of 250 | elapsed:    0.2s finished\n",
      "[Parallel(n_jobs=4)]: Done 192 tasks      | elapsed:    0.0s\n",
      "[Parallel(n_jobs=4)]: Done 250 out of 250 | elapsed:    0.1s finished\n",
      "[Parallel(n_jobs=4)]: Done  42 tasks      | elapsed:    0.0s\n",
      "[Parallel(n_jobs=4)]: Done  42 tasks      | elapsed:    0.0s\n",
      "[Parallel(n_jobs=4)]: Done 192 tasks      | elapsed:    0.0s\n",
      "[Parallel(n_jobs=4)]: Done 250 out of 250 | elapsed:    0.1s finished\n",
      "[Parallel(n_jobs=4)]: Done 192 tasks      | elapsed:    0.3s\n",
      "[Parallel(n_jobs=4)]: Done 250 out of 250 | elapsed:    0.4s finished\n",
      "[Parallel(n_jobs=4)]: Done  42 tasks      | elapsed:    0.0s\n",
      "[Parallel(n_jobs=4)]: Done  42 tasks      | elapsed:    0.0s\n",
      "[Parallel(n_jobs=4)]: Done 192 tasks      | elapsed:    0.1s\n",
      "[Parallel(n_jobs=4)]: Done  42 tasks      | elapsed:    0.1s\n",
      "[Parallel(n_jobs=4)]: Done 250 out of 250 | elapsed:    0.1s finished\n",
      "[Parallel(n_jobs=4)]: Done 192 tasks      | elapsed:    0.3s\n",
      "[Parallel(n_jobs=4)]: Done 250 out of 250 | elapsed:    0.4s finished\n",
      "[Parallel(n_jobs=4)]: Done 192 tasks      | elapsed:    0.3s\n",
      "[Parallel(n_jobs=4)]: Done 250 out of 250 | elapsed:    0.4s finished\n",
      "[Parallel(n_jobs=4)]: Done  42 tasks      | elapsed:    0.1s\n",
      "[Parallel(n_jobs=4)]: Done  42 tasks      | elapsed:    0.0s\n",
      "[Parallel(n_jobs=4)]: Done 192 tasks      | elapsed:    0.0s\n",
      "[Parallel(n_jobs=4)]: Done 250 out of 250 | elapsed:    0.0s finished\n",
      "[Parallel(n_jobs=4)]: Done  42 tasks      | elapsed:    0.0s\n",
      "[Parallel(n_jobs=4)]: Done 192 tasks      | elapsed:    0.0s\n",
      "[Parallel(n_jobs=4)]: Done 250 out of 250 | elapsed:    0.1s finished\n",
      "[Parallel(n_jobs=4)]: Done 192 tasks      | elapsed:    0.3s\n",
      "[Parallel(n_jobs=4)]: Done 250 out of 250 | elapsed:    0.4s finished\n",
      "[Parallel(n_jobs=4)]: Done  42 tasks      | elapsed:    0.0s\n",
      "[Parallel(n_jobs=4)]: Done 192 tasks      | elapsed:    0.2s\n",
      "[Parallel(n_jobs=4)]: Done  42 tasks      | elapsed:    0.0s\n",
      "[Parallel(n_jobs=4)]: Done 192 tasks      | elapsed:    0.0s\n",
      "[Parallel(n_jobs=4)]: Done 250 out of 250 | elapsed:    0.1s finished\n",
      "[Parallel(n_jobs=4)]: Done 250 out of 250 | elapsed:    0.3s finished\n",
      "[Parallel(n_jobs=4)]: Done  42 tasks      | elapsed:    0.0s\n",
      "[Parallel(n_jobs=4)]: Done  42 tasks      | elapsed:    0.0s\n",
      "[Parallel(n_jobs=4)]: Done 192 tasks      | elapsed:    0.0s\n",
      "[Parallel(n_jobs=4)]: Done 250 out of 250 | elapsed:    0.1s finished\n",
      "[Parallel(n_jobs=4)]: Done  42 tasks      | elapsed:    0.0s\n",
      "[Parallel(n_jobs=4)]: Done 192 tasks      | elapsed:    0.3s\n",
      "[Parallel(n_jobs=4)]: Done 250 out of 250 | elapsed:    0.4s finished\n",
      "[Parallel(n_jobs=4)]: Done 192 tasks      | elapsed:    0.3s\n",
      "[Parallel(n_jobs=4)]: Done 250 out of 250 | elapsed:    0.3s finished\n",
      "[Parallel(n_jobs=4)]: Done  42 tasks      | elapsed:    0.0s\n",
      "[Parallel(n_jobs=4)]: Done 192 tasks      | elapsed:    0.0s\n",
      "[Parallel(n_jobs=4)]: Done 250 out of 250 | elapsed:    0.1s finished\n",
      "[Parallel(n_jobs=4)]: Done  42 tasks      | elapsed:    0.0s\n",
      "[Parallel(n_jobs=4)]: Done  42 tasks      | elapsed:    0.0s\n",
      "[Parallel(n_jobs=4)]: Done 192 tasks      | elapsed:    0.0s\n",
      "[Parallel(n_jobs=4)]: Done 192 tasks      | elapsed:    0.2s\n",
      "[Parallel(n_jobs=4)]: Done 250 out of 250 | elapsed:    0.1s finished\n"
     ]
    },
    {
     "name": "stderr",
     "output_type": "stream",
     "text": [
      "[Parallel(n_jobs=4)]: Done 250 out of 250 | elapsed:    0.3s finished\n",
      "[Parallel(n_jobs=4)]: Done  42 tasks      | elapsed:    0.0s\n",
      "[Parallel(n_jobs=4)]: Done  42 tasks      | elapsed:    0.0s\n",
      "[Parallel(n_jobs=4)]: Done 192 tasks      | elapsed:    0.0s\n",
      "[Parallel(n_jobs=4)]: Done 250 out of 250 | elapsed:    0.1s finished\n",
      "[Parallel(n_jobs=4)]: Done 192 tasks      | elapsed:    0.2s\n",
      "[Parallel(n_jobs=4)]: Done 250 out of 250 | elapsed:    0.3s finished\n",
      "[Parallel(n_jobs=4)]: Done  42 tasks      | elapsed:    0.0s\n",
      "[Parallel(n_jobs=4)]: Done  42 tasks      | elapsed:    0.0s\n",
      "[Parallel(n_jobs=4)]: Done 192 tasks      | elapsed:    0.1s\n",
      "[Parallel(n_jobs=4)]: Done 250 out of 250 | elapsed:    0.1s finished\n",
      "[Parallel(n_jobs=4)]: Done  42 tasks      | elapsed:    0.1s\n",
      "[Parallel(n_jobs=4)]: Done 192 tasks      | elapsed:    0.3s\n",
      "[Parallel(n_jobs=4)]: Done 250 out of 250 | elapsed:    0.4s finished\n",
      "[Parallel(n_jobs=4)]: Done 192 tasks      | elapsed:    0.3s\n",
      "[Parallel(n_jobs=4)]: Done  42 tasks      | elapsed:    0.0s\n",
      "[Parallel(n_jobs=4)]: Done 192 tasks      | elapsed:    0.0s\n",
      "[Parallel(n_jobs=4)]: Done 250 out of 250 | elapsed:    0.1s finished\n",
      "[Parallel(n_jobs=4)]: Done 250 out of 250 | elapsed:    0.4s finished\n",
      "[Parallel(n_jobs=4)]: Done  42 tasks      | elapsed:    0.0s\n",
      "[Parallel(n_jobs=4)]: Done  42 tasks      | elapsed:    0.0s\n",
      "[Parallel(n_jobs=4)]: Done 192 tasks      | elapsed:    0.3s\n",
      "[Parallel(n_jobs=4)]: Done 192 tasks      | elapsed:    0.0s\n",
      "[Parallel(n_jobs=4)]: Done 250 out of 250 | elapsed:    0.1s finished\n",
      "[Parallel(n_jobs=4)]: Done  42 tasks      | elapsed:    0.0s\n",
      "[Parallel(n_jobs=4)]: Done 250 out of 250 | elapsed:    0.5s finished\n",
      "[Parallel(n_jobs=4)]: Done 192 tasks      | elapsed:    0.2s\n",
      "[Parallel(n_jobs=4)]: Done  42 tasks      | elapsed:    0.0s\n",
      "[Parallel(n_jobs=4)]: Done 250 out of 250 | elapsed:    0.3s finished\n",
      "[Parallel(n_jobs=4)]: Done 192 tasks      | elapsed:    0.0s\n",
      "[Parallel(n_jobs=4)]: Done 250 out of 250 | elapsed:    0.1s finished\n",
      "[Parallel(n_jobs=4)]: Done  42 tasks      | elapsed:    0.0s\n",
      "[Parallel(n_jobs=4)]: Done  42 tasks      | elapsed:    0.0s\n",
      "[Parallel(n_jobs=4)]: Done 192 tasks      | elapsed:    0.0s\n",
      "[Parallel(n_jobs=4)]: Done 250 out of 250 | elapsed:    0.1s finished\n",
      "[Parallel(n_jobs=4)]: Done 192 tasks      | elapsed:    0.3s\n",
      "[Parallel(n_jobs=4)]: Done  42 tasks      | elapsed:    0.1s\n",
      "[Parallel(n_jobs=4)]: Done 250 out of 250 | elapsed:    0.4s finished\n",
      "[Parallel(n_jobs=4)]: Done  42 tasks      | elapsed:    0.0s\n",
      "[Parallel(n_jobs=4)]: Done 192 tasks      | elapsed:    0.3s\n",
      "[Parallel(n_jobs=4)]: Done 192 tasks      | elapsed:    0.0s\n",
      "[Parallel(n_jobs=4)]: Done 250 out of 250 | elapsed:    0.1s finished\n",
      "[Parallel(n_jobs=4)]: Done 250 out of 250 | elapsed:    0.4s finished\n",
      "[Parallel(n_jobs=4)]: Done  42 tasks      | elapsed:    0.0s\n",
      "[Parallel(n_jobs=4)]: Done  42 tasks      | elapsed:    0.0s\n",
      "[Parallel(n_jobs=4)]: Done 192 tasks      | elapsed:    0.0s\n",
      "[Parallel(n_jobs=4)]: Done 250 out of 250 | elapsed:    0.1s finished\n",
      "[Parallel(n_jobs=4)]: Done 192 tasks      | elapsed:    0.3s\n",
      "[Parallel(n_jobs=4)]: Done  42 tasks      | elapsed:    0.0s\n",
      "[Parallel(n_jobs=4)]: Done 250 out of 250 | elapsed:    0.4s finished\n",
      "[Parallel(n_jobs=4)]: Done  42 tasks      | elapsed:    0.0s\n",
      "[Parallel(n_jobs=4)]: Done 192 tasks      | elapsed:    0.3s\n",
      "[Parallel(n_jobs=4)]: Done 192 tasks      | elapsed:    0.0s\n",
      "[Parallel(n_jobs=4)]: Done 250 out of 250 | elapsed:    0.1s finished\n",
      "[Parallel(n_jobs=4)]: Done  42 tasks      | elapsed:    0.0s\n",
      "[Parallel(n_jobs=4)]: Done 250 out of 250 | elapsed:    0.4s finished\n",
      "[Parallel(n_jobs=4)]: Done 192 tasks      | elapsed:    0.2s\n",
      "[Parallel(n_jobs=4)]: Done  42 tasks      | elapsed:    0.0s\n",
      "[Parallel(n_jobs=4)]: Done  42 tasks      | elapsed:    0.0s\n",
      "[Parallel(n_jobs=4)]: Done 192 tasks      | elapsed:    0.0s\n",
      "[Parallel(n_jobs=4)]: Done 250 out of 250 | elapsed:    0.1s finished\n",
      "[Parallel(n_jobs=4)]: Done 250 out of 250 | elapsed:    0.4s finished\n",
      "[Parallel(n_jobs=4)]: Done 192 tasks      | elapsed:    0.3s\n",
      "[Parallel(n_jobs=4)]: Done 250 out of 250 | elapsed:    0.4s finished\n",
      "[Parallel(n_jobs=4)]: Done  42 tasks      | elapsed:    0.0s\n",
      "[Parallel(n_jobs=4)]: Done 192 tasks      | elapsed:    0.0s\n",
      "[Parallel(n_jobs=4)]: Done 250 out of 250 | elapsed:    0.1s finished\n",
      "[Parallel(n_jobs=4)]: Done  42 tasks      | elapsed:    0.0s\n",
      "[Parallel(n_jobs=4)]: Done  42 tasks      | elapsed:    0.0s\n",
      "[Parallel(n_jobs=4)]: Done 192 tasks      | elapsed:    0.0s\n",
      "[Parallel(n_jobs=4)]: Done 250 out of 250 | elapsed:    0.1s finished\n",
      "[Parallel(n_jobs=4)]: Done 192 tasks      | elapsed:    0.3s\n",
      "[Parallel(n_jobs=4)]: Done 250 out of 250 | elapsed:    0.3s finished\n",
      "[Parallel(n_jobs=4)]: Done  42 tasks      | elapsed:    0.0s\n",
      "[Parallel(n_jobs=4)]: Done  42 tasks      | elapsed:    0.0s\n",
      "[Parallel(n_jobs=4)]: Done 192 tasks      | elapsed:    0.0s\n",
      "[Parallel(n_jobs=4)]: Done 250 out of 250 | elapsed:    0.1s finished\n",
      "[Parallel(n_jobs=4)]: Done 192 tasks      | elapsed:    0.2s\n",
      "[Parallel(n_jobs=4)]: Done  42 tasks      | elapsed:    0.0s\n",
      "[Parallel(n_jobs=4)]: Done 250 out of 250 | elapsed:    0.4s finished\n",
      "[Parallel(n_jobs=4)]: Done  42 tasks      | elapsed:    0.0s\n",
      "[Parallel(n_jobs=4)]: Done  42 tasks      | elapsed:    0.1s\n",
      "[Parallel(n_jobs=4)]: Done 192 tasks      | elapsed:    0.1s\n",
      "[Parallel(n_jobs=4)]: Done 250 out of 250 | elapsed:    0.1s finished\n",
      "[Parallel(n_jobs=4)]: Done 192 tasks      | elapsed:    0.3s\n",
      "[Parallel(n_jobs=4)]: Done 250 out of 250 | elapsed:    0.5s finished\n",
      "[Parallel(n_jobs=4)]: Done 192 tasks      | elapsed:    0.3s\n",
      "[Parallel(n_jobs=4)]: Done 250 out of 250 | elapsed:    0.4s finished\n",
      "[Parallel(n_jobs=4)]: Done  42 tasks      | elapsed:    0.0s\n",
      "[Parallel(n_jobs=4)]: Done 192 tasks      | elapsed:    0.0s\n",
      "[Parallel(n_jobs=4)]: Done 250 out of 250 | elapsed:    0.1s finished\n",
      "[Parallel(n_jobs=4)]: Done  42 tasks      | elapsed:    0.1s\n",
      "[Parallel(n_jobs=4)]: Done  42 tasks      | elapsed:    0.0s\n",
      "[Parallel(n_jobs=4)]: Done 192 tasks      | elapsed:    0.0s\n",
      "[Parallel(n_jobs=4)]: Done 250 out of 250 | elapsed:    0.1s finished\n",
      "[Parallel(n_jobs=4)]: Done  42 tasks      | elapsed:    0.0s\n",
      "[Parallel(n_jobs=4)]: Done 192 tasks      | elapsed:    0.3s\n",
      "[Parallel(n_jobs=4)]: Done 250 out of 250 | elapsed:    0.4s finished\n",
      "[Parallel(n_jobs=4)]: Done 192 tasks      | elapsed:    0.3s\n",
      "[Parallel(n_jobs=4)]: Done  42 tasks      | elapsed:    0.0s\n",
      "[Parallel(n_jobs=4)]: Done 250 out of 250 | elapsed:    0.4s finished\n",
      "[Parallel(n_jobs=4)]: Done 192 tasks      | elapsed:    0.0s\n",
      "[Parallel(n_jobs=4)]: Done 250 out of 250 | elapsed:    0.1s finished\n",
      "[Parallel(n_jobs=4)]: Done  42 tasks      | elapsed:    0.1s\n",
      "[Parallel(n_jobs=4)]: Done  42 tasks      | elapsed:    0.0s\n",
      "[Parallel(n_jobs=4)]: Done 192 tasks      | elapsed:    0.0s\n",
      "[Parallel(n_jobs=4)]: Done 250 out of 250 | elapsed:    0.1s finished\n",
      "[Parallel(n_jobs=4)]: Done  42 tasks      | elapsed:    0.0s\n",
      "[Parallel(n_jobs=4)]: Done 192 tasks      | elapsed:    0.4s\n",
      "[Parallel(n_jobs=4)]: Done 250 out of 250 | elapsed:    0.5s finished\n",
      "[Parallel(n_jobs=4)]: Done 192 tasks      | elapsed:    0.3s\n",
      "[Parallel(n_jobs=4)]: Done 250 out of 250 | elapsed:    0.4s finished\n",
      "[Parallel(n_jobs=4)]: Done  42 tasks      | elapsed:    0.0s\n",
      "[Parallel(n_jobs=4)]: Done 192 tasks      | elapsed:    0.0s\n",
      "[Parallel(n_jobs=4)]: Done 250 out of 250 | elapsed:    0.1s finished\n",
      "[Parallel(n_jobs=4)]: Done  42 tasks      | elapsed:    0.0s\n",
      "[Parallel(n_jobs=4)]: Done  42 tasks      | elapsed:    0.0s\n",
      "[Parallel(n_jobs=4)]: Done 192 tasks      | elapsed:    0.0s\n",
      "[Parallel(n_jobs=4)]: Done 250 out of 250 | elapsed:    0.0s finished\n",
      "[Parallel(n_jobs=4)]: Done 192 tasks      | elapsed:    0.2s\n",
      "[Parallel(n_jobs=4)]: Done  42 tasks      | elapsed:    0.0s\n",
      "[Parallel(n_jobs=4)]: Done 250 out of 250 | elapsed:    0.4s finished\n",
      "[Parallel(n_jobs=4)]: Done 192 tasks      | elapsed:    0.2s\n",
      "[Parallel(n_jobs=4)]: Done 250 out of 250 | elapsed:    0.3s finished\n",
      "[Parallel(n_jobs=4)]: Done  42 tasks      | elapsed:    0.0s\n",
      "[Parallel(n_jobs=4)]: Done 192 tasks      | elapsed:    0.0s\n",
      "[Parallel(n_jobs=4)]: Done  42 tasks      | elapsed:    0.0s\n",
      "[Parallel(n_jobs=4)]: Done 250 out of 250 | elapsed:    0.1s finished\n"
     ]
    },
    {
     "name": "stderr",
     "output_type": "stream",
     "text": [
      "[Parallel(n_jobs=4)]: Done  42 tasks      | elapsed:    0.0s\n",
      "[Parallel(n_jobs=4)]: Done  42 tasks      | elapsed:    0.0s\n",
      "[Parallel(n_jobs=4)]: Done 192 tasks      | elapsed:    0.1s\n",
      "[Parallel(n_jobs=4)]: Done 250 out of 250 | elapsed:    0.1s finished\n",
      "[Parallel(n_jobs=4)]: Done 192 tasks      | elapsed:    0.3s\n",
      "[Parallel(n_jobs=4)]: Done 250 out of 250 | elapsed:    0.5s finished\n",
      "[Parallel(n_jobs=4)]: Done 192 tasks      | elapsed:    0.3s\n",
      "[Parallel(n_jobs=4)]: Done 250 out of 250 | elapsed:    0.4s finished\n",
      "[Parallel(n_jobs=4)]: Done  42 tasks      | elapsed:    0.0s\n",
      "[Parallel(n_jobs=4)]: Done 192 tasks      | elapsed:    0.0s\n",
      "[Parallel(n_jobs=4)]: Done 250 out of 250 | elapsed:    0.1s finished\n",
      "[Parallel(n_jobs=4)]: Done  42 tasks      | elapsed:    0.0s\n",
      "[Parallel(n_jobs=4)]: Done  42 tasks      | elapsed:    0.0s\n",
      "[Parallel(n_jobs=4)]: Done 192 tasks      | elapsed:    0.0s\n",
      "[Parallel(n_jobs=4)]: Done 250 out of 250 | elapsed:    0.0s finished\n",
      "[Parallel(n_jobs=4)]: Done  42 tasks      | elapsed:    0.1s\n",
      "[Parallel(n_jobs=4)]: Done 192 tasks      | elapsed:    0.3s\n",
      "[Parallel(n_jobs=4)]: Done 250 out of 250 | elapsed:    0.4s finished\n",
      "[Parallel(n_jobs=4)]: Done 192 tasks      | elapsed:    0.3s\n",
      "[Parallel(n_jobs=4)]: Done 250 out of 250 | elapsed:    0.4s finished\n",
      "[Parallel(n_jobs=4)]: Done  42 tasks      | elapsed:    0.0s\n",
      "[Parallel(n_jobs=4)]: Done 192 tasks      | elapsed:    0.0s\n",
      "[Parallel(n_jobs=4)]: Done 250 out of 250 | elapsed:    0.1s finished\n",
      "[Parallel(n_jobs=4)]: Done  42 tasks      | elapsed:    0.1s\n",
      "[Parallel(n_jobs=4)]: Done  42 tasks      | elapsed:    0.0s\n",
      "[Parallel(n_jobs=4)]: Done 192 tasks      | elapsed:    0.0s\n",
      "[Parallel(n_jobs=4)]: Done 250 out of 250 | elapsed:    0.1s finished\n",
      "[Parallel(n_jobs=4)]: Done  42 tasks      | elapsed:    0.0s\n",
      "[Parallel(n_jobs=4)]: Done 192 tasks      | elapsed:    0.4s\n",
      "[Parallel(n_jobs=4)]: Done 250 out of 250 | elapsed:    0.5s finished\n",
      "[Parallel(n_jobs=4)]: Done 192 tasks      | elapsed:    0.3s\n",
      "[Parallel(n_jobs=4)]: Done  42 tasks      | elapsed:    0.0s\n",
      "[Parallel(n_jobs=4)]: Done 192 tasks      | elapsed:    0.0s\n",
      "[Parallel(n_jobs=4)]: Done 250 out of 250 | elapsed:    0.4s finished\n",
      "[Parallel(n_jobs=4)]: Done 250 out of 250 | elapsed:    0.1s finished\n",
      "[Parallel(n_jobs=4)]: Done  42 tasks      | elapsed:    0.0s\n",
      "[Parallel(n_jobs=4)]: Done  42 tasks      | elapsed:    0.0s\n",
      "[Parallel(n_jobs=4)]: Done 192 tasks      | elapsed:    0.0s\n",
      "[Parallel(n_jobs=4)]: Done 250 out of 250 | elapsed:    0.1s finished\n",
      "[Parallel(n_jobs=4)]: Done  42 tasks      | elapsed:    0.0s\n",
      "[Parallel(n_jobs=4)]: Done 192 tasks      | elapsed:    0.3s\n",
      "[Parallel(n_jobs=4)]: Done 250 out of 250 | elapsed:    0.5s finished\n",
      "[Parallel(n_jobs=4)]: Done 192 tasks      | elapsed:    0.3s\n",
      "[Parallel(n_jobs=4)]: Done 250 out of 250 | elapsed:    0.4s finished\n",
      "[Parallel(n_jobs=4)]: Done  42 tasks      | elapsed:    0.0s\n",
      "[Parallel(n_jobs=4)]: Done 192 tasks      | elapsed:    0.0s\n",
      "[Parallel(n_jobs=4)]: Done 250 out of 250 | elapsed:    0.1s finished\n",
      "[Parallel(n_jobs=4)]: Done  42 tasks      | elapsed:    0.1s\n",
      "[Parallel(n_jobs=4)]: Done  42 tasks      | elapsed:    0.0s\n",
      "[Parallel(n_jobs=4)]: Done 192 tasks      | elapsed:    0.0s\n",
      "[Parallel(n_jobs=4)]: Done 250 out of 250 | elapsed:    0.1s finished\n",
      "[Parallel(n_jobs=4)]: Done  42 tasks      | elapsed:    0.1s\n",
      "[Parallel(n_jobs=4)]: Done 192 tasks      | elapsed:    0.3s\n",
      "[Parallel(n_jobs=4)]: Done 250 out of 250 | elapsed:    0.5s finished\n",
      "[Parallel(n_jobs=4)]: Done 192 tasks      | elapsed:    0.4s\n",
      "[Parallel(n_jobs=4)]: Done  42 tasks      | elapsed:    0.0s\n",
      "[Parallel(n_jobs=4)]: Done 192 tasks      | elapsed:    0.0s\n",
      "[Parallel(n_jobs=4)]: Done 250 out of 250 | elapsed:    0.0s finished\n",
      "[Parallel(n_jobs=4)]: Done 250 out of 250 | elapsed:    0.5s finished\n",
      "[Parallel(n_jobs=4)]: Done  42 tasks      | elapsed:    0.0s\n",
      "[Parallel(n_jobs=4)]: Done  42 tasks      | elapsed:    0.0s\n",
      "[Parallel(n_jobs=4)]: Done 192 tasks      | elapsed:    0.0s\n",
      "[Parallel(n_jobs=4)]: Done 250 out of 250 | elapsed:    0.1s finished\n",
      "[Parallel(n_jobs=4)]: Done  42 tasks      | elapsed:    0.0s\n",
      "[Parallel(n_jobs=4)]: Done 192 tasks      | elapsed:    0.4s\n",
      "[Parallel(n_jobs=4)]: Done 250 out of 250 | elapsed:    0.5s finished\n",
      "[Parallel(n_jobs=4)]: Done 192 tasks      | elapsed:    0.3s\n",
      "[Parallel(n_jobs=4)]: Done  42 tasks      | elapsed:    0.0s\n",
      "[Parallel(n_jobs=4)]: Done 250 out of 250 | elapsed:    0.4s finished\n",
      "[Parallel(n_jobs=4)]: Done 192 tasks      | elapsed:    0.0s\n",
      "[Parallel(n_jobs=4)]: Done 250 out of 250 | elapsed:    0.1s finished\n",
      "[Parallel(n_jobs=4)]: Done  42 tasks      | elapsed:    0.0s\n",
      "[Parallel(n_jobs=4)]: Done  42 tasks      | elapsed:    0.0s\n",
      "[Parallel(n_jobs=4)]: Done 192 tasks      | elapsed:    0.0s\n",
      "[Parallel(n_jobs=4)]: Done 250 out of 250 | elapsed:    0.1s finished\n",
      "[Parallel(n_jobs=4)]: Done  42 tasks      | elapsed:    0.0s\n",
      "[Parallel(n_jobs=4)]: Done 192 tasks      | elapsed:    0.3s\n",
      "[Parallel(n_jobs=4)]: Done 250 out of 250 | elapsed:    0.5s finished\n",
      "[Parallel(n_jobs=4)]: Done 192 tasks      | elapsed:    0.3s\n",
      "[Parallel(n_jobs=4)]: Done  42 tasks      | elapsed:    0.0s\n",
      "[Parallel(n_jobs=4)]: Done 250 out of 250 | elapsed:    0.4s finished\n",
      "[Parallel(n_jobs=4)]: Done 192 tasks      | elapsed:    0.0s\n",
      "[Parallel(n_jobs=4)]: Done 250 out of 250 | elapsed:    0.0s finished\n",
      "[Parallel(n_jobs=4)]: Done  42 tasks      | elapsed:    0.0s\n",
      "[Parallel(n_jobs=4)]: Done  42 tasks      | elapsed:    0.0s\n",
      "[Parallel(n_jobs=4)]: Done 192 tasks      | elapsed:    0.4s\n",
      "[Parallel(n_jobs=4)]: Done  42 tasks      | elapsed:    0.0s\n",
      "[Parallel(n_jobs=4)]: Done 192 tasks      | elapsed:    0.3s\n",
      "[Parallel(n_jobs=4)]: Done 192 tasks      | elapsed:    0.0s\n",
      "[Parallel(n_jobs=4)]: Done 250 out of 250 | elapsed:    0.1s finished\n",
      "[Parallel(n_jobs=4)]: Done 250 out of 250 | elapsed:    0.5s finished\n",
      "[Parallel(n_jobs=4)]: Done 250 out of 250 | elapsed:    0.5s finished\n",
      "[Parallel(n_jobs=4)]: Done  42 tasks      | elapsed:    0.1s\n",
      "[Parallel(n_jobs=4)]: Done  42 tasks      | elapsed:    0.0s\n",
      "[Parallel(n_jobs=4)]: Done 192 tasks      | elapsed:    0.0s\n",
      "[Parallel(n_jobs=4)]: Done 250 out of 250 | elapsed:    0.1s finished\n",
      "[Parallel(n_jobs=4)]: Done  42 tasks      | elapsed:    0.0s\n",
      "[Parallel(n_jobs=4)]: Done 192 tasks      | elapsed:    0.0s\n",
      "[Parallel(n_jobs=4)]: Done 250 out of 250 | elapsed:    0.1s finished\n",
      "[Parallel(n_jobs=4)]: Done  42 tasks      | elapsed:    0.0s\n",
      "[Parallel(n_jobs=4)]: Done 192 tasks      | elapsed:    0.4s\n",
      "[Parallel(n_jobs=4)]: Done 250 out of 250 | elapsed:    0.5s finished\n",
      "[Parallel(n_jobs=4)]: Done 192 tasks      | elapsed:    0.3s\n",
      "[Parallel(n_jobs=4)]: Done 250 out of 250 | elapsed:    0.4s finished\n",
      "[Parallel(n_jobs=4)]: Done  42 tasks      | elapsed:    0.0s\n",
      "[Parallel(n_jobs=4)]: Done 192 tasks      | elapsed:    0.0s\n",
      "[Parallel(n_jobs=4)]: Done 250 out of 250 | elapsed:    0.1s finished\n",
      "[Parallel(n_jobs=4)]: Done  42 tasks      | elapsed:    0.1s\n",
      "[Parallel(n_jobs=4)]: Done  42 tasks      | elapsed:    0.0s\n",
      "[Parallel(n_jobs=4)]: Done 192 tasks      | elapsed:    0.0s\n",
      "[Parallel(n_jobs=4)]: Done 250 out of 250 | elapsed:    0.1s finished\n",
      "[Parallel(n_jobs=4)]: Done  42 tasks      | elapsed:    0.0s\n",
      "[Parallel(n_jobs=4)]: Done 192 tasks      | elapsed:    0.4s\n",
      "[Parallel(n_jobs=4)]: Done 250 out of 250 | elapsed:    0.5s finished\n",
      "[Parallel(n_jobs=4)]: Done 192 tasks      | elapsed:    0.3s\n",
      "[Parallel(n_jobs=4)]: Done 250 out of 250 | elapsed:    0.4s finished\n",
      "[Parallel(n_jobs=4)]: Done  42 tasks      | elapsed:    0.0s\n",
      "[Parallel(n_jobs=4)]: Done  42 tasks      | elapsed:    0.1s\n",
      "[Parallel(n_jobs=4)]: Done 192 tasks      | elapsed:    0.0s\n",
      "[Parallel(n_jobs=4)]: Done 250 out of 250 | elapsed:    0.1s finished\n",
      "[Parallel(n_jobs=4)]: Done  42 tasks      | elapsed:    0.0s\n",
      "[Parallel(n_jobs=4)]: Done 192 tasks      | elapsed:    0.1s\n",
      "[Parallel(n_jobs=4)]: Done  42 tasks      | elapsed:    0.1s\n",
      "[Parallel(n_jobs=4)]: Done 250 out of 250 | elapsed:    0.1s finished\n",
      "[Parallel(n_jobs=4)]: Done 192 tasks      | elapsed:    0.4s\n",
      "[Parallel(n_jobs=4)]: Done 250 out of 250 | elapsed:    0.5s finished\n",
      "[Parallel(n_jobs=4)]: Done 192 tasks      | elapsed:    0.4s\n",
      "[Parallel(n_jobs=4)]: Done 250 out of 250 | elapsed:    0.5s finished\n"
     ]
    },
    {
     "name": "stderr",
     "output_type": "stream",
     "text": [
      "[Parallel(n_jobs=4)]: Done  42 tasks      | elapsed:    0.0s\n",
      "[Parallel(n_jobs=4)]: Done 192 tasks      | elapsed:    0.0s\n",
      "[Parallel(n_jobs=4)]: Done 250 out of 250 | elapsed:    0.1s finished\n",
      "[Parallel(n_jobs=4)]: Done  42 tasks      | elapsed:    0.1s\n",
      "[Parallel(n_jobs=4)]: Done  42 tasks      | elapsed:    0.0s\n",
      "[Parallel(n_jobs=4)]: Done 192 tasks      | elapsed:    0.0s\n",
      "[Parallel(n_jobs=4)]: Done 250 out of 250 | elapsed:    0.1s finished\n",
      "[Parallel(n_jobs=4)]: Done  42 tasks      | elapsed:    0.0s\n",
      "[Parallel(n_jobs=4)]: Done 192 tasks      | elapsed:    0.4s\n",
      "[Parallel(n_jobs=4)]: Done 250 out of 250 | elapsed:    0.5s finished\n",
      "[Parallel(n_jobs=4)]: Done 192 tasks      | elapsed:    0.3s\n",
      "[Parallel(n_jobs=4)]: Done 250 out of 250 | elapsed:    0.4s finished\n",
      "[Parallel(n_jobs=4)]: Done  42 tasks      | elapsed:    0.0s\n",
      "[Parallel(n_jobs=4)]: Done 192 tasks      | elapsed:    0.0s\n",
      "[Parallel(n_jobs=4)]: Done 250 out of 250 | elapsed:    0.1s finished\n",
      "[Parallel(n_jobs=4)]: Done  42 tasks      | elapsed:    0.1s\n",
      "[Parallel(n_jobs=4)]: Done  42 tasks      | elapsed:    0.0s\n",
      "[Parallel(n_jobs=4)]: Done 192 tasks      | elapsed:    0.0s\n",
      "[Parallel(n_jobs=4)]: Done 250 out of 250 | elapsed:    0.1s finished\n",
      "[Parallel(n_jobs=4)]: Done  42 tasks      | elapsed:    0.1s\n",
      "[Parallel(n_jobs=4)]: Done 192 tasks      | elapsed:    0.4s\n",
      "[Parallel(n_jobs=4)]: Done 250 out of 250 | elapsed:    0.5s finished\n",
      "[Parallel(n_jobs=4)]: Done 192 tasks      | elapsed:    0.3s\n",
      "[Parallel(n_jobs=4)]: Done  42 tasks      | elapsed:    0.0s\n",
      "[Parallel(n_jobs=4)]: Done 250 out of 250 | elapsed:    0.5s finished\n",
      "[Parallel(n_jobs=4)]: Done 192 tasks      | elapsed:    0.1s\n",
      "[Parallel(n_jobs=4)]: Done  42 tasks      | elapsed:    0.1s\n",
      "[Parallel(n_jobs=4)]: Done 250 out of 250 | elapsed:    0.1s finished\n",
      "[Parallel(n_jobs=4)]: Done  42 tasks      | elapsed:    0.0s\n",
      "[Parallel(n_jobs=4)]: Done 192 tasks      | elapsed:    0.0s\n",
      "[Parallel(n_jobs=4)]: Done 250 out of 250 | elapsed:    0.0s finished\n",
      "[Parallel(n_jobs=4)]: Done  42 tasks      | elapsed:    0.0s\n",
      "[Parallel(n_jobs=4)]: Done 192 tasks      | elapsed:    0.4s\n",
      "[Parallel(n_jobs=4)]: Done 250 out of 250 | elapsed:    0.5s finished\n",
      "[Parallel(n_jobs=4)]: Done 192 tasks      | elapsed:    0.3s\n",
      "[Parallel(n_jobs=4)]: Done 250 out of 250 | elapsed:    0.4s finished\n",
      "[Parallel(n_jobs=4)]: Done  42 tasks      | elapsed:    0.0s\n",
      "[Parallel(n_jobs=4)]: Done 192 tasks      | elapsed:    0.0s\n",
      "[Parallel(n_jobs=4)]: Done 250 out of 250 | elapsed:    0.1s finished\n",
      "[Parallel(n_jobs=4)]: Done  42 tasks      | elapsed:    0.1s\n",
      "[Parallel(n_jobs=4)]: Done  42 tasks      | elapsed:    0.0s\n",
      "[Parallel(n_jobs=4)]: Done  42 tasks      | elapsed:    0.1s\n",
      "[Parallel(n_jobs=4)]: Done 192 tasks      | elapsed:    0.1s\n",
      "[Parallel(n_jobs=4)]: Done 250 out of 250 | elapsed:    0.1s finished\n",
      "[Parallel(n_jobs=4)]: Done 192 tasks      | elapsed:    0.4s\n",
      "[Parallel(n_jobs=4)]: Done 192 tasks      | elapsed:    0.4s\n",
      "[Parallel(n_jobs=4)]: Done 250 out of 250 | elapsed:    0.6s finished\n",
      "[Parallel(n_jobs=4)]: Done 250 out of 250 | elapsed:    0.5s finished\n",
      "[Parallel(n_jobs=4)]: Done  42 tasks      | elapsed:    0.0s\n",
      "[Parallel(n_jobs=4)]: Done 192 tasks      | elapsed:    0.0s\n",
      "[Parallel(n_jobs=4)]: Done 250 out of 250 | elapsed:    0.1s finished\n",
      "[Parallel(n_jobs=4)]: Done  42 tasks      | elapsed:    0.1s\n",
      "[Parallel(n_jobs=4)]: Done  42 tasks      | elapsed:    0.0s\n",
      "[Parallel(n_jobs=4)]: Done 192 tasks      | elapsed:    0.0s\n",
      "[Parallel(n_jobs=4)]: Done 250 out of 250 | elapsed:    0.1s finished\n",
      "[Parallel(n_jobs=4)]: Done  42 tasks      | elapsed:    0.0s\n",
      "[Parallel(n_jobs=4)]: Done 192 tasks      | elapsed:    0.4s\n",
      "[Parallel(n_jobs=4)]: Done 192 tasks      | elapsed:    0.2s\n",
      "[Parallel(n_jobs=4)]: Done 250 out of 250 | elapsed:    0.5s finished\n",
      "[Parallel(n_jobs=4)]: Done 250 out of 250 | elapsed:    0.3s finished\n",
      "[Parallel(n_jobs=4)]: Done  42 tasks      | elapsed:    0.0s\n",
      "[Parallel(n_jobs=4)]: Done 192 tasks      | elapsed:    0.0s\n",
      "[Parallel(n_jobs=4)]: Done 250 out of 250 | elapsed:    0.1s finished\n",
      "[Parallel(n_jobs=4)]: Done  42 tasks      | elapsed:    0.0s\n",
      "[Parallel(n_jobs=4)]: Done  42 tasks      | elapsed:    0.0s\n",
      "[Parallel(n_jobs=4)]: Done 192 tasks      | elapsed:    0.0s\n",
      "[Parallel(n_jobs=4)]: Done 250 out of 250 | elapsed:    0.1s finished\n",
      "[Parallel(n_jobs=4)]: Done  42 tasks      | elapsed:    0.0s\n",
      "[Parallel(n_jobs=4)]: Done 192 tasks      | elapsed:    0.2s\n",
      "[Parallel(n_jobs=4)]: Done 250 out of 250 | elapsed:    0.3s finished\n",
      "[Parallel(n_jobs=4)]: Done 192 tasks      | elapsed:    0.2s\n",
      "[Parallel(n_jobs=4)]: Done 250 out of 250 | elapsed:    0.3s finished\n",
      "[Parallel(n_jobs=4)]: Done  42 tasks      | elapsed:    0.0s\n",
      "[Parallel(n_jobs=4)]: Done  42 tasks      | elapsed:    0.0s\n",
      "[Parallel(n_jobs=4)]: Done  42 tasks      | elapsed:    0.0s\n",
      "[Parallel(n_jobs=4)]: Done  42 tasks      | elapsed:    0.0s\n",
      "[Parallel(n_jobs=4)]: Done 192 tasks      | elapsed:    0.1s\n",
      "[Parallel(n_jobs=4)]: Done 192 tasks      | elapsed:    0.1s\n",
      "[Parallel(n_jobs=4)]: Done 250 out of 250 | elapsed:    0.1s finished\n",
      "[Parallel(n_jobs=4)]: Done 250 out of 250 | elapsed:    0.2s finished\n",
      "[Parallel(n_jobs=4)]: Done 192 tasks      | elapsed:    0.3s\n",
      "[Parallel(n_jobs=4)]: Done 192 tasks      | elapsed:    0.2s\n",
      "[Parallel(n_jobs=4)]: Done 250 out of 250 | elapsed:    0.3s finished\n",
      "[Parallel(n_jobs=4)]: Done 250 out of 250 | elapsed:    0.3s finished\n",
      "[Parallel(n_jobs=4)]: Done  42 tasks      | elapsed:    0.0s\n",
      "[Parallel(n_jobs=4)]: Done  42 tasks      | elapsed:    0.0s\n",
      "[Parallel(n_jobs=4)]: Done 192 tasks      | elapsed:    0.0s\n",
      "[Parallel(n_jobs=4)]: Done 192 tasks      | elapsed:    0.0s\n",
      "[Parallel(n_jobs=4)]: Done 250 out of 250 | elapsed:    0.1s finished\n",
      "[Parallel(n_jobs=4)]: Done 250 out of 250 | elapsed:    0.1s finished\n",
      "[Parallel(n_jobs=4)]: Done  42 tasks      | elapsed:    0.0s\n",
      "[Parallel(n_jobs=4)]: Done  42 tasks      | elapsed:    0.0s\n",
      "[Parallel(n_jobs=4)]: Done 192 tasks      | elapsed:    0.2s\n",
      "[Parallel(n_jobs=4)]: Done 192 tasks      | elapsed:    0.2s\n",
      "[Parallel(n_jobs=4)]: Done 250 out of 250 | elapsed:    0.2s finished\n",
      "[Parallel(n_jobs=4)]: Done 250 out of 250 | elapsed:    0.3s finished\n",
      "[Parallel(n_jobs=4)]: Done  42 tasks      | elapsed:    0.0s\n",
      "[Parallel(n_jobs=4)]: Done  42 tasks      | elapsed:    0.0s\n",
      "[Parallel(n_jobs=4)]: Done 192 tasks      | elapsed:    0.0s\n",
      "[Parallel(n_jobs=4)]: Done 192 tasks      | elapsed:    0.0s\n",
      "[Parallel(n_jobs=4)]: Done 250 out of 250 | elapsed:    0.1s finished\n",
      "[Parallel(n_jobs=4)]: Done 250 out of 250 | elapsed:    0.1s finished\n",
      "[Parallel(n_jobs=4)]: Done  42 tasks      | elapsed:    0.0s\n",
      "[Parallel(n_jobs=4)]: Done  42 tasks      | elapsed:    0.0s\n",
      "[Parallel(n_jobs=4)]: Done 192 tasks      | elapsed:    0.2s\n",
      "[Parallel(n_jobs=4)]: Done 192 tasks      | elapsed:    0.2s\n",
      "[Parallel(n_jobs=4)]: Done 250 out of 250 | elapsed:    0.3s finished\n",
      "[Parallel(n_jobs=4)]: Done 250 out of 250 | elapsed:    0.2s finished\n",
      "[Parallel(n_jobs=4)]: Done  42 tasks      | elapsed:    0.0s\n",
      "[Parallel(n_jobs=4)]: Done 192 tasks      | elapsed:    0.0s\n",
      "[Parallel(n_jobs=4)]: Done  42 tasks      | elapsed:    0.0s\n",
      "[Parallel(n_jobs=4)]: Done 250 out of 250 | elapsed:    0.1s finished\n",
      "[Parallel(n_jobs=4)]: Done 192 tasks      | elapsed:    0.0s\n",
      "[Parallel(n_jobs=4)]: Done 250 out of 250 | elapsed:    0.1s finished\n",
      "[Parallel(n_jobs=4)]: Done  42 tasks      | elapsed:    0.0s\n",
      "[Parallel(n_jobs=4)]: Done  42 tasks      | elapsed:    0.0s\n",
      "[Parallel(n_jobs=4)]: Done 192 tasks      | elapsed:    0.2s\n",
      "[Parallel(n_jobs=4)]: Done 192 tasks      | elapsed:    0.3s\n",
      "[Parallel(n_jobs=4)]: Done 250 out of 250 | elapsed:    0.2s finished\n",
      "[Parallel(n_jobs=4)]: Done 250 out of 250 | elapsed:    0.3s finished\n",
      "[Parallel(n_jobs=4)]: Done  42 tasks      | elapsed:    0.0s\n",
      "[Parallel(n_jobs=4)]: Done 192 tasks      | elapsed:    0.0s\n",
      "[Parallel(n_jobs=4)]: Done 250 out of 250 | elapsed:    0.0s finished\n",
      "[Parallel(n_jobs=4)]: Done  42 tasks      | elapsed:    0.0s\n",
      "[Parallel(n_jobs=4)]: Done 192 tasks      | elapsed:    0.0s\n",
      "[Parallel(n_jobs=4)]: Done  42 tasks      | elapsed:    0.0s\n",
      "[Parallel(n_jobs=4)]: Done 250 out of 250 | elapsed:    0.1s finished\n",
      "[Parallel(n_jobs=4)]: Done  42 tasks      | elapsed:    0.0s\n",
      "[Parallel(n_jobs=4)]: Done 192 tasks      | elapsed:    0.3s\n"
     ]
    },
    {
     "name": "stderr",
     "output_type": "stream",
     "text": [
      "[Parallel(n_jobs=4)]: Done 192 tasks      | elapsed:    0.2s\n",
      "[Parallel(n_jobs=4)]: Done 250 out of 250 | elapsed:    0.3s finished\n",
      "[Parallel(n_jobs=4)]: Done 250 out of 250 | elapsed:    0.3s finished\n",
      "[Parallel(n_jobs=4)]: Done  42 tasks      | elapsed:    0.0s\n",
      "[Parallel(n_jobs=4)]: Done  42 tasks      | elapsed:    0.0s\n",
      "[Parallel(n_jobs=4)]: Done  42 tasks      | elapsed:    0.0s\n",
      "[Parallel(n_jobs=4)]: Done 192 tasks      | elapsed:    0.0s\n",
      "[Parallel(n_jobs=4)]: Done 250 out of 250 | elapsed:    0.1s finished\n",
      "[Parallel(n_jobs=4)]: Done 192 tasks      | elapsed:    0.1s\n",
      "[Parallel(n_jobs=4)]: Done 250 out of 250 | elapsed:    0.1s finished\n",
      "[Parallel(n_jobs=4)]: Done 192 tasks      | elapsed:    0.2s\n",
      "[Parallel(n_jobs=4)]: Done  42 tasks      | elapsed:    0.0s\n",
      "[Parallel(n_jobs=4)]: Done 250 out of 250 | elapsed:    0.3s finished\n",
      "[Parallel(n_jobs=4)]: Done 192 tasks      | elapsed:    0.2s\n",
      "[Parallel(n_jobs=4)]: Done 250 out of 250 | elapsed:    0.3s finished\n",
      "[Parallel(n_jobs=4)]: Done  42 tasks      | elapsed:    0.0s\n",
      "[Parallel(n_jobs=4)]: Done 192 tasks      | elapsed:    0.0s\n",
      "[Parallel(n_jobs=4)]: Done 250 out of 250 | elapsed:    0.1s finished\n",
      "[Parallel(n_jobs=4)]: Done  42 tasks      | elapsed:    0.0s\n",
      "[Parallel(n_jobs=4)]: Done  42 tasks      | elapsed:    0.1s\n",
      "[Parallel(n_jobs=4)]: Done  42 tasks      | elapsed:    0.0s\n",
      "[Parallel(n_jobs=4)]: Done 192 tasks      | elapsed:    0.2s\n",
      "[Parallel(n_jobs=4)]: Done 192 tasks      | elapsed:    0.1s\n",
      "[Parallel(n_jobs=4)]: Done 250 out of 250 | elapsed:    0.1s finished\n",
      "[Parallel(n_jobs=4)]: Done 192 tasks      | elapsed:    0.3s\n",
      "[Parallel(n_jobs=4)]: Done 250 out of 250 | elapsed:    0.3s finished\n",
      "[Parallel(n_jobs=4)]: Done 250 out of 250 | elapsed:    0.3s finished\n",
      "[Parallel(n_jobs=4)]: Done  42 tasks      | elapsed:    0.0s\n",
      "[Parallel(n_jobs=4)]: Done  42 tasks      | elapsed:    0.0s\n",
      "[Parallel(n_jobs=4)]: Done  42 tasks      | elapsed:    0.0s\n",
      "[Parallel(n_jobs=4)]: Done 192 tasks      | elapsed:    0.0s\n",
      "[Parallel(n_jobs=4)]: Done 250 out of 250 | elapsed:    0.1s finished\n",
      "[Parallel(n_jobs=4)]: Done 192 tasks      | elapsed:    0.1s\n",
      "[Parallel(n_jobs=4)]: Done 250 out of 250 | elapsed:    0.1s finished\n",
      "[Parallel(n_jobs=4)]: Done  42 tasks      | elapsed:    0.0s\n",
      "[Parallel(n_jobs=4)]: Done 192 tasks      | elapsed:    0.2s\n",
      "[Parallel(n_jobs=4)]: Done 250 out of 250 | elapsed:    0.3s finished\n",
      "[Parallel(n_jobs=4)]: Done 192 tasks      | elapsed:    0.2s\n",
      "[Parallel(n_jobs=4)]: Done 250 out of 250 | elapsed:    0.3s finished\n",
      "[Parallel(n_jobs=4)]: Done  42 tasks      | elapsed:    0.0s\n",
      "[Parallel(n_jobs=4)]: Done 192 tasks      | elapsed:    0.0s\n",
      "[Parallel(n_jobs=4)]: Done 250 out of 250 | elapsed:    0.1s finished\n",
      "[Parallel(n_jobs=4)]: Done  42 tasks      | elapsed:    0.1s\n",
      "[Parallel(n_jobs=4)]: Done  42 tasks      | elapsed:    0.1s\n",
      "[Parallel(n_jobs=4)]: Done  42 tasks      | elapsed:    0.0s\n",
      "[Parallel(n_jobs=4)]: Done 192 tasks      | elapsed:    0.1s\n",
      "[Parallel(n_jobs=4)]: Done 250 out of 250 | elapsed:    0.1s finished\n",
      "[Parallel(n_jobs=4)]: Done 192 tasks      | elapsed:    0.3s\n",
      "[Parallel(n_jobs=4)]: Done 192 tasks      | elapsed:    0.3s\n",
      "[Parallel(n_jobs=4)]: Done 250 out of 250 | elapsed:    0.4s finished\n",
      "[Parallel(n_jobs=4)]: Done 250 out of 250 | elapsed:    0.4s finished\n",
      "[Parallel(n_jobs=4)]: Done  42 tasks      | elapsed:    0.0s\n",
      "[Parallel(n_jobs=4)]: Done 192 tasks      | elapsed:    0.0s\n",
      "[Parallel(n_jobs=4)]: Done 250 out of 250 | elapsed:    0.0s finished\n",
      "[Parallel(n_jobs=4)]: Done  42 tasks      | elapsed:    0.0s\n",
      "[Parallel(n_jobs=4)]: Done  42 tasks      | elapsed:    0.1s\n",
      "[Parallel(n_jobs=4)]: Done  42 tasks      | elapsed:    0.0s\n",
      "[Parallel(n_jobs=4)]: Done 192 tasks      | elapsed:    0.0s\n",
      "[Parallel(n_jobs=4)]: Done 250 out of 250 | elapsed:    0.1s finished\n",
      "[Parallel(n_jobs=4)]: Done 192 tasks      | elapsed:    0.3s\n",
      "[Parallel(n_jobs=4)]: Done 192 tasks      | elapsed:    0.3s\n",
      "[Parallel(n_jobs=4)]: Done 250 out of 250 | elapsed:    0.4s finished\n",
      "[Parallel(n_jobs=4)]: Done 250 out of 250 | elapsed:    0.4s finished\n",
      "[Parallel(n_jobs=4)]: Done  42 tasks      | elapsed:    0.0s\n",
      "[Parallel(n_jobs=4)]: Done 192 tasks      | elapsed:    0.0s\n",
      "[Parallel(n_jobs=4)]: Done  42 tasks      | elapsed:    0.1s\n",
      "[Parallel(n_jobs=4)]: Done 250 out of 250 | elapsed:    0.1s finished\n",
      "[Parallel(n_jobs=4)]: Done  42 tasks      | elapsed:    0.0s\n",
      "[Parallel(n_jobs=4)]: Done 192 tasks      | elapsed:    0.0s\n",
      "[Parallel(n_jobs=4)]: Done 250 out of 250 | elapsed:    0.1s finished\n",
      "[Parallel(n_jobs=4)]: Done  42 tasks      | elapsed:    0.1s\n",
      "[Parallel(n_jobs=4)]: Done 192 tasks      | elapsed:    0.4s\n",
      "[Parallel(n_jobs=4)]: Done 192 tasks      | elapsed:    0.3s\n",
      "[Parallel(n_jobs=4)]: Done 250 out of 250 | elapsed:    0.5s finished\n",
      "[Parallel(n_jobs=4)]: Done 250 out of 250 | elapsed:    0.4s finished\n",
      "[Parallel(n_jobs=4)]: Done  42 tasks      | elapsed:    0.0s\n",
      "[Parallel(n_jobs=4)]: Done  42 tasks      | elapsed:    0.0s\n",
      "[Parallel(n_jobs=4)]: Done 192 tasks      | elapsed:    0.0s\n",
      "[Parallel(n_jobs=4)]: Done 192 tasks      | elapsed:    0.0s\n",
      "[Parallel(n_jobs=4)]: Done 250 out of 250 | elapsed:    0.1s finished\n",
      "[Parallel(n_jobs=4)]: Done 250 out of 250 | elapsed:    0.1s finished\n",
      "[Parallel(n_jobs=4)]: Done  42 tasks      | elapsed:    0.0s\n",
      "[Parallel(n_jobs=4)]: Done  42 tasks      | elapsed:    0.0s\n",
      "[Parallel(n_jobs=4)]: Done 192 tasks      | elapsed:    0.3s\n",
      "[Parallel(n_jobs=4)]: Done 192 tasks      | elapsed:    0.2s\n",
      "[Parallel(n_jobs=4)]: Done 250 out of 250 | elapsed:    0.4s finished\n",
      "[Parallel(n_jobs=4)]: Done 250 out of 250 | elapsed:    0.3s finished\n",
      "[Parallel(n_jobs=4)]: Done  42 tasks      | elapsed:    0.0s\n",
      "[Parallel(n_jobs=4)]: Done 192 tasks      | elapsed:    0.0s\n",
      "[Parallel(n_jobs=4)]: Done 250 out of 250 | elapsed:    0.1s finished\n",
      "[Parallel(n_jobs=4)]: Done  42 tasks      | elapsed:    0.0s\n",
      "[Parallel(n_jobs=4)]: Done  42 tasks      | elapsed:    0.1s\n",
      "[Parallel(n_jobs=4)]: Done  42 tasks      | elapsed:    0.0s\n",
      "[Parallel(n_jobs=4)]: Done 192 tasks      | elapsed:    0.0s\n",
      "[Parallel(n_jobs=4)]: Done 250 out of 250 | elapsed:    0.1s finished\n",
      "[Parallel(n_jobs=4)]: Done 192 tasks      | elapsed:    0.3s\n",
      "[Parallel(n_jobs=4)]: Done 192 tasks      | elapsed:    0.4s\n",
      "[Parallel(n_jobs=4)]: Done 250 out of 250 | elapsed:    0.4s finished\n",
      "[Parallel(n_jobs=4)]: Done 250 out of 250 | elapsed:    0.5s finished\n",
      "[Parallel(n_jobs=4)]: Done  42 tasks      | elapsed:    0.0s\n",
      "[Parallel(n_jobs=4)]: Done  42 tasks      | elapsed:    0.0s\n",
      "[Parallel(n_jobs=4)]: Done 192 tasks      | elapsed:    0.0s\n",
      "[Parallel(n_jobs=4)]: Done  42 tasks      | elapsed:    0.0s\n",
      "[Parallel(n_jobs=4)]: Done 250 out of 250 | elapsed:    0.1s finished\n",
      "[Parallel(n_jobs=4)]: Done 192 tasks      | elapsed:    0.0s\n",
      "[Parallel(n_jobs=4)]: Done 250 out of 250 | elapsed:    0.1s finished\n",
      "[Parallel(n_jobs=4)]: Done  42 tasks      | elapsed:    0.0s\n",
      "[Parallel(n_jobs=4)]: Done 192 tasks      | elapsed:    0.3s\n",
      "[Parallel(n_jobs=4)]: Done 250 out of 250 | elapsed:    0.4s finished\n",
      "[Parallel(n_jobs=4)]: Done 192 tasks      | elapsed:    0.3s\n",
      "[Parallel(n_jobs=4)]: Done  42 tasks      | elapsed:    0.0s\n",
      "[Parallel(n_jobs=4)]: Done 250 out of 250 | elapsed:    0.4s finished\n",
      "[Parallel(n_jobs=4)]: Done 192 tasks      | elapsed:    0.0s\n",
      "[Parallel(n_jobs=4)]: Done 250 out of 250 | elapsed:    0.1s finished\n",
      "[Parallel(n_jobs=4)]: Done  42 tasks      | elapsed:    0.0s\n",
      "[Parallel(n_jobs=4)]: Done  42 tasks      | elapsed:    0.1s\n",
      "[Parallel(n_jobs=4)]: Done 192 tasks      | elapsed:    0.3s\n",
      "[Parallel(n_jobs=4)]: Done  42 tasks      | elapsed:    0.0s\n",
      "[Parallel(n_jobs=4)]: Done 192 tasks      | elapsed:    0.0s\n",
      "[Parallel(n_jobs=4)]: Done 250 out of 250 | elapsed:    0.1s finished\n",
      "[Parallel(n_jobs=4)]: Done 250 out of 250 | elapsed:    0.4s finished\n",
      "[Parallel(n_jobs=4)]: Done 192 tasks      | elapsed:    0.4s\n",
      "[Parallel(n_jobs=4)]: Done 250 out of 250 | elapsed:    0.5s finished\n",
      "[Parallel(n_jobs=4)]: Done  42 tasks      | elapsed:    0.0s\n",
      "[Parallel(n_jobs=4)]: Done 192 tasks      | elapsed:    0.0s\n",
      "[Parallel(n_jobs=4)]: Done 250 out of 250 | elapsed:    0.0s finished\n",
      "[Parallel(n_jobs=4)]: Done  42 tasks      | elapsed:    0.0s\n",
      "[Parallel(n_jobs=4)]: Done  42 tasks      | elapsed:    0.0s\n"
     ]
    },
    {
     "name": "stderr",
     "output_type": "stream",
     "text": [
      "[Parallel(n_jobs=4)]: Done 192 tasks      | elapsed:    0.0s\n",
      "[Parallel(n_jobs=4)]: Done 250 out of 250 | elapsed:    0.1s finished\n",
      "[Parallel(n_jobs=4)]: Done  42 tasks      | elapsed:    0.1s\n",
      "[Parallel(n_jobs=4)]: Done 192 tasks      | elapsed:    0.3s\n",
      "[Parallel(n_jobs=4)]: Done 250 out of 250 | elapsed:    0.4s finished\n",
      "[Parallel(n_jobs=4)]: Done 192 tasks      | elapsed:    0.3s\n",
      "[Parallel(n_jobs=4)]: Done  42 tasks      | elapsed:    0.0s\n",
      "[Parallel(n_jobs=4)]: Done 250 out of 250 | elapsed:    0.4s finished\n",
      "[Parallel(n_jobs=4)]: Done 192 tasks      | elapsed:    0.0s\n",
      "[Parallel(n_jobs=4)]: Done 250 out of 250 | elapsed:    0.1s finished\n",
      "[Parallel(n_jobs=4)]: Done  42 tasks      | elapsed:    0.1s\n",
      "[Parallel(n_jobs=4)]: Done  42 tasks      | elapsed:    0.0s\n",
      "[Parallel(n_jobs=4)]: Done  42 tasks      | elapsed:    0.0s\n",
      "[Parallel(n_jobs=4)]: Done 192 tasks      | elapsed:    0.0s\n",
      "[Parallel(n_jobs=4)]: Done 250 out of 250 | elapsed:    0.1s finished\n",
      "[Parallel(n_jobs=4)]: Done 192 tasks      | elapsed:    0.4s\n",
      "[Parallel(n_jobs=4)]: Done 192 tasks      | elapsed:    0.3s\n",
      "[Parallel(n_jobs=4)]: Done 250 out of 250 | elapsed:    0.5s finished\n",
      "[Parallel(n_jobs=4)]: Done 250 out of 250 | elapsed:    0.4s finished\n",
      "[Parallel(n_jobs=4)]: Done  42 tasks      | elapsed:    0.0s\n",
      "[Parallel(n_jobs=4)]: Done 192 tasks      | elapsed:    0.0s\n",
      "[Parallel(n_jobs=4)]: Done 250 out of 250 | elapsed:    0.0s finished\n",
      "[Parallel(n_jobs=4)]: Done  42 tasks      | elapsed:    0.0s\n",
      "[Parallel(n_jobs=4)]: Done  42 tasks      | elapsed:    0.0s\n",
      "[Parallel(n_jobs=4)]: Done 192 tasks      | elapsed:    0.0s\n",
      "[Parallel(n_jobs=4)]: Done 250 out of 250 | elapsed:    0.1s finished\n",
      "[Parallel(n_jobs=4)]: Done  42 tasks      | elapsed:    0.0s\n",
      "[Parallel(n_jobs=4)]: Done 192 tasks      | elapsed:    0.4s\n",
      "[Parallel(n_jobs=4)]: Done 192 tasks      | elapsed:    0.3s\n",
      "[Parallel(n_jobs=4)]: Done 250 out of 250 | elapsed:    0.5s finished\n",
      "[Parallel(n_jobs=4)]: Done 250 out of 250 | elapsed:    0.4s finished\n",
      "[Parallel(n_jobs=4)]: Done  42 tasks      | elapsed:    0.0s\n",
      "[Parallel(n_jobs=4)]: Done 192 tasks      | elapsed:    0.0s\n",
      "[Parallel(n_jobs=4)]: Done 250 out of 250 | elapsed:    0.0s finished\n",
      "[Parallel(n_jobs=4)]: Done  42 tasks      | elapsed:    0.0s\n",
      "[Parallel(n_jobs=4)]: Done  42 tasks      | elapsed:    0.0s\n",
      "[Parallel(n_jobs=4)]: Done 192 tasks      | elapsed:    0.0s\n",
      "[Parallel(n_jobs=4)]: Done 250 out of 250 | elapsed:    0.1s finished\n",
      "[Parallel(n_jobs=4)]: Done  42 tasks      | elapsed:    0.0s\n",
      "[Parallel(n_jobs=4)]: Done 192 tasks      | elapsed:    0.3s\n",
      "[Parallel(n_jobs=4)]: Done 250 out of 250 | elapsed:    0.5s finished\n",
      "[Parallel(n_jobs=4)]: Done 192 tasks      | elapsed:    0.3s\n",
      "[Parallel(n_jobs=4)]: Done 250 out of 250 | elapsed:    0.4s finished\n",
      "[Parallel(n_jobs=4)]: Done  42 tasks      | elapsed:    0.0s\n",
      "[Parallel(n_jobs=4)]: Done 192 tasks      | elapsed:    0.0s\n",
      "[Parallel(n_jobs=4)]: Done 250 out of 250 | elapsed:    0.1s finished\n",
      "[Parallel(n_jobs=4)]: Done  42 tasks      | elapsed:    0.1s\n",
      "[Parallel(n_jobs=4)]: Done  42 tasks      | elapsed:    0.1s\n",
      "[Parallel(n_jobs=4)]: Done  42 tasks      | elapsed:    0.0s\n",
      "[Parallel(n_jobs=4)]: Done 192 tasks      | elapsed:    0.0s\n",
      "[Parallel(n_jobs=4)]: Done 250 out of 250 | elapsed:    0.1s finished\n",
      "[Parallel(n_jobs=4)]: Done 192 tasks      | elapsed:    0.4s\n",
      "[Parallel(n_jobs=4)]: Done 192 tasks      | elapsed:    0.4s\n",
      "[Parallel(n_jobs=4)]: Done 250 out of 250 | elapsed:    0.5s finished\n",
      "[Parallel(n_jobs=4)]: Done 250 out of 250 | elapsed:    0.5s finished\n",
      "[Parallel(n_jobs=4)]: Done  42 tasks      | elapsed:    0.0s\n",
      "[Parallel(n_jobs=4)]: Done  42 tasks      | elapsed:    0.0s\n",
      "[Parallel(n_jobs=4)]: Done  42 tasks      | elapsed:    0.0s\n",
      "[Parallel(n_jobs=4)]: Done 192 tasks      | elapsed:    0.0s\n",
      "[Parallel(n_jobs=4)]: Done 250 out of 250 | elapsed:    0.1s finished\n",
      "[Parallel(n_jobs=4)]: Done 192 tasks      | elapsed:    0.1s\n",
      "[Parallel(n_jobs=4)]: Done 250 out of 250 | elapsed:    0.1s finished\n",
      "[Parallel(n_jobs=4)]: Done 192 tasks      | elapsed:    0.3s\n",
      "[Parallel(n_jobs=4)]: Done  42 tasks      | elapsed:    0.0s\n",
      "[Parallel(n_jobs=4)]: Done 250 out of 250 | elapsed:    0.5s finished\n",
      "[Parallel(n_jobs=4)]: Done  42 tasks      | elapsed:    0.0s\n",
      "[Parallel(n_jobs=4)]: Done 192 tasks      | elapsed:    0.3s\n",
      "[Parallel(n_jobs=4)]: Done 192 tasks      | elapsed:    0.0s\n",
      "[Parallel(n_jobs=4)]: Done 250 out of 250 | elapsed:    0.1s finished\n",
      "[Parallel(n_jobs=4)]: Done 250 out of 250 | elapsed:    0.4s finished\n",
      "[Parallel(n_jobs=4)]: Done  42 tasks      | elapsed:    0.0s\n",
      "[Parallel(n_jobs=4)]: Done  42 tasks      | elapsed:    0.1s\n",
      "[Parallel(n_jobs=4)]: Done  42 tasks      | elapsed:    0.0s\n",
      "[Parallel(n_jobs=4)]: Done 192 tasks      | elapsed:    0.0s\n",
      "[Parallel(n_jobs=4)]: Done 250 out of 250 | elapsed:    0.1s finished\n",
      "[Parallel(n_jobs=4)]: Done 192 tasks      | elapsed:    0.4s\n",
      "[Parallel(n_jobs=4)]: Done 192 tasks      | elapsed:    0.4s\n",
      "[Parallel(n_jobs=4)]: Done 250 out of 250 | elapsed:    0.5s finished\n",
      "[Parallel(n_jobs=4)]: Done 250 out of 250 | elapsed:    0.5s finished\n",
      "[Parallel(n_jobs=4)]: Done  42 tasks      | elapsed:    0.0s\n",
      "[Parallel(n_jobs=4)]: Done  42 tasks      | elapsed:    0.1s\n",
      "[Parallel(n_jobs=4)]: Done 192 tasks      | elapsed:    0.0s\n",
      "[Parallel(n_jobs=4)]: Done 250 out of 250 | elapsed:    0.1s finished\n",
      "[Parallel(n_jobs=4)]: Done  42 tasks      | elapsed:    0.0s\n",
      "[Parallel(n_jobs=4)]: Done 192 tasks      | elapsed:    0.0s\n",
      "[Parallel(n_jobs=4)]: Done 250 out of 250 | elapsed:    0.0s finished\n",
      "[Parallel(n_jobs=4)]: Done 192 tasks      | elapsed:    0.4s\n",
      "[Parallel(n_jobs=4)]: Done  42 tasks      | elapsed:    0.0s\n",
      "[Parallel(n_jobs=4)]: Done 250 out of 250 | elapsed:    0.5s finished\n",
      "[Parallel(n_jobs=4)]: Done 192 tasks      | elapsed:    0.3s\n",
      "[Parallel(n_jobs=4)]: Done  42 tasks      | elapsed:    0.0s\n",
      "[Parallel(n_jobs=4)]: Done 192 tasks      | elapsed:    0.0s\n",
      "[Parallel(n_jobs=4)]: Done 250 out of 250 | elapsed:    0.1s finished\n",
      "[Parallel(n_jobs=4)]: Done 250 out of 250 | elapsed:    0.4s finished\n",
      "[Parallel(n_jobs=4)]: Done  42 tasks      | elapsed:    0.1s\n",
      "[Parallel(n_jobs=4)]: Done  42 tasks      | elapsed:    0.0s\n",
      "[Parallel(n_jobs=4)]: Done 192 tasks      | elapsed:    0.0s\n",
      "[Parallel(n_jobs=4)]: Done 250 out of 250 | elapsed:    0.1s finished\n",
      "[Parallel(n_jobs=4)]: Done  42 tasks      | elapsed:    0.0s\n",
      "[Parallel(n_jobs=4)]: Done 192 tasks      | elapsed:    0.4s\n",
      "[Parallel(n_jobs=4)]: Done 250 out of 250 | elapsed:    0.5s finished\n",
      "[Parallel(n_jobs=4)]: Done 192 tasks      | elapsed:    0.3s\n",
      "[Parallel(n_jobs=4)]: Done 250 out of 250 | elapsed:    0.4s finished\n",
      "[Parallel(n_jobs=4)]: Done  42 tasks      | elapsed:    0.1s\n",
      "[Parallel(n_jobs=4)]: Done  42 tasks      | elapsed:    0.0s\n",
      "[Parallel(n_jobs=4)]: Done 192 tasks      | elapsed:    0.0s\n",
      "[Parallel(n_jobs=4)]: Done 250 out of 250 | elapsed:    0.1s finished\n",
      "[Parallel(n_jobs=4)]: Done  42 tasks      | elapsed:    0.0s\n",
      "[Parallel(n_jobs=4)]: Done 192 tasks      | elapsed:    0.0s\n",
      "[Parallel(n_jobs=4)]: Done 250 out of 250 | elapsed:    0.1s finished\n",
      "[Parallel(n_jobs=4)]: Done 192 tasks      | elapsed:    0.4s\n",
      "[Parallel(n_jobs=4)]: Done  42 tasks      | elapsed:    0.1s\n",
      "[Parallel(n_jobs=4)]: Done 250 out of 250 | elapsed:    0.5s finished\n",
      "[Parallel(n_jobs=4)]: Done  42 tasks      | elapsed:    0.0s\n",
      "[Parallel(n_jobs=4)]: Done 192 tasks      | elapsed:    0.0s\n",
      "[Parallel(n_jobs=4)]: Done 250 out of 250 | elapsed:    0.1s finished\n",
      "[Parallel(n_jobs=4)]: Done 192 tasks      | elapsed:    0.4s\n",
      "[Parallel(n_jobs=4)]: Done  42 tasks      | elapsed:    0.0s\n",
      "[Parallel(n_jobs=4)]: Done 250 out of 250 | elapsed:    0.5s finished\n",
      "[Parallel(n_jobs=4)]: Done  42 tasks      | elapsed:    0.1s\n",
      "[Parallel(n_jobs=4)]: Done 192 tasks      | elapsed:    0.4s\n",
      "[Parallel(n_jobs=4)]: Done 192 tasks      | elapsed:    0.3s\n",
      "[Parallel(n_jobs=4)]: Done  42 tasks      | elapsed:    0.0s\n",
      "[Parallel(n_jobs=4)]: Done 192 tasks      | elapsed:    0.0s\n",
      "[Parallel(n_jobs=4)]: Done 250 out of 250 | elapsed:    0.1s finished\n",
      "[Parallel(n_jobs=4)]: Done 250 out of 250 | elapsed:    0.5s finished\n",
      "[Parallel(n_jobs=4)]: Done 250 out of 250 | elapsed:    0.5s finished\n",
      "[Parallel(n_jobs=4)]: Done  42 tasks      | elapsed:    0.0s\n"
     ]
    },
    {
     "name": "stderr",
     "output_type": "stream",
     "text": [
      "[Parallel(n_jobs=4)]: Done  42 tasks      | elapsed:    0.0s\n",
      "[Parallel(n_jobs=4)]: Done  42 tasks      | elapsed:    0.0s\n",
      "[Parallel(n_jobs=4)]: Done 192 tasks      | elapsed:    0.1s\n",
      "[Parallel(n_jobs=4)]: Done 192 tasks      | elapsed:    0.1s\n",
      "[Parallel(n_jobs=4)]: Done 250 out of 250 | elapsed:    0.1s finished\n",
      "[Parallel(n_jobs=4)]: Done 250 out of 250 | elapsed:    0.1s finished\n",
      "[Parallel(n_jobs=4)]: Done 192 tasks      | elapsed:    0.3s\n",
      "[Parallel(n_jobs=4)]: Done 250 out of 250 | elapsed:    0.4s finished\n",
      "[Parallel(n_jobs=4)]: Done  42 tasks      | elapsed:    0.1s\n",
      "[Parallel(n_jobs=4)]: Done  42 tasks      | elapsed:    0.0s\n",
      "[Parallel(n_jobs=4)]: Done 192 tasks      | elapsed:    0.0s\n",
      "[Parallel(n_jobs=4)]: Done 250 out of 250 | elapsed:    0.1s finished\n",
      "[Parallel(n_jobs=4)]: Done 192 tasks      | elapsed:    0.3s\n",
      "[Parallel(n_jobs=4)]: Done  42 tasks      | elapsed:    0.1s\n",
      "[Parallel(n_jobs=4)]: Done  42 tasks      | elapsed:    0.0s\n",
      "[Parallel(n_jobs=4)]: Done 250 out of 250 | elapsed:    0.6s finished\n",
      "[Parallel(n_jobs=4)]: Done 192 tasks      | elapsed:    0.4s\n",
      "[Parallel(n_jobs=4)]: Done 250 out of 250 | elapsed:    0.5s finished\n",
      "[Parallel(n_jobs=4)]: Done 192 tasks      | elapsed:    0.3s\n",
      "[Parallel(n_jobs=4)]: Done  42 tasks      | elapsed:    0.0s\n",
      "[Parallel(n_jobs=4)]: Done 192 tasks      | elapsed:    0.0s\n",
      "[Parallel(n_jobs=4)]: Done 250 out of 250 | elapsed:    0.0s finished\n",
      "[Parallel(n_jobs=4)]: Done 250 out of 250 | elapsed:    0.5s finished\n",
      "[Parallel(n_jobs=4)]: Done  42 tasks      | elapsed:    0.0s\n",
      "[Parallel(n_jobs=4)]: Done 192 tasks      | elapsed:    0.0s\n",
      "[Parallel(n_jobs=4)]: Done 250 out of 250 | elapsed:    0.1s finished\n",
      "[Parallel(n_jobs=4)]: Done  42 tasks      | elapsed:    0.1s\n",
      "[Parallel(n_jobs=4)]: Done  42 tasks      | elapsed:    0.0s\n",
      "[Parallel(n_jobs=4)]: Done 192 tasks      | elapsed:    0.0s\n",
      "[Parallel(n_jobs=4)]: Done 250 out of 250 | elapsed:    0.1s finished\n",
      "[Parallel(n_jobs=4)]: Done  42 tasks      | elapsed:    0.0s\n",
      "[Parallel(n_jobs=4)]: Done 192 tasks      | elapsed:    0.4s\n",
      "[Parallel(n_jobs=4)]: Done 250 out of 250 | elapsed:    0.6s finished\n",
      "[Parallel(n_jobs=4)]: Done 192 tasks      | elapsed:    0.3s\n",
      "[Parallel(n_jobs=4)]: Done  42 tasks      | elapsed:    0.1s\n",
      "[Parallel(n_jobs=4)]: Done  42 tasks      | elapsed:    0.0s\n",
      "[Parallel(n_jobs=4)]: Done 192 tasks      | elapsed:    0.0s\n",
      "[Parallel(n_jobs=4)]: Done 250 out of 250 | elapsed:    0.1s finished\n",
      "[Parallel(n_jobs=4)]: Done 250 out of 250 | elapsed:    0.6s finished\n",
      "[Parallel(n_jobs=4)]: Done  42 tasks      | elapsed:    0.1s\n",
      "[Parallel(n_jobs=4)]: Done 192 tasks      | elapsed:    0.4s\n",
      "[Parallel(n_jobs=4)]: Done  42 tasks      | elapsed:    0.0s\n",
      "[Parallel(n_jobs=4)]: Done 192 tasks      | elapsed:    0.1s\n",
      "[Parallel(n_jobs=4)]: Done 250 out of 250 | elapsed:    0.1s finished\n",
      "[Parallel(n_jobs=4)]: Done 250 out of 250 | elapsed:    0.6s finished\n",
      "[Parallel(n_jobs=4)]: Done 192 tasks      | elapsed:    0.4s\n",
      "[Parallel(n_jobs=4)]: Done 250 out of 250 | elapsed:    0.5s finished\n",
      "[Parallel(n_jobs=4)]: Done  42 tasks      | elapsed:    0.0s\n",
      "[Parallel(n_jobs=4)]: Done 192 tasks      | elapsed:    0.0s\n",
      "[Parallel(n_jobs=4)]: Done 250 out of 250 | elapsed:    0.1s finished\n",
      "[Parallel(n_jobs=4)]: Done  42 tasks      | elapsed:    0.1s\n",
      "[Parallel(n_jobs=4)]: Done  42 tasks      | elapsed:    0.0s\n",
      "[Parallel(n_jobs=4)]: Done 192 tasks      | elapsed:    0.0s\n",
      "[Parallel(n_jobs=4)]: Done 250 out of 250 | elapsed:    0.1s finished\n",
      "[Parallel(n_jobs=4)]: Done  42 tasks      | elapsed:    0.1s\n",
      "[Parallel(n_jobs=4)]: Done 192 tasks      | elapsed:    0.4s\n",
      "[Parallel(n_jobs=4)]: Done 250 out of 250 | elapsed:    0.5s finished\n",
      "[Parallel(n_jobs=4)]: Done  42 tasks      | elapsed:    0.0s\n",
      "[Parallel(n_jobs=4)]: Done 192 tasks      | elapsed:    0.4s\n",
      "[Parallel(n_jobs=4)]: Done 192 tasks      | elapsed:    0.0s\n",
      "[Parallel(n_jobs=4)]: Done 250 out of 250 | elapsed:    0.1s finished\n",
      "[Parallel(n_jobs=4)]: Done 250 out of 250 | elapsed:    0.5s finished\n",
      "[Parallel(n_jobs=4)]: Done  42 tasks      | elapsed:    0.1s\n",
      "[Parallel(n_jobs=4)]: Done  42 tasks      | elapsed:    0.0s\n",
      "[Parallel(n_jobs=4)]: Done  42 tasks      | elapsed:    0.0s\n",
      "[Parallel(n_jobs=4)]: Done 192 tasks      | elapsed:    0.4s\n",
      "[Parallel(n_jobs=4)]: Done 192 tasks      | elapsed:    0.0s\n",
      "[Parallel(n_jobs=4)]: Done 250 out of 250 | elapsed:    0.1s finished\n",
      "[Parallel(n_jobs=4)]: Done 192 tasks      | elapsed:    0.4s\n",
      "[Parallel(n_jobs=4)]: Done 250 out of 250 | elapsed:    0.6s finished\n",
      "[Parallel(n_jobs=4)]: Done 250 out of 250 | elapsed:    0.5s finished\n",
      "[Parallel(n_jobs=4)]: Done  42 tasks      | elapsed:    0.1s\n",
      "[Parallel(n_jobs=4)]: Done  42 tasks      | elapsed:    0.0s\n",
      "[Parallel(n_jobs=4)]: Done  42 tasks      | elapsed:    0.0s\n",
      "[Parallel(n_jobs=4)]: Done 192 tasks      | elapsed:    0.1s\n",
      "[Parallel(n_jobs=4)]: Done 250 out of 250 | elapsed:    0.1s finished\n",
      "[Parallel(n_jobs=4)]: Done 192 tasks      | elapsed:    0.1s\n",
      "[Parallel(n_jobs=4)]: Done 250 out of 250 | elapsed:    0.1s finished\n",
      "[Parallel(n_jobs=4)]: Done 192 tasks      | elapsed:    0.4s\n",
      "[Parallel(n_jobs=4)]: Done  42 tasks      | elapsed:    0.0s\n",
      "[Parallel(n_jobs=4)]: Done 250 out of 250 | elapsed:    0.5s finished\n",
      "[Parallel(n_jobs=4)]: Done  42 tasks      | elapsed:    0.0s\n",
      "[Parallel(n_jobs=4)]: Done 192 tasks      | elapsed:    0.3s\n",
      "[Parallel(n_jobs=4)]: Done 192 tasks      | elapsed:    0.0s\n",
      "[Parallel(n_jobs=4)]: Done 250 out of 250 | elapsed:    0.1s finished\n",
      "[Parallel(n_jobs=4)]: Done 250 out of 250 | elapsed:    0.5s finished\n",
      "[Parallel(n_jobs=4)]: Done  42 tasks      | elapsed:    0.1s\n",
      "[Parallel(n_jobs=4)]: Done  42 tasks      | elapsed:    0.1s\n",
      "[Parallel(n_jobs=4)]: Done  42 tasks      | elapsed:    0.0s\n",
      "[Parallel(n_jobs=4)]: Done 192 tasks      | elapsed:    0.4s\n",
      "[Parallel(n_jobs=4)]: Done 192 tasks      | elapsed:    0.0s\n",
      "[Parallel(n_jobs=4)]: Done 250 out of 250 | elapsed:    0.1s finished\n",
      "[Parallel(n_jobs=4)]: Done 192 tasks      | elapsed:    0.5s\n",
      "[Parallel(n_jobs=4)]: Done 250 out of 250 | elapsed:    0.6s finished\n",
      "[Parallel(n_jobs=4)]: Done 250 out of 250 | elapsed:    0.6s finished\n",
      "[Parallel(n_jobs=4)]: Done  42 tasks      | elapsed:    0.1s\n",
      "[Parallel(n_jobs=4)]: Done  42 tasks      | elapsed:    0.0s\n",
      "[Parallel(n_jobs=4)]: Done 192 tasks      | elapsed:    0.0s\n",
      "[Parallel(n_jobs=4)]: Done 250 out of 250 | elapsed:    0.0s finished\n",
      "[Parallel(n_jobs=4)]: Done  42 tasks      | elapsed:    0.0s\n",
      "[Parallel(n_jobs=4)]: Done 192 tasks      | elapsed:    0.0s\n",
      "[Parallel(n_jobs=4)]: Done 250 out of 250 | elapsed:    0.1s finished\n",
      "[Parallel(n_jobs=4)]: Done  42 tasks      | elapsed:    0.1s\n",
      "[Parallel(n_jobs=4)]: Done 192 tasks      | elapsed:    0.5s\n",
      "[Parallel(n_jobs=4)]: Done 250 out of 250 | elapsed:    0.6s finished\n",
      "[Parallel(n_jobs=4)]: Done 192 tasks      | elapsed:    0.4s\n",
      "[Parallel(n_jobs=4)]: Done  42 tasks      | elapsed:    0.0s\n",
      "[Parallel(n_jobs=4)]: Done 192 tasks      | elapsed:    0.0s\n",
      "[Parallel(n_jobs=4)]: Done 250 out of 250 | elapsed:    0.0s finished\n",
      "[Parallel(n_jobs=4)]: Done  42 tasks      | elapsed:    0.1s\n",
      "[Parallel(n_jobs=4)]: Done 250 out of 250 | elapsed:    0.6s finished\n",
      "[Parallel(n_jobs=4)]: Done  42 tasks      | elapsed:    0.2s\n",
      "[Parallel(n_jobs=4)]: Done  42 tasks      | elapsed:    0.0s\n",
      "[Parallel(n_jobs=4)]: Done 192 tasks      | elapsed:    0.0s\n",
      "[Parallel(n_jobs=4)]: Done 250 out of 250 | elapsed:    0.0s finished\n",
      "[Parallel(n_jobs=4)]: Done 192 tasks      | elapsed:    0.4s\n",
      "[Parallel(n_jobs=4)]: Done 192 tasks      | elapsed:    0.6s\n",
      "[Parallel(n_jobs=4)]: Done 250 out of 250 | elapsed:    0.6s finished\n",
      "[Parallel(n_jobs=4)]: Done 250 out of 250 | elapsed:    0.7s finished\n",
      "[Parallel(n_jobs=4)]: Done  42 tasks      | elapsed:    0.0s\n",
      "[Parallel(n_jobs=4)]: Done 192 tasks      | elapsed:    0.0s\n",
      "[Parallel(n_jobs=4)]: Done 250 out of 250 | elapsed:    0.0s finished\n",
      "[Parallel(n_jobs=4)]: Done  42 tasks      | elapsed:    0.1s\n",
      "[Parallel(n_jobs=4)]: Done  42 tasks      | elapsed:    0.0s\n",
      "[Parallel(n_jobs=4)]: Done 192 tasks      | elapsed:    0.0s\n",
      "[Parallel(n_jobs=4)]: Done 250 out of 250 | elapsed:    0.0s finished\n",
      "[Parallel(n_jobs=4)]: Done 192 tasks      | elapsed:    0.3s\n",
      "[Parallel(n_jobs=4)]: Done  42 tasks      | elapsed:    0.1s\n",
      "[Parallel(n_jobs=4)]: Done 250 out of 250 | elapsed:    0.5s finished\n"
     ]
    },
    {
     "name": "stderr",
     "output_type": "stream",
     "text": [
      "[Parallel(n_jobs=4)]: Done  42 tasks      | elapsed:    0.1s\n",
      "[Parallel(n_jobs=4)]: Done 192 tasks      | elapsed:    0.5s\n",
      "[Parallel(n_jobs=4)]: Done 250 out of 250 | elapsed:    0.6s finished\n",
      "[Parallel(n_jobs=4)]: Done  42 tasks      | elapsed:    0.0s\n",
      "[Parallel(n_jobs=4)]: Done 192 tasks      | elapsed:    0.1s\n",
      "[Parallel(n_jobs=4)]: Done 250 out of 250 | elapsed:    0.1s finished\n",
      "[Parallel(n_jobs=4)]: Done  42 tasks      | elapsed:    0.1s\n",
      "[Parallel(n_jobs=4)]: Done 192 tasks      | elapsed:    0.5s\n",
      "[Parallel(n_jobs=4)]: Done  42 tasks      | elapsed:    0.0s\n",
      "[Parallel(n_jobs=4)]: Done 192 tasks      | elapsed:    0.1s\n",
      "[Parallel(n_jobs=4)]: Done 250 out of 250 | elapsed:    0.1s finished\n",
      "[Parallel(n_jobs=4)]: Done 250 out of 250 | elapsed:    0.6s finished\n",
      "[Parallel(n_jobs=4)]: Done 192 tasks      | elapsed:    0.4s\n",
      "[Parallel(n_jobs=4)]: Done  42 tasks      | elapsed:    0.0s\n",
      "[Parallel(n_jobs=4)]: Done 250 out of 250 | elapsed:    0.5s finished\n",
      "[Parallel(n_jobs=4)]: Done 192 tasks      | elapsed:    0.0s\n",
      "[Parallel(n_jobs=4)]: Done 250 out of 250 | elapsed:    0.0s finished\n",
      "[Parallel(n_jobs=4)]: Done  42 tasks      | elapsed:    0.1s\n",
      "[Parallel(n_jobs=4)]: Done  42 tasks      | elapsed:    0.0s\n",
      "[Parallel(n_jobs=4)]: Done 192 tasks      | elapsed:    0.0s\n",
      "[Parallel(n_jobs=4)]: Done 250 out of 250 | elapsed:    0.1s finished\n",
      "[Parallel(n_jobs=4)]: Done 192 tasks      | elapsed:    0.3s\n",
      "[Parallel(n_jobs=4)]: Done 250 out of 250 | elapsed:    0.3s finished\n",
      "[Parallel(n_jobs=4)]: Done  42 tasks      | elapsed:    0.0s\n",
      "[Parallel(n_jobs=4)]: Done 192 tasks      | elapsed:    0.0s\n",
      "[Parallel(n_jobs=4)]: Done 250 out of 250 | elapsed:    0.0s finished\n",
      "[Parallel(n_jobs=4)]: Done  42 tasks      | elapsed:    0.0s\n",
      "[Parallel(n_jobs=4)]: Done 192 tasks      | elapsed:    0.2s\n",
      "[Parallel(n_jobs=4)]: Done 250 out of 250 | elapsed:    0.3s finished\n",
      "2018-08-10 13:02:31,199 __main__     INFO     complete\n"
     ]
    },
    {
     "name": "stdout",
     "output_type": "stream",
     "text": [
      "Best Estimator learned through GridSearch\n",
      "ExtraTreesRegressor(bootstrap=True, criterion='mse', max_depth=10,\n",
      "          max_features=17, max_leaf_nodes=None, min_impurity_decrease=0.0,\n",
      "          min_impurity_split=None, min_samples_leaf=1, min_samples_split=2,\n",
      "          min_weight_fraction_leaf=0.0, n_estimators=250, n_jobs=4,\n",
      "          oob_score=True, random_state=None, verbose=1, warm_start=False)\n",
      "--------------------------------\n",
      ".8CV Best Estimator Parameters\n",
      "--------------------------------\n",
      "n_estimators: 250\n",
      "max_depth: 10\n",
      "max_features: 17.00\n",
      ".8CV R-squared: 0.69\n"
     ]
    },
    {
     "name": "stderr",
     "output_type": "stream",
     "text": [
      "[Parallel(n_jobs=4)]: Done  42 tasks      | elapsed:    0.0s\n",
      "[Parallel(n_jobs=4)]: Done 192 tasks      | elapsed:    0.0s\n",
      "[Parallel(n_jobs=4)]: Done 250 out of 250 | elapsed:    0.0s finished\n"
     ]
    }
   ],
   "source": [
    "print(X_eff_1.shape)\n",
    "cv, best_est = perform_grid_search(X_eff_1, y_eff_1)"
   ]
  },
  {
   "cell_type": "code",
   "execution_count": 57,
   "metadata": {},
   "outputs": [
    {
     "name": "stdout",
     "output_type": "stream",
     "text": [
      "ShuffleSplit(3763, n_iter=10, test_size=0.2, random_state=None)\n",
      "ExtraTreesRegressor(bootstrap=True, criterion='mse', max_depth=10,\n",
      "          max_features=17, max_leaf_nodes=None, min_impurity_decrease=0.0,\n",
      "          min_impurity_split=None, min_samples_leaf=1, min_samples_split=2,\n",
      "          min_weight_fraction_leaf=0.0, n_estimators=250, n_jobs=4,\n",
      "          oob_score=True, random_state=None, verbose=1, warm_start=False)\n"
     ]
    }
   ],
   "source": [
    "print(cv)\n",
    "print(best_est)"
   ]
  },
  {
   "cell_type": "code",
   "execution_count": 58,
   "metadata": {},
   "outputs": [
    {
     "name": "stderr",
     "output_type": "stream",
     "text": [
      "[Parallel(n_jobs=4)]: Done  42 tasks      | elapsed:    0.0s\n",
      "[Parallel(n_jobs=4)]: Done 192 tasks      | elapsed:    0.0s\n",
      "[Parallel(n_jobs=4)]: Done 250 out of 250 | elapsed:    0.1s finished\n"
     ]
    },
    {
     "data": {
      "text/plain": [
       "0.68838664582650133"
      ]
     },
     "execution_count": 58,
     "metadata": {},
     "output_type": "execute_result"
    }
   ],
   "source": [
    "best_est.score(X_eff_1, y_eff_1)"
   ]
  },
  {
   "cell_type": "code",
   "execution_count": null,
   "metadata": {
    "collapsed": true
   },
   "outputs": [],
   "source": []
  },
  {
   "cell_type": "code",
   "execution_count": null,
   "metadata": {
    "collapsed": true
   },
   "outputs": [],
   "source": []
  },
  {
   "cell_type": "code",
   "execution_count": null,
   "metadata": {
    "collapsed": true
   },
   "outputs": [],
   "source": []
  },
  {
   "cell_type": "code",
   "execution_count": null,
   "metadata": {
    "collapsed": true
   },
   "outputs": [],
   "source": []
  },
  {
   "cell_type": "code",
   "execution_count": null,
   "metadata": {
    "collapsed": true
   },
   "outputs": [],
   "source": []
  },
  {
   "cell_type": "code",
   "execution_count": null,
   "metadata": {
    "collapsed": true
   },
   "outputs": [],
   "source": []
  },
  {
   "cell_type": "code",
   "execution_count": null,
   "metadata": {
    "collapsed": true
   },
   "outputs": [],
   "source": []
  },
  {
   "cell_type": "markdown",
   "metadata": {},
   "source": [
    "# Split Data - to train real model"
   ]
  },
  {
   "cell_type": "code",
   "execution_count": 59,
   "metadata": {},
   "outputs": [],
   "source": [
    "splitter = DataSplitter()\n",
    "# X_train, X_test, y_train, y_test, in_train_set_by_id = splitter.get_test_train_datasets(X_eff_1, y_eff_1,\n",
    "#                                                                                         docid_array_eff_1,7,train_split=0.50)\n",
    "\n",
    "\n",
    "\n",
    "X_train, X_test, y_train, y_test = splitter.get_test_train_datasets_deterministic(X_eff_1, y_eff_1,\n",
    "                                                                                      docid_array_eff_1,\n",
    "                                                                                      Const.TRAINSET_DOCID_LIST)\n"
   ]
  },
  {
   "cell_type": "code",
   "execution_count": null,
   "metadata": {
    "collapsed": true
   },
   "outputs": [],
   "source": []
  },
  {
   "cell_type": "code",
   "execution_count": null,
   "metadata": {
    "collapsed": true
   },
   "outputs": [],
   "source": []
  },
  {
   "cell_type": "code",
   "execution_count": 60,
   "metadata": {},
   "outputs": [
    {
     "name": "stderr",
     "output_type": "stream",
     "text": [
      "[Parallel(n_jobs=4)]: Done  42 tasks      | elapsed:    0.0s\n",
      "[Parallel(n_jobs=4)]: Done 192 tasks      | elapsed:    0.2s\n",
      "[Parallel(n_jobs=4)]: Done 250 out of 250 | elapsed:    0.2s finished\n"
     ]
    },
    {
     "data": {
      "text/plain": [
       "ExtraTreesRegressor(bootstrap=True, criterion='mse', max_depth=10,\n",
       "          max_features=17, max_leaf_nodes=None, min_impurity_decrease=0.0,\n",
       "          min_impurity_split=None, min_samples_leaf=1, min_samples_split=2,\n",
       "          min_weight_fraction_leaf=0.0, n_estimators=250, n_jobs=4,\n",
       "          oob_score=True, random_state=None, verbose=1, warm_start=False)"
      ]
     },
     "execution_count": 60,
     "metadata": {},
     "output_type": "execute_result"
    }
   ],
   "source": [
    "# # Build a forest and compute the feature importances\n",
    "# forest = ExtraTreesRegressor(n_estimators=best_est.n_estimators,\n",
    "#                               random_state=0,\n",
    "#                             oob_score=True, verbose=True, bootstrap = True)\n",
    "forest = best_est\n",
    "forest.fit(X_train, y_train)"
   ]
  },
  {
   "cell_type": "markdown",
   "metadata": {},
   "source": [
    "# Save Model"
   ]
  },
  {
   "cell_type": "code",
   "execution_count": null,
   "metadata": {
    "collapsed": true
   },
   "outputs": [],
   "source": []
  },
  {
   "cell_type": "code",
   "execution_count": 61,
   "metadata": {
    "collapsed": true
   },
   "outputs": [],
   "source": [
    "output_filename = INTERMEDIATE_PATH+OUTPUT_MODEL_NAME\n",
    "with open(output_filename, 'wb') as handle:\n",
    "     pickle.dump(forest, handle, protocol=pickle.HIGHEST_PROTOCOL)\n",
    "\n",
    "\n"
   ]
  },
  {
   "cell_type": "code",
   "execution_count": 62,
   "metadata": {},
   "outputs": [
    {
     "name": "stderr",
     "output_type": "stream",
     "text": [
      "[Parallel(n_jobs=4)]: Done  42 tasks      | elapsed:    0.0s\n",
      "[Parallel(n_jobs=4)]: Done 192 tasks      | elapsed:    0.0s\n",
      "[Parallel(n_jobs=4)]: Done 250 out of 250 | elapsed:    0.0s finished\n"
     ]
    },
    {
     "data": {
      "text/plain": [
       "0.71713484703402097"
      ]
     },
     "execution_count": 62,
     "metadata": {},
     "output_type": "execute_result"
    }
   ],
   "source": [
    "forest.score(X_train, y_train)"
   ]
  },
  {
   "cell_type": "code",
   "execution_count": null,
   "metadata": {
    "collapsed": true
   },
   "outputs": [],
   "source": []
  }
 ],
 "metadata": {
  "kernelspec": {
   "display_name": "Python 3",
   "language": "python",
   "name": "python3"
  },
  "language_info": {
   "codemirror_mode": {
    "name": "ipython",
    "version": 3
   },
   "file_extension": ".py",
   "mimetype": "text/x-python",
   "name": "python",
   "nbconvert_exporter": "python",
   "pygments_lexer": "ipython3",
   "version": "3.6.3"
  }
 },
 "nbformat": 4,
 "nbformat_minor": 2
}
