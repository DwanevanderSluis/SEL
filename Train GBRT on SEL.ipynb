{
 "cells": [
  {
   "cell_type": "code",
   "execution_count": 1,
   "metadata": {},
   "outputs": [
    {
     "name": "stderr",
     "output_type": "stream",
     "text": [
      "/Users/dsluis/anaconda3/lib/python3.6/site-packages/sklearn/cross_validation.py:41: DeprecationWarning: This module was deprecated in version 0.18 in favor of the model_selection module into which all the refactored classes and functions are moved. Also note that the interface of the new CV iterators are different from that of this module. This module will be removed in 0.20.\n",
      "  \"This module will be removed in 0.20.\", DeprecationWarning)\n",
      "/Users/dsluis/anaconda3/lib/python3.6/site-packages/sklearn/learning_curve.py:22: DeprecationWarning: This module was deprecated in version 0.18 in favor of the model_selection module into which all the functions are moved. This module will be removed in 0.20\n",
      "  DeprecationWarning)\n",
      "/Users/dsluis/anaconda3/lib/python3.6/site-packages/sklearn/grid_search.py:42: DeprecationWarning: This module was deprecated in version 0.18 in favor of the model_selection module into which all the refactored classes and functions are moved. This module will be removed in 0.20.\n",
      "  DeprecationWarning)\n"
     ]
    }
   ],
   "source": [
    "import logging\n",
    "import pickle\n",
    "import numpy as np \n",
    "import matplotlib.pyplot as plt \n",
    "import sys\n",
    "\n",
    "from sklearn.ensemble import GradientBoostingRegressor \n",
    "from sklearn.ensemble import ExtraTreesRegressor\n",
    "from sklearn import cross_validation \n",
    "from sklearn.naive_bayes import GaussianNB \n",
    "from sklearn.datasets import load_digits \n",
    "from sklearn.learning_curve import learning_curve \n",
    "from sklearn.cross_validation import ShuffleSplit, train_test_split \n",
    "from sklearn.grid_search import GridSearchCV\n",
    "\n",
    "\n"
   ]
  },
  {
   "cell_type": "code",
   "execution_count": 2,
   "metadata": {
    "collapsed": true
   },
   "outputs": [],
   "source": [
    "from sellibrary.gbrt import GBRTWrapper\n",
    "from sellibrary.text_file_loader import load_feature_matrix\n",
    "from sellibrary.filter_only_golden import FilterGolden\n",
    "from sellibrary.locations import FileLocations\n",
    "from sellibrary.wiki.wikipedia_datasets import WikipediaDataset\n",
    "from sellibrary.sel.dexter_dataset import DatasetDexter\n",
    "\n",
    "from sellibrary.util.test_train_splitter import DataSplitter\n",
    "\n",
    "INTERMEDIATE_PATH = FileLocations.get_dropbox_intermediate_path()"
   ]
  },
  {
   "cell_type": "code",
   "execution_count": 3,
   "metadata": {
    "collapsed": true
   },
   "outputs": [],
   "source": [
    "# setup logging\n",
    "\n",
    "\n",
    "handler = logging.StreamHandler()\n",
    "handler.setFormatter(logging.Formatter('%(asctime)s %(name)-12s %(levelname)-8s %(message)s'))\n",
    "logger = logging.getLogger(__name__)\n",
    "logger.addHandler(handler)\n",
    "logger.propagate = False\n",
    "logger.setLevel(logging.INFO)\n",
    "\n"
   ]
  },
  {
   "cell_type": "code",
   "execution_count": null,
   "metadata": {
    "collapsed": true
   },
   "outputs": [],
   "source": []
  },
  {
   "cell_type": "code",
   "execution_count": 4,
   "metadata": {
    "collapsed": true
   },
   "outputs": [],
   "source": [
    "\n",
    "\n",
    "def get_r2_train_model(filename, number_features_per_line, feature_names):\n",
    "\n",
    "\n",
    "    X, y, docid_array, entity_id_array = load_feature_matrix(feature_filename=INTERMEDIATE_PATH + filename,\n",
    "                                                             feature_names=feature_names,\n",
    "                                                             entity_id_index=1,\n",
    "                                                             y_feature_index=2, \n",
    "                                                             first_feature_index=4, \n",
    "                                                             number_features_per_line=number_features_per_line,\n",
    "                                                             tmp_filename='/tmp/temp_conversion_file.txt'\n",
    "                                                             )\n",
    "    \n",
    "    # train only on records we have a golden salience for\n",
    "    fg = FilterGolden()\n",
    "    logger.info('X Shape = %s',X.shape)\n",
    "    logger.info('y Shape = %s',y.shape)\n",
    "    \n",
    "    dexter_dataset = DatasetDexter()\n",
    "    wikipedia_dataset = WikipediaDataset()\n",
    "\n",
    "    X2, y2, docid2, entityid2 = fg.get_only_golden_rows(X, y, docid_array, entity_id_array, dexter_dataset, wikipedia_dataset )\n",
    "\n",
    "#     X2, y2, docid2, entityid2 = fg.get_only_golden_rows(X, y, docid_array, entity_id_array)\n",
    "\n",
    "    \n",
    "    \n",
    "    wrapper = GBRTWrapper()\n",
    "    gbrt = wrapper.train_model_no_split(X2, y2,  n_estimators=40)\n",
    "    logger.info('trained')\n",
    "    #gbrt.save_model()\n",
    "\n",
    "    # from https://shankarmsy.github.io/stories/gbrt-sklearn.html\n",
    "    #One of the benefits of growing trees is that we can understand how important each of the features are \n",
    "    print (\"Feature Importances\" )\n",
    "    print (gbrt.feature_importances_) \n",
    "    print ()\n",
    "    #Let's print the R-squared value for train/test. This explains how much of the variance in the data our model is \n",
    "    #able to decipher. \n",
    "    print (\"R-squared for Train: %.2f\" %gbrt.score(X2, y2) )\n",
    "    #print (\"R-squared for Test: %.2f\" %gbrt.score(X_test, y_test) )\n",
    "    #- See more at: https://shankarmsy.github.io/stories/gbrt-sklearn.html#sthash.JNZQbnph.dpuf\n",
    "    return gbrt, X2, y2, docid2, entityid2\n",
    "    \n",
    "\n",
    "\n"
   ]
  },
  {
   "cell_type": "code",
   "execution_count": null,
   "metadata": {
    "collapsed": true
   },
   "outputs": [],
   "source": []
  },
  {
   "cell_type": "code",
   "execution_count": 5,
   "metadata": {
    "collapsed": true
   },
   "outputs": [],
   "source": [
    "\n",
    "#All right let's do this the right way. We'll use a cross-validation generator to \n",
    "# select train and CV datasets to finetune parameters such as C \n",
    "# (Regularization parameter we saw earlier). These hyperparameters are extremely critical to \n",
    "# the model. \n",
    "#Now, if we tune parameters against the Test dataset, we will end up biasing towards the test \n",
    "# set and will once again not generalize very well. We will also have no good way to find out \n",
    "# since we have essentially trained on all our data. \n",
    "#Luckily scikit-learn has builit-in packages that can help with this. We'll use a crossvalidation \n",
    "# generator that can train the model by tuning the parameters based on a cross-validation subset \n",
    "# (cv) that is picked from within the training set. A different cv subset will be picked for each iteration, we control the number of iterations. Then we will \n",
    "#use these cv/train splits and run a gridsearch function that will evaluate the model with each split and tune parameters \n",
    "#to give us the best parameter that gives the optimal result.\n",
    "\n",
    "#Defining this as a function so we can call it anytime we want\n",
    "\n",
    "\n",
    "\n",
    "def GradientBooster(param_grid, n_jobs, X, y, estimator):\n",
    "    \n",
    "    #Choose cross-validation generator - let's choose ShuffleSplit which randomly shuffles and selects Train and CV sets \n",
    "    #for each iteration. There are other methods like the KFold split.\n",
    "    cv = ShuffleSplit(X.shape[0], n_iter=10, test_size=0.2)\n",
    "    #Apply the cross-validation iterator on the Training set using GridSearchCV. This will run the classifier on the \n",
    "    #different train/cv splits using parameters specified and return the model that has the best results \n",
    "\n",
    "    # \n",
    "    #Note that we are tuning based on the F1 score 2PR/P+R where P is Precision and R is Recall. This may not always be \n",
    "    #the best score to tune our model on.  For now, we'll use F1.\n",
    "    classifier = GridSearchCV(estimator=estimator, cv=cv, param_grid=param_grid, n_jobs=n_jobs)\n",
    "    #Also note that we're feeding multiple neighbors to the GridSearch to try out. \n",
    "    #We'll now fit the training dataset to this classifier\n",
    "    classifier.fit(X, y)\n",
    "    #Let's look at the best estimator that was found by GridSearchCV\n",
    "    print (\"Best Estimator learned through GridSearch\")\n",
    "    print ( classifier.best_estimator_)\n",
    "    return cv, classifier.best_estimator_, classifier\n",
    "    \n"
   ]
  },
  {
   "cell_type": "code",
   "execution_count": 6,
   "metadata": {
    "collapsed": true
   },
   "outputs": [],
   "source": [
    "def get_num_jobs():\n",
    "    if sys.platform == 'win32':\n",
    "        return 8\n",
    "    else:\n",
    "        if sys.platform == 'linux': # Sherlock ML\n",
    "            return 8\n",
    "        else:\n",
    "            return 4 # mac"
   ]
  },
  {
   "cell_type": "code",
   "execution_count": null,
   "metadata": {
    "collapsed": true
   },
   "outputs": [],
   "source": [
    "\n",
    "        \n",
    "        "
   ]
  },
  {
   "cell_type": "code",
   "execution_count": 43,
   "metadata": {},
   "outputs": [],
   "source": [
    "def plot_learning_curve(estimator, title, X, y, ylim=None, cv=None, n_jobs=1, train_sizes=np.linspace(.1, 1.0, 5)): \n",
    "    \n",
    "    \"\"\" Generate a simple plot of the test and traning learning curve. \n",
    "    Parameters ---------- \n",
    "    estimator : object type that implements the \"fit\" and \"predict\" methods An object of that type which is cloned for each validation. \n",
    "    title : string Title for the chart. \n",
    "    X : array-like, shape (n_samples, n_features) Training vector, where n_samples is the number of samples and n_features is the number of features. \n",
    "    y : array-like, shape (n_samples) or (n_samples, n_features), optional Target relative to X for classification or regression; None for unsupervised learning. \n",
    "    ylim : tuple, shape (ymin, ymax), optional Defines minimum and maximum yvalues plotted. \n",
    "    cv : integer, cross-validation generator, optional If an integer is passed, it is the number of folds (defaults to 3). Specific cross-validation objects can be passed, see sklearn.cross_validation module for the list of possible objects \n",
    "    n_jobs : integer, optional Number of jobs to run in parallel (default 1). \"\"\" \n",
    "    fig = plt.figure()\n",
    "    plt.title(title)\n",
    "    if ylim is not None: plt.ylim(*ylim)\n",
    "    plt.xlabel(\"Training examples\")\n",
    "    plt.ylabel(\"Score\")\n",
    "    train_sizes, train_scores, test_scores = learning_curve(estimator, X, y, cv=cv, n_jobs=n_jobs, train_sizes=train_sizes)\n",
    "    train_scores_mean = np.mean(train_scores, axis=1)\n",
    "    train_scores_std = np.std(train_scores, axis=1)\n",
    "    test_scores_mean = np.mean(test_scores, axis=1)\n",
    "    test_scores_std = np.std(test_scores, axis=1)\n",
    "    plt.grid()\n",
    "    plt.fill_between(train_sizes, train_scores_mean - train_scores_std, train_scores_mean + train_scores_std, alpha=0.1,\n",
    "                     color=\"r\")\n",
    "    plt.fill_between(train_sizes, test_scores_mean - test_scores_std, test_scores_mean + test_scores_std, alpha=0.1,\n",
    "                     color=\"g\")\n",
    "    plt.plot(train_sizes, train_scores_mean, 'o-', color=\"r\", label=\"Training score\")\n",
    "    plt.plot(train_sizes, test_scores_mean, 'o-', color=\"g\", label=\"Cross-validation score\")\n",
    "    plt.legend(loc=\"best\")\n",
    "    return plt, fig\n",
    "                  "
   ]
  },
  {
   "cell_type": "code",
   "execution_count": 8,
   "metadata": {
    "collapsed": true
   },
   "outputs": [],
   "source": [
    "def print_info(best_est, X, y, tset):\n",
    "    print (\"--------------------------------\" )\n",
    "    print (tset+\" Best Estimator Parameters\" )\n",
    "    print (\"--------------------------------\" )\n",
    "    print (\"n_estimators: %d\" %best_est.n_estimators )\n",
    "    print (\"max_depth: %d\" %best_est.max_depth )\n",
    "    print (\"min_samples_leaf: %d\" %best_est.min_samples_leaf )\n",
    "    print (\"max_features: %.2f\" %best_est.max_features )\n",
    "    print (tset+\" R-squared: %.2f\" %best_est.score(X,y) )     \n",
    "    print (\"Learning Rate: %.2f\" %best_est.learning_rate )\n",
    "\n",
    " "
   ]
  },
  {
   "cell_type": "code",
   "execution_count": null,
   "metadata": {
    "collapsed": true
   },
   "outputs": [],
   "source": [
    "\n"
   ]
  },
  {
   "cell_type": "code",
   "execution_count": null,
   "metadata": {
    "collapsed": true
   },
   "outputs": [],
   "source": [
    "\n"
   ]
  },
  {
   "cell_type": "code",
   "execution_count": 9,
   "metadata": {
    "collapsed": true
   },
   "outputs": [],
   "source": [
    "\n",
    "def perform_grid_search(X,y):\n",
    "\n",
    "    # if no space left on device, try setting the env ver JOBLIB_TEMP_FOLDER to /tmp\n",
    "    %env JOBLIB_TEMP_FOLDER=/tmp\n",
    "    #WARNING - THIS MIGHT TAKE A WHILE TO RUN. \n",
    "    # TRY ADJUSTING parameters such as n_jobs (jobs to run in parallel, before \n",
    "    #increasing this make sure your system can handle it), n_iter for ShuffleSplit \n",
    "    # (in the function definition) and reducing #number of values being tried for max_depth/n_estimators. \n",
    "    #SELECT INTERRUPT IN THE MENU AND PRESS INTERRUPT KERNEL IF YOU NEEDD TO STOP EXECUTION \n",
    "    logger.info('starting')\n",
    "\n",
    "    param_grid={'n_estimators':[450, 500, 550], # tried 250, 100, [50], 25\n",
    "                'learning_rate': [0.02, 0.01, 0.005],# tried 0.2, 0.1, [0.05], 0.02, 0.01],\n",
    "                'max_depth':[7, 9, 12], # tried 6,[9],12\n",
    "                'min_samples_leaf':[18, 20, 22], # tried  2,5,9,12,15,[18]\n",
    "                'max_features':[0.2,0.3,0.4] # tried 0.2,[0.3],0.4,0.5\n",
    "               } \n",
    "    n_jobs = get_num_jobs() \n",
    "\n",
    "    #Let's fit GBRT to the digits training dataset by calling the function we just created. \n",
    "    estimator = GradientBoostingRegressor()\n",
    "\n",
    "    cv, best_est, trained_model=GradientBooster(param_grid, n_jobs, X, y, estimator) \n",
    "    logger.info('complete')\n",
    "    print_info(best_est, X, y, '.8CV')\n",
    "    \n",
    "    return cv, best_est\n",
    "\n",
    "\n",
    "            "
   ]
  },
  {
   "cell_type": "code",
   "execution_count": null,
   "metadata": {
    "collapsed": true
   },
   "outputs": [],
   "source": [
    "    "
   ]
  },
  {
   "cell_type": "code",
   "execution_count": null,
   "metadata": {
    "collapsed": true
   },
   "outputs": [],
   "source": [
    "\n"
   ]
  },
  {
   "cell_type": "code",
   "execution_count": null,
   "metadata": {
    "collapsed": true
   },
   "outputs": [],
   "source": []
  },
  {
   "cell_type": "code",
   "execution_count": null,
   "metadata": {
    "collapsed": true
   },
   "outputs": [],
   "source": []
  },
  {
   "cell_type": "code",
   "execution_count": null,
   "metadata": {
    "collapsed": true
   },
   "outputs": [],
   "source": []
  },
  {
   "cell_type": "code",
   "execution_count": null,
   "metadata": {
    "collapsed": true
   },
   "outputs": [],
   "source": []
  },
  {
   "cell_type": "code",
   "execution_count": null,
   "metadata": {
    "collapsed": true
   },
   "outputs": [],
   "source": [
    "\n",
    "\n"
   ]
  },
  {
   "cell_type": "markdown",
   "metadata": {},
   "source": [
    "# Load Data"
   ]
  },
  {
   "cell_type": "code",
   "execution_count": 29,
   "metadata": {},
   "outputs": [
    {
     "name": "stderr",
     "output_type": "stream",
     "text": [
      "2018-07-23 09:43:53,137 sellibrary.text_file_loader INFO     loading data from : /Users/dsluis/Dropbox/Datasets/intermediate/aws/all.txt\n",
      "2018-07-23 09:43:54,108 sellibrary.text_file_loader INFO     10000 lines processed\n",
      "2018-07-23 09:43:54,177 sellibrary.text_file_loader INFO     20000 lines processed\n",
      "2018-07-23 09:43:54,295 sellibrary.text_file_loader INFO     30000 lines processed\n",
      "2018-07-23 09:43:54,354 sellibrary.text_file_loader INFO     40000 lines processed\n",
      "2018-07-23 09:43:54,415 sellibrary.text_file_loader INFO     50000 lines processed\n",
      "2018-07-23 09:43:54,469 sellibrary.text_file_loader INFO     60000 lines processed\n",
      "2018-07-23 09:43:54,472 sellibrary.text_file_loader INFO     skipping line with 125 rather than 63 fields \"26,716712,0,0,[0, 0, 0, 0, 0, 0, 0, 0, 0, 0, 0, 0, 0, 0, 0, 0, 0, 0, 0, 0, 0, 0, 0, 741, 2.0, 2, 0, 1.0539811066126856, 2.1079622132253713, 2.0, 0.5, 1, 633, 2.0, 2, 0, 1.0442338072669826, 2.088467614533965, 2.0, 0.5, 1, 0, 0, 0, nan, nan, nan, 0, 0, 0, 0, 0, 0, nan, nan, nan, 0, 0, 0]101,1189896,0,0,[0, 0, 0, 0, 0, 0, 0, 0, 0, 0, 0, 0, 0, 0, 0, 0, 0, 0, 0, 0, 0, 0, 0, 383, 2.0, 1, 0, 1.0365535248041775, 2.073107049608355, 7.0, 0.14285714285714285, 1, 289, 2.0, 1, 0, 1.0173010380622838, 2.0346020761245676, 7.0, 0.14285714285714285, 1, 0, 0, 0, nan, nan, nan, 0, 0, 0, 0, 0, 0, nan, nan, nan, 0, 0, 0]\"\n",
      "2018-07-23 09:43:54,525 sellibrary.text_file_loader INFO     70000 lines processed\n",
      "2018-07-23 09:43:54,582 sellibrary.text_file_loader INFO     80000 lines processed\n",
      "2018-07-23 09:43:54,632 sellibrary.text_file_loader INFO     90000 lines processed\n",
      "2018-07-23 09:43:54,686 sellibrary.text_file_loader INFO     100000 lines processed\n",
      "2018-07-23 09:43:54,741 sellibrary.text_file_loader INFO     110000 lines processed\n",
      "2018-07-23 09:43:54,793 sellibrary.text_file_loader INFO     120000 lines processed\n",
      "2018-07-23 09:43:54,853 sellibrary.text_file_loader INFO     130000 lines processed\n",
      "2018-07-23 09:43:54,910 sellibrary.text_file_loader INFO     140000 lines processed\n",
      "2018-07-23 09:43:54,962 sellibrary.text_file_loader INFO     150000 lines processed\n",
      "2018-07-23 09:43:55,019 sellibrary.text_file_loader INFO     160000 lines processed\n",
      "2018-07-23 09:43:55,075 sellibrary.text_file_loader INFO     170000 lines processed\n",
      "2018-07-23 09:43:55,127 sellibrary.text_file_loader INFO     180000 lines processed\n",
      "2018-07-23 09:43:55,184 sellibrary.text_file_loader INFO     190000 lines processed\n",
      "2018-07-23 09:43:55,237 sellibrary.text_file_loader INFO     200000 lines processed\n",
      "2018-07-23 09:43:55,292 sellibrary.text_file_loader INFO     210000 lines processed\n",
      "2018-07-23 09:43:55,346 sellibrary.text_file_loader INFO     220000 lines processed\n",
      "2018-07-23 09:43:55,398 sellibrary.text_file_loader INFO     230000 lines processed\n",
      "2018-07-23 09:43:55,471 sellibrary.text_file_loader INFO     240000 lines processed\n",
      "2018-07-23 09:43:55,549 sellibrary.text_file_loader INFO     250000 lines processed\n",
      "2018-07-23 09:43:55,624 sellibrary.text_file_loader INFO     260000 lines processed\n",
      "2018-07-23 09:43:55,690 sellibrary.text_file_loader INFO     270000 lines processed\n",
      "2018-07-23 09:43:55,766 sellibrary.text_file_loader INFO     280000 lines processed\n",
      "2018-07-23 09:43:55,835 sellibrary.text_file_loader INFO     290000 lines processed\n",
      "2018-07-23 09:43:55,900 sellibrary.text_file_loader INFO     300000 lines processed\n",
      "2018-07-23 09:43:55,967 sellibrary.text_file_loader INFO     310000 lines processed\n",
      "2018-07-23 09:43:56,035 sellibrary.text_file_loader INFO     320000 lines processed\n",
      "2018-07-23 09:43:56,114 sellibrary.text_file_loader INFO     330000 lines processed\n",
      "2018-07-23 09:43:56,198 sellibrary.text_file_loader INFO     340000 lines processed\n",
      "2018-07-23 09:43:56,269 sellibrary.text_file_loader INFO     350000 lines processed\n",
      "2018-07-23 09:43:56,333 sellibrary.text_file_loader INFO     360000 lines processed\n",
      "2018-07-23 09:43:56,400 sellibrary.text_file_loader INFO     370000 lines processed\n",
      "2018-07-23 09:43:56,458 sellibrary.text_file_loader INFO     380000 lines processed\n",
      "2018-07-23 09:43:56,512 sellibrary.text_file_loader INFO     390000 lines processed\n",
      "2018-07-23 09:43:56,568 sellibrary.text_file_loader INFO     400000 lines processed\n",
      "2018-07-23 09:43:56,618 sellibrary.text_file_loader INFO     410000 lines processed\n",
      "2018-07-23 09:43:56,671 sellibrary.text_file_loader INFO     420000 lines processed\n",
      "2018-07-23 09:43:56,723 sellibrary.text_file_loader INFO     430000 lines processed\n",
      "2018-07-23 09:43:56,779 sellibrary.text_file_loader INFO     440000 lines processed\n",
      "2018-07-23 09:43:56,838 sellibrary.text_file_loader INFO     450000 lines processed\n",
      "2018-07-23 09:43:56,891 sellibrary.text_file_loader INFO     460000 lines processed\n",
      "2018-07-23 09:43:56,967 sellibrary.text_file_loader INFO     470000 lines processed\n",
      "2018-07-23 09:43:57,047 sellibrary.text_file_loader INFO     480000 lines processed\n",
      "2018-07-23 09:43:57,125 sellibrary.text_file_loader INFO     490000 lines processed\n",
      "2018-07-23 09:43:57,191 sellibrary.text_file_loader INFO     500000 lines processed\n",
      "2018-07-23 09:43:57,266 sellibrary.text_file_loader INFO     510000 lines processed\n",
      "2018-07-23 09:43:57,340 sellibrary.text_file_loader INFO     520000 lines processed\n",
      "2018-07-23 09:43:57,413 sellibrary.text_file_loader INFO     530000 lines processed\n",
      "2018-07-23 09:43:57,482 sellibrary.text_file_loader INFO     540000 lines processed\n",
      "2018-07-23 09:43:57,557 sellibrary.text_file_loader INFO     550000 lines processed\n",
      "2018-07-23 09:43:57,625 sellibrary.text_file_loader INFO     560000 lines processed\n",
      "2018-07-23 09:43:57,686 sellibrary.text_file_loader INFO     570000 lines processed\n",
      "2018-07-23 09:43:57,742 sellibrary.text_file_loader INFO     580000 lines processed\n",
      "2018-07-23 09:43:57,795 sellibrary.text_file_loader INFO     590000 lines processed\n",
      "2018-07-23 09:43:57,848 sellibrary.text_file_loader INFO     600000 lines processed\n",
      "2018-07-23 09:43:57,900 sellibrary.text_file_loader INFO     610000 lines processed\n",
      "2018-07-23 09:43:57,953 sellibrary.text_file_loader INFO     620000 lines processed\n",
      "2018-07-23 09:43:58,004 sellibrary.text_file_loader INFO     630000 lines processed\n",
      "2018-07-23 09:43:58,061 sellibrary.text_file_loader INFO     640000 lines processed\n",
      "2018-07-23 09:43:58,087 sellibrary.text_file_loader INFO     643790 lines loaded from /Users/dsluis/Dropbox/Datasets/intermediate/aws/all.txt\n",
      "2018-07-23 09:44:57,694 sellibrary.wiki.wikipedia_datasets INFO     Loading /Users/dsluis/Dropbox/Datasets/wikipedia/wikititle_id_by_id.case_insensitive.15910478.pickle\n",
      "2018-07-23 09:45:18,004 sellibrary.wiki.wikipedia_datasets INFO     Loaded /Users/dsluis/Dropbox/Datasets/wikipedia/wikititle_id_by_id.case_insensitive.15910478.pickle\n",
      "2018-07-23 09:45:19,185 __main__     INFO     After filtering only golden rows:\n",
      "2018-07-23 09:45:19,186 __main__     INFO     X Shape = (3865, 59)\n",
      "2018-07-23 09:45:19,187 __main__     INFO     y Shape = (3865,)\n"
     ]
    }
   ],
   "source": [
    "light_feature_names = [\n",
    "    'min_normalised_position',  # 1\n",
    "    'max_normalised_position',  # 1\n",
    "    'mean_normalised_position',  # 1\n",
    "    'normalised_position_std_dev',  # 1\n",
    "    'norm_first_position_within_first 3 sentences',  # 2\n",
    "    'norm first positon within body middle',  # 2\n",
    "    'norm_first_position_within last 3 sentences',  # 2\n",
    "    'normed first position within title',  # 2\n",
    "    'averaged normed position within sentences',  # 3\n",
    "    'freq in first 3 sentences of body ',  # 4\n",
    "    'freq in middle of body ',  # 4\n",
    "    'freq in last 3 sentences of body ',  # 4\n",
    "    'freq in title ',  # 4\n",
    "    'one occurrence capitalised',  # 5\n",
    "    'maximum fraction of uppercase letters',  # 6\n",
    "    'average spot length in words',  # 8.1 :\n",
    "    'average spot length in characters',  # 8.2 :\n",
    "    'is in title',  # 11 :\n",
    "    'unambiguous entity frequency',  # 14 : 1 entity frequency feature\n",
    "    'entity in_degree in wikipeada',  # 20 :\n",
    "    'entity out_degree in wikipeada',  # 20 :\n",
    "    'entity degree in wikipeada',  # 20 :\n",
    "    'document length',  # 22 :\n",
    "]\n",
    "\n",
    "heavy_feature_names = [\n",
    "    'v1_graph_size', 'v1_graph_diameter', 'v1_node_degree', 'v1_degree_mean_median_ratio',\n",
    "    'v1_out_degree_mean_median_ratio', 'v1_degree_mean_median_ratio', 'v1_farness', 'v1_closeness', 'v1_centrality',\n",
    "    'v1_minus_low_relatedness_graph_size', 'v1_minus_low_relatedness_graph_diameter',\n",
    "    'v1_minus_low_relatedness_node_degree', 'v1_minus_low_relatedness_degree_mean_median_ratio',\n",
    "    'v1_minus_low_relatedness_out_degree_mean_median_ratio', 'v1_minus_low_relatedness_degree_mean_median_ratio',\n",
    "    'v1_minus_low_relatedness_farness', 'v1_minus_low_relatedness_closeness',\n",
    "    'v1_minus_low_relatedness_centrality', 'v0_graph_size', 'v0_graph_diameter', 'v0_node_degree',\n",
    "    'v0_degree_mean_median_ratio', 'v0_out_degree_mean_median_ratio', 'v0_degree_mean_median_ratio', 'v0_farness',\n",
    "    'v0_closeness', 'v0_centrality', 'v0_minus_low_relatedness_graph_size',\n",
    "    'v0_minus_low_relatedness_graph_diameter', 'v0_minus_low_relatedness_node_degree',\n",
    "    'v0_minus_low_relatedness_degree_mean_median_ratio', 'v0_minus_low_relatedness_out_degree_mean_median_ratio',\n",
    "    'v0_minus_low_relatedness_degree_mean_median_ratio', 'v0_minus_low_relatedness_farness',\n",
    "    'v0_minus_low_relatedness_closeness', 'v0_minus_low_relatedness_centrality'\n",
    "]\n",
    "\n",
    "all_feature_names = light_feature_names\n",
    "all_feature_names.extend(heavy_feature_names)\n",
    "\n",
    "X_sel, y_sel, docid_array_sel, entity_id_array_sel = load_feature_matrix(\n",
    "    feature_filename=INTERMEDIATE_PATH+'aws/all.txt',\n",
    "    feature_names=all_feature_names,\n",
    "    entity_id_index=1,\n",
    "    y_feature_index=2, first_feature_index=4, number_features_per_line=len(all_feature_names) + 4,\n",
    "    tmp_filename='/tmp/temp_conversion_file.txt'\n",
    "    )\n",
    "\n",
    "# remove any rows that are not in the golden set\n",
    "dexterDataset = DatasetDexter()\n",
    "wikipediaDataset = WikipediaDataset()\n",
    "fg = FilterGolden()\n",
    "X_sel, y_sel, docid_array_sel, entity_id_array_sel = fg.get_only_golden_rows(X_sel, y_sel, docid_array_sel, entity_id_array_sel, dexterDataset, wikipediaDataset)\n",
    "logger.info('After filtering only golden rows:')\n",
    "logger.info('X Shape = %s', X_sel.shape)\n",
    "logger.info('y Shape = %s', y_sel.shape)\n",
    "\n",
    "# set sentiment to a binary classifier\n",
    "# y_sel[y_sel < 2.0] = 0\n",
    "# y_sel [y_sel >= 2.0] = 1\n"
   ]
  },
  {
   "cell_type": "markdown",
   "metadata": {},
   "source": [
    "# Save data to pickle"
   ]
  },
  {
   "cell_type": "code",
   "execution_count": 30,
   "metadata": {},
   "outputs": [],
   "source": [
    "\n",
    "\n",
    "output_filename = INTERMEDIATE_PATH+'SEL_dataset.pickle'\n",
    "sel_dict = {\"X\":X_sel, \"y\":y_sel, \"docid\": docid_array_sel, \"entity_id\": entity_id_array_sel}\n",
    "with open(output_filename, 'wb') as handle:\n",
    "     pickle.dump(sel_dict, handle, protocol=pickle.HIGHEST_PROTOCOL)\n",
    "\n",
    "\n",
    "        \n",
    "        \n",
    "        "
   ]
  },
  {
   "cell_type": "markdown",
   "metadata": {},
   "source": [
    "# Load Data from pickle"
   ]
  },
  {
   "cell_type": "code",
   "execution_count": null,
   "metadata": {
    "collapsed": true
   },
   "outputs": [],
   "source": [
    "\n",
    "# import os\n",
    "# input_filename =  INTERMEDIATE_PATH + 'SEL_dataset.pickle'\n",
    "# if os.path.isfile(input_filename):\n",
    "#     logger.info('loading data from %s', input_filename)\n",
    "#     with open(input_filename, 'rb') as handle:\n",
    "#         sel_dict = pickle.load(handle)      \n",
    "#         X_sel = sel_dict[\"X\"]\n",
    "#         y_sel = sel_dict[\"y\"]\n",
    "#         docid_array_sel = sel_dict[\"docid\"]\n",
    "#         entity_id_array_sel = sel_dict[\"entity_id\"]\n",
    "        \n",
    "#     logger.info('loaded')\n",
    "    \n",
    "    "
   ]
  },
  {
   "cell_type": "markdown",
   "metadata": {},
   "source": [
    "# Perform Grid Search for Hyper Parameters"
   ]
  },
  {
   "cell_type": "code",
   "execution_count": 18,
   "metadata": {},
   "outputs": [
    {
     "name": "stderr",
     "output_type": "stream",
     "text": [
      "2018-07-21 18:12:21,831 __main__     INFO     starting\n"
     ]
    },
    {
     "name": "stdout",
     "output_type": "stream",
     "text": [
      "env: JOBLIB_TEMP_FOLDER=/tmp\n"
     ]
    },
    {
     "name": "stderr",
     "output_type": "stream",
     "text": [
      "2018-07-21 18:33:25,649 __main__     INFO     complete\n"
     ]
    },
    {
     "name": "stdout",
     "output_type": "stream",
     "text": [
      "Best Estimator learned through GridSearch\n",
      "GradientBoostingRegressor(alpha=0.9, criterion='friedman_mse', init=None,\n",
      "             learning_rate=0.01, loss='ls', max_depth=7, max_features=0.2,\n",
      "             max_leaf_nodes=None, min_impurity_decrease=0.0,\n",
      "             min_impurity_split=None, min_samples_leaf=22,\n",
      "             min_samples_split=2, min_weight_fraction_leaf=0.0,\n",
      "             n_estimators=500, presort='auto', random_state=None,\n",
      "             subsample=1.0, verbose=0, warm_start=False)\n",
      "--------------------------------\n",
      ".8CV Best Estimator Parameters\n",
      "--------------------------------\n",
      "n_estimators: 500\n",
      "max_depth: 7\n",
      "min_samples_leaf: 22\n",
      "max_features: 0.20\n",
      ".8CV R-squared: 0.79\n",
      "Learning Rate: 0.01\n"
     ]
    }
   ],
   "source": [
    "cv, best_est = perform_grid_search(X_sel,y_sel)"
   ]
  },
  {
   "cell_type": "code",
   "execution_count": null,
   "metadata": {
    "collapsed": true
   },
   "outputs": [],
   "source": []
  },
  {
   "cell_type": "code",
   "execution_count": null,
   "metadata": {
    "collapsed": true
   },
   "outputs": [],
   "source": []
  },
  {
   "cell_type": "code",
   "execution_count": null,
   "metadata": {
    "collapsed": true
   },
   "outputs": [],
   "source": []
  },
  {
   "cell_type": "markdown",
   "metadata": {
    "collapsed": true
   },
   "source": [
    "\n",
    "# Plot Learning Curve - How much data we need\n",
    "   "
   ]
  },
  {
   "cell_type": "code",
   "execution_count": 47,
   "metadata": {},
   "outputs": [
    {
     "name": "stderr",
     "output_type": "stream",
     "text": [
      "2018-07-23 10:48:17,402 __main__     INFO     starting\n"
     ]
    },
    {
     "data": {
      "image/png": "[encoded data removed]",
      "text/plain": [
       "<matplotlib.figure.Figure at 0x10cc24748>"
      ]
     },
     "metadata": {},
     "output_type": "display_data"
    },
    {
     "name": "stderr",
     "output_type": "stream",
     "text": [
      "2018-07-23 10:48:44,748 __main__     INFO     complete\n"
     ]
    }
   ],
   "source": [
    "#OK we'll now call the plot_learning_curve module by feeding it the estimator (best estimator returned from GS) \n",
    "#and train/cv sets. \n",
    "#The module simply runs the estimator multiple times on subsets of the data provided and plots the train and cv scores. \n",
    "#Note that we're feeding the best parameters we've learned from GridSearchCV to the estimator now. \n",
    "#We may need to adjust the hyperparameters further if there is overfitting (or underfitting, though unlikely) \n",
    "\n",
    "logger.info('starting')\n",
    "title = \"Learning Curves (Gradient Boosted Regression Trees)\" \n",
    "n_jobs = get_num_jobs()\n",
    "gbr_estimator = GradientBoostingRegressor(n_estimators=best_est.n_estimators, \n",
    "                                      max_depth=best_est.max_depth, \n",
    "                                      learning_rate=best_est.learning_rate, \n",
    "                                      min_samples_leaf=best_est.min_samples_leaf, \n",
    "                                      max_features=best_est.max_features) \n",
    "plt, fig = plot_learning_curve(gbr_estimator, title, X_sel, y_sel, cv=cv, n_jobs=n_jobs) \n",
    "\n",
    "plt.show() \n",
    "GRAPH_PATH = '/Users/dsluis/Dropbox/UCL/UCL - Business Analytics specialisation in Computer Science/T3-COMPG099 - Dissertation/Diagrams/'\n",
    "fig.savefig(GRAPH_PATH+'Learning_curve_GBRT.png')\n",
    "logger.info('complete')\n",
    "\n",
    "# R-squared revers to the proportion of variation in data that can be explained by our model. \n",
    "# 1.0 is perfect, 0.05 not very useful\n",
    "# Distance between train and cross validation = \n",
    "# Gradient suggest whether more training data is useful\n",
    "# How does the number of estimators affect the curve?\n",
    "\n",
    "\n"
   ]
  },
  {
   "cell_type": "markdown",
   "metadata": {},
   "source": [
    "# Split Data - to train real model"
   ]
  },
  {
   "cell_type": "code",
   "execution_count": 37,
   "metadata": {
    "collapsed": true
   },
   "outputs": [],
   "source": [
    "splitter = DataSplitter()\n",
    "X_train, X_test, y_train, y_test, in_train_set_by_id = splitter.get_test_train_datasets(X_sel,y_sel,docid_array_sel,7,train_split=0.50)\n",
    "\n"
   ]
  },
  {
   "cell_type": "code",
   "execution_count": 38,
   "metadata": {},
   "outputs": [
    {
     "name": "stdout",
     "output_type": "stream",
     "text": [
      "(2004, 59)\n",
      "(1861, 59)\n"
     ]
    }
   ],
   "source": [
    "print(X_train.shape)\n",
    "print(X_test.shape)"
   ]
  },
  {
   "cell_type": "code",
   "execution_count": 56,
   "metadata": {},
   "outputs": [
    {
     "name": "stdout",
     "output_type": "stream",
     "text": [
      "Trainset\n",
      "1,2,4,6,7,9,10,11,12,13,16,17,22,24,26,27,28,29,31,34,36,37,38,40,41,43,44,49,54,56,57,60,62,63,71,75,78,81,86,87,89,90,91,93,94,96,98,99,101,103,108,109,110,113,114,115,116,118,123,124,125,126,136,141,144,145,148,149,150,151,153,154,155,156,157,158,159,162,163,165,166,167,170,171,172,173,174,175,178,180,183,185,190,191,192,196,197,205,207,208,209,210,211,214,218,219,221,222,223,227,230,236,237,239,243,244,247,248,249,252,256,258,259,264,267,268,269,270,272,273,274,276,277,280,285,288,290,291,293,294,298,302,304,305,313,318,320,326,331,332,333,334,336,337,341,532,538,541,542,546,548,551,553,555,561,566,567,568,571,575,576,577,579,580,582,587,588,593,594,596,597,601,603\n",
      "Length:183\n",
      "Testset\n",
      "3,5,8,14,18,20,21,23,25,30,32,33,35,39,42,45,46,50,51,52,53,55,58,64,66,68,70,72,73,74,76,77,80,82,83,84,85,88,95,100,104,105,106,107,111,112,119,127,129,131,132,133,134,137,138,139,140,146,160,161,168,169,177,181,182,184,186,187,188,189,193,194,195,198,199,200,202,203,204,206,212,213,215,216,217,224,225,226,228,229,232,233,234,235,238,241,242,245,246,250,251,253,254,255,257,260,261,262,263,265,266,271,275,278,279,281,282,283,284,292,295,296,299,300,301,303,306,307,308,311,312,314,315,316,317,319,321,323,324,325,327,329,330,338,339,340,528,530,534,536,540,543,545,550,560,562,569,570,572,573,574,578,583,586,589,590,591,595,598,599,600,602,604\n",
      "Length:173\n"
     ]
    }
   ],
   "source": [
    "in_train_set_by_id\n",
    "\n",
    "ids_in_trainset = []\n",
    "ids_in_testset = []\n",
    "for i in in_train_set_by_id.keys():\n",
    "    if in_train_set_by_id[i]:\n",
    "        ids_in_trainset.append(int(i))\n",
    "    else:\n",
    "        ids_in_testset.append(int(i))\n",
    "        \n",
    "len(ids_in_trainset)\n",
    "s = str(ids_in_trainset)\n",
    "s = s.replace(' ','').replace('[','').replace(']','')\n",
    "print('Trainset\\n'+s)\n",
    "print('Length:'+str(len(ids_in_trainset)))\n",
    "\n",
    "\n",
    "len(ids_in_testset)\n",
    "s = str(ids_in_testset)\n",
    "s = s.replace(' ','').replace('[','').replace(']','')\n",
    "print('Testset\\n'+s)\n",
    "print('Length:'+str(len(ids_in_testset)))\n",
    "\n",
    "\n",
    "    "
   ]
  },
  {
   "cell_type": "code",
   "execution_count": null,
   "metadata": {
    "collapsed": true
   },
   "outputs": [],
   "source": []
  },
  {
   "cell_type": "code",
   "execution_count": 50,
   "metadata": {},
   "outputs": [
    {
     "name": "stdout",
     "output_type": "stream",
     "text": [
      "Feature Importances\n",
      "[ 0.09410583  0.03896216  0.0410011   0.02237894  0.04104831  0.01982013\n",
      "  0.00641015  0.02739751  0.03144776  0.03964829  0.00941675  0.00189437\n",
      "  0.08160791  0.          0.02248566  0.01130819  0.03256522  0.\n",
      "  0.02331491  0.01177357  0.01985515  0.02128245  0.05215933  0.03440074\n",
      "  0.00394308  0.01905097  0.01352031  0.01539162  0.02348947  0.02979972\n",
      "  0.02648647  0.          0.02984903  0.0022995   0.02069068  0.01043718\n",
      "  0.0174978   0.02613859  0.01872812  0.02164845  0.          0.00343221\n",
      "  0.00135549  0.00235792  0.00155545  0.00333118  0.00571725  0.00200692\n",
      "  0.00297599  0.00186071  0.00320891  0.00064341  0.00033096  0.00046638\n",
      "  0.00246532  0.00395372  0.00027906  0.00063104  0.00017266]\n",
      "\n",
      "R-squared for Train: 0.53\n"
     ]
    }
   ],
   "source": [
    "gbr_estimator.fit(X_train,y_train)\n",
    "print (\"Feature Importances\" )\n",
    "print (gbr_estimator.feature_importances_) \n",
    "print ()\n",
    "#Let's print the R-squared value for train/test. This explains how much of the variance in the data our model is \n",
    "#able to decipher. \n",
    "print (\"R-squared for Train: %.2f\" %gbr_estimator.score(X_test, y_test) )\n",
    "\n",
    "\n",
    "\n"
   ]
  },
  {
   "cell_type": "code",
   "execution_count": 51,
   "metadata": {},
   "outputs": [
    {
     "data": {
      "text/plain": [
       "1.6497055073108036"
      ]
     },
     "execution_count": 51,
     "metadata": {},
     "output_type": "execute_result"
    }
   ],
   "source": [
    "\n",
    "a = np.ones([1,59])\n",
    "gbr_estimator.predict(a)[0]"
   ]
  },
  {
   "cell_type": "markdown",
   "metadata": {},
   "source": [
    "# Save Model"
   ]
  },
  {
   "cell_type": "code",
   "execution_count": 52,
   "metadata": {
    "collapsed": true
   },
   "outputs": [],
   "source": [
    "output_filename = INTERMEDIATE_PATH+'sel_golden_spotter_GradientBoostingRegressor.pickle'\n",
    "with open(output_filename, 'wb') as handle:\n",
    "     pickle.dump(gbr_estimator, handle, protocol=pickle.HIGHEST_PROTOCOL)\n",
    "\n"
   ]
  },
  {
   "cell_type": "code",
   "execution_count": 48,
   "metadata": {},
   "outputs": [
    {
     "data": {
      "text/plain": [
       "GradientBoostingRegressor(alpha=0.9, criterion='friedman_mse', init=None,\n",
       "             learning_rate=0.01, loss='ls', max_depth=7, max_features=0.2,\n",
       "             max_leaf_nodes=None, min_impurity_decrease=0.0,\n",
       "             min_impurity_split=None, min_samples_leaf=22,\n",
       "             min_samples_split=2, min_weight_fraction_leaf=0.0,\n",
       "             n_estimators=500, presort='auto', random_state=None,\n",
       "             subsample=1.0, verbose=0, warm_start=False)"
      ]
     },
     "execution_count": 48,
     "metadata": {},
     "output_type": "execute_result"
    }
   ],
   "source": [
    "gbr_estimator"
   ]
  },
  {
   "cell_type": "code",
   "execution_count": null,
   "metadata": {
    "collapsed": true
   },
   "outputs": [],
   "source": []
  }
 ],
 "metadata": {
  "kernelspec": {
   "display_name": "Python 3",
   "language": "python",
   "name": "python3"
  },
  "language_info": {
   "codemirror_mode": {
    "name": "ipython",
    "version": 3
   },
   "file_extension": ".py",
   "mimetype": "text/x-python",
   "name": "python",
   "nbconvert_exporter": "python",
   "pygments_lexer": "ipython3",
   "version": "3.6.3"
  }
 },
 "nbformat": 4,
 "nbformat_minor": 2
}
