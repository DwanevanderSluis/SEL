{
 "cells": [
  {
   "cell_type": "markdown",
   "metadata": {},
   "source": [
    "SEL feature importance"
   ]
  },
  {
   "cell_type": "code",
   "execution_count": 161,
   "metadata": {},
   "outputs": [],
   "source": [
    "import numpy as np\n",
    "import matplotlib.pyplot as plt\n",
    "import os\n",
    "import sys\n",
    "import logging\n",
    "import pickle\n",
    "from sellibrary.text_file_loader import load_feature_matrix\n",
    "from sellibrary.filter_only_golden import FilterGolden\n",
    "\n",
    "\n",
    "from sklearn.datasets import make_classification\n",
    "from sklearn.ensemble import ExtraTreesClassifier\n",
    "from sklearn.ensemble import ExtraTreesRegressor\n",
    "from sklearn.learning_curve import learning_curve \n",
    "from sklearn.cross_validation import ShuffleSplit, train_test_split \n",
    "from sklearn.grid_search import GridSearchCV\n",
    "\n",
    "from sellibrary.gbrt import GBRTWrapper\n",
    "from sellibrary.util.test_train_splitter import DataSplitter\n"
   ]
  },
  {
   "cell_type": "code",
   "execution_count": 2,
   "metadata": {
    "collapsed": true
   },
   "outputs": [],
   "source": [
    "from sellibrary.locations import FileLocations\n",
    "INTERMEDIATE_PATH = FileLocations.get_dropbox_intermediate_path()\n",
    "\n"
   ]
  },
  {
   "cell_type": "code",
   "execution_count": 14,
   "metadata": {
    "collapsed": true
   },
   "outputs": [],
   "source": [
    "\n",
    "\n",
    "\n",
    "handler = logging.StreamHandler()\n",
    "handler.setFormatter(logging.Formatter('%(asctime)s %(name)-12s %(levelname)-8s %(message)s'))\n",
    "logger = logging.getLogger(__name__)\n",
    "logger.addHandler(handler)\n",
    "logger.propagate = False\n",
    "logger.setLevel(logging.INFO)\n",
    "\n"
   ]
  },
  {
   "cell_type": "code",
   "execution_count": 36,
   "metadata": {},
   "outputs": [
    {
     "name": "stderr",
     "output_type": "stream",
     "text": [
      "2018-07-23 10:18:37,400 sellibrary.text_file_loader INFO     loading data from : /Users/dsluis/Dropbox/Datasets/intermediate/aws/all.txt\n",
      "2018-07-23 10:18:38,531 sellibrary.text_file_loader INFO     10000 lines processed\n",
      "2018-07-23 10:18:38,585 sellibrary.text_file_loader INFO     20000 lines processed\n",
      "2018-07-23 10:18:38,639 sellibrary.text_file_loader INFO     30000 lines processed\n",
      "2018-07-23 10:18:38,696 sellibrary.text_file_loader INFO     40000 lines processed\n",
      "2018-07-23 10:18:38,746 sellibrary.text_file_loader INFO     50000 lines processed\n",
      "2018-07-23 10:18:38,802 sellibrary.text_file_loader INFO     60000 lines processed\n",
      "2018-07-23 10:18:38,805 sellibrary.text_file_loader INFO     skipping line with 125 rather than 63 fields \"26,716712,0,0,[0, 0, 0, 0, 0, 0, 0, 0, 0, 0, 0, 0, 0, 0, 0, 0, 0, 0, 0, 0, 0, 0, 0, 741, 2.0, 2, 0, 1.0539811066126856, 2.1079622132253713, 2.0, 0.5, 1, 633, 2.0, 2, 0, 1.0442338072669826, 2.088467614533965, 2.0, 0.5, 1, 0, 0, 0, nan, nan, nan, 0, 0, 0, 0, 0, 0, nan, nan, nan, 0, 0, 0]101,1189896,0,0,[0, 0, 0, 0, 0, 0, 0, 0, 0, 0, 0, 0, 0, 0, 0, 0, 0, 0, 0, 0, 0, 0, 0, 383, 2.0, 1, 0, 1.0365535248041775, 2.073107049608355, 7.0, 0.14285714285714285, 1, 289, 2.0, 1, 0, 1.0173010380622838, 2.0346020761245676, 7.0, 0.14285714285714285, 1, 0, 0, 0, nan, nan, nan, 0, 0, 0, 0, 0, 0, nan, nan, nan, 0, 0, 0]\"\n",
      "2018-07-23 10:18:38,861 sellibrary.text_file_loader INFO     70000 lines processed\n",
      "2018-07-23 10:18:38,911 sellibrary.text_file_loader INFO     80000 lines processed\n",
      "2018-07-23 10:18:38,962 sellibrary.text_file_loader INFO     90000 lines processed\n",
      "2018-07-23 10:18:39,017 sellibrary.text_file_loader INFO     100000 lines processed\n",
      "2018-07-23 10:18:39,072 sellibrary.text_file_loader INFO     110000 lines processed\n",
      "2018-07-23 10:18:39,127 sellibrary.text_file_loader INFO     120000 lines processed\n",
      "2018-07-23 10:18:39,179 sellibrary.text_file_loader INFO     130000 lines processed\n",
      "2018-07-23 10:18:39,236 sellibrary.text_file_loader INFO     140000 lines processed\n",
      "2018-07-23 10:18:39,287 sellibrary.text_file_loader INFO     150000 lines processed\n",
      "2018-07-23 10:18:39,338 sellibrary.text_file_loader INFO     160000 lines processed\n",
      "2018-07-23 10:18:39,393 sellibrary.text_file_loader INFO     170000 lines processed\n",
      "2018-07-23 10:18:39,443 sellibrary.text_file_loader INFO     180000 lines processed\n",
      "2018-07-23 10:18:39,497 sellibrary.text_file_loader INFO     190000 lines processed\n",
      "2018-07-23 10:18:39,549 sellibrary.text_file_loader INFO     200000 lines processed\n",
      "2018-07-23 10:18:39,602 sellibrary.text_file_loader INFO     210000 lines processed\n",
      "2018-07-23 10:18:39,653 sellibrary.text_file_loader INFO     220000 lines processed\n",
      "2018-07-23 10:18:39,704 sellibrary.text_file_loader INFO     230000 lines processed\n",
      "2018-07-23 10:18:39,760 sellibrary.text_file_loader INFO     240000 lines processed\n",
      "2018-07-23 10:18:39,823 sellibrary.text_file_loader INFO     250000 lines processed\n",
      "2018-07-23 10:18:39,903 sellibrary.text_file_loader INFO     260000 lines processed\n",
      "2018-07-23 10:18:39,982 sellibrary.text_file_loader INFO     270000 lines processed\n",
      "2018-07-23 10:18:40,055 sellibrary.text_file_loader INFO     280000 lines processed\n",
      "2018-07-23 10:18:40,126 sellibrary.text_file_loader INFO     290000 lines processed\n",
      "2018-07-23 10:18:40,187 sellibrary.text_file_loader INFO     300000 lines processed\n",
      "2018-07-23 10:18:40,248 sellibrary.text_file_loader INFO     310000 lines processed\n",
      "2018-07-23 10:18:40,310 sellibrary.text_file_loader INFO     320000 lines processed\n",
      "2018-07-23 10:18:40,399 sellibrary.text_file_loader INFO     330000 lines processed\n",
      "2018-07-23 10:18:40,462 sellibrary.text_file_loader INFO     340000 lines processed\n",
      "2018-07-23 10:18:40,516 sellibrary.text_file_loader INFO     350000 lines processed\n",
      "2018-07-23 10:18:40,569 sellibrary.text_file_loader INFO     360000 lines processed\n",
      "2018-07-23 10:18:40,620 sellibrary.text_file_loader INFO     370000 lines processed\n",
      "2018-07-23 10:18:40,670 sellibrary.text_file_loader INFO     380000 lines processed\n",
      "2018-07-23 10:18:40,723 sellibrary.text_file_loader INFO     390000 lines processed\n",
      "2018-07-23 10:18:40,776 sellibrary.text_file_loader INFO     400000 lines processed\n",
      "2018-07-23 10:18:40,834 sellibrary.text_file_loader INFO     410000 lines processed\n",
      "2018-07-23 10:18:40,919 sellibrary.text_file_loader INFO     420000 lines processed\n",
      "2018-07-23 10:18:41,004 sellibrary.text_file_loader INFO     430000 lines processed\n",
      "2018-07-23 10:18:41,088 sellibrary.text_file_loader INFO     440000 lines processed\n",
      "2018-07-23 10:18:41,169 sellibrary.text_file_loader INFO     450000 lines processed\n",
      "2018-07-23 10:18:41,232 sellibrary.text_file_loader INFO     460000 lines processed\n",
      "2018-07-23 10:18:41,297 sellibrary.text_file_loader INFO     470000 lines processed\n",
      "2018-07-23 10:18:41,358 sellibrary.text_file_loader INFO     480000 lines processed\n",
      "2018-07-23 10:18:41,419 sellibrary.text_file_loader INFO     490000 lines processed\n",
      "2018-07-23 10:18:41,469 sellibrary.text_file_loader INFO     500000 lines processed\n",
      "2018-07-23 10:18:41,541 sellibrary.text_file_loader INFO     510000 lines processed\n",
      "2018-07-23 10:18:41,620 sellibrary.text_file_loader INFO     520000 lines processed\n",
      "2018-07-23 10:18:41,692 sellibrary.text_file_loader INFO     530000 lines processed\n",
      "2018-07-23 10:18:41,761 sellibrary.text_file_loader INFO     540000 lines processed\n",
      "2018-07-23 10:18:41,825 sellibrary.text_file_loader INFO     550000 lines processed\n",
      "2018-07-23 10:18:41,890 sellibrary.text_file_loader INFO     560000 lines processed\n",
      "2018-07-23 10:18:41,957 sellibrary.text_file_loader INFO     570000 lines processed\n",
      "2018-07-23 10:18:42,023 sellibrary.text_file_loader INFO     580000 lines processed\n",
      "2018-07-23 10:18:42,088 sellibrary.text_file_loader INFO     590000 lines processed\n",
      "2018-07-23 10:18:42,152 sellibrary.text_file_loader INFO     600000 lines processed\n",
      "2018-07-23 10:18:42,220 sellibrary.text_file_loader INFO     610000 lines processed\n",
      "2018-07-23 10:18:42,280 sellibrary.text_file_loader INFO     620000 lines processed\n",
      "2018-07-23 10:18:42,333 sellibrary.text_file_loader INFO     630000 lines processed\n",
      "2018-07-23 10:18:42,386 sellibrary.text_file_loader INFO     640000 lines processed\n",
      "2018-07-23 10:18:42,406 sellibrary.text_file_loader INFO     643790 lines loaded from /Users/dsluis/Dropbox/Datasets/intermediate/aws/all.txt\n"
     ]
    }
   ],
   "source": [
    "light_feature_names = [\n",
    "    'min_normalised_position',  # 1\n",
    "    'max_normalised_position',  # 1\n",
    "    'mean_normalised_position',  # 1\n",
    "    'normalised_position_std_dev',  # 1\n",
    "    'norm_first_position_within_first 3 sentences',  # 2\n",
    "    'norm first positon within body middle',  # 2\n",
    "    'norm_first_position_within last 3 sentences',  # 2\n",
    "    'normed first position within title',  # 2\n",
    "    'averaged normed position within sentences',  # 3\n",
    "    'freq in first 3 sentences of body ',  # 4\n",
    "    'freq in middle of body ',  # 4\n",
    "    'freq in last 3 sentences of body ',  # 4\n",
    "    'freq in title ',  # 4\n",
    "    'one occurrence capitalised',  # 5\n",
    "    'maximum fraction of uppercase letters',  # 6\n",
    "    'average spot length in words',  # 8.1 :\n",
    "    'average spot length in characters',  # 8.2 :\n",
    "    'is in title',  # 11 :\n",
    "    'unambiguous entity frequency',  # 14 : 1 entity frequency feature\n",
    "    'entity in_degree in wikipeada',  # 20 :\n",
    "    'entity out_degree in wikipeada',  # 20 :\n",
    "    'entity degree in wikipeada',  # 20 :\n",
    "    'document length',  # 22 :\n",
    "]\n",
    "\n",
    "heavy_feature_names = [\n",
    "    'v1_graph_size', 'v1_graph_diameter', 'v1_node_degree', 'v1_degree_mean_median_ratio',\n",
    "    'v1_out_degree_mean_median_ratio', 'v1_degree_mean_median_ratio', 'v1_farness', 'v1_closeness', 'v1_centrality',\n",
    "    'v1_minus_low_relatedness_graph_size', 'v1_minus_low_relatedness_graph_diameter',\n",
    "    'v1_minus_low_relatedness_node_degree', 'v1_minus_low_relatedness_degree_mean_median_ratio',\n",
    "    'v1_minus_low_relatedness_out_degree_mean_median_ratio', 'v1_minus_low_relatedness_degree_mean_median_ratio',\n",
    "    'v1_minus_low_relatedness_farness', 'v1_minus_low_relatedness_closeness',\n",
    "    'v1_minus_low_relatedness_centrality', 'v0_graph_size', 'v0_graph_diameter', 'v0_node_degree',\n",
    "    'v0_degree_mean_median_ratio', 'v0_out_degree_mean_median_ratio', 'v0_degree_mean_median_ratio', 'v0_farness',\n",
    "    'v0_closeness', 'v0_centrality', 'v0_minus_low_relatedness_graph_size',\n",
    "    'v0_minus_low_relatedness_graph_diameter', 'v0_minus_low_relatedness_node_degree',\n",
    "    'v0_minus_low_relatedness_degree_mean_median_ratio', 'v0_minus_low_relatedness_out_degree_mean_median_ratio',\n",
    "    'v0_minus_low_relatedness_degree_mean_median_ratio', 'v0_minus_low_relatedness_farness',\n",
    "    'v0_minus_low_relatedness_closeness', 'v0_minus_low_relatedness_centrality'\n",
    "]\n",
    "\n",
    "all_feature_names = light_feature_names\n",
    "all_feature_names.extend(heavy_feature_names)\n",
    "\n",
    "X_sel, y_sel, docid_array_sel, entity_id_array_sel = load_feature_matrix(\n",
    "    feature_filename=INTERMEDIATE_PATH+'aws/all.txt',\n",
    "    feature_names=all_feature_names,\n",
    "    entity_id_index=1,\n",
    "    y_feature_index=2, first_feature_index=4, number_features_per_line=len(all_feature_names)+4,\n",
    "    tmp_filename='/tmp/temp_conversion_file.txt'\n",
    "    )"
   ]
  },
  {
   "cell_type": "code",
   "execution_count": null,
   "metadata": {
    "collapsed": true
   },
   "outputs": [],
   "source": [
    "\n",
    "\n",
    "\n",
    "\n"
   ]
  },
  {
   "cell_type": "code",
   "execution_count": null,
   "metadata": {
    "collapsed": true
   },
   "outputs": [],
   "source": [
    "\n"
   ]
  },
  {
   "cell_type": "code",
   "execution_count": null,
   "metadata": {
    "collapsed": true
   },
   "outputs": [],
   "source": [
    "# Filter out non golden "
   ]
  },
  {
   "cell_type": "code",
   "execution_count": 37,
   "metadata": {
    "collapsed": true
   },
   "outputs": [],
   "source": [
    "\n",
    "# train only on records we have a golden salience for\n",
    "fg = FilterGolden()\n",
    "X2_sel, y2_sel, docid2_sel, entityid2_sel = fg.get_only_golden_rows(\n",
    "    X_sel, y_sel, docid_array_sel, entity_id_array_sel)\n"
   ]
  },
  {
   "cell_type": "code",
   "execution_count": 133,
   "metadata": {},
   "outputs": [
    {
     "name": "stdout",
     "output_type": "stream",
     "text": [
      "(3808, 59)\n"
     ]
    }
   ],
   "source": [
    "print(X2_sel.shape)"
   ]
  },
  {
   "cell_type": "code",
   "execution_count": null,
   "metadata": {
    "collapsed": true
   },
   "outputs": [],
   "source": []
  },
  {
   "cell_type": "code",
   "execution_count": 134,
   "metadata": {
    "collapsed": true
   },
   "outputs": [],
   "source": [
    "# Grid Search Meta Parameters"
   ]
  },
  {
   "cell_type": "code",
   "execution_count": 156,
   "metadata": {
    "collapsed": true
   },
   "outputs": [],
   "source": [
    "def get_num_jobs():\n",
    "    if sys.platform == 'win32':\n",
    "        return 8\n",
    "    else:\n",
    "        if sys.platform == 'linux': # Sherlock ML\n",
    "            return 8\n",
    "        else:\n",
    "            return 2 # mac\n",
    "\n",
    "def MyGridSearchCV(param_grid, n_jobs, X, y, estimator):\n",
    "    \n",
    "    #Choose cross-validation generator - let's choose ShuffleSplit which randomly shuffles and selects Train and CV sets \n",
    "    #for each iteration. There are other methods like the KFold split.\n",
    "    cv = ShuffleSplit(X.shape[0], n_iter=10, test_size=0.2)\n",
    "    #Apply the cross-validation iterator on the Training set using GridSearchCV. This will run the classifier on the \n",
    "    #different train/cv splits using parameters specified and return the model that has the best results \n",
    "\n",
    "    # \n",
    "    #Note that we are tuning based on the F1 score 2PR/P+R where P is Precision and R is Recall. This may not always be \n",
    "    #the best score to tune our model on.  For now, we'll use F1.\n",
    "    classifier = GridSearchCV(estimator=estimator, cv=cv, param_grid=param_grid, n_jobs=n_jobs)\n",
    "    #Also note that we're feeding multiple neighbors to the GridSearch to try out. \n",
    "    #We'll now fit the training dataset to this classifier\n",
    "    classifier.fit(X, y)\n",
    "    #Let's look at the best estimator that was found by GridSearchCV\n",
    "    print (\"Best Estimator learned through GridSearch\")\n",
    "    print ( classifier.best_estimator_)\n",
    "    return cv, classifier.best_estimator_, classifier\n",
    "    \n",
    "\n",
    "\n",
    "def print_info(best_est, X, y, tset):\n",
    "    print (\"--------------------------------\" )\n",
    "    print (tset+\" Best Estimator Parameters\" )\n",
    "    print (\"--------------------------------\" )\n",
    "    print (\"n_estimators: %d\" %best_est.n_estimators )\n",
    "#     print (\"max_depth: %d\" %best_est.max_depth )\n",
    "#     print (\"min_samples_leaf: %d\" %best_est.min_samples_leaf )\n",
    "#     print (\"max_features: %.2f\" %best_est.max_features )\n",
    "    print (tset+\" R-squared: %.2f\" %best_est.score(X,y) )     \n",
    "#     print (\"Learning Rate: %.2f\" %best_est.learning_rate )\n",
    "\n",
    "    \n",
    "def perform_grid_search(X,y):\n",
    "\n",
    "    # if no space left on device, try setting the env ver JOBLIB_TEMP_FOLDER to /tmp\n",
    "    %env JOBLIB_TEMP_FOLDER=/tmp\n",
    "    #WARNING - THIS MIGHT TAKE A WHILE TO RUN. \n",
    "    # TRY ADJUSTING parameters such as n_jobs (jobs to run in parallel, before \n",
    "    #increasing this make sure your system can handle it), n_iter for ShuffleSplit \n",
    "    # (in the function definition) and reducing #number of values being tried for max_depth/n_estimators. \n",
    "    #SELECT INTERRUPT IN THE MENU AND PRESS INTERRUPT KERNEL IF YOU NEEDD TO STOP EXECUTION \n",
    "    logger.info('starting')\n",
    "\n",
    "    param_grid={'n_estimators':[5, 6] # \n",
    "#                 'max_features':[1,5,10,20],  #\n",
    "#                 'max_depth':[4,8,16,32]      #\n",
    "               } \n",
    "    n_jobs = get_num_jobs() \n",
    "\n",
    "    #Let's fit GBRT to the digits training dataset by calling the function we just created. \n",
    "    estimator = ExtraTreesRegressor()\n",
    "\n",
    "    cv, best_est, trained_model=MyGridSearchCV(param_grid, n_jobs, X, y, estimator) \n",
    "    logger.info('complete')\n",
    "    print_info(best_est, X, y, '.8CV')\n",
    "    \n",
    "    return cv, best_est\n",
    "\n",
    "\n",
    "  "
   ]
  },
  {
   "cell_type": "code",
   "execution_count": 157,
   "metadata": {},
   "outputs": [
    {
     "name": "stderr",
     "output_type": "stream",
     "text": [
      "2018-07-23 16:12:24,693 __main__     INFO     starting\n"
     ]
    },
    {
     "name": "stdout",
     "output_type": "stream",
     "text": [
      "env: JOBLIB_TEMP_FOLDER=/tmp\n"
     ]
    },
    {
     "name": "stderr",
     "output_type": "stream",
     "text": [
      "2018-07-23 16:17:18,126 __main__     INFO     complete\n"
     ]
    },
    {
     "name": "stdout",
     "output_type": "stream",
     "text": [
      "Best Estimator learned through GridSearch\n",
      "ExtraTreesRegressor(bootstrap=False, criterion='mse', max_depth=None,\n",
      "          max_features='auto', max_leaf_nodes=None,\n",
      "          min_impurity_decrease=0.0, min_impurity_split=None,\n",
      "          min_samples_leaf=1, min_samples_split=2,\n",
      "          min_weight_fraction_leaf=0.0, n_estimators=6, n_jobs=1,\n",
      "          oob_score=False, random_state=None, verbose=0, warm_start=False)\n",
      "--------------------------------\n",
      ".8CV Best Estimator Parameters\n",
      "--------------------------------\n",
      "n_estimators: 6\n",
      ".8CV R-squared: 0.99\n"
     ]
    }
   ],
   "source": [
    "cv, best_est = perform_grid_search(X_sel,y_sel)"
   ]
  },
  {
   "cell_type": "code",
   "execution_count": 158,
   "metadata": {},
   "outputs": [
    {
     "data": {
      "text/plain": [
       "ExtraTreesRegressor(bootstrap=False, criterion='mse', max_depth=None,\n",
       "          max_features='auto', max_leaf_nodes=None,\n",
       "          min_impurity_decrease=0.0, min_impurity_split=None,\n",
       "          min_samples_leaf=1, min_samples_split=2,\n",
       "          min_weight_fraction_leaf=0.0, n_estimators=6, n_jobs=1,\n",
       "          oob_score=False, random_state=None, verbose=0, warm_start=False)"
      ]
     },
     "execution_count": 158,
     "metadata": {},
     "output_type": "execute_result"
    }
   ],
   "source": []
  },
  {
   "cell_type": "code",
   "execution_count": null,
   "metadata": {
    "collapsed": true
   },
   "outputs": [],
   "source": []
  },
  {
   "cell_type": "code",
   "execution_count": null,
   "metadata": {
    "collapsed": true
   },
   "outputs": [],
   "source": []
  },
  {
   "cell_type": "code",
   "execution_count": null,
   "metadata": {
    "collapsed": true
   },
   "outputs": [],
   "source": []
  },
  {
   "cell_type": "code",
   "execution_count": 38,
   "metadata": {},
   "outputs": [
    {
     "name": "stdout",
     "output_type": "stream",
     "text": [
      "(3808, 59)\n"
     ]
    }
   ],
   "source": []
  },
  {
   "cell_type": "code",
   "execution_count": 159,
   "metadata": {},
   "outputs": [
    {
     "name": "stderr",
     "output_type": "stream",
     "text": [
      "[Parallel(n_jobs=1)]: Done   6 out of   6 | elapsed:    0.2s finished\n",
      "/Users/dsluis/anaconda3/lib/python3.6/site-packages/sklearn/ensemble/forest.py:724: UserWarning: Some inputs do not have OOB scores. This probably means too few trees were used to compute any reliable oob estimates.\n",
      "  warn(\"Some inputs do not have OOB scores. \"\n"
     ]
    },
    {
     "name": "stdout",
     "output_type": "stream",
     "text": [
      "oob score :-0.202797710758\n",
      "Feature ranking:\n",
      "1, feature, 0, min_normalised_position, 0.265319 \n",
      "2, feature, 12, freq in title , 0.156170 \n",
      "3, feature, 4, norm_first_position_within_first 3 sentences, 0.049790 \n",
      "4, feature, 2, mean_normalised_position, 0.045227 \n",
      "5, feature, 15, average spot length in words, 0.024435 \n",
      "6, feature, 9, freq in first 3 sentences of body , 0.021763 \n",
      "7, feature, 22, document length, 0.020917 \n",
      "8, feature, 8, averaged normed position within sentences, 0.020845 \n",
      "9, feature, 20, entity out_degree in wikipeada, 0.020587 \n",
      "10, feature, 16, average spot length in characters, 0.020505 \n",
      "11, feature, 14, maximum fraction of uppercase letters, 0.018767 \n",
      "12, feature, 28, v1_degree_mean_median_ratio, 0.017487 \n",
      "13, feature, 1, max_normalised_position, 0.017267 \n",
      "14, feature, 3, normalised_position_std_dev, 0.016479 \n",
      "15, feature, 18, unambiguous entity frequency, 0.015165 \n",
      "16, feature, 30, v1_closeness, 0.014349 \n",
      "17, feature, 5, norm first positon within body middle, 0.013662 \n",
      "18, feature, 37, v1_minus_low_relatedness_degree_mean_median_ratio, 0.013468 \n",
      "19, feature, 23, v1_graph_size, 0.013033 \n",
      "20, feature, 39, v1_minus_low_relatedness_closeness, 0.012787 \n",
      "21, feature, 7, normed first position within title, 0.012053 \n",
      "22, feature, 38, v1_minus_low_relatedness_farness, 0.011846 \n",
      "23, feature, 24, v1_graph_diameter, 0.011717 \n",
      "24, feature, 10, freq in middle of body , 0.009752 \n",
      "25, feature, 27, v1_out_degree_mean_median_ratio, 0.009751 \n",
      "26, feature, 29, v1_farness, 0.009566 \n",
      "27, feature, 19, entity in_degree in wikipeada, 0.008845 \n",
      "28, feature, 32, v1_minus_low_relatedness_graph_size, 0.008337 \n",
      "29, feature, 36, v1_minus_low_relatedness_out_degree_mean_median_ratio, 0.008336 \n",
      "30, feature, 33, v1_minus_low_relatedness_graph_diameter, 0.008195 \n",
      "31, feature, 34, v1_minus_low_relatedness_node_degree, 0.008064 \n",
      "32, feature, 25, v1_node_degree, 0.008008 \n",
      "33, feature, 21, entity degree in wikipeada, 0.007652 \n",
      "34, feature, 44, v0_degree_mean_median_ratio, 0.007590 \n",
      "35, feature, 6, norm_first_position_within last 3 sentences, 0.007058 \n",
      "36, feature, 35, v1_minus_low_relatedness_degree_mean_median_ratio, 0.005970 \n",
      "37, feature, 11, freq in last 3 sentences of body , 0.005556 \n",
      "38, feature, 46, v0_degree_mean_median_ratio, 0.005397 \n",
      "39, feature, 26, v1_degree_mean_median_ratio, 0.005141 \n",
      "40, feature, 48, v0_closeness, 0.004348 \n",
      "41, feature, 45, v0_out_degree_mean_median_ratio, 0.004220 \n",
      "42, feature, 54, v0_minus_low_relatedness_out_degree_mean_median_ratio, 0.003871 \n",
      "43, feature, 53, v0_minus_low_relatedness_degree_mean_median_ratio, 0.003830 \n",
      "44, feature, 49, v0_centrality, 0.003501 \n",
      "45, feature, 55, v0_minus_low_relatedness_degree_mean_median_ratio, 0.003344 \n",
      "46, feature, 50, v0_minus_low_relatedness_graph_size, 0.003266 \n",
      "47, feature, 41, v0_graph_size, 0.002755 \n",
      "48, feature, 42, v0_graph_diameter, 0.002698 \n",
      "49, feature, 43, v0_node_degree, 0.002362 \n",
      "50, feature, 56, v0_minus_low_relatedness_farness, 0.001934 \n",
      "51, feature, 51, v0_minus_low_relatedness_graph_diameter, 0.001722 \n",
      "52, feature, 47, v0_farness, 0.001573 \n",
      "53, feature, 58, v0_minus_low_relatedness_centrality, 0.001263 \n",
      "54, feature, 57, v0_minus_low_relatedness_closeness, 0.001077 \n",
      "55, feature, 52, v0_minus_low_relatedness_node_degree, 0.001032 \n",
      "56, feature, 40, v1_minus_low_relatedness_centrality, 0.000347 \n",
      "57, feature, 13, one occurrence capitalised, 0.000000 \n",
      "58, feature, 31, v1_centrality, 0.000000 \n",
      "59, feature, 17, is in title, 0.000000 \n"
     ]
    },
    {
     "data": {
      "text/plain": [
       "<matplotlib.figure.Figure at 0x1ab677d470>"
      ]
     },
     "metadata": {},
     "output_type": "display_data"
    },
    {
     "data": {
      "image/png": "[encoded data removed]",
      "text/plain": [
       "<matplotlib.figure.Figure at 0x1a27de3048>"
      ]
     },
     "metadata": {},
     "output_type": "display_data"
    }
   ],
   "source": [
    "# Build a forest and compute the feature importances\n",
    "forest = ExtraTreesRegressor(n_estimators=best_est.n_estimators,\n",
    "                              random_state=0,\n",
    "                            oob_score=True, verbose=True, bootstrap = True)\n",
    "\n",
    "forest.fit(X2_sel, y2_sel)\n",
    "importances = forest.feature_importances_\n",
    "std = np.std([tree.feature_importances_ for tree in forest.estimators_],\n",
    "             axis=0)\n",
    "indices = np.argsort(importances)[::-1]\n",
    "\n",
    "print(\"oob score :\"+str(forest.oob_score_))\n",
    "\n",
    "# Print the feature ranking\n",
    "print(\"Feature ranking:\")\n",
    "\n",
    "for f in range(X2_sel.shape[1]):\n",
    "    print(\"%d, feature, %d, %s, %f \" % (f + 1, indices[f], light_feature_names[indices[f]], importances[indices[f]] ))\n",
    "\n",
    "# Plot the feature importances of the forest\n",
    "plt.figure()\n",
    "plt.title(\"Feature importances\")\n",
    "plt.bar(range(X2_sel.shape[1]), importances[indices],\n",
    "       color=\"r\", yerr=std[indices], align=\"center\")\n",
    "plt.xticks(range(X2_sel.shape[1]), indices)\n",
    "plt.xlim([-1, X2_sel.shape[1]])\n",
    "plt.show()\n",
    "GRAPH_PATH = '/Users/dsluis/Dropbox/UCL/UCL - Business Analytics specialisation in Computer Science/T3-COMPG099 - Dissertation/Diagrams/'\n",
    "plt.savefig(GRAPH_PATH+'feature_importance_RF.png')\n"
   ]
  },
  {
   "cell_type": "code",
   "execution_count": null,
   "metadata": {
    "collapsed": true
   },
   "outputs": [],
   "source": []
  },
  {
   "cell_type": "code",
   "execution_count": null,
   "metadata": {
    "collapsed": true
   },
   "outputs": [],
   "source": []
  },
  {
   "cell_type": "code",
   "execution_count": 21,
   "metadata": {
    "collapsed": true
   },
   "outputs": [],
   "source": []
  },
  {
   "cell_type": "code",
   "execution_count": null,
   "metadata": {
    "collapsed": true
   },
   "outputs": [],
   "source": []
  },
  {
   "cell_type": "markdown",
   "metadata": {
    "collapsed": true
   },
   "source": [
    "# Split Data - to train real model"
   ]
  },
  {
   "cell_type": "code",
   "execution_count": 167,
   "metadata": {},
   "outputs": [
    {
     "name": "stdout",
     "output_type": "stream",
     "text": [
      "(1972, 59)\n",
      "(1836, 59)\n"
     ]
    }
   ],
   "source": [
    "splitter = DataSplitter()\n",
    "X_train, X_test, y_train, y_test, in_train_set_by_id = splitter.get_test_train_datasets(X2_sel,y2_sel,\n",
    "                                                                                        docid2_sel,7,train_split=0.50)\n",
    "\n",
    "\n",
    "print(X_train.shape)\n",
    "print(X_test.shape)"
   ]
  },
  {
   "cell_type": "code",
   "execution_count": null,
   "metadata": {
    "collapsed": true
   },
   "outputs": [],
   "source": [
    "# Train forest on training data"
   ]
  },
  {
   "cell_type": "code",
   "execution_count": 168,
   "metadata": {},
   "outputs": [
    {
     "name": "stderr",
     "output_type": "stream",
     "text": [
      "[Parallel(n_jobs=1)]: Done   6 out of   6 | elapsed:    0.2s finished\n",
      "/Users/dsluis/anaconda3/lib/python3.6/site-packages/sklearn/ensemble/forest.py:724: UserWarning: Some inputs do not have OOB scores. This probably means too few trees were used to compute any reliable oob estimates.\n",
      "  warn(\"Some inputs do not have OOB scores. \"\n"
     ]
    },
    {
     "data": {
      "text/plain": [
       "ExtraTreesRegressor(bootstrap=True, criterion='mse', max_depth=None,\n",
       "          max_features='auto', max_leaf_nodes=None,\n",
       "          min_impurity_decrease=0.0, min_impurity_split=None,\n",
       "          min_samples_leaf=1, min_samples_split=2,\n",
       "          min_weight_fraction_leaf=0.0, n_estimators=6, n_jobs=1,\n",
       "          oob_score=True, random_state=0, verbose=True, warm_start=False)"
      ]
     },
     "execution_count": 168,
     "metadata": {},
     "output_type": "execute_result"
    }
   ],
   "source": [
    "# Build a forest and compute the feature importances\n",
    "forest = ExtraTreesRegressor(n_estimators=best_est.n_estimators,\n",
    "                              random_state=0,\n",
    "                            oob_score=True, verbose=True, bootstrap = True)\n",
    "\n",
    "forest.fit(X2_sel, y2_sel)"
   ]
  },
  {
   "cell_type": "markdown",
   "metadata": {},
   "source": [
    "# Save RF SEL Model"
   ]
  },
  {
   "cell_type": "code",
   "execution_count": 169,
   "metadata": {
    "collapsed": true
   },
   "outputs": [],
   "source": [
    "output_filename = INTERMEDIATE_PATH+'sel_golden_spotter_RF.pickle'\n",
    "with open(output_filename, 'wb') as handle:\n",
    "     pickle.dump(forest, handle, protocol=pickle.HIGHEST_PROTOCOL)\n",
    "\n",
    "\n"
   ]
  },
  {
   "cell_type": "code",
   "execution_count": null,
   "metadata": {
    "collapsed": true
   },
   "outputs": [],
   "source": []
  },
  {
   "cell_type": "code",
   "execution_count": null,
   "metadata": {
    "collapsed": true
   },
   "outputs": [],
   "source": []
  },
  {
   "cell_type": "code",
   "execution_count": null,
   "metadata": {
    "collapsed": true
   },
   "outputs": [],
   "source": []
  },
  {
   "cell_type": "code",
   "execution_count": null,
   "metadata": {
    "collapsed": true
   },
   "outputs": [],
   "source": []
  },
  {
   "cell_type": "code",
   "execution_count": 170,
   "metadata": {},
   "outputs": [
    {
     "name": "stderr",
     "output_type": "stream",
     "text": [
      "2018-07-23 17:25:50,273 sellibrary.text_file_loader INFO     loading data from : /Users/dsluis/Dropbox/Datasets/intermediate/sentiment_simple.txt\n",
      "2018-07-23 17:25:50,345 sellibrary.text_file_loader INFO     4715 lines loaded from /Users/dsluis/Dropbox/Datasets/intermediate/sentiment_simple.txt\n"
     ]
    }
   ],
   "source": [
    "sent_feature_names = [\n",
    "    'title_sentiment_ngram_20', \n",
    "    'title_neg_sent_ngram_20',\n",
    "    'title_pos_sent_ngram_20',   \n",
    "    'body_sentiment_ngram_20', \n",
    "    'body_neg_sent_ngram_20',\n",
    "    'body_pos_sent_ngram_20'\n",
    "]    \n",
    "\n",
    "\n",
    "X_sent, y_sent, docid_array_sent, entity_id_array_sent = load_feature_matrix(\n",
    "    feature_filename=INTERMEDIATE_PATH+'sentiment_simple.txt',\n",
    "    feature_names=sent_feature_names,\n",
    "    entity_id_index=1,\n",
    "    y_feature_index=2, first_feature_index=4, number_features_per_line=10,\n",
    "    tmp_filename='/tmp/temp_conversion_file.txt'\n",
    "    )"
   ]
  },
  {
   "cell_type": "code",
   "execution_count": null,
   "metadata": {
    "collapsed": true
   },
   "outputs": [],
   "source": []
  },
  {
   "cell_type": "code",
   "execution_count": 174,
   "metadata": {},
   "outputs": [
    {
     "name": "stdout",
     "output_type": "stream",
     "text": [
      "(2414, 6)\n",
      "(2301, 6)\n"
     ]
    }
   ],
   "source": [
    "splitter = DataSplitter()\n",
    "X_train, X_test, y_train, y_test, in_train_set_by_id = splitter.get_test_train_datasets(X_sent,y_sent,\n",
    "                                                                                        docid_array_sent,7,train_split=0.50)\n",
    "\n",
    "\n",
    "print(X_train.shape)\n",
    "print(X_test.shape)"
   ]
  },
  {
   "cell_type": "code",
   "execution_count": null,
   "metadata": {
    "collapsed": true
   },
   "outputs": [],
   "source": []
  },
  {
   "cell_type": "code",
   "execution_count": 175,
   "metadata": {},
   "outputs": [],
   "source": [
    "\n",
    "# # train only on records we have a golden salience for\n",
    "# fg = FilterGolden()\n",
    "# X2_sent, y2_sent, docid2_sent, entityid2_sent = fg.get_only_golden_rows(X_sent, y_sent, docid_array_sent, entity_id_array_sent)\n",
    "\n",
    "\n",
    "# print(X2_sent.shape)"
   ]
  },
  {
   "cell_type": "code",
   "execution_count": 176,
   "metadata": {},
   "outputs": [
    {
     "name": "stdout",
     "output_type": "stream",
     "text": [
      "Trainset\n",
      "1,2,4,6,7,9,10,11,12,13,16,17,22,24,26,27,28,29,31,34,36,37,38,40,41,43,44,49,54,56,57,60,62,63,71,75,78,81,86,87,89,90,91,93,94,96,98,99,101,103,108,109,110,113,114,115,116,118,123,124,125,126,136,141,144,145,148,149,150,151,153,154,155,156,157,158,159,162,163,165,166,167,170,171,172,173,174,175,178,179,182,184,189,190,191,195,196,204,206,207,208,209,210,213,217,218,219,221,222,226,229,235,236,238,241,242,245,246,247,250,254,256,257,262,265,266,267,268,270,271,272,274,275,278,283,284,285,288,290,291,294,299,301,302,308,315,317,323,327,329,330,331,332,333,338,341,530,532,534,540,541,543,544,545,548,551,552,553,561,568,569,570,572,573,574,577,578,582,583,587,588,592,594,596,597,600,601,603,604\n",
      "Length:189\n",
      "Testset\n",
      "3,5,8,14,18,20,21,23,25,30,32,33,35,39,42,45,46,50,51,52,53,55,58,64,66,68,70,72,73,74,76,77,80,82,83,84,85,88,95,100,104,105,106,107,111,112,119,127,129,131,132,133,134,137,138,139,140,146,160,161,168,169,177,180,181,183,185,186,187,188,192,193,194,197,198,199,200,202,203,205,211,212,214,215,216,223,224,225,227,228,230,232,233,234,237,239,240,243,244,248,249,251,252,253,255,258,259,260,261,263,264,269,273,276,277,279,280,281,282,289,292,293,295,296,298,300,303,304,305,306,307,311,312,313,314,316,318,319,320,321,324,325,326,334,336,337,339,340,527,528,531,536,538,542,546,550,555,560,562,566,567,571,575,576,579,580,581,586,589,590,591,593,595,598,599,602\n",
      "Length:176\n"
     ]
    }
   ],
   "source": [
    "in_train_set_by_id\n",
    "\n",
    "ids_in_trainset = []\n",
    "ids_in_testset = []\n",
    "for i in in_train_set_by_id.keys():\n",
    "    if in_train_set_by_id[i]:\n",
    "        ids_in_trainset.append(int(i))\n",
    "    else:\n",
    "        ids_in_testset.append(int(i))\n",
    "        \n",
    "len(ids_in_trainset)\n",
    "s = str(ids_in_trainset)\n",
    "s = s.replace(' ','').replace('[','').replace(']','')\n",
    "print('Trainset\\n'+s)\n",
    "print('Length:'+str(len(ids_in_trainset)))\n",
    "\n",
    "\n",
    "len(ids_in_testset)\n",
    "s = str(ids_in_testset)\n",
    "s = s.replace(' ','').replace('[','').replace(']','')\n",
    "print('Testset\\n'+s)\n",
    "print('Length:'+str(len(ids_in_testset)))\n",
    "\n",
    "\n"
   ]
  },
  {
   "cell_type": "code",
   "execution_count": null,
   "metadata": {
    "collapsed": true
   },
   "outputs": [],
   "source": []
  },
  {
   "cell_type": "code",
   "execution_count": null,
   "metadata": {
    "collapsed": true
   },
   "outputs": [],
   "source": []
  },
  {
   "cell_type": "code",
   "execution_count": null,
   "metadata": {
    "collapsed": true
   },
   "outputs": [],
   "source": []
  },
  {
   "cell_type": "code",
   "execution_count": 177,
   "metadata": {},
   "outputs": [
    {
     "name": "stdout",
     "output_type": "stream",
     "text": [
      "Feature ranking:\n",
      "1. feature 3 (0.266229) body_sentiment_ngram_20 \n",
      "2. feature 4 (0.202660) body_neg_sent_ngram_20 \n",
      "3. feature 5 (0.192604) body_pos_sent_ngram_20 \n",
      "4. feature 2 (0.144034) title_pos_sent_ngram_20 \n",
      "5. feature 1 (0.098946) title_neg_sent_ngram_20 \n",
      "6. feature 0 (0.095526) title_sentiment_ngram_20 \n"
     ]
    },
    {
     "name": "stderr",
     "output_type": "stream",
     "text": [
      "[Parallel(n_jobs=1)]: Done   6 out of   6 | elapsed:    0.0s finished\n",
      "/Users/dsluis/anaconda3/lib/python3.6/site-packages/sklearn/ensemble/forest.py:724: UserWarning: Some inputs do not have OOB scores. This probably means too few trees were used to compute any reliable oob estimates.\n",
      "  warn(\"Some inputs do not have OOB scores. \"\n"
     ]
    }
   ],
   "source": [
    "\n",
    "\n",
    "# Build a forest and compute the feature importances\n",
    "sent_forest = ExtraTreesRegressor(n_estimators=6,\n",
    "                              random_state=0,\n",
    "                            oob_score=True, verbose=True, bootstrap = True)\n",
    "\n",
    "sent_forest.fit(X_train, y_train)\n",
    "importances = sent_forest.feature_importances_\n",
    "std = np.std([tree.feature_importances_ for tree in sent_forest.estimators_],\n",
    "             axis=0)\n",
    "indices = np.argsort(importances)[::-1]\n",
    "\n",
    "# Print the feature ranking\n",
    "print(\"Feature ranking:\")\n",
    "\n",
    "for f in range(X2_sent.shape[1]):\n",
    "    print(\"%d. feature %d (%f) %s \" % (f + 1, indices[f], importances[indices[f]],  sent_feature_names[indices[f]] ))\n",
    "\n"
   ]
  },
  {
   "cell_type": "markdown",
   "metadata": {},
   "source": [
    "# Save Sent RF Model"
   ]
  },
  {
   "cell_type": "code",
   "execution_count": 179,
   "metadata": {
    "collapsed": true
   },
   "outputs": [],
   "source": [
    "output_filename = INTERMEDIATE_PATH+'sent_golden_spotter_RF.pickle'\n",
    "with open(output_filename, 'wb') as handle:\n",
    "     pickle.dump(sent_forest, handle, protocol=pickle.HIGHEST_PROTOCOL)\n",
    "\n",
    "\n"
   ]
  },
  {
   "cell_type": "code",
   "execution_count": 178,
   "metadata": {},
   "outputs": [
    {
     "data": {
      "text/plain": [
       "<matplotlib.figure.Figure at 0x1a27e4ff28>"
      ]
     },
     "metadata": {},
     "output_type": "display_data"
    },
    {
     "data": {
      "image/png": "[encoded data removed]",
      "text/plain": [
       "<matplotlib.figure.Figure at 0x1ad8bc0518>"
      ]
     },
     "metadata": {},
     "output_type": "display_data"
    }
   ],
   "source": [
    "# Plot the feature importances of the forest\n",
    "plt.figure()\n",
    "plt.title(\"Feature importances\")\n",
    "plt.bar(range(X2_sent.shape[1]), importances[indices],\n",
    "       color=\"r\", yerr=std[indices], align=\"center\")\n",
    "plt.xticks(range(X2_sent.shape[1]), indices)\n",
    "plt.xlim([-1, X2_sent.shape[1]])\n",
    "plt.savefig(GRAPH_PATH+'Simple Sentiment Feature Importance RF.png')\n",
    "plt.show()\n",
    "\n"
   ]
  },
  {
   "cell_type": "code",
   "execution_count": 77,
   "metadata": {},
   "outputs": [
    {
     "name": "stdout",
     "output_type": "stream",
     "text": [
      "(4715, 6)\n"
     ]
    }
   ],
   "source": [
    "print (X2_sent.shape)"
   ]
  },
  {
   "cell_type": "code",
   "execution_count": 123,
   "metadata": {},
   "outputs": [
    {
     "name": "stdout",
     "output_type": "stream",
     "text": [
      "[5]\n",
      "adding 5\n",
      "[4 5]\n",
      "adding 4\n",
      "[2 4 5]\n",
      "adding 2\n",
      "[1 2 4 5]\n",
      "adding 1\n",
      "[0 1 2 4 5]\n",
      "adding 0\n",
      "[0 1 2 3 4 5]\n",
      "adding 3\n",
      "[5, 4, 2, 1, 0, 3]\n"
     ]
    }
   ],
   "source": [
    "from sklearn.feature_selection import SelectKBest\n",
    "from sklearn.feature_selection import chi2\n",
    "\n",
    "\n",
    "\n",
    "\n",
    "\n",
    "y3_sent = y2_sent\n",
    "y3_sent[y3_sent<2.0] = 0\n",
    "y3_sent[y3_sent>=2.0] = 1\n",
    "y3_sent\n",
    "\n",
    "\n",
    "np.min(X3_sent[:,3])\n",
    "\n",
    "X3_sent[:,0] = (X3_sent[:,0]/10) + 0.5\n",
    "X3_sent[:,3] = (X3_sent[:,3]/10) + 0.5\n",
    "X3_sent[:,3] = X3_sent[:,3] + 0.1\n",
    "\n",
    "\n",
    "list_of_important_features = []\n",
    "\n",
    "for i in range(X3_sent.shape[1]):\n",
    "    chi2_selector = SelectKBest(chi2, k=i+1)\n",
    "    X_kbest = chi2_selector.fit_transform(X3_sent, y3_sent)\n",
    "    print(chi2_selector.get_support(True))\n",
    "    \n",
    "    for f in chi2_selector.get_support(True):\n",
    "        if f not in list_of_important_features:\n",
    "            print('adding '+str(f))\n",
    "            list_of_important_features.append(f)\n",
    "            \n",
    "    \n",
    "print(list_of_important_features)"
   ]
  },
  {
   "cell_type": "code",
   "execution_count": 111,
   "metadata": {},
   "outputs": [
    {
     "data": {
      "text/plain": [
       "array([3, 4, 5])"
      ]
     },
     "execution_count": 111,
     "metadata": {},
     "output_type": "execute_result"
    }
   ],
   "source": [
    "\n",
    "chi2_selector.get_support(True)\n",
    "\n",
    "\n"
   ]
  },
  {
   "cell_type": "code",
   "execution_count": 112,
   "metadata": {},
   "outputs": [
    {
     "data": {
      "text/plain": [
       "{'k': 3,\n",
       " 'score_func': <function sklearn.feature_selection.univariate_selection.chi2>}"
      ]
     },
     "execution_count": 112,
     "metadata": {},
     "output_type": "execute_result"
    }
   ],
   "source": [
    "\n",
    "\n"
   ]
  },
  {
   "cell_type": "markdown",
   "metadata": {},
   "source": [
    "# Join Sent and SEL together into large matrix"
   ]
  },
  {
   "cell_type": "code",
   "execution_count": 180,
   "metadata": {},
   "outputs": [
    {
     "data": {
      "text/plain": [
       "['min_normalised_position',\n",
       " 'max_normalised_position',\n",
       " 'mean_normalised_position',\n",
       " 'normalised_position_std_dev',\n",
       " 'norm_first_position_within_first 3 sentences',\n",
       " 'norm first positon within body middle',\n",
       " 'norm_first_position_within last 3 sentences',\n",
       " 'normed first position within title',\n",
       " 'averaged normed position within sentences',\n",
       " 'freq in first 3 sentences of body ',\n",
       " 'freq in middle of body ',\n",
       " 'freq in last 3 sentences of body ',\n",
       " 'freq in title ',\n",
       " 'one occurrence capitalised',\n",
       " 'maximum fraction of uppercase letters',\n",
       " 'average spot length in words',\n",
       " 'average spot length in characters',\n",
       " 'is in title',\n",
       " 'unambiguous entity frequency',\n",
       " 'entity in_degree in wikipeada',\n",
       " 'entity out_degree in wikipeada',\n",
       " 'entity degree in wikipeada',\n",
       " 'document length',\n",
       " 'v1_graph_size',\n",
       " 'v1_graph_diameter',\n",
       " 'v1_node_degree',\n",
       " 'v1_degree_mean_median_ratio',\n",
       " 'v1_out_degree_mean_median_ratio',\n",
       " 'v1_degree_mean_median_ratio',\n",
       " 'v1_farness',\n",
       " 'v1_closeness',\n",
       " 'v1_centrality',\n",
       " 'v1_minus_low_relatedness_graph_size',\n",
       " 'v1_minus_low_relatedness_graph_diameter',\n",
       " 'v1_minus_low_relatedness_node_degree',\n",
       " 'v1_minus_low_relatedness_degree_mean_median_ratio',\n",
       " 'v1_minus_low_relatedness_out_degree_mean_median_ratio',\n",
       " 'v1_minus_low_relatedness_degree_mean_median_ratio',\n",
       " 'v1_minus_low_relatedness_farness',\n",
       " 'v1_minus_low_relatedness_closeness',\n",
       " 'v1_minus_low_relatedness_centrality',\n",
       " 'v0_graph_size',\n",
       " 'v0_graph_diameter',\n",
       " 'v0_node_degree',\n",
       " 'v0_degree_mean_median_ratio',\n",
       " 'v0_out_degree_mean_median_ratio',\n",
       " 'v0_degree_mean_median_ratio',\n",
       " 'v0_farness',\n",
       " 'v0_closeness',\n",
       " 'v0_centrality',\n",
       " 'v0_minus_low_relatedness_graph_size',\n",
       " 'v0_minus_low_relatedness_graph_diameter',\n",
       " 'v0_minus_low_relatedness_node_degree',\n",
       " 'v0_minus_low_relatedness_degree_mean_median_ratio',\n",
       " 'v0_minus_low_relatedness_out_degree_mean_median_ratio',\n",
       " 'v0_minus_low_relatedness_degree_mean_median_ratio',\n",
       " 'v0_minus_low_relatedness_farness',\n",
       " 'v0_minus_low_relatedness_closeness',\n",
       " 'v0_minus_low_relatedness_centrality',\n",
       " 'title_sentiment_ngram_20',\n",
       " 'title_neg_sent_ngram_20',\n",
       " 'title_pos_sent_ngram_20',\n",
       " 'body_sentiment_ngram_20',\n",
       " 'body_neg_sent_ngram_20',\n",
       " 'body_pos_sent_ngram_20']"
      ]
     },
     "execution_count": 180,
     "metadata": {},
     "output_type": "execute_result"
    }
   ],
   "source": [
    "\n",
    "from sellibrary.util.const import Const\n",
    "\n"
   ]
  },
  {
   "cell_type": "code",
   "execution_count": 181,
   "metadata": {},
   "outputs": [
    {
     "name": "stderr",
     "output_type": "stream",
     "text": [
      "2018-07-25 11:15:35,109 sellibrary.text_file_loader INFO     loading data from : /Users/dsluis/Dropbox/Datasets/intermediate/joined.txt\n",
      "2018-07-25 11:15:35,335 sellibrary.text_file_loader INFO     3763 lines loaded from /Users/dsluis/Dropbox/Datasets/intermediate/joined.txt\n"
     ]
    }
   ],
   "source": [
    " \n",
    "\n",
    "\n",
    "X_joined, y_joined, docid_array_joined, entity_id_array_joined = load_feature_matrix(\n",
    "    feature_filename=INTERMEDIATE_PATH+'joined.txt',\n",
    "    feature_names=Const.joined_feature_names,\n",
    "    entity_id_index=1,\n",
    "    y_feature_index=2, first_feature_index=4, number_features_per_line=len(Const.joined_feature_names)+4,\n",
    "    tmp_filename='/tmp/temp_conversion_file.txt'\n",
    "    )"
   ]
  },
  {
   "cell_type": "code",
   "execution_count": null,
   "metadata": {
    "collapsed": true
   },
   "outputs": [],
   "source": []
  },
  {
   "cell_type": "code",
   "execution_count": 182,
   "metadata": {
    "collapsed": true
   },
   "outputs": [],
   "source": [
    "splitter = DataSplitter()\n",
    "X_train, X_test, y_train, y_test, in_train_set_by_id = splitter.get_test_train_datasets(X_joined,y_joined,\n",
    "                                                                                        docid_array_joined,7,train_split=0.50)\n",
    "\n",
    "\n"
   ]
  },
  {
   "cell_type": "code",
   "execution_count": 185,
   "metadata": {},
   "outputs": [
    {
     "name": "stdout",
     "output_type": "stream",
     "text": [
      "Feature ranking:\n",
      "1. feature 12 (0.260908) freq in title  \n",
      "2. feature 0 (0.122251) min_normalised_position \n",
      "3. feature 4 (0.085305) norm_first_position_within_first 3 sentences \n",
      "4. feature 9 (0.034096) freq in first 3 sentences of body  \n",
      "5. feature 2 (0.033549) mean_normalised_position \n",
      "6. feature 16 (0.021240) average spot length in characters \n",
      "7. feature 8 (0.020618) averaged normed position within sentences \n",
      "8. feature 22 (0.019612) document length \n",
      "9. feature 14 (0.017490) maximum fraction of uppercase letters \n",
      "10. feature 5 (0.016533) norm first positon within body middle \n",
      "11. feature 28 (0.015937) v1_degree_mean_median_ratio \n",
      "12. feature 20 (0.015434) entity out_degree in wikipeada \n",
      "13. feature 15 (0.015264) average spot length in words \n",
      "14. feature 37 (0.014859) v1_minus_low_relatedness_degree_mean_median_ratio \n",
      "15. feature 39 (0.014067) v1_minus_low_relatedness_closeness \n",
      "16. feature 63 (0.013731) body_neg_sent_ngram_20 \n",
      "17. feature 23 (0.013593) v1_graph_size \n",
      "18. feature 1 (0.013525) max_normalised_position \n",
      "19. feature 18 (0.013490) unambiguous entity frequency \n",
      "20. feature 30 (0.013067) v1_closeness \n",
      "21. feature 62 (0.012858) body_sentiment_ngram_20 \n",
      "22. feature 64 (0.012843) body_pos_sent_ngram_20 \n",
      "23. feature 24 (0.011560) v1_graph_diameter \n",
      "24. feature 3 (0.011005) normalised_position_std_dev \n",
      "25. feature 10 (0.010490) freq in middle of body  \n",
      "26. feature 6 (0.010362) norm_first_position_within last 3 sentences \n",
      "27. feature 32 (0.009392) v1_minus_low_relatedness_graph_size \n",
      "28. feature 25 (0.009293) v1_node_degree \n",
      "29. feature 33 (0.009029) v1_minus_low_relatedness_graph_diameter \n",
      "30. feature 27 (0.007770) v1_out_degree_mean_median_ratio \n",
      "31. feature 21 (0.007522) entity degree in wikipeada \n",
      "32. feature 44 (0.007409) v0_degree_mean_median_ratio \n",
      "33. feature 19 (0.007277) entity in_degree in wikipeada \n",
      "34. feature 38 (0.007241) v1_minus_low_relatedness_farness \n",
      "35. feature 34 (0.006937) v1_minus_low_relatedness_node_degree \n",
      "36. feature 54 (0.006762) v0_minus_low_relatedness_out_degree_mean_median_ratio \n",
      "37. feature 29 (0.006683) v1_farness \n",
      "38. feature 7 (0.005205) normed first position within title \n",
      "39. feature 26 (0.005119) v1_degree_mean_median_ratio \n",
      "40. feature 53 (0.004956) v0_minus_low_relatedness_degree_mean_median_ratio \n",
      "41. feature 35 (0.004753) v1_minus_low_relatedness_degree_mean_median_ratio \n",
      "42. feature 36 (0.004650) v1_minus_low_relatedness_out_degree_mean_median_ratio \n",
      "43. feature 61 (0.004280) title_pos_sent_ngram_20 \n",
      "44. feature 11 (0.003791) freq in last 3 sentences of body  \n",
      "45. feature 55 (0.003762) v0_minus_low_relatedness_degree_mean_median_ratio \n",
      "46. feature 59 (0.003492) title_sentiment_ngram_20 \n",
      "47. feature 42 (0.003474) v0_graph_diameter \n",
      "48. feature 46 (0.003283) v0_degree_mean_median_ratio \n",
      "49. feature 41 (0.003053) v0_graph_size \n",
      "50. feature 50 (0.002889) v0_minus_low_relatedness_graph_size \n",
      "51. feature 47 (0.002720) v0_farness \n",
      "52. feature 45 (0.002655) v0_out_degree_mean_median_ratio \n",
      "53. feature 43 (0.002460) v0_node_degree \n",
      "54. feature 48 (0.002100) v0_closeness \n",
      "55. feature 60 (0.001902) title_neg_sent_ngram_20 \n",
      "56. feature 51 (0.001721) v0_minus_low_relatedness_graph_diameter \n",
      "57. feature 49 (0.001679) v0_centrality \n",
      "58. feature 52 (0.001352) v0_minus_low_relatedness_node_degree \n",
      "59. feature 40 (0.000809) v1_minus_low_relatedness_centrality \n",
      "60. feature 57 (0.000416) v0_minus_low_relatedness_closeness \n",
      "61. feature 56 (0.000349) v0_minus_low_relatedness_farness \n",
      "62. feature 58 (0.000128) v0_minus_low_relatedness_centrality \n",
      "63. feature 13 (0.000000) one occurrence capitalised \n",
      "64. feature 31 (0.000000) v1_centrality \n",
      "65. feature 17 (0.000000) is in title \n"
     ]
    },
    {
     "name": "stderr",
     "output_type": "stream",
     "text": [
      "/Users/dsluis/anaconda3/lib/python3.6/site-packages/sklearn/ensemble/forest.py:724: UserWarning: Some inputs do not have OOB scores. This probably means too few trees were used to compute any reliable oob estimates.\n",
      "  warn(\"Some inputs do not have OOB scores. \"\n"
     ]
    }
   ],
   "source": [
    "joined_model = ExtraTreesRegressor(bootstrap=True, criterion='mse', max_depth=None,\n",
    "          max_features='auto', max_leaf_nodes=None,\n",
    "          min_impurity_decrease=0.0, min_impurity_split=None,\n",
    "          min_samples_leaf=1, min_samples_split=2,\n",
    "          min_weight_fraction_leaf=0.0, n_estimators=6, n_jobs=1,\n",
    "          oob_score=True, random_state=None, verbose=0, warm_start=False)\n",
    "\n",
    "\n",
    "joined_model.fit(X_train, y_train)\n",
    "importances = joined_model.feature_importances_\n",
    "indices = np.argsort(importances)[::-1]\n",
    "\n",
    "# Print the feature ranking\n",
    "print(\"Feature ranking:\")\n",
    "\n",
    "for f in range(X_train.shape[1]):\n",
    "    print(\"%d. feature %d (%f) %s \" % (f + 1, indices[f], importances[indices[f]],  Const.joined_feature_names[indices[f]] ))\n",
    "\n",
    "\n"
   ]
  },
  {
   "cell_type": "code",
   "execution_count": 186,
   "metadata": {
    "collapsed": true
   },
   "outputs": [],
   "source": [
    "output_filename = INTERMEDIATE_PATH+'joined_RF.pickle'\n",
    "with open(output_filename, 'wb') as handle:\n",
    "     pickle.dump(joined_model, handle, protocol=pickle.HIGHEST_PROTOCOL)\n",
    "\n",
    "\n"
   ]
  },
  {
   "cell_type": "code",
   "execution_count": null,
   "metadata": {
    "collapsed": true
   },
   "outputs": [],
   "source": []
  }
 ],
 "metadata": {
  "kernelspec": {
   "display_name": "Python 3",
   "language": "python",
   "name": "python3"
  },
  "language_info": {
   "codemirror_mode": {
    "name": "ipython",
    "version": 3
   },
   "file_extension": ".py",
   "mimetype": "text/x-python",
   "name": "python",
   "nbconvert_exporter": "python",
   "pygments_lexer": "ipython3",
   "version": "3.6.3"
  }
 },
 "nbformat": 4,
 "nbformat_minor": 2
}
