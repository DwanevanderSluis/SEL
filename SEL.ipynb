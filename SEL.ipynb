{
 "cells": [
  {
   "cell_type": "code",
   "execution_count": 12,
   "metadata": {
    "collapsed": true
   },
   "outputs": [],
   "source": [
    "import json\n",
    "from pprint import pprint\n",
    "import requests\n",
    "import pickle\n",
    "import sys\n"
   ]
  },
  {
   "cell_type": "code",
   "execution_count": 13,
   "metadata": {},
   "outputs": [
    {
     "name": "stdout",
     "output_type": "stream",
     "text": [
      "/Users/dsluis/data/dexter/\n"
     ]
    }
   ],
   "source": [
    "# Data down loaded from \n",
    "# https://github.com/dexter/dexter-datasets/tree/master/entity-saliency\n",
    "if sys.platform == 'win32':\n",
    "    path = 'Y:\\\\DATA\\\\Dissertation\\\\dexter\\\\'\n",
    "else:\n",
    "    path = '/Users/dsluis/data/dexter/'\n",
    "    \n",
    "print(path)"
   ]
  },
  {
   "cell_type": "code",
   "execution_count": 5,
   "metadata": {
    "collapsed": true
   },
   "outputs": [],
   "source": [
    "def process_line(text):\n",
    "    print('____________________')\n",
    "    data = json.loads(text)\n",
    "    pprint(data)\n",
    "    print('____________________')\n",
    "    for e in data['saliency']:\n",
    "        entityid = e['entityid']\n",
    "        score = e['score']\n",
    "        title = getTitleFromCurId(entityid)\n",
    "        print(entityid,title,score)\n",
    "    print('____________________')\n",
    "    "
   ]
  },
  {
   "cell_type": "code",
   "execution_count": 6,
   "metadata": {
    "collapsed": true
   },
   "outputs": [],
   "source": [
    "def add_entities_to_map(text, dictionary):\n",
    "    data = json.loads(text)\n",
    "    for e in data['saliency']:\n",
    "        entityid = e['entityid']\n",
    "        score = e['score']\n",
    "        title = getTitleFromCurId(entityid)\n",
    "        dictionary[entityid] = title\n",
    "    return (dictionary)"
   ]
  },
  {
   "cell_type": "code",
   "execution_count": 7,
   "metadata": {},
   "outputs": [
    {
     "name": "stdout",
     "output_type": "stream",
     "text": [
      "{9282173: 'Israel', 186801: 'Kamal Kharazi', 721807: 'Nuclear program of Iran', 31717: 'United Kingdom', 5843419: 'France', 21785: 'Nuclear weapon', 6984: 'Colin Powell', 57654: 'Tehran', 14653: 'Iran', 31956: 'United Nations Security Council', 1166971: 'Ministry of Foreign Affairs (Iran)', 9239: 'Europe', 11867: 'Germany', 9317: 'European Union', 32293: 'United States Secretary of State', 31743: 'Uranium', 3434750: 'United States', 44028: 'National Security Advisor (United States)', 489540: 'San Gabriel Valley Tribune', 183895: 'Presidency of George W. Bush', 18998750: 'Reuters', 1175400: 'Stephen Hadley', 3414021: 'George W. Bush', 24113: 'President of the United States', 158177: 'Condoleezza Rice', 182450: 'Democratic National Committee', 147301: 'Nancy Pelosi', 179187: 'Newt Gingrich', 5122699: 'John Kerry', 19468510: 'United States House of Representatives', 326350: 'Republican National Committee', 17878405: 'Terry McAuliffe', 5049103: 'Howard Dean', 32578: 'Vermont', 5043544: 'Democratic Party (United States)', 46023: 'Speaker of the United States House of Representatives', 357395: 'Royal Society for the Prevention of Cruelty to Animals', 544611: 'League Against Cruel Sports', 1184986: 'Hunting Act 2004', 142926: 'Countryside Alliance', 69894: 'Wales', 13658: 'House of Lords', 9316: 'England', 7345778: 'Parliament Act (disambiguation)', 42622: 'European Court of Human Rights', 737: 'Afghanistan', 51036: 'Prohibition of drugs', 14034: 'Heroin', 7701: 'Cocaine', 5222: 'Colombia', 19457: 'Myanmar', 22713: 'Opium', 31756: 'United States Congress', 19666611: 'War in Afghanistan (2001–present)', 3383: 'Brazil', 343651: 'Carlos Mesa', 3462: 'Bolivia', 53292: 'Coca', 18951905: 'Argentina', 284163: 'Evo Morales', 5489: 'Chile', 13257: 'Hydrocarbon', 5554824: 'Al Edwards', 13774: 'Houston', 6749: 'Cheerleading', 23210292: 'Elementary school', 42556: 'Secondary school', 12551: 'Gymnastics', 234954: 'Middle school', 25381: 'Recreation', 25778403: 'Sport', 7885: 'Dance', 29810: 'Texas', 21255: 'North Korea', 5405: 'China', 27019: 'South Korea', 26422038: 'Secretary of state', 47948: 'Pyongyang', 15573: 'Japan', 689: 'Asia', 18933066: 'Florida', 18935446: 'Jim Sensenbrenner', 33127: 'Wisconsin', 33057: 'White House', 670910: 'Terri Schiavo case', 24909346: 'United States Senate', 32070: 'Republican Party (United States)', 411241: 'Robert Wexler', 16844: 'Kofi Annan', 338722: 'Allan Rock', 5042916: 'Canada', 8210131: 'New York (state)', 1157544: 'Reform of the United Nations', 46539: 'Non-governmental organization', 31769: 'United Nations', 18947898: 'Amnesty International', 31957: 'United Nations General Assembly', 50883: 'United Nations Commission on Human Rights', 19698439: 'Oxfam', 324593: 'Costa del Sol', 14338129: 'Interpol', 525329: 'Europol', 26667: 'Spain', 19390: 'Money laundering', 25391: 'Russia', 1604124: 'Operation White Whale', 10577: 'Finland', 31750: 'Ukraine', 327209: 'Yukos', 1328236: '2004 Indian Ocean earthquake and tsunami', 26750: 'Sri Lanka', 13270: 'Hawaii', 5520: 'Cocos (Keeling) Islands', 195149: 'Federal government of the United States', 28679: 'Sumatra', 1359407: 'Pacific Tsunami Warning Center', 23814944: 'United States Geological Survey', 10106: 'Earthquake', 14580: 'Indian Ocean', 18932641: 'Motion Picture Association of America', 172528: 'Jack Valenti', 26989: 'Sony', 31737: 'Supreme Court of the United States', 42057: \"Recording Artists' Coalition\", 18949836: 'Electronic Frontier Foundation', 173664: 'Grokster', 188578: 'Betamax', 58819: 'Metro-Goldwyn-Mayer', 1699622: 'Japanese Society for History Textbook Reform', 12537: 'Guangzhou', 1023351: 'Nobutaka Machimura', 83368: 'Shenzhen', 30057: 'Tokyo', 18603746: 'Beijing', 154099: 'Kim Jong-il', 7987684: 'Plutonium', 208463: 'USA Today', 22151: 'Nuclear reactor', 3930831: 'Nyongbyon County', 5183633: 'Central Intelligence Agency', 22838615: 'Helen Clark', 48034: 'Anzac Day', 4913064: 'New Zealand', 4689709: 'John Howard', 125248: 'Charles, Prince of Wales', 214109: 'Gallipoli Campaign', 24117: 'Prime Minister of Australia', 436118: 'Battle of Chunuk Bair', 11125639: 'Turkey', 20611504: 'Russian Empire', 964382: 'Australian and New Zealand Army Corps', 4689264: 'Australia', 4764461: 'World War I', 15043: 'International Space Station', 1434886: 'Expedition 11', 180643: 'Baikonur', 597288: 'Leroy Chiao', 16642: 'Kazakhstan', 393931: 'Soyuz', 406573: 'Roscosmos', 339639: 'Mobile Servicing System', 656387: 'Salizhan Sharipov', 14532: 'Italy', 9792: 'Extravehicular activity', 18426568: 'NASA', 10363: 'European Space Agency', 19331: 'Moon', 38930: 'Jupiter', 692133: 'Institute for Astronomy', 44474: 'Saturn', 171526: 'Subaru Telescope', 267376: 'Mauna Kea Observatories', 194710: 'University of Hawaii', 23994165: 'Retrograde and prograde motion', 527639: 'Gemini Observatory', 693482: 'David C. Jewitt', 50597: 'EEPROM', 50595: 'Flash memory', 52797: 'Digital camera', 400414: 'USB flash drive', 21837: 'Nanometre', 2478598: 'Bad title', 19918: 'Megabyte', 1560437: 'Portable media player', 27727: 'Solid state', 442674: 'Gigabit', 231728: 'Humpback whale', 21302: 'Nauru', 65656: 'The Gambia', 66857: 'International Whaling Commission', 30138: 'Togo', 323111: 'Ulsan', 300064: 'Minke whale', 13873: 'Halakha', 1078: 'Antisemitism', 24320051: 'Saint Petersburg', 149176: 'Shulchan Aruch', 1010187: 'State Duma', 15624: 'Judaism', 13450: 'Hebrew language', 80332: 'Human sacrifice', 25613: 'Racism', 5211: 'Christianity', 19004: 'Moscow', 8282374: 'Tropical cyclone', 303: 'Alabama', 25453500: 'Coordinated Universal Time', 3117124: 'Hurricane Cindy (2005)', 21076367: 'Gulf of Mexico', 15660: 'Jamaica', 18130: 'Louisiana', 11969: 'Gulf Coast of the United States', 16949861: 'Mississippi', 18956035: 'Caribbean', 2189587: 'Hurricane Dennis', 460417: 'Cienfuegos Province', 313371: 'Rip current', 5042481: 'Cuba', 38301: 'Fidel Castro', 13373: 'Haiti', 12153654: 'Elizabeth II', 18119: 'Liverpool F.C.', 178253: 'Anfield', 62107: 'Trafalgar Square', 17867: 'London', 9974: 'European Commission', 488105: 'Foot guards', 176725: 'The Open Championship', 18247224: 'Ken Livingstone', 320314: 'Élysée Palace', 3301347: 'Tony Blair', 3936: 'Bastille Day', 9581: 'European Parliament', 226294: '10 Downing Street', 353224: 'St Andrews', 39764: 'Jacques Chirac', 22989: 'Paris', 44220: 'UEFA Champions League', 300136: 'The New Saints F.C.', 3969: 'Buckingham Palace', 287415: 'Rideau Hall', 55284: 'Coat of arms', 11949189: 'NHLPA', 34647: '1998', 38152: 'Governor General of Canada', 160112: 'Order of Canada', 1120048: 'Scroll', 161185: 'Adrienne Clarkson', 375211: 'Medal', 35502: '2002', 70210: 'Motto', 25955086: 'Jews', 2731583: 'Adolf Hitler', 465387: 'Post-nominal letters', 1154677: 'Bad title', 1539390: 'Alan Eagleson', 244943: 'David Ahenakew', 31816: 'Uganda', 19541: 'Muslim', 27421: 'Sudan', 676659: 'Rwandan genocide', 25645: 'Rwanda', 1140170: 'John Garang', 605837: 'Darfur', 18337522: 'Christian', 17320: 'Khartoum', 32350676: 'South Sudan', 683270: 'Janjaweed', 932897: 'Amgen', 43427: 'Nature (journal)', 465791: 'Clones, County Monaghan', 1962277: 'Hwang Woo-suk', 7955: 'DNA', 172717: 'Fortune (magazine)', 93489: 'RSS', 18935732: 'Associated Press', 3069677: 'Monkey', 19344654: 'BBC', 12312: 'Gestation', 318094: 'ABC News', 36624: 'Embryo', 29816: 'Technology', 27783: 'Stem cell', 2372209: 'Snuppy', 273319: 'Los Angeles Times', 2835: 'Afghan Hound', 19159283: 'Seoul', 26715: 'Slashdot', 4269567: 'Dog', 30873591: 'Pacific Fleet (Russia)', 2384834: 'Russian deep submergence rescue vehicle AS-28', 26347: 'Russian submarine Kursk (K-141)', 23070: 'Pacific Ocean', 678671: 'Kamchatka Peninsula', 16068759: 'Remotely operated vehicle', 4921404: 'Interfax', 58353: 'Medicare (United States)', 873376: 'Philip Morris USA', 2602093: 'Reynolds American', 73298: 'Tobacco smoking', 24437894: 'Boston', 18450: 'Lung cancer', 1617252: 'Liggett Group', 11855343: 'Bad title', 1589362: 'USA Next', 23430752: 'Internal Revenue Service', 1213285: 'Loews Corporation', 33209: 'West Bank', 599863: 'Bad title', 1317034: 'Morag', 206984: 'Likud', 1114732: 'Palestine (region)', 2297416: 'Kfar Darom', 848569: 'Ehud Olmert', 12047: 'Gaza Strip', 72359: 'Oslo I Accord', 56472: 'Benjamin Netanyahu', 2944: 'Ariel Sharon', 16203: 'Jihad', 8629: 'Donald Rumsfeld', 29402: 'Sunni Islam', 26090: 'Richard Myers', 7515849: 'Syria', 43998: 'United States Secretary of Defense', 7515928: 'Iraq', 448061: 'Isfahan Province', 645042: 'New York City', 14984: 'International Atomic Energy Agency', 7907317: 'Mahmoud Ahmadinejad', 243433: 'Iran hostage crisis', 22107: 'Treaty on the Non-Proliferation of Nuclear Weapons', 330265: 'Travel visa', 55866: 'Vienna', 102226: 'The Washington Post', 399536: 'Akbar Hashemi Rafsanjani', 171776: 'Mohamed ElBaradei', 2569378: 'Hurricane Katrina', 167198: 'Strategic Petroleum Reserve (United States)', 22131: 'Natural gas', 195137: 'Oil refinery', 23195: 'Petroleum', 17416221: 'South Africa', 22161: 'Nuclear energy', 26230922: 'Nobel Peace Prize', 22158: 'Nuclear proliferation', 614618: 'Norwegian Nobel Committee', 35984: '2005', 851: 'Alfred Nobel', 199351: 'Yahoo! Messenger', 14539: 'Internet', 19011063: 'Windows Live Messenger', 25534592: 'AIM', 1566175: 'Google Talk', 55951: 'Instant messaging', 1397: 'AOL', 1092923: 'Google', 19001: 'Microsoft', 188213: 'Yahoo!', 3966054: 'Mexico', 2878666: 'Hurricane Wilma', 3458: 'Belize', 13394: 'Honduras', 5468: 'Cayman Islands', 21362: 'Nicaragua', 1585025: 'Li Zhaoxing', 394985: 'Rafic Hariri', 388121: 'Kaesong', 22576: 'Olympic Games', 8238258: 'Qatar', 39205: 'Asian Games', 19068: 'Macau', 26214389: 'Doha', 367785: 'Harry Reid', 1199173: 'Samuel Alito', 9910441: 'Scooter Libby', 22434789: 'Soyuz (rocket)', 14640471: 'Mars', 12395: 'Greenhouse effect', 202899: 'Atmosphere', 839260: 'Venus Express', 12701: 'Greenwich Mean Time', 32745: 'Venus', 5042951: 'Global warming', 180638: 'Baikonur Cosmodrome', 10204411: 'Space probe', 72671: 'Angela Merkel', 22468: 'Osama bin Laden', 33577594: 'Bad title', 319799: 'Ayman al-Zawahiri', 1921: 'Al-Qaeda', 803: 'Arabic', 23235: 'Pakistan', 457225: 'Faryab Province', 194200: 'International Security Assistance Force', 14531: 'Iceland', 20922: 'Molotov cocktail', 10715: 'Finnish Defence Forces', 21241: 'Norway', 3020403: 'Jyllands-Posten', 329641: 'MTV3', 471981: 'Agence France-Presse', 17514: 'Latvia', 5573: 'Croatia', 12108: 'Greece', 76972: 'Denmark', 3415: 'Bulgaria', 27338: 'Slovenia', 1019908: 'Influenza A virus subtype H5N1', 26964606: 'Austria', 8638634: 'Lyon', 81829: 'Somme (department)', 2640370: 'Yuriy Yekhanurov', 19260: 'Moldova', 376581: 'Transnistria', 843999: 'Igor Smirnov', 55545: 'Odessa', 391110: 'Javier Solana', 18717338: 'United States dollar', 585629: 'Kiev', 1102876: 'Viktor Yushchenko', 182664: 'Surface-to-air missile', 59122: 'Sea of Japan', 624: 'Alaska', 38025: 'Ballistic missile', 252732: 'Kyodo News', 37555: 'Enriched uranium', 385653: 'Ali Khamenei', 5407: 'California', 1877416: 'World Baseball Classic', 25734: 'Taiwan', 8060: 'Dominican Republic', 23041: 'Puerto Rico', 32374: 'Venezuela', 21148: 'Netherlands', 28504: 'San Diego', 22997: 'Panama', 354345: 'Simon Hughes', 159548: 'Iain Duncan Smith', 4294: 'British National Party', 982340: 'Joseph Rowntree Charitable Trust', 13828: 'House of Commons of the United Kingdom', 162647: 'Today (BBC Radio 4)', 32113: 'Conservative Party (UK)', 11054517: 'Walham Green', 18933007: 'Liberal Democrats (UK)', 10396793: 'The Holocaust', 1645518: 'Massachusetts', 32432: 'Virginia', 362239: 'Zabul Province', 14128: 'Herat', 21133: 'NATO', 30635: 'Taliban', 17260: 'Kandahar', 457270: 'Urozgan Province', 766900: 'John Boehner', 22199: 'Ohio', 47734: 'Chhattisgarh', 343949: 'Indian Army', 14533: 'India', 666980: 'Naxalite', 46636: 'Maoism', 149330: 'Bharatiya Janata Party', 149333: 'Indian National Congress', 606490: 'Manmohan Singh', 408215: 'Communist Party of India', 2377: 'Andhra Pradesh', 4723094: 'Nouri al-Maliki', 2385877: 'Haditha', 5320979: 'Haditha massacre', 17349325: 'United States Marine Corps', 649578: 'John Murtha', 2346975: 'Ban Ki-moon', 2286971: 'Taepodong-2', 14939: 'Intercontinental ballistic missile', 40203: 'Hubble Space Telescope', 177098: 'Space Telescope Science Institute', 1805151: 'Southwest Research Institute', 84256: 'Lernaean Hydra', 79560: 'Charon', 98694: 'Pluto (mythology)', 14878: 'International Astronomical Union', 38420: 'Johns Hopkins University', 81185: 'Lowell Observatory', 82139: 'Nyx', 5345605: 'Pangandaran', 771458: 'Susilo Bambang Yudhoyono', 58911: 'Measles', 69336: 'Java', 7591: 'Cholera', 31161: 'Tsunami', 14579: 'Indonesia', 45831: 'Tetanus', 17771: 'Lebanon', 6315224: 'Siniora Plan', 2195263: 'Fouad Siniora', 13919: 'Hezbollah', 40295: 'Hawker Siddeley Nimrod', 25679: 'Royal Air Force', 93985: 'Royal Marines', 414755: 'Des Browne', 302332: 'Secretary of State for Defence', 38049: 'FIM-92 Stinger', 18933266: 'Boeing', 167925: 'Turkish Airlines', 7276105: 'Turkish Airlines Flight 1476', 31075: 'Tirana', 4014915: 'Minister for National Defence (Greece)', 738: 'Albania', 11642: 'General Dynamics F-16 Fighting Falcon', 149697: 'Boeing 737', 3391396: 'Istanbul', 392267: 'Brindisi', 5593: 'Cyprus', 1771587: 'Pregnancy', 712576: 'Passive smoking', 84147: 'Canton of Ticino', 26748: 'Switzerland', 147575: 'Ireland', 23033: 'Portugal', 164662: 'Dominique de Villepin', 770162: 'Shashi Tharoor', 3223434: 'Under-Secretary-General of the United Nations', 162415: 'Secretary-General of the United Nations', 2289648: 'Windows Vista', 18890: 'Microsoft Windows', 22194: 'Operating system', 24077: 'PDF', 954842: 'Neelie Kroes', 52234: 'Chief executive officer', 29656: 'Steve Ballmer', 682: 'Adobe', 3108416: 'Michael Wilson (Canadian politician)', 30876428: 'Harold Ford Jr.', 1700797: 'Embassy of Canada, Washington, D.C.', 3524766: 'YouTube', 5238791: 'Bob Corker', 21780: 'NBC', 1698378: 'David Wilkins', 1301261: 'Ken Mehlman', 532771: 'The Canadian Press', 3205521: 'Government of China', 27023: 'Politics of South Korea', 1982051: 'Six-party talks', 21259: 'Politics of North Korea', 1785442: 'Christopher R. Hill', 7442496: 'United Nations Security Council Resolution 1718', 1340058: 'Jan Egeland', 1467521: 'Pascal Yoadimnadji', 10634933: 'African Union', 5488: 'Chad', 2739816: 'Lam Akol', 5478: 'Central African Republic', 52593: 'Addis Ababa', 19186951: 'Abdullah of Saudi Arabia', 51554: 'Riyadh', 440244: 'Jalal Talabani', 349303: 'Saudi Arabia', 32759: 'Vice President of the United States', 5058628: 'Dick Cheney', 123498: 'Senate of Canada', 863943: 'Stanley Waters', 470556: 'Premier of Alberta', 4591594: 'Ed Stelmach', 692732: 'Stéphane Dion', 149536: 'Liberal Party of Canada', 717: 'Alberta', 24135: 'Prime Minister of Canada', 7411: 'Constitution of Canada', 3392: 'British Columbia', 63403: 'Brian Mulroney', 241547: 'Stephen Harper', 95405: 'Edmonton', 465701: 'United States Senate Committee on Foreign Relations', 363276: 'Chuck Hagel', 211383: 'Richard Lugar', 145422: 'Joe Biden', 62815: 'Ministry of Energy', 1732139: 'United States House Committee on Oversight and Government Reform', 62273: 'Ministry of Defence', 511100: 'Council on Environmental Quality', 408971: 'Henry Waxman', 495732: 'Union of Concerned Scientists', 417728: 'Tom Davis (Virginia politician)', 58666: 'United States Environmental Protection Agency', 70243: 'United States Department of Commerce', 354620: 'Interior ministry', 70896: 'United States Department of Agriculture', 17633: 'Libya', 15247542: 'Atheism', 51884: 'Hosni Mubarak', 13831: 'Human rights', 8087628: 'Egypt', 30188: 'Tunisia', 108956: 'Washington, D.C.', 6037917: 'Islam', 25458: 'Rome', 3343: 'Belgium', 5058739: 'Sweden', 13275: 'Hungary', 22936: 'Poland', 349084: 'Konstantinos Stephanopoulos', 516011: 'President of Greece', 11967801: 'Athens Concert Hall', 1510449: 'Christodoulos of Athens', 10105892: 'Ecumenical Hellenism (program)', 212682: 'Ecumenical Patriarchate of Constantinople', 1857695: 'George Dalaras', 1272686: 'Karolos Papoulias', 3831790: 'Athanasios Angelopoulos', 77745: '2008 Summer Olympics', 29265: 'Serbia', 20760: 'Montenegro', 321645: 'Al Arabiya', 11319864: 'Nahr al-Bared', 3538683: 'Grand Serail', 2217966: 'Elias Murr', 4628068: 'Aley', 8632: 'Druze', 17779: 'Lebanese Armed Forces', 11320004: 'Fatah al-Islam', 268796: 'Tripoli, Lebanon', 37428: 'Beirut', 30653: 'Tuberculosis', 13991: 'Honeymoon', 11320943: 'Extensively drug-resistant tuberculosis', 6811: 'Centers for Disease Control and Prevention', 623714: 'The Atlanta Journal-Constitution', 25237: 'Quarantine', 96775: 'Fulton County, Georgia', 48830: 'Georgia (U.S. state)', 2012535: 'Grady Memorial Hospital', 3138: 'Atlanta', 34399: 'Zimbabwe', 3457: 'Belarus', 31853: 'Uzbekistan', 202354: 'Vietnam', 32817: 'Vladimir Putin', 8778: 'Daniel Ortega', 797277: 'Bad title', 53029: 'Muammar Gaddafi', 1904053: 'Marxism', 26194259: 'Orthodoxy', 25814008: 'Protestantism', 99721: 'Wallonia', 606848: 'Catholic Church', 3267529: 'Buddhism', 10878: 'Flanders', 3708: 'Brussels', 632399: 'Korean Central News Agency', 205662: 'Counterfeit', 507777: 'Yongbyon Nuclear Scientific Research Center', 106424: 'North Korea and weapons of mass destruction', 96495: 'Ian Paisley', 24150: 'Prime Minister of the United Kingdom', 13964: 'Parliament of the United Kingdom', 24093: 'Palestinian National Authority', 19323: 'Middle East', 971501: 'Home Nations', 232595: 'Mahmoud Abbas', 17103499: 'Executive Office (Northern Ireland)', 13913: 'Hamas', 21265: 'Northern Ireland', 2025055: 'Quartet on the Middle East', 22621: 'Oceania', 1721496: 'Free and open-source software', 26769: 'South America', 396354: 'Liberal Democratic Party of Russia', 2526875: 'Isotopes of polonium', 239648: 'Extradition', 21748: 'Nationalism', 392566: 'Vladimir Zhirinovsky', 8009370: 'Alexander Litvinenko', 98066: 'Member of parliament', 8204332: 'Andrey Lugovoy', 160089: 'Mississauga', 26984299: 'Toronto Humane Society', 66919: 'CBC', 21383: 'Nigeria', 64646: 'Toronto', 141010: 'Toronto Star', 5205615: 'Puppy', 22218: 'Ontario', 361299: 'Yorkshire Terrier', 18618509: 'Wikimedia Foundation', 3703446: 'Jimmy Wales', 105036: 'Karlsruhe', 9437868: 'Honor killing', 19660380: 'Wikimania', 3080: 'Alexandria', 528146: 'Constitution of Russia', 15413509: 'Bad title', 30890: 'Time zone', 3335: 'Baltic Sea', 396334: 'United Russia', 17278: 'Kremlin (fortification)', 12810: 'Garry Kasparov', 12599794: '2007 United Nations Climate Change Conference', 1644: 'Algiers', 557007: 'Nicolas Sarkozy', 385658: 'Abdelaziz Bouteflika', 723793: 'Abdelaziz Belkhadem', 18835454: 'Suicide attack', 31964: 'United Nations High Commissioner for Refugees', 82256: 'United Nations Development Programme', 5058690: 'September 11 attacks', 10593437: '11 April 2007 Algiers bombings', 358: 'Algeria', 146296: '9-1-1', 57835: 'Baton Rouge, Louisiana', 21031297: 'Doctor of Philosophy', 1181974: 'Home invasion', 277905: 'Louisiana State University', 2530301: 'Lockdown', 7967241: 'Thaicom', 5334607: 'Africa', 34484: 'Zionism', 30128: 'Thailand', 313915: 'Herzliya', 63578: 'List of designated terrorist groups', 3607937: 'Malaysia', 144615: 'Psychological warfare', 1277119: 'Al-Manar', 211583: 'Dubai', 5672107: 'Palestine Red Crescent Society', 16043: 'Jerusalem', 11104: 'Fatah', 467099: 'Sderot', 13404: 'Hong Kong', 27956: 'South Carolina', 168715: 'Ron Paul', 18859: 'Michigan', 30395: 'Tennessee', 21134: 'New Hampshire', 43715: 'John McCain', 553222: 'Fred Thompson', 301237: 'Mike Huckabee', 426208: 'Mitt Romney', 25938: 'Rudy Giuliani', 21216: 'Nevada', 380965: 'Kevin Rudd', 1726480: 'Henry Paulson', 2628867: 'John B. T. Campbell III', 2922973: \"California's 48th congressional district\", 19477868: 'Social Security', 1703155: 'Alien (law)', 194858: 'Uri Geller', 10411321: 'Secrets of the Psychics', 49728: 'San Francisco', 8831328: 'Rational Response Squad', 16278: 'James Randi', 5043192: 'Hillary Clinton', 14849: 'Illinois', 18858: 'Maryland', 534366: 'Barack Obama', 21883824: 'Arizona', 1930: 'Arkansas', 26840: 'Saskatchewan', 843354: 'Public holidays in Canada', 1944: 'Australian Capital Territory', 22219: 'Ottawa', 18664: 'Louis Riel', 314084: 'Dalton McGuinty', 1332291: 'Family Day', 398963: 'Rideau Centre', 18926: 'Manitoba', 17391: 'Kosovo', 555678: 'Capitol Hill', 11127: 'Federal Bureau of Investigation', 224672: 'Dianne Feinstein', 31389: 'Times Square', 5043324: 'Iraq War', 12690010: 'Gary Peters', 202835: 'Jack Kevorkian', 162615: 'Assisted suicide', 1919819: \"O'Connell Center\", 8335442: 'The Oakland Press', 370782: 'Right to die', 118786: 'Pontiac, Michigan', 668172: 'Michigan Senate', 960715: 'Joe Knollenberg', 95053: 'Oakland County, Michigan', 6358428: \"Michigan's 9th congressional district\", 17775: 'Politics of Lebanon', 30680: 'The New York Times', 13076: 'Gordon Brown', 334751: 'Cambodia', 28222445: 'Estonia', 26830: 'Slovakia', 17810: 'Liechtenstein', 5321: 'Czech Republic', 25445: 'Romania', 17675: 'Lithuania', 22309: 'Oslo', 8504: 'Dublin', 79745: 'Cluster munition', 46530: 'Human Rights Watch', 19137: 'Malta', 17515: 'Luxembourg', 178283: 'Mars Express', 233899: 'Mars Global Surveyor', 57180: 'Tucson, Arizona', 453566: 'Phoenix (spacecraft)', 32015: 'University of Arizona', 9904: 'England national football team', 4097: 'Bordeaux', 214478: 'Michel Platini', 580173: 'Denmark national football team', 2182477: 'UEFA Euro 2012', 1011001: 'Serbia national football team', 1446059: 'Ireland national football team', 32332: 'UEFA', 232175: 'UEFA Europa League', 679770: 'Bulgaria national football team', 32908: 'Warsaw', 150296: 'McDonnell Douglas DC-10', 408120: 'Air France Flight 4590', 14998012: 'Air France', 7397035: 'Manslaughter', 105927: 'Charles de Gaulle Airport', 47658: 'Aérospatiale', 7045: 'Concorde', 3970: 'British Airways', 97218: 'John F. Kennedy International Airport', 113558: 'Continental Airlines', 16844971: 'Louis L. Stanton', 183050: 'Viacom', 15323: 'Internet Protocol', 18856: 'MTV', 20648089: 'Digital Millennium Copyright Act', 4923012: 'Online video platform', 154549: 'Nickelodeon', 31516: 'Tibet', 652454: 'Art Eggleton', 100730: 'Winnipeg', 86700: 'Terry Fox', 342555: 'McMaster University', 29113700: 'Autism spectrum', 67537: 'Paralympic Games', 37135: 'Barbecue', 32388: 'Victoria, British Columbia', 75763: 'Provinces and territories of Canada', 73797: 'Federal Emergency Management Agency', 5558290: 'Sargent, Texas', 115614: 'Grand Isle, Louisiana', 545253: 'Rick Perry', 53840: 'Galveston, Texas', 248473: 'William P. Hobby Airport', 149577: 'George Bush Intercontinental Airport', 1133032: 'Bobby Jindal', 37941: 'Sikorsky UH-60 Black Hawk', 365009: 'National Guard', 2530547: '2008 Atlantic hurricane season', 255317: 'National Hurricane Center', 53846: 'Miami', 1005513: 'Zugdidi', 25709: 'Russian Armed Forces', 3915315: 'Senaki', 18933375: 'Abkhazia', 48768: 'Georgia (country)', 19278686: 'Armoured personnel carrier', 219975: 'Poti', 376738: 'Mikheil Saakashvili', 1281036: 'Black Sea Fleet', 293054: 'Blockade', 318381: 'South Ossetia', 513878: 'Tskhinvali', 7875884: 'Ministry of Defence (Russia)', 3162905: 'Dmitry Medvedev', 18762503: 'Russo-Georgian War', 51587: 'Sevastopol', 4432213: 'Ministry of Foreign Affairs (Russia)', 10049: 'Eric Clapton', 21111: 'Nicolas Cage', 508396: 'Jake Gyllenhaal', 112641: 'Evansville, Indiana', 5399: 'Colorado', 17173785: 'Heath Ledger', 1623960: 'Brokeback Mountain', 371327: 'Bolo tie', 1964339: 'Western wear', 4637590: 'Bob Dylan', 21883857: 'Indiana', 9537660: 'Jack Weil', 8522: 'Denver', 25433: 'Ronald Reagan', 541346: 'Sergey Lavrov', 378892: 'President of Georgia', 24899: 'President of France', 3920015: 'Kaspi', 31259: 'Tigris', 175541: 'Ferris wheel', 4492: 'Baghdad', 30372: 'London Eye', 59653: 'Foreign and Commonwealth Office', 49031: 'River Thames', 21651: 'North Dakota', 16394101: 'Samsung C&amp;T Corporation', 69328: 'United Arab Emirates', 358748: 'KVLY-TV mast', 794957: 'Burj Khalifa', 1312295: 'Emaar Properties', 6886: 'Chicago', 9525863: 'Turner Construction', 53633: 'Skidmore, Owings &amp; Merrill', 14057751: 'BESIX', 85468: 'Calais', 10093: 'Eurostar', 355334: 'Getlink', 19344515: 'The Guardian', 4085573: 'Smoke inhalation', 5702: 'Channel Tunnel', 723927: 'Timothy Kirkhope', 270673: 'Pound sterling', 24085: 'Phenol', 184391: 'Eurozone', 9472: 'Euro', 15251: 'International Monetary Fund', 1669496: 'Dominique Strauss-Kahn', 14795712: 'Viktor Pynzenyk', 1246843: 'Yulia Tymoshenko', 9474: 'European Central Bank', 3218946: 'Tzipi Livni', 3209047: 'Kadima', 48569: 'Shimon Peres', 368881: 'Bad title', 291868: 'Shas', 15459873: 'Nahum Barnea', 495490: 'Bad title', 15091620: 'Otniel Schneller', 279725: 'United Torah Judaism', 74656: 'Knesset', 220253: 'American Institute in Taiwan', 16903: 'Kuomintang', 7322174: 'Maxime Verhagen', 155608: 'Ma Ying-jeou', 2785084: 'Wu Shu-chen', 8845: 'Democratic Progressive Party', 55077: 'Chen Shui-bian', 11452592: 'Quebec general election, 2008', 370751: 'Premier of Quebec', 140559: 'National Assembly', 195159: 'Quebec Liberal Party', 190453: 'Maurice Duplessis', 7954867: 'Quebec', 153982: 'Union Nationale', 211253: 'Jean Charest', 123462: 'Progressive Conservative Party of Canada', 520178: \"Queen's Privy Council for Canada\", 11832708: 'Riyad al-Maliki', 74681: 'Palestinian refugees', 32270: 'UNRWA', 27358: 'Somalia', 188171: 'Kenya', 23688: 'Perjury', 2179429: 'Lothian and Borders Police', 26994: 'Scotland', 230436: 'News of the World', 6823725: 'Solidarity (Scotland)', 358155: 'Tommy Sheridan', 220543: 'Bad title', 6503119: 'Celebrity Big Brother', 6321: 'Channel 4', 68736: 'Glasgow', 6060786: 'Sheridan v News Group Newspapers Ltd', 61188: 'Scottish Parliament', 224318: 'University of Strathclyde', 367801: 'Arlen Specter', 23332: 'Pennsylvania', 375195: 'Susan Collins', 375219: 'Olympia Snowe', 19977: 'Maine', 109328: 'Fort Myers, Florida', 47361: 'Dow Jones Industrial Average', 350567: 'Mitch McConnell', 21158533: 'American Recovery and Reinvestment Act of 2009', 4110735: 'NASA Orbital Debris Program Office', 3099164: 'Kessler syndrome', 177571: 'Johnson Space Center', 21498812: 'Kosmos 2251', 22320627: '2009 satellite collision', 7279897: 'United States Department of Defense', 17822263: 'Strela (satellite)', 1346822: 'United States Strategic Command', 21499105: 'Iridium 33', 29639: 'Siberia', 21490998: 'Burundi', 11037140: 'Ojo Maduekwe', 4584822: 'Hudur', 185137: 'Bakool', 7003026: 'African Union Mission to Somalia', 60154: 'Mogadishu', 8726463: 'Al-Shabaab (militant group)', 3517978: '2009 World Championships in Athletics', 1944525: '4 × 100 metres relay', 4764846: 'Usain Bolt', 3354: 'Berlin', 1231316: '100 metres', 20206: 'Manchester', 1833981: '200 metres', 4027577: 'Tartan track', 48563: 'Air traffic control', 5906: 'Carbon dioxide', 3451: 'The Bahamas', 18964: 'Madagascar', 23440: 'Philippines', 27288: 'Seychelles', 457235: 'Helmand Province', 7930: 'Delaware', 202077: 'United States military casualties of war', 265112: 'Improvised explosive device', 11955: 'George H. W. Bush', 819930: 'Dover Air Force Base', 182000: 'Gulf War', 845943: 'Robert Gates', 1806: 'Arnold Schwarzenegger', 570661: 'Universal health care', 1443002: 'Environmental technology', 17450998: 'California Proposition 8 (2008)', 12299351: 'California gubernatorial election, 2010', 92656: 'Same-sex marriage', 9988187: 'Twitter', 418947: 'Gavin Newsom', 22735209: 'United Kingdom parliamentary expenses scandal', 742435: 'Michael Martin, Baron Martin of Springburn', 332849: 'Speaker of the House of Commons (United Kingdom)', 1816129: 'Castle Point (UK Parliament constituency)', 1632509: 'Nick Robinson (journalist)', 935775: 'John Trevor (speaker)', 1801219: 'Glasgow North East (UK Parliament constituency)', 59655: 'Secretary of State for Foreign and Commonwealth Affairs', 19339264: 'David Miliband', 664: 'Astronaut', 328618: 'Canadian Space Agency', 635366: 'Gennady Padalka', 15741139: 'Expedition 20', 520957: 'Frank De Winne', 402554: 'Robert Thirsk', 13622460: \"Gagarin's Start\", 18896: 'Human spaceflight', 13009849: 'Soyuz TMA-15', 656316: 'Roman Romanenko', 8688666: 'Soyuz-FG', 716184: 'JAXA', 168868: 'Philippe of Belgium', 258963: 'Fernando de Noronha', 27278: 'Senegal', 35922: 'American Airlines Flight 587', 20740978: 'The Pentagon', 164939: 'Airbus A330', 89260: 'Boeing 777', 698: 'Atlantic Ocean', 25936: 'Rio de Janeiro', 1173018: 'Wikinews', 255919: 'Buenos Aires', 23042123: 'Air France Flight 447', 21840: 'National Transportation Safety Board', 275895: 'Flight recorder', 275894: 'Flight recorder', 844215: 'Mir-Hossein Mousavi', 159999: 'University of Tehran', 11026259: 'Iranian presidential election, 2009', 36814344: 'Supreme Leader of Iran', 764810: 'Waco siege', 136365: 'Waco, Texas', 316176: 'The Heritage Foundation', 22246660: 'American Clean Energy and Security Act', 440819: 'Ed Markey', 250451: 'Dennis Kucinich', 167378: 'Venus Williams', 164910: 'Serena Williams', 94392: 'Wimbledon, London', 23265245: \"2009 Wimbledon Championships – Women's Doubles\", 95360: 'London Borough of Merton', 2441596: 'Samantha Stosur', 29773: 'Tennis', 2482750: 'Rennae Stubbs', 33583: 'World Health Organization', 59755: 'Group of Eight', 16275: 'Jakarta', 21875: 'Nuremberg trials', 1859: 'Arizona State University', 54533: 'Lyndon B. Johnson', 142417: 'Apollo 13 (film)', 78217: 'The Mary Tyler Moore Show', 1263491: 'Countdown with Keith Olbermann', 662: 'Apollo 11', 32611: 'Vietnam War', 37653: 'CBS', 286369: 'Assassination of John F. Kennedy', 493657: 'Murphy Brown', 8638018: 'Walter Cronkite School of Journalism and Mass Communication', 52382: 'Watergate scandal', 42317: 'United Press International', 167289: 'Walter Cronkite', 1226279: '1952 Republican National Convention', 97666: 'Michael Collins (astronaut)', 2277072: 'Honeysuckle Creek Tracking Station', 21247: 'Neil Armstrong', 26779: 'Soviet Union', 65777: 'Buzz Aldrin', 5119376: 'John F. Kennedy', 51983: 'Canberra', 25473: 'Richard Nixon', 1007667: 'Hispanic and Latino Americans', 182688: 'David Souter', 5239634: 'Bad title', 2095829: 'Sonia Sotomayor', 188359: 'John Paul Stevens', 22529089: 'Ricci v. DeStefano', 168850: 'Stephen Breyer', 363279: 'Lindsey Graham', 185232: 'Ruth Bader Ginsburg', 166411: 'Hainan', 74209: 'South China Sea', 18211475: 'National Disaster Risk Reduction and Management Council', 88585: 'Fujian', 247273: 'Korean Peninsula', 23914917: 'Typhoon Morakot', 691314: 'Chief of the General Staff (United Kingdom)', 5991035: 'David Richards, Baron Richards of Herstmonceux', 4887: 'British Army', 6197738: 'Richard Dannatt', 203793: 'Ministry of Defence (United Kingdom)', 32927: 'World War II', 2728830: 'Constable of the Tower', 827917: 'Mehdi Karroubi', 13843133: '2008 Singapore Grand Prix', 240390: 'Fernando Alonso', 240378: 'Renault in Formula One', 614426: 'Flavio Briatore', 248019: \"Fédération Internationale de l'Automobile\", 1623304: 'Nelson Piquet Jr.', 204645: 'Nelson Piquet', 22187110: '2009 Hungarian Grand Prix', 220007: 'Social Security Administration', 750795: 'United States Senate Committee on Finance', 74456: 'Joe Lieberman', 296933: 'Max Baucus', 157861: 'Filibuster', 2172378: 'Independent politician', 19978: 'Montana', 1053718: 'Congressional Budget Office', 31045316: 'Nazism', 2897286: 'Frank-Walter Steinmeier', 65651: 'Holocaust denial', 19191710: 'Gabriela Shalev', 16854: 'Kuala Lumpur', 1723781: 'Guinness Brewery', 85232: 'Lagos', 24324924: \"Arthur's Day\", 56647: 'Cotonou', 19345094: 'Guinness', 1762813: 'Arthur Guinness', 287161: 'Brian Cowen', 3460: 'Bermuda', 4278615: 'Guantánamo Bay', 24999169: 'Stupak–Pitts Amendment', 20101418: 'Joseph Cao', 21021: 'Mecca', 19291: 'Morocco', 50585: 'Philadelphia', 21650: 'North Carolina', 137566: 'Clifton, Virginia', 18315: 'Long Island', 21184: 'Nova Scotia', 21531764: 'New England', 4548: 'Blizzard', 402179: \"Nor'easter\", 363546: 'Dupont Circle', 37988: 'National Guard of the United States', 51425: 'Somaliland', 19088: 'Malawi', 681214: 'Bingu wa Mutharika', 187749: 'Ethiopia', 393613: 'Abdoulaye Wade', 25804468: '2010 Haiti earthquake', 49005: 'Atlantic slave trade', 945157: 'Bloomberg Businessweek', 3035793: 'Black box (disambiguation)', 25937315: 'Ethiopian Airlines Flight 409', 394924: 'Ethiopian Airlines', 1132252: \"Texas's 2nd congressional district\", 80197: 'Soviet–Afghan War', 20518076: 'United States Navy', 18305760: 'Mujahideen', 60575: 'Cardiac arrest', 59766: 'United States Naval Academy', 3615041: \"Charlie Wilson's War (film)\", 613453: 'Covert operation', 603004: 'Biographical Directory of the United States Congress', 639967: 'Sam Houston State University', 363914: 'Charlie Wilson (Texas politician)', 8868782: 'Operation Cyclone', 136713: 'Trinity, Texas', 7720887: \"Virginia's 5th congressional district\", 25226624: 'Patient Protection and Affordable Care Act', 414552: 'Steny Hoyer', 2123287: \"New York's 28th congressional district\", 14045687: 'Tom Perriello', 963718: 'Louise Slaughter', 1129854: 'Khalifa bin Zayed Al Nahyan', 393639: 'Zayed bin Sultan Al Nahyan', 18950756: 'Abu Dhabi', 25098939: 'Ahmed bin Zayed Al Nahyan', 57400: 'Rabat', 1459021: 'Abu Dhabi Investment Authority', 19590: 'Minnesota', 15531054: 'Robert Gibbs', 151210: 'Hu Jintao', 728093: 'Nick Clegg', 419342: 'David Cameron', 3516193: 'Stade Roland Garros', 197638: 'Grand Slam (tennis)', 4530612: 'Jürgen Melzer', 1550535: 'Robin Söderling', 52230: 'Osaka', 23243705: 'Jelena Janković', 147724: 'French Open', 2442300: 'Francesca Schiavone', 20682666: 'Elena Dementieva', 2287328: 'Triceps surae muscle', 2562512: 'List of WTA number 1 ranked tennis players', 1439517: 'Rafael Nadal', 262376: 'Roger Federer', 1896352: 'Tomáš Berdych', 397335: 'Democratic Party (Hong Kong)', 18053779: 'Jeffrey Lam', 18141148: 'Li Fung-ying', 1110253: 'MTR Corporation', 3293088: 'James To', 338847: 'Goddess of Democracy', 268806: 'Kowloon-Canton Railway Corporation', 18121186: 'Wong Kwok-hing', 4055269: 'Tiananmen Square Incident', 9433726: 'Joel Anderson', 27003186: 'Riverside County, California', 3805683: 'Barry Jantz', 107942: 'Riverside, California', 476068: 'California State Assembly', 18020610: \"California's 36th State Senate district\", 505825: 'Term limit', 70352: 'List of Governors of New York', 45596: 'Thomas E. Dewey', 2026987: 'Dewey Defeats Truman', 40562: 'United States presidential election, 1948', 3418303: 'Harry S. Truman', 60961: 'Chicago Tribune', 476070: 'California State Senate', 3602582: 'Correction (newspaper)', 27003223: 'San Diego County, California', 423732: 'Tim Howard', 2443969: 'Royal Bafokeng Stadium', 168079: '2010 FIFA World Cup', 1433225: 'Robert Green', 547384: 'Steven Gerrard', 1518440: 'Rustenburg', 1007499: 'Clint Dempsey', 10919134: 'Jozy Altidore', 145072: 'Failed state', 76762: 'Democratic Republic of the Congo', 633574: 'Foreign Policy', 7953706: 'Fund for Peace', 497008: 'Arish', 231343: 'Laurium', 1196902: 'Saif al-Islam Gaddafi', 1128090: 'Animal worship', 507433: 'Iker Casillas', 58893: 'Johannesburg', 11370: 'FIFA World Cup', 33166: 'West Germany', 2305246: 'Vicente del Bosque', 756400: 'John Heitinga', 633242: 'Overtime (sports)', 756433: 'Arjen Robben', 4999719: 'Maarten Stekelenburg', 2437065: 'Andrés Iniesta', 27973567: 'Paul the Octopus', 33478664: 'FNB Stadium', 18987: 'Mexico City', 23712287: 'Same-sex union legislation', 751152: 'Argentine Senate', 1644780: 'Cristina Fernández de Kirchner', 31843: 'Uruguay', 5931002: 'Daniel Filmus', 229473: 'President of Argentina', 18524: 'Latin America', 751124: 'Argentine Chamber of Deputies', 17720475: 'Juan Pérez Alsina', 1687680: 'Pope Francis', 11186: 'Federal Aviation Administration', 129158: 'Delaware, Ohio', 6731: 'Boeing C-17 Globemaster III', 11848168: 'Air Methods', 2691322: 'Eurocopter AS350 Écureuil', 28096497: 'Shirley Sherrod', 22754875: 'Tea Party movement', 42646: 'United States Secretary of Agriculture', 99628: 'Tom Vilsack', 25624937: 'NAACP', 163236: 'Caucasian', 1720942: 'Andrew Breitbart', 410375: 'Charles Rangel', 18110: 'Los Angeles', 7686730: 'Sidney Williams', 409013: 'Maxine Waters', 20609574: 'South Los Angeles', 3962270: 'Douglas H. Wheelock', 25433809: 'Tracy Caldwell Dyson', 833596: 'STS-121', 1365: 'Ammonia', 496028: 'Eastern Time Zone', 81326: 'Mir', 16173089: 'In re Marriage Cases', 23541913: 'Hollingsworth v. Perry', 31666: 'Fourteenth Amendment to the United States Constitution', 21389944: 'Vaughn Walker', 950939: 'Equal Protection Clause', 629693: 'Due Process Clause', 325378: 'United States Court of Appeals for the Ninth Circuit', 265102: 'Lambda Legal', 191890: 'American Idol', 46252: 'Fox Broadcasting Company', 27455867: 'American Idol (season 10)', 18307757: 'Ellen DeGeneres', 420438: 'Steven Tyler', 3879486: 'Nigel Lythgoe', 298169: 'Pop Idol', 276890: 'Simon Cowell', 18707196: 'So You Think You Can Dance (U.S. TV series)', 16175: 'Jennifer Lopez', 3879527: 'Ken Warwick', 262515: 'Simon Fuller', 11778948: 'Atomic bombings of Hiroshima and Nagasaki', 32090: 'United States Air Force', 199511: 'Paul Tibbets', 87610: 'USS Missouri (BB-63)', 11660: 'Fat Man', 21790: 'Nagasaki', 23508196: 'United States Army Air Forces', 18597: 'Little Boy', 11121: 'Fox News', 23922892: 'John Roos', 59062: 'Hiroshima', 53179: 'Boeing B-29 Superfortress', 9597: 'Enola Gay', 265516: 'Tokyo Bay', 7515964: 'Jordan', 31644182: 'Amina Bokhary controversy', 1444207: 'Ronny Tong', 309734: 'Hong Kong dollar', 27686015: 'Kevin Zervos', 424365: 'Martin Lee', 5867634: 'Hong Kong Institute of Vocational Education', 5582119: 'Anthony Yuen', 348478: 'The Standard (Hong Kong)', 827691: 'Kemal Bokhary', 210214: 'Patricia Neal', 55490: 'Roald Dahl', 116736: 'Edgartown, Massachusetts', 2019404: 'A Face in the Crowd (film)', 135256: 'Knoxville, Tennessee', 73422: 'The Day the Earth Stood Still', 161880: 'Hud (1963 film)', 5274232: 'The Fountainhead (film)', 17980087: 'The Subject Was Roses (film)', 151921: 'Emmy Award', 324: 'Academy Awards', 87678: 'The Waltons', 651310: 'Commanding officer', 5337860: 'Rajouri district', 3627099: 'Superintendent (police)', 51299: 'Jammu and Kashmir', 7801633: 'Poonch', 5807337: 'Rajouri', 3618329: 'Rashtriya Rifles', 12591058: 'Nagrota', 5805426: 'Pampore', 4945992: 'Sopore', 5811822: 'Tral', 27383493: 'Muzaffarabad chalo', 23946485: 'Sheikh Abdul Aziz', 294148: 'Srinagar', 3401851: 'Pulwama', 1179677: 'All Parties Hurriyat Conference', 19189: 'Mumbai', 20629: 'Maharashtra', 15240: 'Imam', 154944: 'Eid al-Fitr', 37756: 'Delhi', 231623: 'Uttar Pradesh', 19785206: 'Jama Mosque, Fatehpur Sikri', 26173: 'Ramadan', 29918: 'Tamil Nadu', 713708: 'Geo TV', 993655: 'Asif Ali Zardari', 24260: 'Pervez Musharraf', 18950494: 'ARY Digital', 17123: 'Karachi', 13882056: 'Birmingham', 28972: 'Sindh', 16459: 'Jet Propulsion Laboratory', 58950: 'Galaxy cluster', 1418: 'Absolute zero', 4822030: 'Abell 1689', 8651: 'Dark matter', 48824: 'Gravitational lens', 31880: 'Universe', 312073: 'Warragul', 1822053: 'Moe, Victoria', 1567583: 'Leongatha', 1819702: 'Drouin, Victoria', 63838: 'Traralgon', 312055: 'Gippsland', 5113971: 'AFL Victoria Country', 2403: 'Australian rules football', 1819526: 'Wonthaggi', 80260: 'Sale, Victoria', 11548674: 'Gippsland Football League', 185432: 'Morwell, Victoria', 18453: 'Liberal Party of Australia', 853463: 'Sky News Australia', 314742: 'Malcolm Turnbull', 1357453: 'Division of Melbourne', 761469: 'Australian Electoral Commission', 18297452: 'Adam Bandt', 583547: 'Brendan Nelson', 302298: 'Parliament of Australia', 5491236: 'Rob Oakeshott', 556739: 'Tony Abbott', 61565: 'Australian House of Representatives', 171629: 'Australian Greens', 165705: 'Australian Senate', 21638: 'Northern Territory', 1495: 'Australian Labor Party', 3079: 'Australian Broadcasting Corporation', 6468: 'Country Liberal Party', 18603594: 'Liberal National Party', 59051: 'Queensland', 21927: 'National Party of Australia', 519437: 'Julia Gillard', 35999637: 'Hurricane Andrew', 25027868: '2010 Atlantic hurricane season', 18962637: 'Cape Verde', 77832: 'The Weather Channel', 782786: 'Yugoslavia national football team', 381658: 'FK Partizan', 55906: 'Zagreb', 42196: '1948 Summer Olympics', 34244: 'Yugoslavia', 84318: '1952 Summer Olympics', 10568: 'Association football', 3065148: 'Stjepan Bobek', 55904: 'Belgrade', 9133519: 'Yerba Buena Center for the Arts', 856: 'Apple Inc.', 62027: 'American Broadcasting Company', 186266: 'iTunes', 23501895: 'iPhone 4', 89847: 'iPod', 6963544: 'Apple TV', 517879: 'Liver transplantation', 25970423: 'iPad', 13111239: 'iPod Touch', 7412236: 'Steve Jobs', 53916: 'Herbicide', 39626: 'Symbiosis', 197027: 'University of East Anglia', 22056113: 'Acromyrmex octospinosus', 369232: 'Leafcutter ant', 219865: 'Actinobacteria', 3565457: 'Trinidad and Tobago', 732444: 'Nystatin', 636280: 'Medical Research Council (United Kingdom)', 12154601: 'Kunsthal', 712691: 'Seattle Public Library', 1571871: 'Nederlands Dans Theater', 25670013: 'Kazuo Shinohara', 963385: 'Venetian Arsenal', 32616: 'Venice', 53422: 'Pritzker Architecture Prize', 6788051: 'Giardini della Biennale (Venice)', 959551: 'Office for Metropolitan Architecture', 2975188: 'Venice Biennale of Architecture', 4941375: 'CCTV Headquarters', 3774480: 'Kazuyo Sejima', 25945: 'Rem Koolhaas', 18933277: 'Bahrain', 1211022: 'BBC Radio Wales', 629880: 'Aberfan disaster', 8022746: 'John Walter Jones (Wales)', 177417: 'S4C', 22228064: \"Parkinson's disease\", 33545: 'Welsh language', 1210960: 'BBC Radio Cymru', 10779935: 'Menna Richards', 899892: 'BBC Cymru Wales', 28649647: 'Owen Edwards (broadcaster)', 21350772: 'Greenhouse gas', 1201545: 'Compact fluorescent lamp', 31399: 'The Washington Times', 47139: 'Incandescent light bulb', 18617142: 'Mercury (element)', 14148559: 'Phase-out of incandescent light bulbs', 2565766: \"Barry O'Farrell\", 21654: 'New South Wales', 556812: 'Clover Moore', 5124518: 'Kristina Keneally', 235648: 'Conscience vote', 66936: 'LGBT', 33613: 'Western Australia', 796228: 'City of Sydney', 579432: 'New South Wales Legislative Council', 579433: 'New South Wales Legislative Assembly', 12850: 'Governor of New South Wales', 377411: 'Bill (law)', 18978754: 'Apple', 38300245: 'Samsung Galaxy Tab series', 3742: 'Bluetooth', 63973: 'Wi-Fi', 4182449: 'Tablet computer', 282450: '3G', 3011783: 'Internationale Funkausstellung Berlin', 12610483: 'Android (operating system)', 177181: 'Daily Mail', 5750817: 'Dubai Silicon Oasis', 154742: 'Dubai International Airport', 6187: 'Cologne', 9704675: 'UPS Airlines', 391517: 'Boeing 747-400', 1076562: 'Cologne Bonn Airport', 28689072: 'UPS Airlines Flight 6', 2154: 'African Americans', 298129: 'Little Rock Central High School', 20329639: 'Little Rock Nine', 3110444: 'Melba Pattillo Beals', 32087: 'United States Army', 1934190: 'Minnijean Brown-Trickey', 363559: 'Pancreatic cancer', 1934166: 'Jefferson Thomas', 1934177: 'Carlotta Walls LaNier', 685085: 'Miguel Cabrera', 5945: 'Chicago White Sox', 329195: 'Comerica Park', 1257398: 'A. J. Pierzynski', 20050: 'Minnesota Twins', 2117977: 'Mark Kotsay', 540550: 'Ozzie Guillén', 8687: 'Detroit', 10428675: 'Don Kelly (baseball)', 28246812: 'Chris Sale', 8579: 'Detroit Tigers', 20419476: 'Ted Kaufman', 871796: 'Precinct', 19486468: \"Christine O'Donnell\", 62028: 'CNN', 2941511: 'Sarah Palin', 408016: 'Mike Castle', 6675: 'Conservatism', 20380328: 'United States Senate special election in Delaware, 2010', 376560: 'Strict constructionism', 2782602: 'Chris Coons', 198295: 'Bill Kristol', 26751: 'Sun', 26903: 'Solar System', 44475: 'Uranus', 19048: 'Mass', 575613: 'Moons of Jupiter', 19159: 'Mile', 9228: 'Earth', 22915: 'Planet', 22371574: 'Kenny McKinley', 2836606: 'Darrent Williams', 6801612: 'Adam Schefter', 492476: 'Wide receiver', 8122: 'Denver Broncos', 3986714: 'Pat Bowlen', 79371: 'Southeastern Conference', 17144160: '2009 NFL Draft', 2248741: 'Damien Nash', 77795: 'ESPN', 173070: 'The Wall Street Journal', 20319: 'Motorola', 342663: 'BlackBerry Limited', 250363: 'Gartner', 71996: 'BlackBerry', 102490: 'Dell', 1460619: 'United Nations Office on Drugs and Crime', 200152: 'Mombasa', 29796487: 'Segway Inc.', 28968930: 'Jimi Heselden', 212182: 'Order of the British Empire', 3490358: 'West Yorkshire Police', 151591: 'River Wharfe', 7726257: 'Hesco bastion', 29083: 'Segway PT', 149139: 'West Yorkshire', 507970: 'People (magazine)', 1605299: 'The Invisible Man (1933 film)', 142784: 'Warner Baxter', 105776: 'Hollywood Walk of Fame', 15622: 'James Cameron', 205811: 'Dick Powell', 528417: 'Gloria Stuart', 52371: 'Titanic (1997 film)', 804602: 'Shirley Temple', 61170: 'Here Comes the Navy', 53849: 'Hollywood', 791: 'Asteroid', 28189: 'Space Shuttle', 454300: 'Constellation program', 66527: 66527, 33190128: 'Orion (spacecraft)', 29372620: 'Travel warning', 31975: 'United States Department of State', 8970: 'Diplomatic mission', 170691: 'Peru', 216283: 'Nazca Lines', 44940: 'World Heritage site', 1240850: 'Cessna 206', 1914622: 'Emergency landing', 14134910: 'The Telegraph', 6539: 'Cessna', 1600272: 'Ryan Newman (racing driver)', 21710449: '2010 NASCAR Sprint Cup Series', 1932227: 'A. J. Allmendinger', 1467805: 'Kyle Busch', 1551928: 'Carl Edwards', 425483: 'Matt Kenseth', 6941088: 'NASCAR playoffs', 1314336: 'Kevin Harvick', 820374: 'Kasey Kahne', 28060814: '2010 Price Chopper 400', 2019005: 'Bad title', 1637067: 'Greg Biffle', 2500915: 'Stewart-Haas Racing', 18600829: 'Jeff Gordon', 426193: 'Tony Stewart', 16716: 'Kansas', 2148196: 'Denny Hamlin', 166791: 'Pole Position', 2036596: 'Paul Menard', 1102404: 'Jimmie Johnson', 2087552: 'Roush Fenway Racing', 1184888: 'Kansas Speedway', 115009: 'Kansas City, Kansas', 750582: 'Viktor Orbán', 277266: 'Iron oxide', 9288398: 'Embankment dam', 244391: 'Flash flood', 57877: 'Sodium hydroxide', 469762: 'Tailings', 1754441: 'Ajka', 11172518: 'Kolontár', 24090621: 'Red mud', 3292675: 'Reservoir', 37403: 'Eastern Europe', 3226: 'Azores', 475386: 'Colorado State University', 29084491: 'Hurricane Otto (2010)', 7195284: 'Tropical cyclogenesis', 239002: 'BMW in Formula One', 34104: 'Williams Grand Prix Engineering', 564161: 'Mark Webber', 6437759: 'Sebastian Vettel', 11225: 'Ferrari', 20396: 'Michael Schumacher', 748984: 'Suzuka Circuit', 10854: 'Formula One', 11553977: 'Sébastien Buemi', 24511010: '2010 Singapore Grand Prix', 1173193: 'Red Bull Racing', 24511013: '2010 Japanese Grand Prix', 675561: 'Lewis Hamilton', 25098794: 'Mercedes-Benz in Formula One', 548212: 'Jenson Button', 647274: 'Nick Heidfeld', 9537340: 'Kamui Kobayashi', 1628331: 'Nico Rosberg', 2911567: 'Scuderia Toro Rosso', 20994: 'McLaren', 1841727: 'Robert Kubica', 252989: 'Rubens Barrichello', 29329: 'Spectrum', 561499: 'University of São Paulo', 23473595: 'Light-year', 2589714: 'Milky Way', 13747746: 'Carbon monosulfide', 12558: 'Galaxy', 13255: 'Hydrogen', 207620: 'Spiral galaxy', 11981769: 'List of Lieutenant Governors of Nevada', 13118744: 'Scientology', 46507: 'Party leaders of the United States Senate', 14912: 'Incest', 765: 'Abortion', 5741325: 'Nevada Gaming Commission', 7884372: 'Sue Wagner', 6131428: 'Sharron Angle', 7980471: 'Rape', 33180: 'W', 525736: 'Kurt Busch', 2898428: 'Racing flags', 25010773: 'Bad title', 3551452: 'David Ragan', 127741: 'Concord, North Carolina', 2190939: 'David Reutimann', 1708050: 'Jamie McMurray', 12979568: 'Joey Logano', 28196813: '2010 Bank of America 500', 674219: 'Charlotte Motor Speedway', 2410190: 'Joe Gibbs Racing', 69375: 'Luzon', 162480: 'Baguio', 29214829: 'Typhoon Megi (2010)', 274643: 'Kalinga (province)', 252546: 'Cagayan Valley', 274637: 'Apayao', 271064: 'Cagayan', 564002: 'Mentawai Islands Regency', 173900: 'Epicenter', 453711: 'Bengkulu', 1201458: 'Padang', 7041878: 'Indonesian National Board for Disaster Management', 27318: 'Singapore', 631494: 'Moment magnitude scale', 21175: 'Nitrogen', 11616263: 'ExPRESS Logistics Carrier', 28238: 'Space Shuttle Discovery', 38458: 'Space Shuttle program', 25059577: 'Leonardo (ISS module)', 13256: 'Helium', 5829815: 'STS-133', 12594: 'Gross domestic product', 211518: 'Warren Buffett', 4271725: 'Coal India', 491715: 'Bombay Stock Exchange', 186177: 'Diwali', 1325249: 'Institutional investor', 100191: 'Lakshmi', 47905: 'Kolkata', 1107101: 'BSE SENSEX', 1321361: 'Emerging markets', 1675364: 'Vikram Samvat', 15229789: 'Rakesh Jhunjhunwala', 439958: 'Securities and Exchange Board of India', 69708: 'Celtic F.C.', 226426: 'Scottish Premier League', 6945818: 'Gary Hooper', 14365085: 'Josh Magennis', 6187073: 'Paddy McCourt', 3310667: 'Joe Ledley', 3218107: 'Anthony Stokes', 237019: 'Aberdeen F.C.', 506182: 'Celtic Park', 375197: 'William Cohen', 16772: 'Korean War', 9442704: 'Jo Myong-rok', 3356: 'Bill Clinton', 714370: 'State funeral', 21263: \"Korean People's Army\", 31653: 'First Amendment to the United States Constitution', 21829093: 'Virginia A. Phillips', 31644: 'United States Constitution', 561722: 'Log Cabin Republicans', 8690: \"Don't ask, don't tell\", 26961: 'Shia Islam', 24440361: 'Kurdistan List', 440288: 'Ayad Allawi', 1006308: 'Barham Salih', 5537031: 'Osama al-Nujaifi', 1445450: 'Council of Representatives of Iraq', 21428611: 'State of Law Coalition', 17068: 'Kurds', 24893070: 'Iraqi National Movement', 163641: 'Sixth form', 4439177: 'Violent disorder', 7529378: 'Facebook', 2136794: 'Brockenhurst College', 10254514: 'GCE Advanced Level', 579839: 'New Forest', 54060: 'City of Westminster', 677314: 'Fyodor Yurchikhin', 18616498: 'Soyuz TMA-01M', 6919099: 'Shannon Walker', 19843593: 'Oleg Skripochka', 22796: 'Organization for Security and Co-operation in Europe', 614906: 'Scott Kelly (astronaut)', 56602: 'Astana', 19470288: 'Soyuz TMA-19', 466151: 'Aleksandr Kaleri', 8877168: 'WikiLeaks', 6654039: 'List of diplomatic missions of the United States', 29311607: 'Iraq War documents leak', 286611: 'James Franklin Jeffrey', 28630315: 'Philip J. Crowley', 2701987: 'Scottish Labour Party', 232324: 'UNISON', 269604: 'First Minister of Scotland', 5116930: 'NHS Scotland', 19391: 'Midwifery', 1477240: 'Jackie Baillie', 18403271: 'Nursing', 5947232: 'NHS Greater Glasgow and Clyde', 21234593: 'Alex Salmond', 97089: 'Washington', 39776: 'Denial-of-service attack', 26033941: 'Julian Assange', 127071: 'Le Monde', 20082093: 'Presidency of Barack Obama', 210137: 'Der Spiegel', 444409: 'El País', 15215: 'Internet Explorer', 43941: 'Windows Media Player', 879962: 'AdWords', 25026795: 'AdMob', 26678: 'Star Wars', 26709: 'Sean Connery', 15604: 'James Bond', 67420: 'On Deadly Ground', 490101: 'Never Say Never Again', 1330220: 'RoboCop 2', 67404: 'Steven Seagal', 74296: 'The Last Temptation of Christ', 53964: 'The Empire Strikes Back', 18995: 'Martin Scorsese', 999415: 'Irvin Kershner', 11857: 'George Lucas', 16284525: 'Jeh Johnson', 31921: 'University of California', 6060471: 'Carter Ham', 423731: 'Slate (magazine)', 16504: 'Jerry Falwell', 11150957: 'God Is Not Great', 395799: 'New Statesman', 347105: 'Mother Teresa', 28722: 'Salman Rushdie', 24207: 'Portsmouth', 286542: 'Vanity Fair (magazine)', 149743: 'The Atlantic', 5902984: 'Bad title', 19831: 'Margaret Thatcher', 497972: 'Peter Hitchens', 228998: 'Christopher Hitchens', 87240: 'Martin Amis', 2844938: 'Mark Zuckerberg', 80949: 'Hamid Karzai', 33821: 'Whistleblower', 206805: 'Time Person of the Year', 47737: 'Las Vegas', 2089777: 'Hendrick Motorsports', 21114: 'NASCAR', 754118: 'Tissot', 15214157: 'Driver of the Year', 1064814: 'John Force', 227456: 'National Hot Rod Association', 63283: 'Captain Beefheart', 25892: 'Roxy Music', 30320: 'Sex Pistols', 10672: 'Frank Zappa', 769051: 'Trout Mask Replica', 13644: 'Hawkwind', 50603: 'Multiple sclerosis', 1995527: 'Safe as Milk', 100768: 'Jethro Tull', 25441: 'Rolling Stone', 14226208: 'Galerie Michael Werner', 8953578: 'Conor Sammon', 1004429: 'Liam Miller', 10410186: 'Craig Thomson (referee)', 355055: 'Kilmarnock', 176747: 'Hibernian F.C.', 1082001: 'Rugby Park', 2377422: 'Mixu Paatelainen', 26092208: 'Liam Kelly (footballer, born 1990)', 3095179: 'BBC Sport', 1933568: 'Derek Riordan', 405663: 'Kilmarnock F.C.', 4534352: 'Colin Calderwood', 13595: 'Heathrow Airport', 18729001: 'Eastbourne', 394528: 'Flackwell Heath', 101359: 'Gatwick Airport', 67923: 'East Sussex', 55688: 'Buckinghamshire', 19904: 'Meteorology', 3198752: 'Kara Tointon', 3183879: 'Len Goodman', 1241259: 'Craig Revel Horwood', 165427: 'Viennese Waltz', 27650244: 'Strictly Come Dancing (series 8)', 24396597: 'Aliona Vilani', 29133042: 'Artem Chigvintsev', 4125040: 'Bruno Tonioli', 2052385: 'Cry Me a River (Arthur Hamilton song)', 1014319: 'Matt Baker (presenter)', 975325: 'Strictly Come Dancing', 352308: 'BBC Television', 3321888: 'Alesha Dixon', 237989: 'Pamela Stephenson', 8247865: 'James Jordan (dancer)', 23359962: 'Yeonpyeongdo', 4658186: 'K9 Thunder', 495724: 'McDonnell Douglas F-15E Strike Eagle', 37876: 'National Oceanic and Atmospheric Administration', 377384: 'Bonin Islands', 480905: 'Write-in candidate', 169131: 'Primary election', 70235: 'United States district court', 1709543: 'Alaska Supreme Court', 367105: 'Lisa Murkowski', 27592108: 'Joe Miller (Alaska politician)', 599391: 'Jim DeMint', 26810748: 'Iowa', 249623: 'Same-sex marriage in the United States', 6466: 'Connecticut', 92946: 'Defense of Marriage Act', 427097: 'Good Morning America', 178778: 'Islamic fundamentalism', 287628: 'Chhatrapati Shivaji Terminus railway station', 20459650: 'Ajmal Kasab', 649718: 'Lashkar-e-Taiba', 6237: 'Christmas', 1983963: 'The Taj Mahal Palace Hotel', 1493492: 'September 11th Victim Compensation Fund', 326708: 'Chuck Schumer', 110474: 'Kailua, Hawaii County, Hawaii', 964291: 'Carolyn Maloney', 19292260: 'James Zadroga', 960364: 'Peter T. King', 1173624: 'Alassane Ouattara', 21371767: 'Abidjan', 57744: 'Ivory Coast', 103191: 'Voice of America', 147237: 'Laurent Gbagbo', 21830215: 'John Roll', 87956: 'Pima County, Arizona', 885126: 'Safeway Inc.', 98221: 'United States Marshals Service', 29697232: 'NPR', 4144917: 'Banner University Medical Center Tucson', 5600374: 'Gabrielle Giffords', 4371665: \"Arizona's 8th congressional district\", 834368: 'United States federal judge', 46083: \"Halley's Comet\", 1968: 'Apollo 14', 361897: 'Astrophysics', 1580280: 'Lunar water', 1967: 'Apollo 12', 241865: 'Wesleyan University', 1971: 'Apollo 17', 7227: 'Comet Hale–Bopp', 141738: 'Comet Hyakutake', 140627: 'Apatite', 8524: 'Deuterium', 1461: 'Apollo program', 5962: 'Comet', 3576746: 'Space.com', 18621887: 'Ted Kaczynski', 22467: 'Oklahoma City bombing', 31535: 'Timothy McVeigh', 20171: 'Murder', 1214710: 'Craniotomy', 30409229: 'Judy Clarke', 7954455: 'New York University', 171951: 'Martin Luther King Jr. Day', 14958: 'Immune system', 1723135: 'Bad title', 30875167: 'Share price', 481812: 'Bobby Shriver', 39075: 'Spiro Agnew', 481821: 'Anthony Shriver', 116391: 'Westminster, Maryland', 481818: 'Mark Shriver', 62896: 'George McGovern', 43014: 'Eunice Kennedy Shriver', 291836: 'Thomas Eagleton', 234508: 'Sargent Shriver', 326913: 'Maria Shriver', 184136: 'Ted Kennedy', 18914017: \"Alzheimer's disease\", 481817: 'Timothy Shriver', 566699: 'BBC News Online', 277880: 'China–United States relations', 359551: 'CBS News', 47512: 'Climate change', 4014986: 'American Society of Anesthesiologists', 11718897: 'Dignitas (Swiss non-profit organisation)', 4074887: 'Hospira', 659325: 'Anesthetic', 22489: 'Oklahoma', 26811621: 'Oregon', 29218: 'Sodium thiopental', 426702: 'San Quentin State Prison', 2386448: 'Cintra', 2234932: 'Westfield Stratford City', 1279933: 'Macquarie Atlas Roads', 3233066: 'Tomkins plc', 298606: 'Ontario Highway 407', 324298: 'Canada Pension Plan', 101846: 'Canadian dollar', 381734: 'Lachine Canal', 25557815: 'Bad News Brown (musician)', 88923: 'Snoop Dogg', 192481: '50 Cent', 523032: 'Kanye West', 7954681: 'Montreal', 12394773: 'Satyavrat Chaturvedi', 1219374: 'S. M. Krishna', 450153: 'Venkaiah Naidu', 240011: 'Coherence (physics)', 27114: 'Silicon', 15022: 'Infrared', 9476: 'Electron', 43935: 'Micrometer', 28687269: 'Coherent perfect absorber', 34273: 'Yale University', 2878626: 'Optical computing', 591513: 'Optical cavity', 18145: 'List of laser applications', 37153: 'Supercomputer', 8117260: 'List of universities in Kuwait', 7515890: 'Kuwait', 12601: 'Governor-General of Australia', 698446: 'Quentin Bryce', 31232: 'Tripoli', 23488014: 'General Posts and Telecommunications Company', 204114: 'Benghazi', 906427: 'Ahmed Aboul Gheit', 5549726: 'Benina International Airport', 11964212: 'Tripoli Airport', 22316: 'Oman', 11388236: 'Seattle', 1546743: 'KYW-TV', 16800307: 'Leonard Lomell', 482915: 'Distinguished Service Cross (United States)', 8182: 'Dwight D. Eisenhower', 252854: 'Normandy landings', 65984: 'Stephen E. Ambrose', 29226889: 'Toms River, New Jersey', 3044555: '2nd Ranger Battalion (United States)', 701322: 'Pointe du Hoc', 210892: 'Firefox', 1876262: 'Usage share of web browsers', 7966125: 'HTML5', 1569310: 'Bad title', 19133401: 'Google Chrome', 166842: 'Safari (web browser)', 33879: 'Windows XP', 16247198: 'Internet Explorer 9', 893389: 'PC World', 1956387: 'Internet Explorer 6', 2999332: 'Suicide watch', 24420992: 'David Coombs (lawyer)', 25348: 'Quantico, Virginia', 27630477: 'Chelsea Manning', 980360: 'Boxer shorts', 403717: 'Space Shuttle Challenger disaster', 1347601: 'Robonaut', 65828: 'Smithsonian Institution', 177541: 'Space Shuttle Columbia disaster', 20061497: 'Expedition 26', 221550: 'National Air and Space Museum', 16421: 'Kennedy Space Center', 497585: 'STS-41-D', 6926749: 'Stephen Bowen (astronaut)', 523815: 'STS-60', 6926764: 'Alvin Drew', 20517541: 'STS-135', 18089765: 'STS-134', 629851: 'Carlos Slim', 3747: 'Bill Gates', 1255210: 'Bad title', 294894: 'Forbes', 33331732: \"The World's Billionaires\", 314333: 'Berkshire Hathaway', 428105: 'Billionaire', 32481238: 'Deficit', 146738: 'Interest', 43338: 'United States Secretary of the Treasury', 378430: 'Unemployment benefits', 1813287: 'Tax revenue', 695460: 'Government debt', 21214078: 'Timothy Geithner', 55793: 'Medicare', 438978: 'Payroll tax', 53667: 'United States Department of the Treasury', 11416621: 'Corporate tax in the United States', 2083590: 'Entitlement', 35038133: 'Pathogen', 26726375: 'Planetary management', 32178: 'United Nations Environment Programme', 1855357: 'Ecosystem services', 106084: 'Pollinator', 19017269: 'World population', 20610449: 'Colony collapse disorder', 18214141: 'Western honey bee', 233609: 'Pollination', 416551: 'No-fly zone', 161041: 'William Hague', 6293: 'Cairo', 201993: 'Amr Moussa', 52625: 'Arab League', 286524: 'Ashdod', 17791: 'Liberia', 72598: 'Justice ministry', 28840: 'Sharia', 125315: 'Lahore', 586034: 'Blood money', 880626: 'Tokyo Electric Power Company', 11986472: 'Fukushima Daiichi Nuclear Power Plant', 18879: 'Massachusetts Institute of Technology', 7963444: 'Steven Chu', 1750486: 'Three Mile Island Nuclear Generating Station', 2782814: 'Regulatory agency', 19482490: 'Yukiya Amano', 165201: 'Nuclear Regulatory Commission', 12180920: 'Nuclear and Industrial Safety Agency', 2190157: 'Arthur Ochs Sulzberger Jr.', 196086: 'Marketing research', 33645: 'Blog', 7748231: 'comScore', 16927210: 'Paywall', 31142430: '2011 military intervention in Libya', 25391059: 'Mark Lyall Grant', 434931: 'Alain Juppé', 772848: 'Salinas Valley', 75245: 'California State Route 1', 240894: 'Big Sur', 107769: 'Carmel-by-the-Sea, California', 2802354: 'Highway 101', 318272: 'Arch bridge', 3048920: 'Rocky Creek Bridge (California)', 1204821: 'Santa Lucia Range', 2460278: 'Bixby Creek Bridge', 432561: 'California Highway Patrol', 290328: '.org', 222859: '.com', 15236: 'ICANN', 35782806: 'ICM Registry', 31115: 'Top-level domain', 1133419: 'Opposition to pornography', 5710507: 'Pornography', 574533: '.xxx', 21469584: 'Internet pornography', 618379: '.net', 7324: 'Crucifix', 1763882: 'la Repubblica', 37407: 'Strasbourg', 924746: 'Franco Frattini', 354236: 'Secularity', 12334: 'God Save the Queen', 344401: 'Religious symbol', 19159508: 'Culture', 5865: 'Council of Europe', 2677374: 'Joseph H. H. Weiler', 194846: 'Deutsche Telekom', 666256: 'Competition law', 468631: 'Verizon Wireless', 8841749: 'iPhone', 17555269: 'AT&amp;T', 547886: 'Sprint', 12808: 'GSM', 151799: 'T-Mobile', 486547: '4G', 7601: 'Coptic Orthodox Church of Alexandria', 401530: 'National Democratic Party', 11824529: 'Lists of political parties', 261586: 'Constitutional amendment', 51582: 'Referendum', 12795: 'General election', 30625300: 'Egyptian revolution of 2011', 7959: 'Democracy', 8449731: 'Mortgage loan', 29664: 'Supply and demand', 13872725: 'Short sale (real estate)', 595535: 'Foreclosure', 30679561: \"Moody's Analytics\", 2003795: 'Dow Jones &amp; Company', 18401044: 'Lawrence Yun', 440267: 'National Association of Realtors', 38289: 'Depression (economics)', 856907: 'RAF Lakenheath', 31232347: 'Operation Odyssey Dawn', 1658437: 'Aviano Air Base', 23797577: 'The Daily Telegraph', 9347800: 'United States Africa Command', 3772: 'BMW', 956354: 'BMW X5', 7169024: 'Highlanders F.C.', 236211: 'Huddersfield Town A.F.C.', 355237: 'Bulawayo', 56680: 'Harare', 185196: 'Birmingham City F.C.', 192485: 'Victoria Falls', 34815546: 'Adam Ndlovu', 11250: 'Premier League', 435021: 'Coventry City F.C.', 314933: 'Sheffield United F.C.', 2114785: 'Peter Ndlovu', 50510: 'Kilometre', 7507768: 'Zimbabwe Premier Soccer League', 91613: 'Dallas County, Texas', 286989: 'National Weather Service', 264307: 'Bad title', 91435: 'Tarrant County, Texas', 53839: 'Fort Worth, Texas', 136539: 'Rockwall, Texas', 136600: 'Tyler, Texas', 136739: 'Edgewood, Texas', 136052: 'Chandler, Texas', 182283: 'Miles per hour', 1710687: 'Reconstructive surgery', 33983258: 'Malala Yousafzai', 2973757: 'Queen Elizabeth Hospital Birmingham', 3814205: 'University Hospitals Birmingham NHS Foundation Trust', 4643861: 'Mingora', 1236283: 'Swat District', 20897682: 'Alex Morgan', 157470: 'Mia Hamm', 386195: 'FIFA World Player of the Year', 34453: 'Bad title', 2176142: '2012 Summer Olympics', 6151800: 'Marta', 2150841: 'Lionel Messi', 37981: 'La Liga', 591241: 'Abby Wambach', 27959863: \"FIFA Ballon d'Or\", 68187: 'FC Barcelona', 11049: 'FIFA', 216262: 'JSTOR', 5298018: 'PACER (law)', 2850681: 'Aaron Swartz', 34138: 'XML', 34332: 'Y combinator', 3829005: 'Reddit', 2328423: 'The Tech (newspaper)', 38298022: 'Lindsay Sandiford', 353065: 'Redcar', 368445: 'Teesside', 4147: 'Bali', 1965174: 'Bad title', 303449: 'Thai Airways', 5902: 'Capital punishment', 542692: 'Denpasar', 56615: 'Bangkok', 450517: 'Hugo Swire', 23316: 'Pound (mass)', 3599250: 'Minor Planet Center', 578869: 'Minor Planet Center', 3953598: 'Mount Lemmon Survey', 38399384: 'Yuri Ivashchenko', 538083: 'Astronomical naming conventions', 38382923: '274301 Wikipedia', 5043734: 'Wikipedia', 462871: 'Steward Observatory', 33703058: 'Andrushivka Astronomical Observatory', 1687875: 'Peter Turkson', 39660: 'Pope Benedict XVI', 1054956: 'Paddy Power', 6221: 'Cardinal (Catholic Church)', 1906171: 'Ladbrokes Coral', 1680859: 'Marc Ouellet', 741293: 'Francis Arinze', 21213464: 'Sky Betting &amp; Gaming', 12067: 'Ghana', 7260350: 'West Midlands Ambulance Service', 844985: 'Stechford', 66392: 'Cardiopulmonary resuscitation', 5775215: 'Solihull', 30865742: 'Hit and run', 3384340: 'Causing death by dangerous driving', 656729: 'Yardley, Birmingham', 1205653: 'West Midlands Police', 3456894: 'Adrar des Ifoghas', 378649: 'List of heads of state of Chad', 21945468: 'Najat Vallaud-Belkacem', 30875850: 'al-Qaeda in the Islamic Maghreb', 82595: 'Sahel', 334090: 'Idriss Déby', 38260457: 'Abdelhamid Abou Zeid', 1463123: 'Azawad', 33841029: 'Politics of France', 28191: 'Snow', 1146332: 'Guernsey Airport', 5643: 'Channel Islands', 27283404: 'Friedrichsfelde', 366295: 'Tunisair', 60122: 'Montmartre', 25433284: 'Alexander De Croo', 25897: 'Road', 248285: 'Frankfurt Airport', 250493: 'Orly Airport', 30269: 'The Hague', 1365578: 'Johann Lamont', 28887: 'Scottish National Party', 33782: 'Westminster system', 99443: 'Lowestoft', 485606: \"Addenbrooke's Hospital\", 27886: 'Suffolk', 98933: 'Great Yarmouth', 2156731: 'Carlton Colville', 556197: 'Audi TT', 1264334: 'James Paget Hospital', 299790: 'Structural engineer', 36995: 'Cambridge', 30899433: 'Soyuz TMA-09M', 37502570: 'Progress M-17M', 28675516: 'Expedition 35', 28676734: 'Soyuz TMA-07M', 7425219: 'Alexander Misurkin', 6926332: 'Christopher Cassidy', 78114: 'Chris Hadfield', 873580: 'Pavel Vinogradov', 30899391: 'Soyuz TMA-08M', 6926306: 'Thomas Marshburn', 178206: 'Progress (spacecraft)', 38849102: 'The Wikileaks Party', 21401843: 'Freedom of speech', 13564884: 'Greg Barns', 17306237: 'Melbourne', 23551054: 'Victoria', 13168753: 'Philip Wollen', 362585: 'Australian Republic Movement', 9334: 'Ecuador', 220050: 'Philanthropy', 6041935: 'Navi Pillay', 8195726: 'International law', 22463: 'Office of the United Nations High Commissioner for Human Rights', 487886: 'Military tribunals in the United States', 18951367: 'Glossary of American football', 2967156: 'Mike Leach (American football coach)', 9209921: 'Marc Trestman', 33432941: 'Marquess Wilson', 21211: 'National Football League', 6611: 'Chicago Bears', 2103: 'Atlanta Falcons', 2719351: 'Reception (gridiron football)', 228600: 'Washington State University', 710502: 'National Football League Draft', 8784037: 'Uterus transplantation', 361527: 'Antalya', 153187: 'Intracytoplasmic sperm injection', 46924: 'Caesarean section', 529578: 'Transplant rejection', 249958: 'Immunosuppressive drug', 12218: 'University of Gothenburg', 8771994: 'Akdeniz University', 57880: 'In vitro fertilisation', 3165769: 'Harvey Norman', 70547: 'Breast cancer', 146018: 'Rugby', 255709: 'National Rugby League', 18088423: 'McGrath Foundation', 497961: 'Bad title', 81215: 'Australian dollar', 1094619: 'Christine Milne', 607386: 'Wayne Swan', 192093: 'Brisbane', 19283335: 'Great Depression', 11152621: 'Social security in Australia', 11038318: 'Methamphetamine', 29944: 'Tasmania', 26716: 'South Australia', 511394: 'Opioid', 38310: 'Cannabis', 1128156: 'Australian Customs and Border Protection Service', 10024: 'MDMA', 2504: 'Amphetamine', 1128169: 'Australian Criminal Intelligence Commission', 1579765: 'Mediaset', 9034420: 'The People of Freedom', 26909: 'Silvio Berlusconi', 3588041: 'Supreme Court of Cassation (Italy)', 32307: 'United Airlines', 301842: 'Sacramento International Airport', 77549: 'Delta Air Lines', 1624080: 'Sheryl Sandberg', 30636: 'Terrorism', 780894: 'Virgin America', 8065518: 'San Francisco General Hospital', 250462: 'San Francisco International Airport', 38332307: 'Deborah Hersman', 331239: 'Asiana Airlines', 112311: 'Corydon, Indiana', 3410: 'Bird', 4395920: 'Troglofauna', 4400: 'Bear', 29370: 'Snake', 53662: 'Peccary', 17367147: 'Underground lake', 23310: 'Pleistocene', 2469081: 'Show cave', 4583: 'Bison', 5776: 'Caving', 380569: 'John F. Kennedy Center for the Performing Arts', 18242182: 'Districts of Colombia', 28291766: 'Clarence Thomas', 25427: 'Rush Limbaugh', 277795: 'Michael Sheen', 639180: 'TV-am', 399078: 'David Frost', 226939: 'London Weekend Television', 12130331: 'Frost/Nixon (film)', 29812: 'The Beatles', 1998741: 'The Frost Report', 87715: 'That Was the Week That Was', 20979: 'Mikhail Gorbachev', 512231: 'Etihad Airways', 19454397: 'Arabian Business', 211795: 'Cyprus Airways (1947-2015)', 2038155: 'Jazeera Airways', 377403: 'Gulf Air', 142715: 'Emirates (airline)', 259082: 'The Sydney Morning Herald', 30655949: 'Arab Spring', 37608699: 'National Coalition for Syrian Revolutionary and Opposition Forces', 23400422: 'Ali Habib Mahmud', 1267657: 'United States House Committee on Foreign Affairs', 25412366: 'Kamal al-Labwani', 14521782: 'Scott Morrison', 360865: 'Deputy prime minister', 1111093: 'Barnaby Joyce', 11095844: 'Mathias Cormann', 24109: 'Prime minister', 1077847: 'Division of Cook', 566185: 'Joe Hockey', 625969: 'Warren Truss', 354563: 'Finance minister', 17354791: 'St George and Sutherland Shire Leader', 559143: 'Julie Bishop', 180234: 'Kilowatt hour', 146078: 'University of New South Wales', 27862: 'Sydney', 16619: 'Kilogram', 344413: 'World Solar Challenge', 23809352: 'Carbon fiber reinforced polymer', 57992: 'Monocoque', 1214418: 'Kensington, New South Wales', 4539604: 'UNSW Sunswift', 27687: 'St. Louis', 1560281: 'Eugene Burger', 49121: 'Phoenix, Arizona', 124259: 'Buxton', 53838: 'Dallas', 3725657: 'International Brotherhood of Magicians', 106876: 'Eureka Springs, Arkansas', 37741912: 'Michael Skinner (magician)', 30761: 'The Hunt for Red October', 159599: 'Ben Affleck', 182532: 'Alec Baldwin', 30265: 'Tom Clancy', 44059: 'Harrison Ford', 26997138: 'Baltimore', 102227: 'New York Post', 210744: 'United States Fleet Forces Command', 22404289: 'William E. Gortney', 6748002: 'James F. Amos', 6964988: 'Marine Corps Times', 506021: 'Hunter Region', 537530: 'John McVie', 2218531: 'Sydney Entertainment Centre', 59033: 'Geelong', 1148: 'Adelaide', 24355: 'Perth', 11787: 'Fleetwood Mac', 337755: 'Unmanned combat aerial vehicle', 16730671: 'Nisar Ali Khan', 2159600: 'Kunar Province', 22990934: 'Hakimullah Mehsud', 18953699: 'Tehrik-i-Taliban Pakistan', 13908615: 'Fazlullah (militant leader)', 7977772: 'Dilma Rousseff', 21492751: 'Nelson Mandela', 26122: 'Robben Island', 2200527: 'Apartheid', 80608: 'Hussein of Jordan', 33265: 'Winston Churchill', 236428: 'Dag Hammarskjöld', 49522: 'Anwar Sadat', 21571988: 'National Pearl Harbor Remembrance Day', 43983: 'Yitzhak Rabin', 23805: 'Pope John Paul II', 292692: 'Pickens County', 200128: 'BAE Systems', 1130529: 'Panorama (TV series)', 387272: 'Diageo', 103084: 'Comic Relief', 30857467: 'Investment fund', 179914: 'Charity Commission for England and Wales', 42278: 'Sepp Blatter', 7334424: 'Casey Stoney', 3718787: 'Alcides Ghiggia', 656933: '2014 FIFA World Cup', 504790: 'New York Daily News', 2003020: \"England women's national football team\", 446696: 'The Sunday Telegraph', 10777144: 'Jacqui Oatley', 12147921: 'Fernanda Lima', 390875: 'São Paulo', 31453: 'Tel Aviv', 597862: 'Israeli disengagement from Gaza', 51525: 'Haganah', 38584582: 'Mandatory Palestine', 1218890: 'Sheba Medical Center', 234340: 'The Globe and Mail', 44132: 'Ramallah', 80820: 'Bad title', 69715: 'Mount of Olives', 67671: 'International Paralympic Committee', 88314: 'Sochi', 2311504: '2014 Winter Paralympics', 38201760: 'Bad title', 18720361: 'Olympic truce', 270882: 'Minister of Foreign Affairs (Canada)', 82785: '1980 Summer Olympics', 17676079: 'List of ambassadors of Canada to Russia', 26541645: 'Canadian Paralympic Committee', 1373038: 'Embassy of Russia in Ottawa', 664861: 'John Baird (Canadian politician)', 5630920: 'Russian Railways', 66524: 'Yekaterinburg', 665276: 'Simferopol', 1386800: 'Ukrainian Independent Information Agency', 3149341: 'Ukrainian Railways', 10918072: 'Armenia', 332553: '1994 Winter Paralympics', 258790: '2010 Winter Paralympics', 12106331: 'Shayba Arena', 3620550: 'Sledge hockey', 19279158: 'Labour Party (UK)', 465985: 'National Union of Rail, Maritime and Transport Workers', 8645285: 'Jimmy Knapp', 216355: 'Sky News', 244656: 'Bob Crow', 17839: 'London Underground', 1290018: 'Ed Miliband', 19065069: 'Boris Johnson', 4148957: 'Weapons-grade nuclear material', 23844: 'Prague', 12144929: 'Japan Atomic Energy Agency', 44026: 'United States National Security Council', 30899955: 'Expedition 39', 33239451: 'Soyuz TMA-12M', 30899477: 'Soyuz TMA-10M', 30899648: 'Soyuz TMA-11M', 35885143: 'Oleg Artemyev', 23738245: 'Aleksandr Skvortsov (cosmonaut)', 3901315: 'Steven Swanson', 53539: 'Soyuz programme', 33239349: 'Expedition 40', 677048: 'Mikhail Tyurin', 622281: 'Richard Mastracchio', 479120: 'Koichi Wakata', 1915864: 'Virginia Holocaust Museum', 96484: 'Matthew Shepard', 376898: 'Westboro Baptist Church', 833159: 'Head teacher', 9167338: 'Fairfax Media', 549311: 'The Laramie Project', 5488304: 'Homosexuality', 26833917: 'Margaret River Senior High School', 404323: 'Ashraf Ghani', 32567513: 'Zalmai Rassoul', 22758838: 'Abdullah Abdullah', 30809753: 'Anja Niedringhaus', 33309: 'Bad title', 423060: 'ITV2', 169967: 'Bob Geldof', 3509773: 'Kent Police', 1331794: 'Wrotham', 21538438: 'Elle (magazine)', 21463690: 'Peaches Geldof', 25423: 'Rock music', 16766: 'Kent', 170828: 'Paula Yates', 15613: 'Jazz', 9602: 'Edinburgh', 1228887: 'Edinburgh College of Art', 173096: 'Outsider art', 194625: 'Coleman Hawkins', 127657: 'Mark Rothko', 33734529: 'Visual arts', 18622193: 'Painting', 238341: 'David Hockney', 1178458: 'Flickr', 18449452: 'Tate Britain', 353265: 'Falkirk', 16307: 'Jackson Pollock', 407174: 'Grangemouth', 13696613: 'Royal Canadian Air Farce', 432291: 'Herb Gray', 574705: 'James Moore (Canadian politician)', 308647: 'Conservative Party of Canada', 451733: 'Justin Trudeau', 251849: 'Bob Rae', 87446: 'Parliament of Canada', 256559: 'Sheila Copps', 33596: 'Windsor, Ontario', 1773766: 'Double Exposure (comedy series)', 34197: 'X-ray', 227960: 'XMM-Newton', 72296: 'Peking University', 27667: 'Space', 1190936: 'Neil Gehrels Swift Observatory', 215706: 'Supermassive black hole', 209297: 'The Astrophysical Journal', 614753: 'Max Planck Society', 8262427: 'Leeds', 866475: 'Columbine High School massacre', 61153: 'Leicestershire', 338982: 'Loughborough University', 349306: 'Loughborough', 16142564: 'Corpus Christi Catholic College', 23619322: 'Chloe Smith', 69300: 'Jeremy Paxman', 295761: 'Newsnight', 16072438: 'Derek Lewis (prison governor)', 161038: 'Michael Howard', 180499: 'University Challenge', 235879: 'Comedy Central', 861172: 'Big Brother (UK TV series)', 4915709: 'Richard Desmond', 4642: 'BT Group', 28952356: 'Channel 5 (UK)', 6373594: 'Daily Star', 362859: 'Daily Express', 16329587: 'Northern &amp; Shell', 644736: 'RTL Television', 692213: 'Discovery, Inc.', 58089: 'ITV (TV network)', 3921: 'Basketball', 25405: 'Rugby union', 673823: 'Brumbies', 426946: 'University of Canberra', 4475624: 'Canberra Gunners', 2902816: 'Basketball Australia', 2525308: \"Women's National Basketball League\", 34344579: 'Carrie Graf', 4121869: 'University of Canberra Capitals', 31716: 'Utah', 2772368: 'John E. Jones III', 6925195: 'Tom Corbett', 14607: 'Idaho', 35630673: 'Kathleen Kane', 1950: 'American Civil Liberties Union'}\n"
     ]
    }
   ],
   "source": [
    "\n",
    "# Build cuspip to name dictionary if needed\n",
    "#\n",
    "\n",
    "import os.path\n",
    "if os.path.isfile('cuspip_to_name.pickle'):\n",
    "    with open('cuspip_to_name.pickle', 'rb') as handle:\n",
    "        name_by_cuspip_dictionary = pickle.load(handle)\n",
    "else:    \n",
    "    with open(path+'saliency-dataset.json') as f:\n",
    "        content = f.readlines()\n",
    "    name_by_cuspip_dictionary = {}    \n",
    "    count = 0\n",
    "    for text in content:\n",
    "        #process_line(text)\n",
    "        name_by_cuspip_dictionary = add_entities_to_map(text, name_by_cuspip_dictionary)\n",
    "        count += 1\n",
    "        if count % 7 == 0:\n",
    "            percent = count/float(604)\n",
    "            print(percent,'% complete')\n",
    "    with open('cuspip_to_name.pickle', 'wb') as handle:\n",
    "        pickle.dump(name_by_cuspip_dictionary, handle, protocol=pickle.HIGHEST_PROTOCOL)\n",
    "    print(count,'lines processed')\n",
    "    \n",
    "print(name_by_cuspip_dictionary)\n",
    "\n"
   ]
  },
  {
   "cell_type": "code",
   "execution_count": 8,
   "metadata": {
    "collapsed": true
   },
   "outputs": [],
   "source": [
    "def getTitleFromCurId(curid):\n",
    "    link = \"https://en.wikipedia.org/w/index.php?curid=\"+str(curid)\n",
    "    try:\n",
    "        f = requests.get(link)\n",
    "        i_start = f.text.find(\"<title>\")\n",
    "        i_end = f.text.find(\"</title>\")\n",
    "        if i_end > -1 and i_start > -1:\n",
    "            title = f.text[(i_start+7):(i_end-12)]\n",
    "        else:\n",
    "            title = curid\n",
    "    except:\n",
    "        title = curid\n",
    "    return(title)"
   ]
  },
  {
   "cell_type": "code",
   "execution_count": null,
   "metadata": {
    "collapsed": true
   },
   "outputs": [],
   "source": [
    "\n",
    "    "
   ]
  },
  {
   "cell_type": "code",
   "execution_count": null,
   "metadata": {
    "collapsed": true
   },
   "outputs": [],
   "source": []
  },
  {
   "cell_type": "code",
   "execution_count": null,
   "metadata": {
    "collapsed": true
   },
   "outputs": [],
   "source": []
  },
  {
   "cell_type": "markdown",
   "metadata": {
    "collapsed": true
   },
   "source": [
    "# check SVM file"
   ]
  },
  {
   "cell_type": "code",
   "execution_count": 16,
   "metadata": {},
   "outputs": [
    {
     "name": "stdout",
     "output_type": "stream",
     "text": [
      "-1.0 qid:1 1:0.60355 2:0.60355 3:0.60355 4:0.0 5:1183.0 6:-1.0 7:-1.0 8:0.547325 9:-1.0 10:0.0 11:0.0 12:1.0 13:0.0 14:7.121326 15:7.121326 16:1.0 17:1.0 18:0.166667 19:0.0 20:6.0 21:1.0 22:1.0 23:0.277778 24:0.397422 25:0.397422 26:0.641822 27:0.641822 28:0.0 29:0.5 30:0.5 31:0.5 32:700.227743 33:1.0 34:1.0 35:0.255074 36:1.0 37:1091.0 38:34.0 39:1125.0 40:0.003307 41:0.006614 42:0.799868 43:27.0 44:0.0 45:0.0 46:0.0 47:3.481481 48:2.0 49:3.481481 50:4.0 51:6.962963 52:7.0 53:130.0 54:0.0 55:0.076899 56:0.031834 57:0.0 58:5.0 59:69.0 60:0.0 61:0.0 62:0.0 63:12.927536 64:12.0 65:12.927536 66:14.0 67:25.855072 68:24.0 69:340.0 70:0.0 71:0.052057 72:0.026644 73:0.0 74:5.0 75:27.0 76:0.0 77:0.0 78:0.0 79:1.703704 80:2.0 81:1.703704 82:2.0 83:3.407407 84:3.0 85:119.756398 86:0.0 87:0.129931 88:0.088526 89:0.0 90:4.606015 91:69.0 92:0.0 93:0.0 94:0.0 95:6.463768 96:5.0 97:6.463768 98:6.0 99:12.927536 100:12.0 101:236.919398 102:0.0 103:0.04315 104:0.025654 105:0.0 106:3.484109 107:27.0 108:0.0 109:0.0 110:0.0 111:12.962963 112:15.0 113:12.962963 114:15.0 115:25.925926 116:30.0 117:72.908677 118:0.0 119:0.086446 120:0.025696 121:0.0 122:2.80418 123:69.0 124:0.0 125:0.0 126:0.0 127:34.0 128:34.0 129:34.0 130:34.0 131:68.0 132:68.0 133:238.713731 134:0.0 135:0.085281 136:0.035163 137:0.0 138:3.510496 #\t[powell]\t9350062\tArthur_William_Baden_Powell\n",
      "\n",
      "1.0 qid:1 1:0.42519 2:0.42519 3:0.42519 4:0.0 5:1183.0 6:-1.0 7:-1.0 8:0.113169 9:-1.0 10:0.0 11:0.0 12:1.0 13:0.0 14:5.03369 15:5.03369 16:0.0 17:1.0 18:0.142857 19:0.0 20:7.0 21:1.0 22:1.0 23:0.233051 24:0.267376 25:0.267376 26:0.607402 27:0.607402 28:1.0 29:0.0 30:1.0 31:0.0 32:52327.053796 33:1.0 34:1.0 35:0.162405 36:1.0 37:86149.0 38:1050.0 39:87199.0 40:1.488109 41:0.164872 42:0.986689 43:27.0 44:7.0 45:3.0 46:10.0 47:3.481481 48:2.0 49:3.481481 50:4.0 51:6.962963 52:7.0 53:70.0 54:0.538462 55:0.713985 56:0.595633 57:0.638543 58:5.0 59:69.0 60:36.0 61:11.0 62:47.0 63:12.927536 64:12.0 65:12.927536 66:14.0 67:25.855072 68:24.0 69:201.0 70:0.507353 71:0.723509 72:0.628042 73:0.766236 74:5.0 75:27.0 76:2.0 77:0.0 78:2.0 79:1.703704 80:2.0 81:1.703704 82:2.0 83:3.407407 84:3.0 85:64.636092 86:0.480769 87:0.425566 88:0.370241 89:0.053177 90:4.606015 91:69.0 92:5.0 93:3.0 94:8.0 95:6.463768 96:5.0 97:6.463768 98:6.0 99:12.927536 100:12.0 101:121.388762 102:0.672794 103:0.327628 104:0.307137 105:0.18918 106:3.484109 107:27.0 108:13.0 109:13.0 110:26.0 111:12.962963 112:15.0 113:12.962963 114:15.0 115:25.925926 116:30.0 117:39.80418 118:0.730769 119:0.671731 120:0.58199 121:0.586781 122:2.80418 123:69.0 124:35.0 125:35.0 126:70.0 127:34.0 128:34.0 129:34.0 130:34.0 131:68.0 132:68.0 133:104.020992 134:0.742647 135:0.681373 136:0.507288 137:0.590928 138:3.510496 #\t[britain]\t31717\tUnited_Kingdom\n",
      "\n",
      "2.0 qid:1 1:0.279797 2:0.279797 3:0.279797 4:0.0 5:1183.0 6:-1.0 7:0.71358 8:-1.0 9:-1.0 10:0.0 11:1.0 12:0.0 13:0.0 14:8.267399 15:8.267399 16:1.0 17:0.0 18:0.0 19:0.0 20:7.0 21:1.0 22:1.0 23:0.858586 24:1.0 25:1.0 26:0.969223 27:0.969223 28:1.0 29:0.0 30:1.0 31:0.0 32:1971.399061 33:0.0 34:0.0 35:0.969223 36:1.0 37:2034.0 38:377.0 39:2411.0 40:1.435862 41:0.24668 42:0.966393 43:27.0 44:5.0 45:7.0 46:12.0 47:3.481481 48:2.0 49:3.481481 50:4.0 51:6.962963 52:7.0 53:54.0 54:0.692308 55:0.561068 56:0.687135 57:0.764352 58:5.0 59:69.0 60:18.0 61:14.0 62:32.0 63:12.927536 64:12.0 65:12.927536 66:14.0 67:25.855072 68:24.0 69:148.0 70:0.661765 71:0.27078 72:0.289312 73:0.547524 74:5.0 75:27.0 76:4.0 77:4.0 78:8.0 79:1.703704 80:2.0 81:1.703704 82:2.0 83:3.407407 84:3.0 85:69.030077 86:0.498077 87:0.598464 88:0.90193 89:1.0 90:4.606015 91:69.0 92:15.0 93:8.0 94:23.0 95:6.463768 96:5.0 97:6.463768 98:6.0 99:12.927536 100:12.0 101:143.713958 102:0.547794 103:0.236664 104:0.272871 105:0.679727 106:3.484109 107:27.0 108:16.0 109:16.0 110:32.0 111:12.962963 112:15.0 113:12.962963 114:15.0 115:25.925926 116:30.0 117:37.80418 118:0.782051 119:0.620553 120:0.539666 121:0.816021 122:2.80418 123:69.0 124:45.0 125:45.0 126:90.0 127:34.0 128:34.0 129:34.0 130:34.0 131:68.0 132:68.0 133:94.020992 134:0.816176 135:0.675946 136:0.484264 137:0.783007 138:3.510496 #\t[uranium]\t31743\tUranium\n",
      "\n",
      "1.0 qid:1 1:0.443787 2:0.443787 3:0.443787 4:0.0 5:1183.0 6:-1.0 7:-1.0 8:0.158436 9:-1.0 10:0.0 11:0.0 12:1.0 13:0.0 14:3.694692 15:3.694692 16:1.0 17:1.0 18:0.166667 19:0.0 20:6.0 21:1.0 22:1.0 23:0.326271 24:0.984643 25:0.984643 26:0.92783 27:0.92783 28:1.0 29:0.0 30:1.0 31:0.0 32:118182.324055 33:1.0 34:1.0 35:0.913581 36:1.0 37:127375.0 38:1256.0 39:128631.0 40:1.27834 41:0.125903 42:0.997732 43:27.0 44:8.0 45:4.0 46:12.0 47:3.481481 48:2.0 49:3.481481 50:4.0 51:6.962963 52:7.0 53:72.0 54:0.538462 55:0.82443 56:0.770478 57:0.829783 58:5.0 59:69.0 60:36.0 61:15.0 62:51.0 63:12.927536 64:12.0 65:12.927536 66:14.0 67:25.855072 68:24.0 69:214.0 70:0.455882 71:0.772709 72:0.684787 73:0.853018 74:5.0 75:27.0 76:1.0 77:1.0 78:2.0 79:1.703704 80:2.0 81:1.703704 82:2.0 83:3.407407 84:3.0 85:97.424061 86:0.269872 87:0.27537 88:0.190286 89:0.03477 90:4.606015 91:69.0 92:6.0 93:4.0 94:10.0 95:6.463768 96:5.0 97:6.463768 98:6.0 99:12.927536 100:12.0 101:151.904653 102:0.501225 103:0.440891 104:0.388383 105:0.18027 106:3.484109 107:27.0 108:8.0 109:8.0 110:16.0 111:12.962963 112:15.0 113:12.962963 114:15.0 115:25.925926 116:30.0 117:44.80418 118:0.634615 119:0.433791 120:0.335241 121:0.363076 122:2.80418 123:69.0 124:19.0 125:19.0 126:38.0 127:34.0 128:34.0 129:34.0 130:34.0 131:68.0 132:68.0 133:124.020992 134:0.615196 135:0.395329 136:0.260307 137:0.303067 138:3.510496 #\t[france]\t5843419\tFrance\n",
      "\n",
      "1.0 qid:1 1:0.432798 2:0.432798 3:0.432798 4:0.0 5:1183.0 6:-1.0 7:-1.0 8:0.131687 9:-1.0 10:0.0 11:0.0 12:1.0 13:0.0 14:3.878119 15:3.878119 16:1.0 17:1.0 18:0.142857 19:0.0 20:7.0 21:1.0 22:1.0 23:0.271186 24:0.962514 25:0.962514 26:0.931519 27:0.931519 28:1.0 29:0.0 30:1.0 31:0.0 32:103497.388346 33:1.0 34:1.0 35:0.8966 36:1.0 37:111106.0 38:994.0 39:112100.0 40:1.272934 41:0.126444 42:0.997647 43:27.0 44:5.0 45:6.0 46:11.0 47:3.481481 48:2.0 49:3.481481 50:4.0 51:6.962963 52:7.0 53:54.0 54:0.653846 55:0.582955 56:0.510471 57:0.836392 58:5.0 59:69.0 60:29.0 61:22.0 62:51.0 63:12.927536 64:12.0 65:12.927536 66:14.0 67:25.855072 68:24.0 69:158.0 70:0.632353 71:0.547928 72:0.469933 73:0.896816 74:5.0 75:27.0 76:1.0 77:2.0 78:3.0 79:1.703704 80:2.0 81:1.703704 82:2.0 83:3.407407 84:3.0 85:76.424061 86:0.38141 87:0.364181 88:0.253696 89:0.048772 90:4.606015 91:69.0 92:5.0 93:10.0 94:15.0 95:6.463768 96:5.0 97:6.463768 98:6.0 99:12.927536 100:12.0 101:137.452326 102:0.568627 103:0.322016 104:0.284834 105:0.298382 106:3.484109 107:27.0 108:7.0 109:7.0 110:14.0 111:12.962963 112:15.0 113:12.962963 114:15.0 115:25.925926 116:30.0 117:45.80418 118:0.615385 119:0.381413 120:0.287733 121:0.305827 122:2.80418 123:69.0 124:17.0 125:17.0 126:34.0 127:34.0 128:34.0 129:34.0 130:34.0 131:68.0 132:68.0 133:127.020992 134:0.598039 135:0.345766 136:0.225307 137:0.270833 138:3.510496 #\t[germany]\t11867\tGermany\n",
      "\n",
      "1.67 qid:1 1:0.021978 2:0.94421 3:0.66079 4:0.276215 5:1183.0 6:0.634146 7:0.192593 8:0.353909 9:0.254032 10:1.0 11:1.0 12:7.0 13:5.0 14:8.380555 15:53.997015 16:1.0 17:0.0 18:0.0 19:0.0 20:8.071429 21:1.142857 22:4.0 23:0.699271 24:0.8 25:0.186382 26:0.940821 27:0.30594 28:0.0 29:0.908333 30:0.027778 31:0.972222 32:3946.745169 33:0.0 34:0.0 35:0.752657 36:14.0 37:4195.0 38:402.0 39:4597.0 40:2.23542 41:0.274229 42:0.937395 43:27.0 44:5.0 45:2.0 46:7.0 47:3.481481 48:2.0 49:3.481481 50:4.0 51:6.962963 52:7.0 53:82.0 54:0.397436 55:0.533147 56:0.780503 57:0.446106 58:5.0 59:69.0 60:27.0 61:12.0 62:39.0 63:12.927536 64:12.0 65:12.927536 66:14.0 67:25.855072 68:24.0 69:214.0 70:0.431373 71:0.674292 72:0.971382 73:0.657721 74:5.0 75:27.0 76:4.0 77:2.0 78:6.0 79:1.703704 80:2.0 81:1.703704 82:2.0 83:3.407407 84:3.0 85:68.636092 86:0.471154 87:0.50965 88:0.936734 89:0.778219 90:4.606015 91:69.0 92:23.0 93:12.0 94:35.0 95:6.463768 96:5.0 97:6.463768 98:6.0 99:12.927536 100:12.0 101:134.682176 102:0.585784 103:0.69476 104:1.0 105:1.0 106:3.484109 107:27.0 108:20.0 109:20.0 110:40.0 111:12.962963 112:15.0 113:12.962963 114:15.0 115:25.925926 116:30.0 117:32.80418 118:0.865385 119:0.783816 120:1.0 121:0.956913 122:2.80418 123:69.0 124:53.0 125:53.0 126:106.0 127:34.0 128:34.0 129:34.0 130:34.0 131:68.0 132:68.0 133:86.020992 134:0.875 135:0.77498 136:1.0 137:0.903323 138:3.510496 #\t[nuclear, nuclear weapons, weapons, atomic]\t21785\tNuclear_weapon\n",
      "\n",
      "3.0 qid:1 1:0.021978 2:0.843618 3:0.321338 4:0.281849 5:1183.0 6:0.634146 7:0.182716 8:0.598765 9:0.254032 10:1.0 11:4.0 12:1.0 13:1.0 14:14.629565 15:42.637092 16:1.0 17:0.0 18:0.0 19:0.0 20:17.571429 21:2.285714 22:4.0 23:0.70147 24:1.0 25:0.750045 26:1.0 27:0.699385 28:1.0 29:0.595238 30:0.083333 31:0.916667 32:336.0 33:0.0 34:0.0 35:1.0 36:7.0 37:336.0 38:176.0 39:512.0 40:2.370064 41:0.289034 42:0.967935 43:27.0 44:2.0 45:6.0 46:8.0 47:3.481481 48:2.0 49:3.481481 50:4.0 51:6.962963 52:7.0 53:55.0 54:0.608974 55:0.211803 56:0.31491 57:0.53076 58:5.0 59:69.0 60:16.0 61:15.0 62:31.0 63:12.927536 64:12.0 65:12.927536 66:14.0 67:25.855072 68:24.0 69:135.0 70:0.669118 71:0.198906 72:0.342888 73:0.51191 74:5.0 75:27.0 76:2.0 77:6.0 78:8.0 79:1.703704 80:2.0 81:1.703704 82:2.0 83:3.407407 84:3.0 85:63.030077 86:0.522436 87:0.467513 88:0.747576 89:0.724228 90:4.606015 91:69.0 92:14.0 93:13.0 94:27.0 95:6.463768 96:5.0 97:6.463768 98:6.0 99:12.927536 100:12.0 101:134.809306 102:0.57598 103:0.1825 104:0.334438 105:0.735903 106:3.484109 107:27.0 108:18.0 109:18.0 110:36.0 111:12.962963 112:15.0 113:12.962963 114:15.0 115:25.925926 116:30.0 117:35.80418 118:0.820513 119:0.615281 120:0.696264 121:0.898913 122:2.80418 123:69.0 124:52.0 125:52.0 126:104.0 127:34.0 128:34.0 129:34.0 130:34.0 131:68.0 132:68.0 133:87.020992 134:0.867647 135:0.675386 136:0.693535 137:0.891073 138:3.510496 #\t[uranium enrichment program, nuclear program, uranium enrichment, its nuclear program]\t721807\tNuclear_program_of_Iran\n",
      "\n",
      "1.0 qid:1 1:0.578191 2:0.582418 3:0.581009 4:0.001992 5:1183.0 6:-1.0 7:-1.0 8:0.485597 9:-1.0 10:0.0 11:0.0 12:3.0 13:0.0 14:10.4629 15:10.4629 16:1.0 17:1.0 18:0.132045 19:0.0 20:16.333333 21:2.666667 22:3.0 23:0.030864 24:0.727005 25:0.262903 26:1.0 27:0.474451 28:1.0 29:0.563492 30:0.142857 31:0.857143 32:2769.0 33:1.0 34:1.0 35:0.727005 36:3.0 37:2769.0 38:38.0 39:2807.0 40:1.776899 41:0.241762 42:0.971768 43:27.0 44:4.0 45:2.0 46:6.0 47:3.481481 48:2.0 49:3.481481 50:4.0 51:6.962963 52:7.0 53:62.0 54:0.589744 55:0.342059 56:0.303355 57:0.302242 58:5.0 59:69.0 60:20.0 61:4.0 62:24.0 63:12.927536 64:12.0 65:12.927536 66:14.0 67:25.855072 68:24.0 69:164.0 70:0.602941 71:0.477006 72:0.466323 73:0.361094 74:5.0 75:27.0 76:4.0 77:1.0 78:5.0 79:1.703704 80:2.0 81:1.703704 82:2.0 83:3.407407 84:3.0 85:73.060153 86:0.429487 87:0.865443 88:0.923306 89:0.196151 90:4.606015 91:69.0 92:18.0 93:3.0 94:21.0 95:6.463768 96:5.0 97:6.463768 98:6.0 99:12.927536 100:12.0 101:155.007373 102:0.470588 103:0.697371 104:0.714668 105:0.500646 106:3.484109 107:27.0 108:18.0 109:18.0 110:36.0 111:12.962963 112:15.0 113:12.962963 114:15.0 115:25.925926 116:30.0 117:34.80418 118:0.826923 119:0.726865 120:0.696343 121:0.886269 122:2.80418 123:69.0 124:52.0 125:52.0 126:104.0 127:34.0 128:34.0 129:34.0 130:34.0 131:68.0 132:68.0 133:87.020992 134:0.867647 135:0.802375 136:0.669832 137:0.885429 138:3.510496 #\t[secretary of state, u.s secretary of state, secretary]\t32293\tUnited_States_Secretary_of_State\n",
      "\n",
      "1.67 qid:1 1:0.157227 2:0.157227 3:0.157227 4:0.0 5:1183.0 6:-1.0 7:0.355556 8:-1.0 9:-1.0 10:0.0 11:1.0 12:0.0 13:0.0 14:14.629565 15:14.629565 16:1.0 17:1.0 18:0.153846 19:0.0 20:13.0 21:2.0 22:1.0 23:0.126263 24:1.0 25:1.0 26:1.0 27:1.0 28:1.0 29:0.0 30:1.0 31:0.0 32:28.0 33:1.0 34:1.0 35:1.0 36:1.0 37:28.0 38:20.0 39:48.0 40:1.604797 41:0.23385 42:0.993094 43:27.0 44:0.0 45:3.0 46:3.0 47:3.481481 48:2.0 49:3.481481 50:4.0 51:6.962963 52:7.0 53:48.0 54:0.692308 55:0.076899 56:0.031834 57:0.194573 58:5.0 59:69.0 60:2.0 61:6.0 62:8.0 63:12.927536 64:12.0 65:12.927536 66:14.0 67:25.855072 68:24.0 69:101.0 70:0.786765 71:0.064641 72:0.037166 73:0.13275 74:5.0 75:27.0 76:0.0 77:1.0 78:1.0 79:1.703704 80:2.0 81:1.703704 82:2.0 83:3.407407 84:3.0 85:79.424061 86:0.360256 87:0.129931 88:0.088526 89:0.018431 90:4.606015 91:69.0 92:1.0 93:4.0 94:5.0 95:6.463768 96:5.0 97:6.463768 98:6.0 99:12.927536 100:12.0 101:136.452326 102:0.609069 103:0.050241 104:0.033243 105:0.130202 106:3.484109 107:27.0 108:18.0 109:18.0 110:36.0 111:12.962963 112:15.0 113:12.962963 114:15.0 115:25.925926 116:30.0 117:35.80418 118:0.820513 119:0.701351 120:0.627878 121:0.872315 122:2.80418 123:69.0 124:38.0 125:38.0 126:76.0 127:34.0 128:34.0 129:34.0 130:34.0 131:68.0 132:68.0 133:103.020992 134:0.759804 135:0.576747 136:0.422721 137:0.675726 138:3.510496 #\t[kamal kharazi]\t186801\tKamal_Kharazi\n",
      "\n",
      "1.0 qid:1 1:0.251902 2:0.98732 3:0.613271 4:0.299364 5:1183.0 6:-1.0 7:0.632099 8:0.045267 9:0.125 10:0.0 11:1.0 12:1.0 13:2.0 14:4.010484 15:8.020968 16:1.0 17:1.0 18:0.176923 19:0.0 20:9.0 21:1.5 22:2.0 23:0.47737 24:0.619008 25:0.352222 26:0.970642 27:0.506494 28:0.0 29:0.736111 30:0.027778 31:0.972222 32:272254.438033 33:1.0 34:1.0 35:0.600836 36:4.0 37:280489.0 38:1043.0 39:281532.0 40:0.984066 41:0.107694 42:0.997353 43:27.0 44:10.0 45:4.0 46:14.0 47:3.481481 48:2.0 49:3.481481 50:4.0 51:6.962963 52:7.0 53:83.0 54:0.442308 55:0.802591 56:0.834241 57:0.906173 58:5.0 59:69.0 60:43.0 61:17.0 62:60.0 63:12.927536 64:12.0 65:12.927536 66:14.0 67:25.855072 68:24.0 69:229.0 70:0.404412 71:1.0 72:1.0 73:1.0 74:5.0 75:27.0 76:0.0 77:0.0 78:0.0 79:1.703704 80:2.0 81:1.703704 82:2.0 83:3.407407 84:3.0 85:119.756398 86:0.0 87:0.129931 88:0.155862 89:0.0 90:4.606015 91:69.0 92:0.0 93:0.0 94:0.0 95:6.463768 96:5.0 97:6.463768 98:6.0 99:12.927536 100:12.0 101:236.919398 102:0.0 103:0.04315 104:0.092225 105:0.0 106:3.484109 107:27.0 108:3.0 109:3.0 110:6.0 111:12.962963 112:15.0 113:12.962963 114:15.0 115:25.925926 116:30.0 117:52.80418 118:0.519231 119:0.227683 120:0.232183 121:0.121934 122:2.80418 123:69.0 124:3.0 125:3.0 126:6.0 127:34.0 128:34.0 129:34.0 130:34.0 131:68.0 132:68.0 133:141.020992 134:0.495098 135:0.137313 136:0.181267 137:0.049689 138:3.510496 #\t[union, united states]\t3434750\tUnited_States\n",
      "\n",
      "2.33 qid:1 1:0.089603 2:0.389687 3:0.26268 4:0.112449 5:1183.0 6:-1.0 7:0.158025 8:0.026749 9:-1.0 10:0.0 11:3.0 12:1.0 13:0.0 14:7.549538 15:8.267132 16:1.0 17:1.0 18:0.131944 19:0.0 20:7.75 21:1.0 22:3.0 23:0.388493 24:0.666247 25:0.273813 26:0.908022 27:0.314129 28:0.0 29:0.838889 30:0.055556 31:0.944444 32:37202.588697 33:1.0 34:1.0 35:0.604968 36:4.0 37:40971.0 38:831.0 39:41802.0 40:1.417693 41:0.140666 42:0.988929 43:27.0 44:6.0 45:7.0 46:13.0 47:3.481481 48:2.0 49:3.481481 50:4.0 51:6.962963 52:7.0 53:56.0 54:0.692308 55:0.622206 56:0.627257 57:0.889856 58:5.0 59:69.0 60:19.0 61:19.0 62:38.0 63:12.927536 64:12.0 65:12.927536 66:14.0 67:25.855072 68:24.0 69:147.0 70:0.683824 71:0.512294 72:0.525714 73:0.693457 74:5.0 75:27.0 76:1.0 77:3.0 78:4.0 79:1.703704 80:2.0 81:1.703704 82:2.0 83:3.407407 84:3.0 85:58.424061 86:0.538462 87:0.453784 88:0.576915 89:0.176919 90:4.606015 91:69.0 92:6.0 93:13.0 94:19.0 95:6.463768 96:5.0 97:6.463768 98:6.0 99:12.927536 100:12.0 101:105.452326 102:0.754902 103:0.473365 104:0.500952 105:0.40738 106:3.484109 107:27.0 108:9.0 109:9.0 110:18.0 111:12.962963 112:15.0 113:12.962963 114:15.0 115:25.925926 116:30.0 117:43.80418 118:0.653846 119:0.487096 120:0.47179 121:0.358623 122:2.80418 123:69.0 124:29.0 125:29.0 126:58.0 127:34.0 128:34.0 129:34.0 130:34.0 131:68.0 132:68.0 133:110.020992 134:0.698529 135:0.57294 136:0.519356 137:0.463233 138:3.510496 #\t[european, europe, europeans]\t9239\tEurope\n",
      "\n",
      "2.33 qid:1 1:0.244294 2:0.389687 3:0.316991 4:0.072697 5:1183.0 6:-1.0 7:0.609877 8:0.026749 9:-1.0 10:0.0 11:2.0 12:2.0 13:0.0 14:6.901369 15:13.802739 16:1.0 17:1.0 18:0.133929 19:0.0 20:11.0 21:1.5 22:2.0 23:0.350775 24:1.0 25:0.51571 26:0.989352 27:0.511394 28:0.0 29:0.727273 30:0.045455 31:0.954545 32:11390.414577 33:1.0 34:1.0 35:0.989352 36:4.0 37:11513.0 38:474.0 39:11987.0 40:1.991011 41:0.230984 42:0.996446 43:27.0 44:9.0 45:5.0 46:14.0 47:3.481481 48:2.0 49:3.481481 50:4.0 51:6.962963 52:7.0 53:72.0 54:0.538462 55:1.0 56:1.0 57:1.0 58:5.0 59:69.0 60:32.0 61:13.0 62:45.0 63:12.927536 64:12.0 65:12.927536 66:14.0 67:25.855072 68:24.0 69:192.0 70:0.514706 71:0.732216 72:0.75325 73:0.803989 74:5.0 75:27.0 76:4.0 77:2.0 78:6.0 79:1.703704 80:2.0 81:1.703704 82:2.0 83:3.407407 84:3.0 85:59.242107 86:0.589744 87:0.64712 88:0.843546 89:0.427486 90:4.606015 91:69.0 92:24.0 93:9.0 94:33.0 95:6.463768 96:5.0 97:6.463768 98:6.0 99:12.927536 100:12.0 101:147.586829 102:0.512255 103:0.789119 104:0.835971 105:0.755994 106:3.484109 107:27.0 108:21.0 109:21.0 110:42.0 111:12.962963 112:15.0 113:12.962963 114:15.0 115:25.925926 116:30.0 117:31.80418 118:0.884615 119:0.90217 120:0.864802 121:0.981931 122:2.80418 123:69.0 124:60.0 125:60.0 126:120.0 127:34.0 128:34.0 129:34.0 130:34.0 131:68.0 132:68.0 133:79.020992 134:0.926471 135:0.965833 136:0.79729 137:0.987278 138:3.510496 #\t[european, european union]\t9317\tEuropean_Union\n",
      "\n",
      "-1.0 qid:1 1:0.142012 2:0.142012 3:0.142012 4:0.0 5:1183.0 6:-1.0 7:0.311111 8:-1.0 9:-1.0 10:0.0 11:1.0 12:0.0 13:0.0 14:7.875544 15:7.875544 16:1.0 17:0.0 18:0.0 19:0.0 20:16.0 21:2.0 22:1.0 23:0.035354 24:0.96035 25:0.96035 26:0.510625 27:0.510625 28:0.0 29:0.944444 30:0.055556 31:0.944444 32:852.233758 33:0.0 34:0.0 35:0.490379 36:1.0 37:1669.0 38:209.0 39:1878.0 40:1.708134 41:0.218834 42:0.718316 43:27.0 44:2.0 45:4.0 46:6.0 47:3.481481 48:2.0 49:3.481481 50:4.0 51:6.962963 52:7.0 53:54.0 54:0.602564 55:0.240791 56:0.173695 57:0.280978 58:5.0 59:69.0 60:6.0 61:4.0 62:10.0 63:12.927536 64:12.0 65:12.927536 66:14.0 67:25.855072 68:24.0 69:120.0 70:0.72549 71:0.197538 72:0.163399 73:0.138842 74:5.0 75:27.0 76:2.0 77:4.0 78:6.0 79:1.703704 80:2.0 81:1.703704 82:2.0 83:3.407407 84:3.0 85:59.424061 86:0.560897 87:1.0 88:1.0 89:0.224237 90:4.606015 91:69.0 92:4.0 93:4.0 94:8.0 95:6.463768 96:5.0 97:6.463768 98:6.0 99:12.927536 100:12.0 101:116.841088 102:0.696078 103:0.326179 104:0.314785 105:0.176869 106:3.484109 107:27.0 108:13.0 109:13.0 110:26.0 111:12.962963 112:15.0 113:12.962963 114:15.0 115:25.925926 116:30.0 117:40.80418 118:0.724359 119:0.511386 120:0.459441 121:0.703391 122:2.80418 123:69.0 124:43.0 125:43.0 126:86.0 127:34.0 128:34.0 129:34.0 130:34.0 131:68.0 132:68.0 133:96.020992 134:0.801471 135:0.677563 136:0.492467 137:0.766515 138:3.510496 #\t[foreign minister]\t317153\tForeign_minister\n",
      "\n",
      "-1.0 qid:1 1:0.882502 2:0.889265 3:0.885883 4:0.003381 5:1183.0 6:-1.0 7:-1.0 8:-1.0 9:0.439516 10:0.0 11:0.0 12:0.0 13:2.0 14:13.713274 15:13.713274 16:1.0 17:0.0 18:0.0 19:0.0 20:13.0 21:1.5 22:2.0 23:0.297297 24:1.0 25:0.642989 26:0.714286 27:0.360369 28:1.0 29:0.428571 30:0.142857 31:0.857143 32:5.0 33:0.0 34:0.0 35:0.714286 36:2.0 37:7.0 38:2.0 39:9.0 40:0.886286 41:0.0958 42:0.692734 43:27.0 44:0.0 45:0.0 46:0.0 47:3.481481 48:2.0 49:3.481481 50:4.0 51:6.962963 52:7.0 53:130.0 54:0.0 55:0.076899 56:0.050166 57:0.0 58:5.0 59:69.0 60:0.0 61:1.0 62:1.0 63:12.927536 64:12.0 65:12.927536 66:14.0 67:25.855072 68:24.0 69:158.0 70:0.46201 71:0.052057 72:0.052959 73:0.013399 74:5.0 75:27.0 76:0.0 77:0.0 78:0.0 79:1.703704 80:2.0 81:1.703704 82:2.0 83:3.407407 84:3.0 85:119.756398 86:0.0 87:0.129931 88:0.110971 89:0.0 90:4.606015 91:69.0 92:0.0 93:1.0 94:1.0 95:6.463768 96:5.0 97:6.463768 98:6.0 99:12.927536 100:12.0 101:192.452326 102:0.370098 103:0.04315 104:0.047844 105:0.024519 106:3.484109 107:27.0 108:6.0 109:6.0 110:12.0 111:12.962963 112:15.0 113:12.962963 114:15.0 115:25.925926 116:30.0 117:49.80418 118:0.576923 119:0.287051 120:0.263816 121:0.333693 122:2.80418 123:69.0 124:13.0 125:13.0 126:26.0 127:34.0 128:34.0 129:34.0 130:34.0 131:68.0 132:68.0 133:133.020992 134:0.563725 135:0.238922 136:0.199823 137:0.252374 138:3.510496 #\t[nuclear ambiguity, ambiguity]\t1781655\tNuclear_ambiguity\n",
      "\n",
      "-1.0 qid:1 1:0.279797 2:0.28656 3:0.283178 4:0.003381 5:1183.0 6:-1.0 7:0.71358 8:-1.0 9:-1.0 10:0.0 11:2.0 12:0.0 13:0.0 14:11.410689 15:11.410689 16:0.0 17:0.0 18:0.0 19:0.0 20:14.0 21:1.5 22:2.0 23:0.878788 24:1.0 25:0.530329 26:0.986395 27:0.721769 28:0.0 29:0.761905 30:0.142857 31:0.857143 32:469.52381 33:0.0 34:0.0 35:0.986395 36:2.0 37:476.0 38:104.0 39:580.0 40:2.27429 41:0.282315 42:0.959218 43:27.0 44:4.0 45:4.0 46:8.0 47:3.481481 48:2.0 49:3.481481 50:4.0 51:6.962963 52:7.0 53:51.0 54:0.685897 55:0.450845 56:0.591166 57:0.526179 58:5.0 59:69.0 60:17.0 61:8.0 62:25.0 63:12.927536 64:12.0 65:12.927536 66:14.0 67:25.855072 68:24.0 69:147.0 70:0.654412 71:0.235085 72:0.279298 73:0.416346 74:5.0 75:27.0 76:4.0 77:3.0 78:7.0 79:1.703704 80:2.0 81:1.703704 82:2.0 83:3.407407 84:3.0 85:61.030077 86:0.548077 87:0.530451 88:0.814677 89:0.958525 90:4.606015 91:69.0 92:16.0 93:6.0 94:22.0 95:6.463768 96:5.0 97:6.463768 98:6.0 99:12.927536 100:12.0 101:150.682176 102:0.509804 103:0.194108 104:0.242255 105:0.654003 106:3.484109 107:27.0 108:17.0 109:17.0 110:34.0 111:12.962963 112:15.0 113:12.962963 114:15.0 115:25.925926 116:30.0 117:37.80418 118:0.782051 119:0.597522 120:0.539703 121:0.859205 122:2.80418 123:69.0 124:44.0 125:44.0 126:88.0 127:34.0 128:34.0 129:34.0 130:34.0 131:68.0 132:68.0 133:96.020992 134:0.801471 135:0.576923 136:0.444133 137:0.772909 138:3.510496 #\t[uranium enrichment, enrichment]\t37555\tEnriched_uranium\n",
      "\n",
      "1.0 qid:1 1:0.582418 2:0.598478 3:0.593125 4:0.007571 5:1183.0 6:-1.0 7:-1.0 8:0.495885 9:-1.0 10:0.0 11:0.0 12:3.0 13:0.0 14:11.888725 15:11.888725 16:1.0 17:1.0 18:0.165233 19:0.0 20:16.0 21:2.666667 22:3.0 23:0.16358 24:1.0 25:0.353011 26:1.0 27:0.667224 28:1.0 29:0.326667 30:0.02 31:0.98 32:929.0 33:1.0 34:1.0 35:1.0 36:3.0 37:929.0 38:309.0 39:1238.0 40:2.05367 41:0.251497 42:0.995668 43:27.0 44:1.0 45:3.0 46:4.0 47:3.481481 48:2.0 49:3.481481 50:4.0 51:6.962963 52:7.0 53:60.0 54:0.512821 55:0.212303 56:0.197668 57:0.232508 58:5.0 59:69.0 60:8.0 61:7.0 62:15.0 63:12.927536 64:12.0 65:12.927536 66:14.0 67:25.855072 68:24.0 69:135.0 70:0.67402 71:0.230133 72:0.241983 73:0.248699 74:5.0 75:27.0 76:1.0 77:2.0 78:3.0 79:1.703704 80:2.0 81:1.703704 82:2.0 83:3.407407 84:3.0 85:67.424061 86:0.474359 87:0.378103 88:0.425457 89:0.141712 90:4.606015 91:69.0 92:8.0 93:6.0 94:14.0 95:6.463768 96:5.0 97:6.463768 98:6.0 99:12.927536 100:12.0 101:126.325197 102:0.644608 103:0.309405 104:0.338644 105:0.400956 106:3.484109 107:27.0 108:16.0 109:16.0 110:32.0 111:12.962963 112:15.0 113:12.962963 114:15.0 115:25.925926 116:30.0 117:38.80418 118:0.762821 119:0.597298 120:0.577509 121:0.834304 122:2.80418 123:69.0 124:40.0 125:40.0 126:80.0 127:34.0 128:34.0 129:34.0 130:34.0 131:68.0 132:68.0 133:100.020992 134:0.772059 135:0.57743 136:0.485778 137:0.721914 138:3.510496 #\t[colin powell, secretary of state colin powell, colin]\t6984\tColin_Powell\n",
      "\n",
      "3.0 qid:1 1:0.0 2:0.669484 3:0.290469 4:0.232937 5:1183.0 6:0.0 7:0.044444 8:0.0 9:-1.0 10:1.0 11:4.0 12:3.0 13:0.0 14:6.349741 15:28.156726 16:1.0 17:1.0 18:0.223214 19:0.0 20:4.75 21:1.0 22:2.0 23:0.22219 24:1.0 25:0.783695 26:0.976211 27:0.775197 28:0.0 29:0.8625 30:0.05 31:0.95 32:83390.890721 33:1.0 34:1.0 35:0.976211 36:8.0 37:85423.0 38:632.0 39:86055.0 40:0.814915 41:0.110367 42:0.996174 43:27.0 44:5.0 45:5.0 46:10.0 47:3.481481 48:2.0 49:3.481481 50:4.0 51:6.962963 52:7.0 53:79.0 54:0.416667 55:0.497951 56:0.533226 57:0.55455 58:5.0 59:69.0 60:37.0 61:14.0 62:51.0 63:12.927536 64:12.0 65:12.927536 66:14.0 67:25.855072 68:24.0 69:232.0 70:0.367647 71:0.779501 72:0.850308 73:0.832896 74:5.0 75:27.0 76:2.0 77:2.0 78:4.0 79:1.703704 80:2.0 81:1.703704 82:2.0 83:3.407407 84:3.0 85:78.424061 86:0.379487 87:0.566344 88:0.812511 89:0.313076 90:4.606015 91:69.0 92:8.0 93:6.0 94:14.0 95:6.463768 96:5.0 97:6.463768 98:6.0 99:12.927536 100:12.0 101:134.356979 102:0.578431 103:0.35441 104:0.490383 105:0.397321 106:3.484109 107:27.0 108:7.0 109:7.0 110:14.0 111:12.962963 112:15.0 113:12.962963 114:15.0 115:25.925926 116:30.0 117:47.80418 118:0.602564 119:0.364253 120:0.45947 121:0.380729 122:2.80418 123:69.0 124:23.0 125:23.0 126:46.0 127:34.0 128:34.0 129:34.0 130:34.0 131:68.0 132:68.0 133:118.020992 134:0.64951 135:0.452289 136:0.546652 137:0.404985 138:3.510496 #\t[iran, iranian]\t14653\tIran\n",
      "\n",
      "1.33 qid:1 1:0.491124 2:0.491124 3:0.491124 4:0.0 5:1183.0 6:-1.0 7:-1.0 8:0.273663 9:-1.0 10:0.0 11:0.0 12:1.0 13:0.0 14:7.073921 15:7.073921 16:1.0 17:1.0 18:0.166667 19:0.0 20:6.0 21:1.0 22:1.0 23:0.563559 24:1.0 25:1.0 26:0.97587 27:0.97587 28:0.0 29:0.666667 30:0.333333 31:0.666667 32:5115.508261 33:1.0 34:1.0 35:0.97587 36:1.0 37:5242.0 38:426.0 39:5668.0 40:1.488388 41:0.20225 42:0.994105 43:27.0 44:2.0 45:5.0 46:7.0 47:3.481481 48:2.0 49:3.481481 50:4.0 51:6.962963 52:7.0 53:49.0 54:0.711538 55:0.191553 56:0.167244 57:0.491143 58:5.0 59:69.0 60:14.0 61:14.0 62:28.0 63:12.927536 64:12.0 65:12.927536 66:14.0 67:25.855072 68:24.0 69:139.0 70:0.683824 71:0.204139 72:0.176827 73:0.490309 74:5.0 75:27.0 76:2.0 77:1.0 78:3.0 79:1.703704 80:2.0 81:1.703704 82:2.0 83:3.407407 84:3.0 85:66.636092 86:0.483974 87:0.404245 88:0.491247 89:0.224453 90:4.606015 91:69.0 92:12.0 93:5.0 94:17.0 95:6.463768 96:5.0 97:6.463768 98:6.0 99:12.927536 100:12.0 101:144.682176 102:0.526961 103:0.231262 104:0.234235 105:0.426922 106:3.484109 107:27.0 108:15.0 109:15.0 110:30.0 111:12.962963 112:15.0 113:12.962963 114:15.0 115:25.925926 116:30.0 117:38.80418 118:0.762821 119:0.634426 120:0.583097 121:0.779408 122:2.80418 123:69.0 124:47.0 125:47.0 126:94.0 127:34.0 128:34.0 129:34.0 130:34.0 131:68.0 132:68.0 133:92.020992 134:0.830882 135:0.756002 136:0.55541 137:0.812416 138:3.510496 #\t[tehran]\t57654\tTehran\n",
      "\n",
      "-1.0 qid:1 1:0.882502 2:0.882502 3:0.882502 4:0.0 5:1183.0 6:-1.0 7:-1.0 8:-1.0 9:0.439516 10:0.0 11:0.0 12:0.0 13:1.0 14:13.713274 15:13.713274 16:0.0 17:0.0 18:0.0 19:0.0 20:17.0 21:2.0 22:1.0 23:0.261261 24:1.0 25:1.0 26:0.285714 27:0.285714 28:0.0 29:0.5 30:0.5 31:0.5 32:6.285714 33:0.0 34:0.0 35:0.285714 36:1.0 37:22.0 38:29.0 39:51.0 40:2.105404 41:0.244368 42:0.560184 43:27.0 44:1.0 45:1.0 46:2.0 47:3.481481 48:2.0 49:3.481481 50:4.0 51:6.962963 52:7.0 53:67.0 54:0.49359 55:0.144106 56:0.088233 57:0.100151 58:5.0 59:69.0 60:4.0 61:2.0 62:6.0 63:12.927536 64:12.0 65:12.927536 66:14.0 67:25.855072 68:24.0 69:134.0 70:0.705882 71:0.137421 72:0.103134 73:0.106605 74:5.0 75:27.0 76:1.0 77:0.0 78:1.0 79:1.703704 80:2.0 81:1.703704 82:2.0 83:3.407407 84:3.0 85:84.030077 86:0.334615 87:0.185126 88:0.126184 89:0.029795 90:4.606015 91:69.0 92:4.0 93:1.0 94:5.0 95:6.463768 96:5.0 97:6.463768 98:6.0 99:12.927536 100:12.0 101:159.261632 102:0.479167 103:0.162523 104:0.142627 105:0.156391 106:3.484109 107:27.0 108:16.0 109:16.0 110:32.0 111:12.962963 112:15.0 113:12.962963 114:15.0 115:25.925926 116:30.0 117:36.80418 118:0.788462 119:0.628504 120:0.567966 121:0.800416 122:2.80418 123:69.0 124:34.0 125:34.0 126:68.0 127:34.0 128:34.0 129:34.0 130:34.0 131:68.0 132:68.0 133:107.020992 134:0.730392 135:0.505923 136:0.373667 137:0.613852 138:3.510496 #\t[nuclear ambiguity]\t708400\tPolicy_of_deliberate_ambiguity\n",
      "\n",
      "-1.0 qid:1 1:0.42519 2:0.42519 3:0.42519 4:0.0 5:1183.0 6:-1.0 7:-1.0 8:0.113169 9:-1.0 10:0.0 11:0.0 12:1.0 13:0.0 14:5.03369 15:5.03369 16:1.0 17:1.0 18:0.142857 19:0.0 20:7.0 21:1.0 22:1.0 23:0.233051 24:0.267376 25:0.267376 26:0.168256 27:0.168256 28:0.0 29:0.75 30:0.25 31:0.75 32:2309.991988 33:1.0 34:1.0 35:0.044988 36:1.0 37:13729.0 38:363.0 39:14092.0 40:1.17004 41:0.140241 42:0.662635 43:27.0 44:2.0 45:0.0 46:2.0 47:3.481481 48:2.0 49:3.481481 50:4.0 51:6.962963 52:7.0 53:76.0 54:0.5 55:0.355458 56:0.27707 57:0.151108 58:5.0 59:69.0 60:5.0 61:2.0 62:7.0 63:12.927536 64:12.0 65:12.927536 66:14.0 67:25.855072 68:24.0 69:220.0 70:0.441176 71:0.165173 72:0.126759 73:0.120111 74:5.0 75:27.0 76:1.0 77:0.0 78:1.0 79:1.703704 80:2.0 81:1.703704 82:2.0 83:3.407407 84:3.0 85:62.030077 86:0.5 87:0.253641 88:0.246367 89:0.035792 90:4.606015 91:69.0 92:1.0 93:1.0 94:2.0 95:6.463768 96:5.0 97:6.463768 98:6.0 99:12.927536 100:12.0 101:110.936435 102:0.723039 103:0.072334 104:0.056547 105:0.042638 106:3.484109 107:27.0 108:12.0 109:12.0 110:24.0 111:12.962963 112:15.0 113:12.962963 114:15.0 115:25.925926 116:30.0 117:40.80418 118:0.711538 119:0.698147 120:0.583238 121:0.52036 122:2.80418 123:69.0 124:30.0 125:30.0 126:60.0 127:34.0 128:34.0 129:34.0 130:34.0 131:68.0 132:68.0 133:110.020992 134:0.703431 135:0.616363 136:0.448301 137:0.489472 138:3.510496 #\t[britain]\t13530298\tGreat_Britain\n",
      "\n",
      "-1.0 qid:1 1:0.021978 2:0.937447 3:0.570847 4:0.311432 5:1183.0 6:0.634146 7:0.192593 8:0.353909 9:0.254032 10:2.0 11:2.0 12:8.0 13:4.0 14:11.005224 15:53.997015 16:1.0 17:0.0 18:0.0 19:0.0 20:10.25 21:1.375 22:5.0 23:0.63005 24:0.679245 25:0.240745 26:0.471698 27:0.145369 28:0.0 29:0.96488 30:0.006944 31:0.993056 32:893.396226 33:0.0 34:0.0 35:0.320399 36:16.0 37:1894.0 38:379.0 39:2273.0 40:2.162792 41:0.272878 42:0.697949 43:27.0 44:3.0 45:7.0 46:10.0 47:3.481481 48:2.0 49:3.481481 50:4.0 51:6.962963 52:7.0 53:61.0 54:0.608974 55:0.41571 56:0.678518 57:0.661006 58:5.0 59:69.0 60:13.0 61:13.0 62:26.0 63:12.927536 64:12.0 65:12.927536 66:14.0 67:25.855072 68:24.0 69:172.0 70:0.578431 71:0.312506 72:0.67163 73:0.454559 74:5.0 75:27.0 76:2.0 77:6.0 78:8.0 79:1.703704 80:2.0 81:1.703704 82:2.0 83:3.407407 84:3.0 85:61.424061 86:0.535256 87:0.397362 88:0.831116 89:0.961207 90:4.606015 91:69.0 92:9.0 93:10.0 94:19.0 95:6.463768 96:5.0 97:6.463768 98:6.0 99:12.927536 100:12.0 101:122.87287 102:0.664216 103:0.163993 104:0.495218 105:0.575116 106:3.484109 107:27.0 108:15.0 109:15.0 110:30.0 111:12.962963 112:15.0 113:12.962963 114:15.0 115:25.925926 116:30.0 117:38.80418 118:0.762821 119:0.568509 120:0.854302 121:0.769694 122:2.80418 123:69.0 124:41.0 125:41.0 126:82.0 127:34.0 128:34.0 129:34.0 130:34.0 131:68.0 132:68.0 133:98.020992 134:0.786765 135:0.602442 136:0.940098 137:0.732286 138:3.510496 #\t[atomic energy, nuclear program, nuclear, generating electricity, atomic]\t22153\tNuclear_power\n",
      "\n",
      "-1.0 qid:1 1:0.742181 2:0.742181 3:0.742181 4:0.0 5:1183.0 6:-1.0 7:-1.0 8:0.884774 9:-1.0 10:0.0 11:0.0 12:1.0 13:0.0 14:6.606832 15:6.606832 16:1.0 17:0.0 18:0.0 19:0.0 20:11.0 21:1.0 22:1.0 23:0.601399 24:0.421872 25:0.421872 26:0.874466 27:0.874466 28:0.0 29:0.75 30:0.25 31:0.75 32:2700.349786 33:0.0 34:0.0 35:0.368913 36:1.0 37:3088.0 38:319.0 39:3407.0 40:1.078206 41:0.142109 42:0.597783 43:27.0 44:2.0 45:1.0 46:3.0 47:3.481481 48:2.0 49:3.481481 50:4.0 51:6.962963 52:7.0 53:63.0 54:0.596154 55:0.195086 56:0.197192 57:0.224014 58:5.0 59:69.0 60:5.0 61:2.0 62:7.0 63:12.927536 64:12.0 65:12.927536 66:14.0 67:25.855072 68:24.0 69:167.0 70:0.595588 71:0.139658 72:0.135325 73:0.124667 74:5.0 75:27.0 76:2.0 77:0.0 78:2.0 79:1.703704 80:2.0 81:1.703704 82:2.0 83:3.407407 84:3.0 85:68.636092 86:0.458333 87:0.367418 88:0.478559 89:0.300815 90:4.606015 91:69.0 92:4.0 93:0.0 94:4.0 95:6.463768 96:5.0 97:6.463768 98:6.0 99:12.927536 100:12.0 101:142.198067 102:0.546569 103:0.1181 104:0.135939 105:0.124274 106:3.484109 107:27.0 108:10.0 109:10.0 110:20.0 111:12.962963 112:15.0 113:12.962963 114:15.0 115:25.925926 116:30.0 117:43.80418 118:0.666667 119:0.477082 120:0.424358 121:0.518894 122:2.80418 123:69.0 124:22.0 125:22.0 126:44.0 127:34.0 128:34.0 129:34.0 130:34.0 131:68.0 132:68.0 133:118.020992 134:0.644608 135:0.417518 136:0.303263 137:0.397618 138:3.510496 #\t[electricity]\t9550\tElectricity\n",
      "\n",
      "-1.0 qid:1 1:0.582418 2:0.582418 3:0.582418 4:0.0 5:1183.0 6:-1.0 7:-1.0 8:0.495885 9:-1.0 10:0.0 11:0.0 12:2.0 13:0.0 14:6.788072 15:6.788072 16:1.0 17:1.0 18:0.111111 19:0.0 20:13.5 21:2.0 22:2.0 23:0.046296 24:0.727005 25:0.382726 26:0.270884 27:0.13809 28:0.0 29:0.934874 30:0.058824 31:0.941176 32:363.797242 33:1.0 34:1.0 35:0.196934 36:2.0 37:1343.0 38:147.0 39:1490.0 40:0.993607 41:0.180518 42:0.564551 43:27.0 44:1.0 45:6.0 46:7.0 47:3.481481 48:2.0 49:3.481481 50:4.0 51:6.962963 52:7.0 53:45.0 54:0.75 55:0.128107 56:0.087301 57:0.420461 58:5.0 59:69.0 60:3.0 61:9.0 62:12.0 63:12.927536 64:12.0 65:12.927536 66:14.0 67:25.855072 68:24.0 69:97.0 70:0.830882 71:0.125346 72:0.114474 73:0.216102 74:5.0 75:27.0 76:1.0 77:2.0 78:3.0 79:1.703704 80:2.0 81:1.703704 82:2.0 83:3.407407 84:3.0 85:72.424061 86:0.44359 87:0.322039 88:0.303387 89:0.124201 90:4.606015 91:69.0 92:2.0 93:3.0 94:5.0 95:6.463768 96:5.0 97:6.463768 98:6.0 99:12.927536 100:12.0 101:129.420544 102:0.627451 103:0.144542 104:0.144742 105:0.104129 106:3.484109 107:27.0 108:13.0 109:13.0 110:26.0 111:12.962963 112:15.0 113:12.962963 114:15.0 115:25.925926 116:30.0 117:39.80418 118:0.730769 119:0.580358 120:0.519049 121:0.688216 122:2.80418 123:69.0 124:34.0 125:34.0 126:68.0 127:34.0 128:34.0 129:34.0 130:34.0 131:68.0 132:68.0 133:105.020992 134:0.735294 135:0.568136 136:0.435859 137:0.618371 138:3.510496 #\t[secretary of state, secretary]\t26422038\tSecretary_of_State\n",
      "\n",
      "-1.0 qid:1 1:0.244294 2:0.389687 3:0.320372 4:0.059549 5:1183.0 6:-1.0 7:0.609877 8:0.026749 9:-1.0 10:0.0 11:2.0 12:1.0 13:0.0 14:7.549538 15:8.267132 16:1.0 17:1.0 18:0.12037 19:0.0 20:8.333333 21:1.0 22:2.0 23:0.338719 24:0.366162 25:0.143001 26:0.552874 27:0.199836 28:0.0 29:0.932692 30:0.038462 31:0.961538 32:843.132184 33:1.0 34:1.0 35:0.202441 36:3.0 37:1525.0 38:474.0 39:1999.0 40:0.161951 41:0.007891 42:0.78468 43:27.0 44:0.0 45:0.0 46:0.0 47:3.481481 48:2.0 49:3.481481 50:4.0 51:6.962963 52:7.0 53:130.0 54:0.0 55:0.076899 56:0.068499 57:0.0 58:5.0 59:69.0 60:0.0 61:1.0 62:1.0 63:12.927536 64:12.0 65:12.927536 66:14.0 67:25.855072 68:24.0 69:152.0 70:0.47549 71:0.052057 72:0.079275 73:0.015285 74:5.0 75:27.0 76:0.0 77:0.0 78:0.0 79:1.703704 80:2.0 81:1.703704 82:2.0 83:3.407407 84:3.0 85:119.756398 86:0.0 87:0.129931 88:0.133416 89:0.0 90:4.606015 91:69.0 92:0.0 93:1.0 94:1.0 95:6.463768 96:5.0 97:6.463768 98:6.0 99:12.927536 100:12.0 101:182.452326 102:0.392647 103:0.04315 104:0.070034 105:0.017342 106:3.484109 107:27.0 108:1.0 109:1.0 110:2.0 111:12.962963 112:15.0 113:12.962963 114:15.0 115:25.925926 116:30.0 117:64.80418 118:0.416667 119:0.13506 120:0.116134 121:0.035924 122:2.80418 123:69.0 124:3.0 125:3.0 126:6.0 127:34.0 128:34.0 129:34.0 130:34.0 131:68.0 132:68.0 133:144.020992 134:0.487745 135:0.134049 136:0.139396 137:0.050924 138:3.510496 #\t[european, europeans]\t3402034\tEuropean_Figure_Skating_Championships\n",
      "\n",
      "1.67 qid:1 1:0.550296 2:0.554522 3:0.552409 4:0.002113 5:1183.0 6:-1.0 7:-1.0 8:0.417695 9:-1.0 10:0.0 11:0.0 12:2.0 13:0.0 14:12.837806 15:12.837806 16:1.0 17:1.0 18:0.157738 19:0.0 20:18.0 21:2.5 22:2.0 23:0.870763 24:0.25 25:0.232289 26:1.0 27:0.983088 28:1.0 29:0.333333 30:0.333333 31:0.666667 32:2542.0 33:1.0 34:1.0 35:0.25 36:2.0 37:2542.0 38:172.0 39:2714.0 40:2.16021 41:0.296771 42:0.955428 43:27.0 44:6.0 45:5.0 46:11.0 47:3.481481 48:2.0 49:3.481481 50:4.0 51:6.962963 52:7.0 53:58.0 54:0.653846 55:0.795189 56:0.758331 57:0.691818 58:5.0 59:69.0 60:29.0 61:15.0 62:44.0 63:12.927536 64:12.0 65:12.927536 66:14.0 67:25.855072 68:24.0 69:165.0 70:0.610294 71:0.880008 72:0.842243 73:0.788109 74:5.0 75:27.0 76:3.0 77:2.0 78:5.0 79:1.703704 80:2.0 81:1.703704 82:2.0 83:3.407407 84:3.0 85:65.242107 86:0.512821 87:0.589649 88:0.692783 89:0.286029 90:4.606015 91:69.0 92:24.0 93:10.0 94:34.0 95:6.463768 96:5.0 97:6.463768 98:6.0 99:12.927536 100:12.0 101:138.650394 102:0.558824 103:0.87949 104:0.892925 105:0.936899 106:3.484109 107:27.0 108:21.0 109:21.0 110:42.0 111:12.962963 112:15.0 113:12.962963 114:15.0 115:25.925926 116:30.0 117:31.80418 118:0.884615 119:0.783167 120:0.720468 121:0.9843 122:2.80418 123:69.0 124:61.0 125:61.0 126:122.0 127:34.0 128:34.0 129:34.0 130:34.0 131:68.0 132:68.0 133:78.020992 134:0.933824 135:0.860508 136:0.655906 137:1.0 138:3.510496 #\t[u.n security council, security council]\t31956\tUnited_Nations_Security_Council\n",
      "\n",
      "{'qid:1': 24, 'qid:2': 26, 'qid:3': 44, 'qid:4': 28, 'qid:5': 21, 'qid:6': 52, 'qid:7': 14, 'qid:8': 25, 'qid:9': 30, 'qid:10': 22, 'qid:11': 28, 'qid:12': 25, 'qid:13': 43, 'qid:14': 45, 'qid:16': 25, 'qid:17': 42, 'qid:18': 45, 'qid:20': 33, 'qid:21': 19, 'qid:22': 15, 'qid:23': 34, 'qid:24': 22, 'qid:25': 31, 'qid:26': 43, 'qid:27': 18, 'qid:28': 32, 'qid:29': 29, 'qid:30': 33, 'qid:31': 40, 'qid:32': 45, 'qid:33': 28, 'qid:34': 49, 'qid:35': 18, 'qid:36': 18, 'qid:37': 20, 'qid:38': 13, 'qid:39': 46, 'qid:40': 29, 'qid:41': 42, 'qid:42': 35, 'qid:43': 28, 'qid:44': 35, 'qid:45': 33, 'qid:46': 28, 'qid:49': 28, 'qid:50': 30, 'qid:51': 19, 'qid:52': 24, 'qid:53': 45, 'qid:54': 50, 'qid:55': 35, 'qid:56': 27, 'qid:57': 30, 'qid:58': 40, 'qid:60': 44, 'qid:62': 20, 'qid:63': 33, 'qid:64': 22, 'qid:66': 21, 'qid:68': 52, 'qid:70': 34, 'qid:71': 30, 'qid:72': 23, 'qid:73': 23, 'qid:74': 45, 'qid:75': 19, 'qid:76': 43, 'qid:77': 31, 'qid:78': 46, 'qid:80': 22, 'qid:81': 32, 'qid:82': 44, 'qid:83': 36, 'qid:84': 46, 'qid:85': 62, 'qid:86': 61, 'qid:87': 32, 'qid:88': 35, 'qid:89': 31, 'qid:90': 42, 'qid:91': 41, 'qid:93': 38, 'qid:94': 24, 'qid:95': 37, 'qid:96': 31, 'qid:98': 31, 'qid:99': 43, 'qid:100': 41, 'qid:101': 33, 'qid:103': 31, 'qid:104': 61, 'qid:105': 29, 'qid:106': 34, 'qid:107': 31, 'qid:108': 43, 'qid:109': 33, 'qid:110': 38, 'qid:111': 27, 'qid:112': 35, 'qid:113': 31, 'qid:114': 38, 'qid:115': 30, 'qid:116': 37, 'qid:118': 36, 'qid:119': 40, 'qid:123': 26, 'qid:124': 23, 'qid:125': 50, 'qid:126': 19, 'qid:127': 81, 'qid:129': 43, 'qid:131': 30, 'qid:132': 48, 'qid:133': 24, 'qid:134': 60, 'qid:136': 66, 'qid:137': 34, 'qid:138': 63, 'qid:139': 51, 'qid:140': 21, 'qid:141': 35, 'qid:144': 18, 'qid:145': 23, 'qid:146': 23, 'qid:148': 36, 'qid:149': 41, 'qid:150': 32, 'qid:151': 59, 'qid:153': 46, 'qid:154': 33, 'qid:155': 20, 'qid:156': 40, 'qid:157': 31, 'qid:158': 52, 'qid:159': 34, 'qid:160': 31, 'qid:161': 40, 'qid:162': 38, 'qid:163': 33, 'qid:165': 30, 'qid:166': 26, 'qid:167': 49, 'qid:168': 38, 'qid:169': 22, 'qid:170': 29, 'qid:171': 65, 'qid:172': 50, 'qid:173': 49, 'qid:174': 32, 'qid:175': 48, 'qid:177': 43, 'qid:178': 43, 'qid:179': 22, 'qid:180': 44, 'qid:181': 37, 'qid:182': 37, 'qid:183': 64, 'qid:184': 45, 'qid:185': 33, 'qid:186': 46, 'qid:187': 29, 'qid:188': 43, 'qid:189': 29, 'qid:190': 40, 'qid:191': 30, 'qid:192': 26, 'qid:193': 42, 'qid:194': 33, 'qid:195': 60, 'qid:196': 34, 'qid:197': 23, 'qid:198': 31, 'qid:199': 21, 'qid:200': 25, 'qid:202': 31, 'qid:203': 33, 'qid:204': 46, 'qid:205': 21, 'qid:206': 30, 'qid:207': 20, 'qid:208': 47, 'qid:209': 24, 'qid:210': 40, 'qid:211': 54, 'qid:212': 35, 'qid:213': 29, 'qid:214': 45, 'qid:215': 39, 'qid:216': 25, 'qid:217': 28, 'qid:218': 39, 'qid:219': 43, 'qid:221': 27, 'qid:222': 30, 'qid:223': 27, 'qid:224': 13, 'qid:225': 49, 'qid:226': 26, 'qid:227': 65, 'qid:228': 35, 'qid:229': 30, 'qid:230': 41, 'qid:232': 20, 'qid:233': 24, 'qid:234': 34, 'qid:235': 26, 'qid:236': 18, 'qid:237': 16, 'qid:238': 58, 'qid:239': 40, 'qid:240': 25, 'qid:241': 24, 'qid:242': 39, 'qid:243': 43, 'qid:244': 19, 'qid:245': 37, 'qid:246': 53, 'qid:247': 30, 'qid:248': 39, 'qid:249': 23, 'qid:250': 27, 'qid:251': 32, 'qid:252': 17, 'qid:253': 23, 'qid:254': 30, 'qid:255': 36, 'qid:256': 24, 'qid:257': 30, 'qid:258': 29, 'qid:259': 26, 'qid:260': 20, 'qid:261': 42, 'qid:262': 30, 'qid:263': 38, 'qid:264': 46, 'qid:265': 15, 'qid:266': 41, 'qid:267': 38, 'qid:268': 21, 'qid:269': 26, 'qid:270': 13, 'qid:271': 15, 'qid:272': 34, 'qid:273': 26, 'qid:274': 32, 'qid:275': 33, 'qid:276': 32, 'qid:277': 34, 'qid:278': 23, 'qid:279': 46, 'qid:280': 27, 'qid:281': 27, 'qid:282': 30, 'qid:283': 45, 'qid:284': 36, 'qid:285': 53, 'qid:288': 18, 'qid:289': 14, 'qid:290': 33, 'qid:291': 34, 'qid:292': 27, 'qid:293': 41, 'qid:294': 23, 'qid:295': 19, 'qid:296': 34, 'qid:298': 42, 'qid:299': 38, 'qid:300': 46, 'qid:301': 28, 'qid:302': 34, 'qid:303': 26, 'qid:304': 49, 'qid:305': 26, 'qid:306': 34, 'qid:307': 18, 'qid:308': 35, 'qid:311': 36, 'qid:312': 19, 'qid:313': 28, 'qid:314': 17, 'qid:315': 23, 'qid:316': 33, 'qid:317': 26, 'qid:318': 25, 'qid:319': 30, 'qid:320': 31, 'qid:321': 34, 'qid:323': 36, 'qid:324': 21, 'qid:325': 19, 'qid:326': 29, 'qid:327': 26, 'qid:329': 18, 'qid:330': 26, 'qid:331': 31, 'qid:332': 19, 'qid:333': 35, 'qid:334': 26, 'qid:336': 22, 'qid:337': 38, 'qid:338': 28, 'qid:339': 36, 'qid:340': 24, 'qid:341': 35, 'qid:527': 34, 'qid:528': 25, 'qid:530': 30, 'qid:531': 24, 'qid:532': 39, 'qid:534': 35, 'qid:536': 22, 'qid:538': 31, 'qid:540': 25, 'qid:541': 30, 'qid:542': 42, 'qid:543': 40, 'qid:544': 29, 'qid:545': 36, 'qid:546': 35, 'qid:548': 42, 'qid:550': 24, 'qid:551': 37, 'qid:552': 20, 'qid:553': 28, 'qid:555': 33, 'qid:560': 35, 'qid:561': 41, 'qid:562': 16, 'qid:566': 28, 'qid:567': 33, 'qid:568': 33, 'qid:569': 24, 'qid:570': 42, 'qid:571': 32, 'qid:572': 62, 'qid:573': 32, 'qid:574': 33, 'qid:575': 27, 'qid:576': 23, 'qid:577': 22, 'qid:578': 42, 'qid:579': 47, 'qid:580': 28, 'qid:581': 49, 'qid:582': 19, 'qid:583': 38, 'qid:586': 37, 'qid:587': 43, 'qid:588': 21, 'qid:589': 27, 'qid:590': 30, 'qid:591': 29, 'qid:592': 25, 'qid:593': 31, 'qid:594': 52, 'qid:595': 17, 'qid:596': 29, 'qid:597': 34, 'qid:598': 56, 'qid:599': 18, 'qid:600': 27, 'qid:601': 17, 'qid:602': 23, 'qid:603': 25, 'qid:604': 34}\n",
      "each line contains 144 fields\n",
      "1.08 qid:604 1:0.801704 2:0.801704 3:0.801704 4:0.0 5:1291.0 6:-1.0 7:-1.0 8:-1.0 9:0.486974 10:0.0 11:0.0 12:0.0 13:1.0 14:6.186449 15:6.186449 16:1.0 17:1.0 18:0.125 19:0.0 20:8.0 21:1.0 22:1.0 23:0.149502 24:0.978139 25:0.978139 26:0.771992 27:0.771992 28:0.0 29:0.9 30:0.1 31:0.9 32:5894.156116 33:1.0 34:1.0 35:0.755115 36:1.0 37:7635.0 38:435.0 39:8070.0 40:2.967051 41:0.24177 42:0.979199 43:36.0 44:4.0 45:4.0 46:8.0 47:3.333333 48:3.0 49:3.333333 50:3.0 51:6.666667 52:6.0 53:81.0 54:0.704762 55:0.376875 56:0.310063 57:0.379591 58:7.0 59:91.0 60:37.0 61:29.0 62:66.0 63:14.868132 64:10.0 65:14.868132 66:15.0 67:29.736264 68:25.0 69:258.0 70:0.644444 71:0.531349 72:0.381966 73:0.776673 74:7.0 75:36.0 76:2.0 77:2.0 78:4.0 79:1.666667 80:1.0 81:1.666667 82:1.0 83:3.333333 84:3.0 85:85.079244 86:0.109524 87:0.363471 88:0.19056 89:0.098161 90:2.569308 91:91.0 92:17.0 93:18.0 94:35.0 95:7.417582 96:5.0 97:7.417582 98:6.0 99:14.835165 100:13.0 101:171.361908 102:0.637037 103:0.437219 104:0.357171 105:0.740937 106:3.731519 107:36.0 108:24.0 109:24.0 110:48.0 111:17.5 112:21.0 113:17.5 114:21.0 115:35.0 116:42.0 117:48.00942 118:0.814286 119:0.814891 120:0.628031 121:0.852321 122:3.00471 123:91.0 124:61.0 125:61.0 126:122.0 127:44.989011 128:48.0 129:44.989011 130:48.0 131:89.978022 132:96.0 133:123.171785 134:0.822222 135:0.836321 136:0.6023 137:0.803594 138:3.585892 #\t[arkansas]\t1930\tArkansas\n",
      "\n"
     ]
    }
   ],
   "source": [
    "\n",
    "line_count_by_id = {}\n",
    "count = 0\n",
    "fields = []\n",
    "text = ''\n",
    "with open(path+'saliency.svm') as f:\n",
    "    content = f.readlines()\n",
    "    for text in content:\n",
    "        #process_line(text)\n",
    "        #name_by_cuspip_dictionary = add_entities_to_map(text, name_by_cuspip_dictionary)\n",
    "        count += 1  \n",
    "        fields = text.split()\n",
    "        id = fields[1]\n",
    "        \n",
    "        if id in line_count_by_id:\n",
    "            line_count_by_id[id] = line_count_by_id[id] + 1\n",
    "        else:\n",
    "            line_count_by_id[id] = 0\n",
    "            \n",
    "       \n",
    "        if id == 'qid:1':\n",
    "            print(text)\n",
    "print(line_count_by_id)         \n",
    "print('each line contains',str(len(fields)),'fields')     \n",
    "print(text)\n",
    "     "
   ]
  },
  {
   "cell_type": "code",
   "execution_count": 24,
   "metadata": {
    "collapsed": true
   },
   "outputs": [],
   "source": [
    "\n",
    "#unit test - check we have the expected number of documents\n",
    "assert len(line_count_by_id) == 365"
   ]
  },
  {
   "cell_type": "markdown",
   "metadata": {},
   "source": [
    "# Implement the 'Light' features"
   ]
  },
  {
   "cell_type": "code",
   "execution_count": 25,
   "metadata": {},
   "outputs": [
    {
     "name": "stdout",
     "output_type": "stream",
     "text": [
      "{'docId': 1,\n",
      " 'document': [{'name': 'headline',\n",
      "               'value': 'Iran close to decision on nuclear program'},\n",
      "              {'name': 'dateline', 'value': 'November 13, 2004'},\n",
      "              {'name': 'body_par_000',\n",
      "               'value': 'Iranian representatives say negotiations with Europe '\n",
      "                        'on its nuclear program are in the final stages.'},\n",
      "              {'name': 'body_par_001',\n",
      "               'value': \"Iran's foreign minister, Kamal Kharazi, told state \"\n",
      "                        'television Saturday Iranian negotiators have given '\n",
      "                        'their final response to a European Union proposal to '\n",
      "                        \"suspend Iran's uranium enrichment program. He said it \"\n",
      "                        'is now up to the Europeans to decide whether or not '\n",
      "                        'to accept their decision.'},\n",
      "              {'name': 'body_par_002',\n",
      "               'value': \"Iran and the European Union's big three powers \"\n",
      "                        '&mdash; Britain, Germany, and France &mdash; have '\n",
      "                        'been negotiating a deal under which Tehran would '\n",
      "                        'agree to freeze sensitive nuclear work to avoid '\n",
      "                        'possible U.N. Security Council sanctions.'},\n",
      "              {'name': 'body_par_003',\n",
      "               'value': 'U.S. Secretary of State Colin Powell, says that '\n",
      "                        \"Iran's nuclear program is intended to make nuclear \"\n",
      "                        'weapons. Iran authorities have insisted that their '\n",
      "                        'nuclear ambitions are limited to generating '\n",
      "                        'electricity from atomic energy plants, not making '\n",
      "                        'bombs.'},\n",
      "              {'name': 'body_par_004',\n",
      "               'value': 'Critics of the position of the United States point to '\n",
      "                        \"Israel's nuclear program. Israel maintains a policy \"\n",
      "                        'of nuclear ambiguity, but is widely believed to '\n",
      "                        'possess at least 82 nuclear weapons. The program has '\n",
      "                        'not been condemned by the United States.'}],\n",
      " 'saliency': [{'entityid': 9282173, 'score': 1.0},\n",
      "              {'entityid': 186801, 'score': 1.67},\n",
      "              {'entityid': 721807, 'score': 3.0},\n",
      "              {'entityid': 31717, 'score': 1.0},\n",
      "              {'entityid': 5843419, 'score': 1.0},\n",
      "              {'entityid': 21785, 'score': 1.67},\n",
      "              {'entityid': 6984, 'score': 1.0},\n",
      "              {'entityid': 57654, 'score': 1.33},\n",
      "              {'entityid': 14653, 'score': 3.0},\n",
      "              {'entityid': 31956, 'score': 1.67},\n",
      "              {'entityid': 1166971, 'score': 1.67},\n",
      "              {'entityid': 9239, 'score': 2.33},\n",
      "              {'entityid': 11867, 'score': 1.0},\n",
      "              {'entityid': 9317, 'score': 2.33},\n",
      "              {'entityid': 32293, 'score': 1.0},\n",
      "              {'entityid': 31743, 'score': 2.0},\n",
      "              {'entityid': 3434750, 'score': 1.0}],\n",
      " 'timestamp': '2013-08-21T16:07:41Z',\n",
      " 'title': 'Iran close to decision on nuclear program',\n",
      " 'wikiTitle': 'Iran_close_to_decision_on_nuclear_program',\n",
      " 'wikinewsId': 779}\n"
     ]
    }
   ],
   "source": [
    "with open(path+'saliency-dataset.json') as f:\n",
    "    content = f.readlines()\n",
    "    \n",
    "    data = json.loads(content[0])\n",
    "    pprint(data)\n",
    "    \n",
    "    \n",
    "    \n",
    "    \n",
    "    "
   ]
  },
  {
   "cell_type": "markdown",
   "metadata": {},
   "source": [
    "# Spotter"
   ]
  },
  {
   "cell_type": "code",
   "execution_count": null,
   "metadata": {
    "collapsed": true
   },
   "outputs": [],
   "source": [
    "# spotter\n",
    "# Takes a text, and check for enity spots based on a dictionary of entities"
   ]
  },
  {
   "cell_type": "code",
   "execution_count": null,
   "metadata": {
    "collapsed": true
   },
   "outputs": [],
   "source": []
  },
  {
   "cell_type": "code",
   "execution_count": null,
   "metadata": {
    "collapsed": true
   },
   "outputs": [],
   "source": []
  },
  {
   "cell_type": "code",
   "execution_count": 1,
   "metadata": {},
   "outputs": [],
   "source": [
    "import spacy\n",
    "from spacy_lookup import Entity"
   ]
  },
  {
   "cell_type": "code",
   "execution_count": 4,
   "metadata": {},
   "outputs": [
    {
     "name": "stdout",
     "output_type": "stream",
     "text": [
      "original: 6090035477591592277 There\n",
      "lowercased: 2112642640949226496 there\n",
      "lemma: 2112642640949226496 there\n",
      "shape: 16072095006890171862 Xxxxx\n",
      "prefix: 5582244037879929967 T\n",
      "suffix: 18139757808136603089 ere\n",
      "log probability: -20.0\n",
      "Brown cluster id: 0\n",
      "----------------------------------------\n",
      "original: 3411606890003347522 is\n",
      "lowercased: 3411606890003347522 is\n",
      "lemma: 10382539506755952630 be\n",
      "shape: 4370460163704169311 xx\n",
      "prefix: 5097672513440128799 i\n",
      "suffix: 3411606890003347522 is\n",
      "log probability: -20.0\n",
      "Brown cluster id: 0\n",
      "----------------------------------------\n",
      "original: 15099054000809333061 an\n",
      "lowercased: 15099054000809333061 an\n",
      "lemma: 15099054000809333061 an\n",
      "shape: 4370460163704169311 xx\n",
      "prefix: 11901859001352538922 a\n",
      "suffix: 15099054000809333061 an\n",
      "log probability: -20.0\n",
      "Brown cluster id: 0\n",
      "----------------------------------------\n",
      "To show sentence\n",
      "There is an art, it says, or rather, a knack to flying.\n",
      "The knack lies in learning how to throw yourself at the ground and miss.\n",
      "In the beginning the Universe was created.\n",
      "This has made a lot of people very angry and been widely regarded as a bad move.\n",
      "There ADV\n",
      "is VERB\n",
      "an DET\n",
      "art NOUN\n",
      ", PUNCT\n",
      "it PRON\n",
      "says VERB\n",
      ", PUNCT\n",
      "or CCONJ\n",
      "rather ADV\n",
      ", PUNCT\n",
      "a DET\n",
      "knack NOUN\n",
      "to ADP\n",
      "flying NOUN\n",
      ". PUNCT\n",
      "The det boy [] []\n",
      "boy nsubj ran ['The'] ['with']\n",
      "with prep boy [] ['dog']\n",
      "the det dog [] []\n",
      "spotted amod dog [] []\n",
      "dog pobj with ['the', 'spotted'] []\n",
      "quickly advmod ran [] []\n",
      "ran ROOT ran ['boy', 'quickly'] ['after', '.']\n",
      "after prep ran [] ['firetruck']\n",
      "the det firetruck [] []\n",
      "firetruck pobj after ['the'] []\n",
      ". punct ran [] []\n",
      "Apple ORG\n",
      "'s (not an entity)\n",
      "stocks (not an entity)\n",
      "dropped (not an entity)\n",
      "dramatically (not an entity)\n",
      "after (not an entity)\n",
      "the (not an entity)\n",
      "death (not an entity)\n",
      "of (not an entity)\n",
      "Steve PERSON\n",
      "Jobs PERSON\n",
      "in (not an entity)\n",
      "October DATE\n",
      ". (not an entity)\n",
      "-------------- entities only ---------------\n",
      "381 ORG Apple\n",
      "378 PERSON Steve Jobs\n",
      "388 DATE October\n",
      "lol INTJ lol\n",
      "that DET that\n",
      "is VERB be\n",
      "rly ADV rly\n",
      "funny ADJ funny\n",
      ":) PUNCT :)\n",
      "This DET this\n",
      "is VERB be\n",
      "gr8 ADJ gr8\n",
      "i PRON i\n",
      "rate VERB rate\n",
      "it PRON -PRON-\n",
      "8/8 NUM 8/8\n",
      "! PUNCT !\n",
      "! PUNCT !\n",
      "! PUNCT !\n"
     ]
    }
   ],
   "source": [
    "# pip install spacy_lookup\n",
    "# python -m spacy download en\n",
    "# \n",
    "\n",
    "import _regex\n",
    "parser = spacy.load('en')\n",
    "\n",
    "# Test Data\n",
    "multiSentence = \"There is an art, it says, or rather, a knack to flying.\" \\\n",
    "                 \"The knack lies in learning how to throw yourself at the ground and miss.\" \\\n",
    "                 \"In the beginning the Universe was created. This has made a lot of people \"\\\n",
    "                 \"very angry and been widely regarded as a bad move.\"\n",
    "parsedData = parser(multiSentence)\n",
    "for i, token in enumerate(parsedData):\n",
    "    print(\"original:\", token.orth, token.orth_)\n",
    "    print(\"lowercased:\", token.lower, token.lower_)\n",
    "    print(\"lemma:\", token.lemma, token.lemma_)\n",
    "    print(\"shape:\", token.shape, token.shape_)\n",
    "    print(\"prefix:\", token.prefix, token.prefix_)\n",
    "    print(\"suffix:\", token.suffix, token.suffix_)\n",
    "    print(\"log probability:\", token.prob)\n",
    "    print(\"Brown cluster id:\", token.cluster)\n",
    "    print(\"----------------------------------------\")\n",
    "    if i > 1:\n",
    "        break\n",
    "\n",
    "# Let's look at the sentences\n",
    "sents = []\n",
    "for span in parsedData.sents:\n",
    "    # go from the start to the end of each span, returning each token in the sentence\n",
    "    # combine each token using join()\n",
    "    sent = ''.join(parsedData[i].string for i in range(span.start, span.end)).strip()\n",
    "    sents.append(sent)\n",
    "\n",
    "print('To show sentence')\n",
    "for sentence in sents:\n",
    "    print(sentence)\n",
    "\n",
    "\n",
    "# Let's look at the part of speech tags of the first sentence\n",
    "for span in parsedData.sents:\n",
    "    sent = [parsedData[i] for i in range(span.start, span.end)]\n",
    "    break\n",
    "\n",
    "for token in sent:\n",
    "    print(token.orth_, token.pos_)\n",
    "\n",
    "# Let's look at the dependencies of this example:\n",
    "example = \"The boy with the spotted dog quickly ran after the firetruck.\"\n",
    "parsedEx = parser(example)\n",
    "# shown as: original token, dependency tag, head word, left dependents, right dependents\n",
    "for token in parsedEx:\n",
    "    print(token.orth_, token.dep_, token.head.orth_, [t.orth_ for t in token.lefts], [t.orth_ for t in token.rights])\n",
    "\n",
    "# Let's look at the named entities of this example:\n",
    "example = \"Apple's stocks dropped dramatically after the death of Steve Jobs in October.\"\n",
    "parsedEx = parser(example)\n",
    "for token in parsedEx:\n",
    "    print(token.orth_, token.ent_type_ if token.ent_type_ != \"\" else \"(not an entity)\")\n",
    "\n",
    "print(\"-------------- entities only ---------------\")\n",
    "# if you just want the entities and nothing else, you can do access the parsed examples \"ents\" property like this:\n",
    "ents = list(parsedEx.ents)\n",
    "for entity in ents:\n",
    "    print(entity.label, entity.label_, ' '.join(t.orth_ for t in entity))\n",
    "\n",
    "messyData = \"lol that is rly funny :) This is gr8 i rate it 8/8!!!\"\n",
    "parsedData = parser(messyData)\n",
    "for token in parsedData:\n",
    "    print(token.orth_, token.pos_, token.lemma_)"
   ]
  },
  {
   "cell_type": "code",
   "execution_count": null,
   "metadata": {
    "collapsed": true
   },
   "outputs": [],
   "source": []
  },
  {
   "cell_type": "code",
   "execution_count": null,
   "metadata": {
    "collapsed": true
   },
   "outputs": [],
   "source": []
  },
  {
   "cell_type": "code",
   "execution_count": null,
   "metadata": {
    "collapsed": true
   },
   "outputs": [],
   "source": []
  },
  {
   "cell_type": "code",
   "execution_count": null,
   "metadata": {
    "collapsed": true
   },
   "outputs": [],
   "source": []
  },
  {
   "cell_type": "code",
   "execution_count": 10,
   "metadata": {},
   "outputs": [
    {
     "name": "stdout",
     "output_type": "stream",
     "text": [
      "-------------- entities only ---------------\n",
      "379 NORP Iranian 0 - 7\n",
      "383 LOC Europe 46 - 52\n",
      "382 GPE Iran 101 - 105\n",
      "378 PERSON Kamal Kharazi 126 - 139\n",
      "388 DATE Saturday 163 - 171\n",
      "379 NORP Iranian 172 - 179\n",
      "381 ORG a European Union 227 - 243\n",
      "382 GPE Iran 264 - 268\n",
      "379 NORP Europeans 327 - 336\n",
      "382 GPE Iran 388 - 392\n",
      "381 ORG the European Union 's 397 - 417\n",
      "394 CARDINAL three 422 - 427\n",
      "382 GPE Britain 436 - 443\n",
      "382 GPE Germany 445 - 452\n",
      "382 GPE France 458 - 464\n",
      "382 GPE Tehran 507 - 513\n",
      "381 ORG U.N. Security Council 577 - 598\n",
      "382 GPE U.S. 610 - 614\n",
      "381 ORG State 628 - 633\n",
      "378 PERSON Colin Powell 634 - 646\n",
      "382 GPE Iran 658 - 662\n",
      "382 GPE Iran 718 - 722\n",
      "382 GPE the United States 888 - 905\n",
      "382 GPE Israel 915 - 921\n",
      "382 GPE Israel 941 - 947\n",
      "394 CARDINAL at least 82 1023 - 1034\n",
      "382 GPE the United States 1090 - 1107\n"
     ]
    }
   ],
   "source": [
    "# Let's look at the named entities of this example:\n",
    "example = \"Apple's stocks dropped dramatically after the death of Steve Jobs in October.\"\n",
    "example = \"Iranian representatives say negotiations with Europe on its nuclear program are in the final stages. Iran's foreign minister, Kamal Kharazi, told state television Saturday Iranian negotiators have given their final response to a European Union proposal to suspend Iran's uranium enrichment program. He said it is now up to the Europeans to decide whether or not to accept their decision. Iran and the European Union's big three powers; Britain, Germany, and France; have been negotiating a deal under which Tehran would agree to freeze sensitive nuclear work to avoid possible U.N. Security Council sanctions. U.S. Secretary of State Colin Powell, says that Iran's nuclear program is intended to make nuclear weapons. Iran authorities have insisted that their nuclear ambitions are limited to generating electricity from atomic energy plants, not making bombs. Critics of the position of the United States point to Israel's nuclear program. Israel maintains a policy of nuclear ambiguity, but is widely believed to possess at least 82 nuclear weapons. The program has not been condemned by the United States.\"\n",
    "parsedEx = parser(example)\n",
    "# for token in parsedEx:\n",
    "\n",
    "print(\"-------------- entities only ---------------\")\n",
    "# if you just want the entities and nothing else, you can do access the parsed examples \"ents\" property like this:\n",
    "ents = list(parsedEx.ents)\n",
    "for entity in ents:\n",
    "    print(entity.label, entity.label_, ' '.join(t.orth_ for t in entity), entity.start_char,'-', entity.end_char)\n",
    "\n"
   ]
  },
  {
   "cell_type": "code",
   "execution_count": null,
   "metadata": {
    "collapsed": true
   },
   "outputs": [],
   "source": []
  }
 ],
 "metadata": {
  "kernelspec": {
   "display_name": "Python 3",
   "language": "python",
   "name": "python3"
  },
  "language_info": {
   "codemirror_mode": {
    "name": "ipython",
    "version": 3
   },
   "file_extension": ".py",
   "mimetype": "text/x-python",
   "name": "python",
   "nbconvert_exporter": "python",
   "pygments_lexer": "ipython3",
   "version": "3.6.3"
  }
 },
 "nbformat": 4,
 "nbformat_minor": 2
}
