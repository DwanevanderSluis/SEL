{
 "cells": [
  {
   "cell_type": "code",
   "execution_count": 34,
   "metadata": {},
   "outputs": [],
   "source": [
    "import logging\n",
    "import pickle\n",
    "import numpy as np \n",
    "import matplotlib.pyplot as plt \n",
    "import sys\n",
    "\n",
    "from sklearn.ensemble import GradientBoostingRegressor \n",
    "from sklearn.ensemble import ExtraTreesRegressor\n",
    "from sklearn import cross_validation \n",
    "from sklearn.naive_bayes import GaussianNB \n",
    "from sklearn.datasets import load_digits \n",
    "from sklearn.learning_curve import learning_curve \n",
    "from sklearn.cross_validation import ShuffleSplit, train_test_split \n",
    "from sklearn.grid_search import GridSearchCV\n",
    "\n",
    "\n"
   ]
  },
  {
   "cell_type": "code",
   "execution_count": 35,
   "metadata": {
    "collapsed": true
   },
   "outputs": [],
   "source": [
    "from sellibrary.gbrt import GBRTWrapper\n",
    "from sellibrary.text_file_loader import load_feature_matrix\n",
    "from sellibrary.filter_only_golden import FilterGolden\n",
    "from sellibrary.locations import FileLocations\n",
    "from sellibrary.wiki.wikipedia_datasets import WikipediaDataset\n",
    "from sellibrary.sel.dexter_dataset import DatasetDexter\n",
    "\n",
    "from sellibrary.util.test_train_splitter import DataSplitter\n",
    "\n",
    "INTERMEDIATE_PATH = FileLocations.get_dropbox_intermediate_path()"
   ]
  },
  {
   "cell_type": "code",
   "execution_count": 3,
   "metadata": {
    "collapsed": true
   },
   "outputs": [],
   "source": [
    "# setup logging\n",
    "\n",
    "\n",
    "handler = logging.StreamHandler()\n",
    "handler.setFormatter(logging.Formatter('%(asctime)s %(name)-12s %(levelname)-8s %(message)s'))\n",
    "logger = logging.getLogger(__name__)\n",
    "logger.addHandler(handler)\n",
    "logger.propagate = False\n",
    "logger.setLevel(logging.INFO)\n",
    "\n"
   ]
  },
  {
   "cell_type": "code",
   "execution_count": null,
   "metadata": {
    "collapsed": true
   },
   "outputs": [],
   "source": []
  },
  {
   "cell_type": "code",
   "execution_count": 4,
   "metadata": {
    "collapsed": true
   },
   "outputs": [],
   "source": [
    "\n",
    "\n",
    "def get_r2_train_model(filename, number_features_per_line, feature_names):\n",
    "\n",
    "\n",
    "    X, y, docid_array, entity_id_array = load_feature_matrix(feature_filename=INTERMEDIATE_PATH + filename,\n",
    "                                                             feature_names=feature_names,\n",
    "                                                             entity_id_index=1,\n",
    "                                                             y_feature_index=2, \n",
    "                                                             first_feature_index=4, \n",
    "                                                             number_features_per_line=number_features_per_line,\n",
    "                                                             tmp_filename='/tmp/temp_conversion_file.txt'\n",
    "                                                             )\n",
    "    \n",
    "    # train only on records we have a golden salience for\n",
    "    fg = FilterGolden()\n",
    "    logger.info('X Shape = %s',X.shape)\n",
    "    logger.info('y Shape = %s',y.shape)\n",
    "    \n",
    "    dexter_dataset = DatasetDexter()\n",
    "    wikipedia_dataset = WikipediaDataset()\n",
    "\n",
    "    X2, y2, docid2, entityid2 = fg.get_only_golden_rows(X, y, docid_array, entity_id_array, dexter_dataset, wikipedia_dataset )\n",
    "\n",
    "#     X2, y2, docid2, entityid2 = fg.get_only_golden_rows(X, y, docid_array, entity_id_array)\n",
    "\n",
    "    \n",
    "    \n",
    "    wrapper = GBRTWrapper()\n",
    "    gbrt = wrapper.train_model_no_split(X2, y2,  n_estimators=40)\n",
    "    logger.info('trained')\n",
    "    #gbrt.save_model()\n",
    "\n",
    "    # from https://shankarmsy.github.io/stories/gbrt-sklearn.html\n",
    "    #One of the benefits of growing trees is that we can understand how important each of the features are \n",
    "    print (\"Feature Importances\" )\n",
    "    print (gbrt.feature_importances_) \n",
    "    print ()\n",
    "    #Let's print the R-squared value for train/test. This explains how much of the variance in the data our model is \n",
    "    #able to decipher. \n",
    "    print (\"R-squared for Train: %.2f\" %gbrt.score(X2, y2) )\n",
    "    #print (\"R-squared for Test: %.2f\" %gbrt.score(X_test, y_test) )\n",
    "    #- See more at: https://shankarmsy.github.io/stories/gbrt-sklearn.html#sthash.JNZQbnph.dpuf\n",
    "    return gbrt, X2, y2, docid2, entityid2\n",
    "    \n",
    "\n",
    "\n"
   ]
  },
  {
   "cell_type": "code",
   "execution_count": null,
   "metadata": {
    "collapsed": true
   },
   "outputs": [],
   "source": []
  },
  {
   "cell_type": "code",
   "execution_count": 5,
   "metadata": {
    "collapsed": true
   },
   "outputs": [],
   "source": [
    "\n",
    "#All right let's do this the right way. We'll use a cross-validation generator to \n",
    "# select train and CV datasets to finetune parameters such as C \n",
    "# (Regularization parameter we saw earlier). These hyperparameters are extremely critical to \n",
    "# the model. \n",
    "#Now, if we tune parameters against the Test dataset, we will end up biasing towards the test \n",
    "# set and will once again not generalize very well. We will also have no good way to find out \n",
    "# since we have essentially trained on all our data. \n",
    "#Luckily scikit-learn has builit-in packages that can help with this. We'll use a crossvalidation \n",
    "# generator that can train the model by tuning the parameters based on a cross-validation subset \n",
    "# (cv) that is picked from within the training set. A different cv subset will be picked for each iteration, we control the number of iterations. Then we will \n",
    "#use these cv/train splits and run a gridsearch function that will evaluate the model with each split and tune parameters \n",
    "#to give us the best parameter that gives the optimal result.\n",
    "\n",
    "#Defining this as a function so we can call it anytime we want\n",
    "\n",
    "\n",
    "\n",
    "def GradientBooster(param_grid, n_jobs, X, y, estimator):\n",
    "    \n",
    "    #Choose cross-validation generator - let's choose ShuffleSplit which randomly shuffles and selects Train and CV sets \n",
    "    #for each iteration. There are other methods like the KFold split.\n",
    "    cv = ShuffleSplit(X.shape[0], n_iter=10, test_size=0.2)\n",
    "    #Apply the cross-validation iterator on the Training set using GridSearchCV. This will run the classifier on the \n",
    "    #different train/cv splits using parameters specified and return the model that has the best results \n",
    "\n",
    "    # \n",
    "    #Note that we are tuning based on the F1 score 2PR/P+R where P is Precision and R is Recall. This may not always be \n",
    "    #the best score to tune our model on.  For now, we'll use F1.\n",
    "    classifier = GridSearchCV(estimator=estimator, cv=cv, param_grid=param_grid, n_jobs=n_jobs)\n",
    "    #Also note that we're feeding multiple neighbors to the GridSearch to try out. \n",
    "    #We'll now fit the training dataset to this classifier\n",
    "    classifier.fit(X, y)\n",
    "    #Let's look at the best estimator that was found by GridSearchCV\n",
    "    print (\"Best Estimator learned through GridSearch\")\n",
    "    print ( classifier.best_estimator_)\n",
    "    return cv, classifier.best_estimator_, classifier\n",
    "    \n"
   ]
  },
  {
   "cell_type": "code",
   "execution_count": 6,
   "metadata": {
    "collapsed": true
   },
   "outputs": [],
   "source": [
    "def get_num_jobs():\n",
    "    if sys.platform == 'win32':\n",
    "        return 8\n",
    "    else:\n",
    "        if sys.platform == 'linux': # Sherlock ML\n",
    "            return 8\n",
    "        else:\n",
    "            return 4 # mac"
   ]
  },
  {
   "cell_type": "code",
   "execution_count": null,
   "metadata": {
    "collapsed": true
   },
   "outputs": [],
   "source": [
    "\n",
    "        \n",
    "        "
   ]
  },
  {
   "cell_type": "code",
   "execution_count": 7,
   "metadata": {
    "collapsed": true
   },
   "outputs": [],
   "source": [
    "def plot_learning_curve(estimator, title, X, y, ylim=None, cv=None, n_jobs=1, train_sizes=np.linspace(.1, 1.0, 5)): \n",
    "    \n",
    "    \"\"\" Generate a simple plot of the test and traning learning curve. \n",
    "    Parameters ---------- \n",
    "    estimator : object type that implements the \"fit\" and \"predict\" methods An object of that type which is cloned for each validation. \n",
    "    title : string Title for the chart. \n",
    "    X : array-like, shape (n_samples, n_features) Training vector, where n_samples is the number of samples and n_features is the number of features. \n",
    "    y : array-like, shape (n_samples) or (n_samples, n_features), optional Target relative to X for classification or regression; None for unsupervised learning. \n",
    "    ylim : tuple, shape (ymin, ymax), optional Defines minimum and maximum yvalues plotted. \n",
    "    cv : integer, cross-validation generator, optional If an integer is passed, it is the number of folds (defaults to 3). Specific cross-validation objects can be passed, see sklearn.cross_validation module for the list of possible objects \n",
    "    n_jobs : integer, optional Number of jobs to run in parallel (default 1). \"\"\" \n",
    "    plt.figure()\n",
    "    plt.title(title)\n",
    "    if ylim is not None: plt.ylim(*ylim)\n",
    "    plt.xlabel(\"Training examples\")\n",
    "    plt.ylabel(\"Score\")\n",
    "    train_sizes, train_scores, test_scores = learning_curve(estimator, X, y, cv=cv, n_jobs=n_jobs, train_sizes=train_sizes)\n",
    "    train_scores_mean = np.mean(train_scores, axis=1)\n",
    "    train_scores_std = np.std(train_scores, axis=1)\n",
    "    test_scores_mean = np.mean(test_scores, axis=1)\n",
    "    test_scores_std = np.std(test_scores, axis=1)\n",
    "    plt.grid()\n",
    "    plt.fill_between(train_sizes, train_scores_mean - train_scores_std, train_scores_mean + train_scores_std, alpha=0.1,\n",
    "                     color=\"r\")\n",
    "    plt.fill_between(train_sizes, test_scores_mean - test_scores_std, test_scores_mean + test_scores_std, alpha=0.1,\n",
    "                     color=\"g\")\n",
    "    plt.plot(train_sizes, train_scores_mean, 'o-', color=\"r\", label=\"Training score\")\n",
    "    plt.plot(train_sizes, test_scores_mean, 'o-', color=\"g\", label=\"Cross-validation score\")\n",
    "    plt.legend(loc=\"best\")\n",
    "    return plt\n",
    "                  "
   ]
  },
  {
   "cell_type": "code",
   "execution_count": 8,
   "metadata": {
    "collapsed": true
   },
   "outputs": [],
   "source": [
    "def print_info(best_est, X, y, tset):\n",
    "    print (\"--------------------------------\" )\n",
    "    print (tset+\" Best Estimator Parameters\" )\n",
    "    print (\"--------------------------------\" )\n",
    "    print (\"n_estimators: %d\" %best_est.n_estimators )\n",
    "    print (\"max_depth: %d\" %best_est.max_depth )\n",
    "    print (\"min_samples_leaf: %d\" %best_est.min_samples_leaf )\n",
    "    print (\"max_features: %.2f\" %best_est.max_features )\n",
    "    print (tset+\" R-squared: %.2f\" %best_est.score(X,y) )     \n",
    "    print (\"Learning Rate: %.2f\" %best_est.learning_rate )\n",
    "\n",
    " "
   ]
  },
  {
   "cell_type": "code",
   "execution_count": null,
   "metadata": {
    "collapsed": true
   },
   "outputs": [],
   "source": [
    "\n"
   ]
  },
  {
   "cell_type": "code",
   "execution_count": null,
   "metadata": {
    "collapsed": true
   },
   "outputs": [],
   "source": [
    "\n"
   ]
  },
  {
   "cell_type": "code",
   "execution_count": 9,
   "metadata": {
    "collapsed": true
   },
   "outputs": [],
   "source": [
    "\n",
    "def perform_grid_search(X,y):\n",
    "\n",
    "    # if no space left on device, try setting the env ver JOBLIB_TEMP_FOLDER to /tmp\n",
    "    %env JOBLIB_TEMP_FOLDER=/tmp\n",
    "    #WARNING - THIS MIGHT TAKE A WHILE TO RUN. \n",
    "    # TRY ADJUSTING parameters such as n_jobs (jobs to run in parallel, before \n",
    "    #increasing this make sure your system can handle it), n_iter for ShuffleSplit \n",
    "    # (in the function definition) and reducing #number of values being tried for max_depth/n_estimators. \n",
    "    #SELECT INTERRUPT IN THE MENU AND PRESS INTERRUPT KERNEL IF YOU NEEDD TO STOP EXECUTION \n",
    "    logger.info('starting')\n",
    "\n",
    "    param_grid={'n_estimators':[450, 500, 550], # tried 250, 100, [50], 25\n",
    "                'learning_rate': [0.02, 0.01, 0.005],# tried 0.2, 0.1, [0.05], 0.02, 0.01],\n",
    "                'max_depth':[7, 9, 12], # tried 6,[9],12\n",
    "                'min_samples_leaf':[18, 20, 22], # tried  2,5,9,12,15,[18]\n",
    "                'max_features':[0.2,0.3,0.4] # tried 0.2,[0.3],0.4,0.5\n",
    "               } \n",
    "    n_jobs = get_num_jobs() \n",
    "\n",
    "    #Let's fit GBRT to the digits training dataset by calling the function we just created. \n",
    "    estimator = GradientBoostingRegressor()\n",
    "\n",
    "    cv, best_est, trained_model=GradientBooster(param_grid, n_jobs, X, y, estimator) \n",
    "    logger.info('complete')\n",
    "    print_info(best_est, X, y, '.8CV')\n",
    "    \n",
    "    return cv, best_est\n",
    "\n",
    "\n",
    "            "
   ]
  },
  {
   "cell_type": "code",
   "execution_count": null,
   "metadata": {
    "collapsed": true
   },
   "outputs": [],
   "source": [
    "    "
   ]
  },
  {
   "cell_type": "code",
   "execution_count": null,
   "metadata": {
    "collapsed": true
   },
   "outputs": [],
   "source": [
    "\n"
   ]
  },
  {
   "cell_type": "code",
   "execution_count": null,
   "metadata": {
    "collapsed": true
   },
   "outputs": [],
   "source": []
  },
  {
   "cell_type": "code",
   "execution_count": null,
   "metadata": {
    "collapsed": true
   },
   "outputs": [],
   "source": []
  },
  {
   "cell_type": "code",
   "execution_count": null,
   "metadata": {
    "collapsed": true
   },
   "outputs": [],
   "source": []
  },
  {
   "cell_type": "code",
   "execution_count": null,
   "metadata": {
    "collapsed": true
   },
   "outputs": [],
   "source": []
  },
  {
   "cell_type": "code",
   "execution_count": null,
   "metadata": {
    "collapsed": true
   },
   "outputs": [],
   "source": [
    "\n",
    "\n"
   ]
  },
  {
   "cell_type": "markdown",
   "metadata": {},
   "source": [
    "# Load Data"
   ]
  },
  {
   "cell_type": "code",
   "execution_count": 10,
   "metadata": {},
   "outputs": [
    {
     "name": "stderr",
     "output_type": "stream",
     "text": [
      "2018-07-16 11:36:12,197 sellibrary.text_file_loader INFO     loading data from : /Users/dsluis/Dropbox/Datasets/intermediate/sentiment_simple.txt\n",
      "2018-07-16 11:36:12,230 sellibrary.text_file_loader INFO     4715 lines loaded from /Users/dsluis/Dropbox/Datasets/intermediate/sentiment_simple.txt\n"
     ]
    }
   ],
   "source": [
    "sent_feature_names = [\n",
    "    'title_sentiment_ngram_20', \n",
    "    'title_neg_sent_ngram_20',\n",
    "    'title_pos_sent_ngram_20',   \n",
    "    'body_sentiment_ngram_20', \n",
    "    'body_neg_sent_ngram_20',\n",
    "    'body_pos_sent_ngram_20'\n",
    "]    \n",
    "\n",
    "\n",
    "X_sent, y_sent, docid_array_sent, entity_id_array_sent = load_feature_matrix(\n",
    "    feature_filename=INTERMEDIATE_PATH+'sentiment_simple.txt',\n",
    "    feature_names=sent_feature_names,\n",
    "    entity_id_index=1,\n",
    "    y_feature_index=2, first_feature_index=4, number_features_per_line=10,\n",
    "    tmp_filename='/tmp/temp_conversion_file.txt'\n",
    "    )\n",
    "\n",
    "\n",
    "\n",
    "\n",
    "\n"
   ]
  },
  {
   "cell_type": "markdown",
   "metadata": {},
   "source": [
    "# Perform Grid Search"
   ]
  },
  {
   "cell_type": "code",
   "execution_count": 11,
   "metadata": {},
   "outputs": [
    {
     "name": "stderr",
     "output_type": "stream",
     "text": [
      "2018-07-16 11:36:13,739 __main__     INFO     starting\n"
     ]
    },
    {
     "name": "stdout",
     "output_type": "stream",
     "text": [
      "env: JOBLIB_TEMP_FOLDER=/tmp\n"
     ]
    },
    {
     "name": "stderr",
     "output_type": "stream",
     "text": [
      "2018-07-16 11:43:48,041 __main__     INFO     complete\n"
     ]
    },
    {
     "name": "stdout",
     "output_type": "stream",
     "text": [
      "Best Estimator learned through GridSearch\n",
      "GradientBoostingRegressor(alpha=0.9, criterion='friedman_mse', init=None,\n",
      "             learning_rate=0.01, loss='ls', max_depth=7, max_features=0.2,\n",
      "             max_leaf_nodes=None, min_impurity_decrease=0.0,\n",
      "             min_impurity_split=None, min_samples_leaf=20,\n",
      "             min_samples_split=2, min_weight_fraction_leaf=0.0,\n",
      "             n_estimators=550, presort='auto', random_state=None,\n",
      "             subsample=1.0, verbose=0, warm_start=False)\n",
      "--------------------------------\n",
      ".8CV Best Estimator Parameters\n",
      "--------------------------------\n",
      "n_estimators: 550\n",
      "max_depth: 7\n",
      "min_samples_leaf: 20\n",
      "max_features: 0.20\n",
      ".8CV R-squared: 0.26\n",
      "Learning Rate: 0.01\n"
     ]
    }
   ],
   "source": [
    "cv, best_est = perform_grid_search(X_sent,y_sent)"
   ]
  },
  {
   "cell_type": "code",
   "execution_count": null,
   "metadata": {
    "collapsed": true
   },
   "outputs": [],
   "source": []
  },
  {
   "cell_type": "code",
   "execution_count": null,
   "metadata": {
    "collapsed": true
   },
   "outputs": [],
   "source": []
  },
  {
   "cell_type": "code",
   "execution_count": null,
   "metadata": {
    "collapsed": true
   },
   "outputs": [],
   "source": []
  },
  {
   "cell_type": "code",
   "execution_count": null,
   "metadata": {
    "collapsed": true
   },
   "outputs": [],
   "source": [
    "\n",
    "\n",
    "   "
   ]
  },
  {
   "cell_type": "code",
   "execution_count": 12,
   "metadata": {},
   "outputs": [
    {
     "name": "stderr",
     "output_type": "stream",
     "text": [
      "2018-07-16 11:43:48,130 __main__     INFO     starting\n"
     ]
    },
    {
     "data": {
      "image/png": "[encoded data removed]",
      "text/plain": [
       "<matplotlib.figure.Figure at 0x10b3a0710>"
      ]
     },
     "metadata": {},
     "output_type": "display_data"
    },
    {
     "name": "stderr",
     "output_type": "stream",
     "text": [
      "2018-07-16 11:43:53,915 __main__     INFO     complete\n"
     ]
    }
   ],
   "source": [
    "#OK we'll now call the plot_learning_curve module by feeding it the estimator (best estimator returned from GS) \n",
    "#and train/cv sets. \n",
    "#The module simply runs the estimator multiple times on subsets of the data provided and plots the train and cv scores. \n",
    "#Note that we're feeding the best parameters we've learned from GridSearchCV to the estimator now. \n",
    "#We may need to adjust the hyperparameters further if there is overfitting (or underfitting, though unlikely) \n",
    "\n",
    "logger.info('starting')\n",
    "title = \"Learning Curves (Gradient Boosted Regression Trees)\" \n",
    "n_jobs = get_num_jobs()\n",
    "gbr_estimator = GradientBoostingRegressor(n_estimators=best_est.n_estimators, \n",
    "                                      max_depth=best_est.max_depth, \n",
    "                                      learning_rate=best_est.learning_rate, \n",
    "                                      min_samples_leaf=best_est.min_samples_leaf, \n",
    "                                      max_features=best_est.max_features) \n",
    "plot_learning_curve(gbr_estimator, title, X_sent, y_sent, cv=cv, n_jobs=n_jobs) \n",
    "\n",
    "plt.show() \n",
    "logger.info('complete')\n",
    "\n",
    "# R-squared revers to the proportion of variation in data that can be explained by our model. \n",
    "# 1.0 is perfect, 0.05 not very useful\n",
    "# Distance between train and cross validation = \n",
    "# Gradient suggest whether more training data is useful\n",
    "# How does the number of estimators affect the curve?\n",
    "\n",
    "\n"
   ]
  },
  {
   "cell_type": "markdown",
   "metadata": {},
   "source": [
    "# Make Prediction"
   ]
  },
  {
   "cell_type": "code",
   "execution_count": 57,
   "metadata": {},
   "outputs": [],
   "source": [
    "splitter = DataSplitter()\n",
    "\n",
    "\n",
    "\n",
    "X_train, X_test, y_train, y_test, in_train_set_by_id = splitter.get_test_train_datasets(X_sent,y_sent,docid_array_sent,7,train_split=0.50)\n",
    "\n"
   ]
  },
  {
   "cell_type": "code",
   "execution_count": 58,
   "metadata": {},
   "outputs": [
    {
     "name": "stdout",
     "output_type": "stream",
     "text": [
      "(2414, 6)\n",
      "(2301, 6)\n"
     ]
    }
   ],
   "source": [
    "print(X_train.shape)\n",
    "print(X_test.shape)"
   ]
  },
  {
   "cell_type": "code",
   "execution_count": 59,
   "metadata": {},
   "outputs": [
    {
     "name": "stdout",
     "output_type": "stream",
     "text": [
      "1,2,4,6,7,9,10,11,12,13,16,17,22,24,26,27,28,29,31,34,36,37,38,40,41,43,44,49,54,56,57,60,62,63,71,75,78,81,86,87,89,90,91,93,94,96,98,99,101,103,108,109,110,113,114,115,116,118,123,124,125,126,136,141,144,145,148,149,150,151,153,154,155,156,157,158,159,162,163,165,166,167,170,171,172,173,174,175,178,179,182,184,189,190,191,195,196,204,206,207,208,209,210,213,217,218,219,221,222,226,229,235,236,238,241,242,245,246,247,250,254,256,257,262,265,266,267,268,270,271,272,274,275,278,283,284,285,288,290,291,294,299,301,302,308,315,317,323,327,329,330,331,332,333,338,341,530,532,534,540,541,543,544,545,548,551,552,553,561,568,569,570,572,573,574,577,578,582,583,587,588,592,594,596,597,600,601,603,604\n"
     ]
    }
   ],
   "source": [
    "in_train_set_by_id\n",
    "\n",
    "ids_in_trainset = []\n",
    "for i in in_train_set_by_id.keys():\n",
    "    if in_train_set_by_id[i]:\n",
    "        ids_in_trainset.append(int(i))\n",
    "        \n",
    "len(ids_in_trainset)\n",
    "s = str(ids_in_trainset)\n",
    "s = s.replace(' ','').replace('[','').replace(']','')\n",
    "\n",
    "print(s)\n",
    "    "
   ]
  },
  {
   "cell_type": "code",
   "execution_count": null,
   "metadata": {
    "collapsed": true
   },
   "outputs": [],
   "source": []
  },
  {
   "cell_type": "code",
   "execution_count": 60,
   "metadata": {},
   "outputs": [
    {
     "name": "stdout",
     "output_type": "stream",
     "text": [
      "Feature Importances\n",
      "[ 0.18089231  0.0981509   0.14288074  0.20940423  0.17789432  0.1907775 ]\n",
      "\n",
      "R-squared for Train: 0.22\n"
     ]
    },
    {
     "data": {
      "text/plain": [
       "2.550454593323344"
      ]
     },
     "execution_count": 60,
     "metadata": {},
     "output_type": "execute_result"
    }
   ],
   "source": [
    "\n",
    "gbr_estimator.fit(X_train,y_train)\n",
    "print (\"Feature Importances\" )\n",
    "print (gbr_estimator.feature_importances_) \n",
    "print ()\n",
    "#Let's print the R-squared value for train/test. This explains how much of the variance in the data our model is \n",
    "#able to decipher. \n",
    "print (\"R-squared for Train: %.2f\" %gbr_estimator.score(X_test, y_test) )\n",
    "\n",
    "\n",
    "\n",
    "\n",
    "a = np.ones([1,6])\n",
    "gbr_estimator.predict(a)[0]"
   ]
  },
  {
   "cell_type": "markdown",
   "metadata": {},
   "source": [
    "# Save Model"
   ]
  },
  {
   "cell_type": "code",
   "execution_count": 61,
   "metadata": {
    "collapsed": true
   },
   "outputs": [],
   "source": [
    "output_filename = INTERMEDIATE_PATH+'simple_sentiment_GradientBoostingRegressor.pickle'\n",
    "with open(output_filename, 'wb') as handle:\n",
    "     pickle.dump(gbr_estimator, handle, protocol=pickle.HIGHEST_PROTOCOL)\n",
    "\n"
   ]
  },
  {
   "cell_type": "code",
   "execution_count": 21,
   "metadata": {},
   "outputs": [
    {
     "data": {
      "text/plain": [
       "0.01"
      ]
     },
     "execution_count": 21,
     "metadata": {},
     "output_type": "execute_result"
    }
   ],
   "source": []
  },
  {
   "cell_type": "code",
   "execution_count": null,
   "metadata": {
    "collapsed": true
   },
   "outputs": [],
   "source": []
  }
 ],
 "metadata": {
  "kernelspec": {
   "display_name": "Python 3",
   "language": "python",
   "name": "python3"
  },
  "language_info": {
   "codemirror_mode": {
    "name": "ipython",
    "version": 3
   },
   "file_extension": ".py",
   "mimetype": "text/x-python",
   "name": "python",
   "nbconvert_exporter": "python",
   "pygments_lexer": "ipython3",
   "version": "3.6.3"
  }
 },
 "nbformat": 4,
 "nbformat_minor": 2
}
